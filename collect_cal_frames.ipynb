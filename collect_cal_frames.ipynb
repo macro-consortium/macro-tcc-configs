{
 "cells": [
  {
   "cell_type": "code",
   "execution_count": 5,
   "metadata": {},
   "outputs": [],
   "source": [
    "from pyscope.observatory import collect_calibration_set\n",
    "from pyscope.reduction import reduce_calibration_set\n",
    "\n",
    "import logging\n",
    "import yaml\n",
    "import sys\n",
    "from pyscope import logger\n",
    "cfg = yaml.safe_load(open('./config/logging.yaml', 'r'))\n",
    "logging.config.dictConfig(cfg)\n",
    "logger.setLevel(logging.INFO)"
   ]
  },
  {
   "cell_type": "code",
   "execution_count": 6,
   "metadata": {},
   "outputs": [
    {
     "name": "stdout",
     "output_type": "stream",
     "text": [
      "2024-10-03 18:20:10,007 - pyscope.observatory.collect_calibration_set - INFO - 166 - Collecting calibration set for ./config/observatory_no_wx.cfg\n",
      "2024-10-03 18:20:10,009 - pyscope.observatory.observatory - INFO - 130 - Using this config file to initialize the observatory: ./config/observatory_no_wx.cfg\n",
      "2024-10-03 18:20:10,024 - pyscope.observatory.observatory - INFO - 159 - Using MaxIm DL as the camera driver\n",
      "2024-10-03 18:20:10,145 - pyscope.observatory.observatory - INFO - 243 - Using MaxIm DL as the filter wheel driver\n",
      "2024-10-03 18:20:10,185 - pyscope.observatory.observatory - INFO - 4150 - CCD Temp Set to -80.0\n",
      "2024-10-03 18:20:10,186 - pyscope.observatory.observatory - INFO - 459 - Checking passed kwargs and overriding config file values\n",
      "2024-10-03 18:20:10,194 - pyscope.observatory.observatory - INFO - 4150 - CCD Temp Set to -80.0\n",
      "2024-10-03 18:20:10,298 - pyscope.observatory.observatory - INFO - 675 - Camera connected\n",
      "2024-10-03 18:20:10,299 - pyscope.observatory.observatory - INFO - 679 - Turning cooler on\n",
      "2024-10-03 18:20:10,304 - pyscope.observatory.observatory - INFO - 685 - Cover calibrator connected\n",
      "2024-10-03 18:20:10,394 - pyscope.observatory.observatory - INFO - 699 - Filter wheel connected\n",
      "2024-10-03 18:20:10,464 - pyscope.observatory.observatory - INFO - 706 - Focuser connected\n",
      "2024-10-03 18:20:10,468 - pyscope.observatory.observatory - INFO - 744 - Telescope connected\n",
      "2024-10-03 18:20:10,469 - pyscope.observatory.observatory - INFO - 748 - Unparking telescope...\n",
      "2024-10-03 18:20:10,572 - pyscope.observatory.observatory - INFO - 754 - Telescope unparked\n",
      "2024-10-03 18:20:10,583 - pyscope.observatory.collect_calibration_set - INFO - 185 - Saving calibration set to images\\calibrations\\2024-10-04_01-20-10\n",
      "2024-10-03 18:20:10,584 - pyscope.observatory.collect_calibration_set - INFO - 188 - Collecting flats\n",
      "2024-10-03 18:20:10,585 - pyscope.observatory.observatory - INFO - 2191 - Taking flat frames\n",
      "2024-10-03 18:20:10,585 - pyscope.observatory.observatory - INFO - 2219 - Slewing to point at cover calibrator or specified sky location\n",
      "2024-10-03 18:20:10,585 - pyscope.observatory.observatory - INFO - 2221 - Turning off tracking for slew\n",
      "2024-10-03 18:20:10,606 - pyscope.observatory.observatory - INFO - 2224 - Tracking off\n",
      "2024-10-03 18:20:21,054 - pyscope.observatory.observatory - INFO - 2246 - Slew complete\n",
      "2024-10-03 18:20:21,073 - pyscope.observatory.observatory - INFO - 2256 - Turning off tracking\n",
      "2024-10-03 18:20:21,075 - pyscope.observatory.observatory - INFO - 2259 - Tracking off\n",
      "2024-10-03 18:20:21,078 - pyscope.observatory.observatory - INFO - 2279 - Setting the filter wheel to g\n",
      "2024-10-03 18:20:25,870 - pyscope.observatory.observatory - INFO - 2283 - Filter wheel in position\n",
      "2024-10-03 18:20:25,871 - pyscope.observatory.observatory - INFO - 2288 - Setting the cover calibrator brightness to 0\n"
     ]
    },
    {
     "ename": "TypeError",
     "evalue": "'str' object cannot be interpreted as an integer",
     "output_type": "error",
     "traceback": [
      "\u001b[1;31m---------------------------------------------------------------------------\u001b[0m",
      "\u001b[1;31mTypeError\u001b[0m                                 Traceback (most recent call last)",
      "Cell \u001b[1;32mIn[6], line 1\u001b[0m\n\u001b[1;32m----> 1\u001b[0m \u001b[43mcollect_calibration_set\u001b[49m\u001b[43m(\u001b[49m\n\u001b[0;32m      2\u001b[0m \u001b[43m    \u001b[49m\u001b[38;5;66;43;03m#observatory=\"./config/observatory.cfg\",\u001b[39;49;00m\n\u001b[0;32m      3\u001b[0m \u001b[43m    \u001b[49m\u001b[43mobservatory\u001b[49m\u001b[38;5;241;43m=\u001b[39;49m\u001b[38;5;124;43m\"\u001b[39;49m\u001b[38;5;124;43m./config/observatory_no_wx.cfg\u001b[39;49m\u001b[38;5;124;43m\"\u001b[39;49m\u001b[43m,\u001b[49m\u001b[43m \u001b[49m\u001b[38;5;66;43;03m#no weather station\u001b[39;49;00m\n\u001b[0;32m      4\u001b[0m \u001b[43m    \u001b[49m\u001b[43mcamera\u001b[49m\u001b[38;5;241;43m=\u001b[39;49m\u001b[38;5;124;43m\"\u001b[39;49m\u001b[38;5;124;43mccd\u001b[39;49m\u001b[38;5;124;43m\"\u001b[39;49m\u001b[43m,\u001b[49m\n\u001b[0;32m      5\u001b[0m \u001b[43m    \u001b[49m\u001b[43mreadouts\u001b[49m\u001b[38;5;241;43m=\u001b[39;49m\u001b[43m[\u001b[49m\u001b[38;5;241;43m2\u001b[39;49m\u001b[43m]\u001b[49m\u001b[43m,\u001b[49m\n\u001b[0;32m      6\u001b[0m \u001b[43m    \u001b[49m\u001b[43mbinnings\u001b[49m\u001b[38;5;241;43m=\u001b[39;49m\u001b[43m[\u001b[49m\u001b[38;5;124;43m\"\u001b[39;49m\u001b[38;5;124;43m1x1\u001b[39;49m\u001b[38;5;124;43m\"\u001b[39;49m\u001b[43m]\u001b[49m\u001b[43m,\u001b[49m\n\u001b[0;32m      7\u001b[0m \u001b[43m    \u001b[49m\u001b[43mrepeat\u001b[49m\u001b[38;5;241;43m=\u001b[39;49m\u001b[38;5;241;43m2\u001b[39;49m\u001b[43m,\u001b[49m\n\u001b[0;32m      8\u001b[0m \u001b[43m    \u001b[49m\u001b[43mdark_exposures\u001b[49m\u001b[38;5;241;43m=\u001b[39;49m\u001b[43m[\u001b[49m\u001b[43m]\u001b[49m\u001b[43m,\u001b[49m\n\u001b[0;32m      9\u001b[0m \u001b[43m    \u001b[49m\u001b[38;5;66;43;03m#filters=[\"green\", \"red\", \"blue\", \"lum\"],\u001b[39;49;00m\n\u001b[0;32m     10\u001b[0m \u001b[43m    \u001b[49m\u001b[38;5;66;43;03m#filter_exposures=[7]*4,\u001b[39;49;00m\n\u001b[0;32m     11\u001b[0m \u001b[43m    \u001b[49m\n\u001b[0;32m     12\u001b[0m \u001b[43m    \u001b[49m\u001b[43mfilters\u001b[49m\u001b[38;5;241;43m=\u001b[39;49m\u001b[43m[\u001b[49m\u001b[38;5;124;43m\"\u001b[39;49m\u001b[38;5;124;43mg\u001b[39;49m\u001b[38;5;124;43m\"\u001b[39;49m\u001b[43m,\u001b[49m\u001b[43m \u001b[49m\u001b[38;5;124;43m\"\u001b[39;49m\u001b[38;5;124;43mr\u001b[39;49m\u001b[38;5;124;43m\"\u001b[39;49m\u001b[43m,\u001b[49m\u001b[43m \u001b[49m\u001b[38;5;124;43m\"\u001b[39;49m\u001b[38;5;124;43mi\u001b[39;49m\u001b[38;5;124;43m\"\u001b[39;49m\u001b[43m,\u001b[49m\u001b[43m \u001b[49m\u001b[38;5;124;43m\"\u001b[39;49m\u001b[38;5;124;43mz\u001b[39;49m\u001b[38;5;124;43m\"\u001b[39;49m\u001b[43m,\u001b[49m\u001b[43m \u001b[49m\u001b[38;5;124;43m\"\u001b[39;49m\u001b[38;5;124;43my\u001b[39;49m\u001b[38;5;124;43m\"\u001b[39;49m\u001b[43m]\u001b[49m\u001b[43m,\u001b[49m\u001b[43m \u001b[49m\u001b[38;5;66;43;03m#this order for flats in the evening\u001b[39;49;00m\n\u001b[0;32m     13\u001b[0m \u001b[43m    \u001b[49m\u001b[43mfilter_exposures\u001b[49m\u001b[38;5;241;43m=\u001b[39;49m\u001b[43m[\u001b[49m\u001b[38;5;241;43m2\u001b[39;49m\u001b[43m,\u001b[49m\u001b[43m \u001b[49m\u001b[38;5;241;43m2\u001b[39;49m\u001b[43m,\u001b[49m\u001b[43m \u001b[49m\u001b[38;5;241;43m4\u001b[39;49m\u001b[43m,\u001b[49m\u001b[43m \u001b[49m\u001b[38;5;241;43m60\u001b[39;49m\u001b[43m,\u001b[49m\u001b[43m \u001b[49m\u001b[38;5;241;43m180\u001b[39;49m\u001b[43m]\u001b[49m\u001b[43m,\u001b[49m\n\u001b[0;32m     14\u001b[0m \u001b[43m    \u001b[49m\n\u001b[0;32m     15\u001b[0m \u001b[43m    \u001b[49m\u001b[38;5;66;43;03m#filters=[\"u\", \"y\", \"g\", \"z\", \"r\", \"i\"], #this order for flats in the morning\u001b[39;49;00m\n\u001b[0;32m     16\u001b[0m \u001b[43m    \u001b[49m\u001b[38;5;66;43;03m#filter_exposures=[7]*6,\u001b[39;49;00m\n\u001b[0;32m     17\u001b[0m \n\u001b[0;32m     18\u001b[0m \u001b[43m    \u001b[49m\u001b[38;5;66;43;03m# filters=[\"u\"],\u001b[39;49;00m\n\u001b[0;32m     19\u001b[0m \u001b[43m    \u001b[49m\u001b[38;5;66;43;03m# filter_exposures=[60],\u001b[39;49;00m\n\u001b[0;32m     20\u001b[0m \u001b[43m    \u001b[49m\n\u001b[0;32m     21\u001b[0m \u001b[43m    \u001b[49m\u001b[38;5;66;43;03m#filters=[\"g\"],\u001b[39;49;00m\n\u001b[0;32m     22\u001b[0m \u001b[43m    \u001b[49m\u001b[38;5;66;43;03m#filter_exposures=[7],\u001b[39;49;00m\n\u001b[0;32m     23\u001b[0m \n\u001b[0;32m     24\u001b[0m \u001b[43m    \u001b[49m\u001b[38;5;66;43;03m#filters=[\"r\"],\u001b[39;49;00m\n\u001b[0;32m     25\u001b[0m \u001b[43m    \u001b[49m\u001b[38;5;66;43;03m#filter_exposures=[7],\u001b[39;49;00m\n\u001b[0;32m     26\u001b[0m \n\u001b[0;32m     27\u001b[0m \u001b[43m    \u001b[49m\u001b[43mfilter_brightness\u001b[49m\u001b[38;5;241;43m=\u001b[39;49m\u001b[43m[\u001b[49m\u001b[38;5;241;43m0\u001b[39;49m\u001b[43m,\u001b[49m\u001b[43m \u001b[49m\u001b[38;5;241;43m1\u001b[39;49m\u001b[43m,\u001b[49m\u001b[43m \u001b[49m\u001b[38;5;241;43m254\u001b[39;49m\u001b[43m,\u001b[49m\u001b[43m \u001b[49m\u001b[38;5;241;43m254\u001b[39;49m\u001b[43m,\u001b[49m\u001b[43m \u001b[49m\u001b[38;5;241;43m254\u001b[39;49m\u001b[43m]\u001b[49m\u001b[43m,\u001b[49m\n\u001b[0;32m     28\u001b[0m \u001b[43m    \u001b[49m\u001b[38;5;66;43;03m# target_counts=30000,\u001b[39;49;00m\n\u001b[0;32m     29\u001b[0m \u001b[43m    \u001b[49m\u001b[43mhome_telescope\u001b[49m\u001b[38;5;241;43m=\u001b[39;49m\u001b[38;5;28;43;01mFalse\u001b[39;49;00m\u001b[43m,\u001b[49m\n\u001b[0;32m     30\u001b[0m \u001b[43m    \u001b[49m\u001b[43mcheck_cooler\u001b[49m\u001b[38;5;241;43m=\u001b[39;49m\u001b[38;5;28;43;01mTrue\u001b[39;49;00m\u001b[43m,\u001b[49m\n\u001b[0;32m     31\u001b[0m \u001b[43m    \u001b[49m\u001b[43mtracking\u001b[49m\u001b[38;5;241;43m=\u001b[39;49m\u001b[38;5;28;43;01mFalse\u001b[39;49;00m\u001b[43m,\u001b[49m\n\u001b[0;32m     32\u001b[0m \u001b[43m    \u001b[49m\u001b[43mdither_radius\u001b[49m\u001b[38;5;241;43m=\u001b[39;49m\u001b[38;5;241;43m0\u001b[39;49m\u001b[43m,\u001b[49m\u001b[43m  \u001b[49m\u001b[38;5;66;43;03m# arcseconds\u001b[39;49;00m\n\u001b[0;32m     33\u001b[0m \u001b[43m    \u001b[49m\u001b[43msave_path\u001b[49m\u001b[38;5;241;43m=\u001b[39;49m\u001b[38;5;124;43m\"\u001b[39;49m\u001b[38;5;124;43m./images/calibrations/\u001b[39;49m\u001b[38;5;124;43m\"\u001b[39;49m\u001b[43m,\u001b[49m\n\u001b[0;32m     34\u001b[0m \u001b[43m    \u001b[49m\u001b[43mnew_dir\u001b[49m\u001b[38;5;241;43m=\u001b[39;49m\u001b[38;5;28;43;01mTrue\u001b[39;49;00m\u001b[43m,\u001b[49m\n\u001b[0;32m     35\u001b[0m \u001b[43m)\u001b[49m\n",
      "File \u001b[1;32mD:\\pyscope\\pyscope\\observatory\\collect_calibration_set.py:189\u001b[0m, in \u001b[0;36mcollect_calibration_set_cli\u001b[1;34m(observatory, camera, readouts, binnings, repeat, dark_exposures, filters, filter_exposures, filter_brightness, target_counts, home_telescope, check_cooler, tracking, dither_radius, save_path, new_dir, verbose)\u001b[0m\n\u001b[0;32m    187\u001b[0m \u001b[38;5;28;01mif\u001b[39;00m \u001b[38;5;28mlen\u001b[39m(filter_exposures) \u001b[38;5;241m>\u001b[39m \u001b[38;5;241m0\u001b[39m:\n\u001b[0;32m    188\u001b[0m     logger\u001b[38;5;241m.\u001b[39minfo(\u001b[38;5;124m\"\u001b[39m\u001b[38;5;124mCollecting flats\u001b[39m\u001b[38;5;124m\"\u001b[39m)\n\u001b[1;32m--> 189\u001b[0m     success \u001b[38;5;241m=\u001b[39m \u001b[43mobs\u001b[49m\u001b[38;5;241;43m.\u001b[39;49m\u001b[43mtake_flats\u001b[49m\u001b[43m(\u001b[49m\n\u001b[0;32m    190\u001b[0m \u001b[43m        \u001b[49m\u001b[43mfilters\u001b[49m\u001b[43m,\u001b[49m\n\u001b[0;32m    191\u001b[0m \u001b[43m        \u001b[49m\u001b[43mfilter_exposures\u001b[49m\u001b[43m,\u001b[49m\n\u001b[0;32m    192\u001b[0m \u001b[43m        \u001b[49m\u001b[43mfilter_brightness\u001b[49m\u001b[38;5;241;43m=\u001b[39;49m\u001b[43mfilter_brightness\u001b[49m\u001b[43m,\u001b[49m\n\u001b[0;32m    193\u001b[0m \u001b[43m        \u001b[49m\u001b[43mreadouts\u001b[49m\u001b[38;5;241;43m=\u001b[39;49m\u001b[43mreadouts\u001b[49m\u001b[43m,\u001b[49m\n\u001b[0;32m    194\u001b[0m \u001b[43m        \u001b[49m\u001b[43mbinnings\u001b[49m\u001b[38;5;241;43m=\u001b[39;49m\u001b[43mbinnings\u001b[49m\u001b[43m,\u001b[49m\n\u001b[0;32m    195\u001b[0m \u001b[43m        \u001b[49m\u001b[43mrepeat\u001b[49m\u001b[38;5;241;43m=\u001b[39;49m\u001b[43mrepeat\u001b[49m\u001b[43m,\u001b[49m\n\u001b[0;32m    196\u001b[0m \u001b[43m        \u001b[49m\u001b[43msave_path\u001b[49m\u001b[38;5;241;43m=\u001b[39;49m\u001b[43msave_path\u001b[49m\u001b[43m,\u001b[49m\n\u001b[0;32m    197\u001b[0m \u001b[43m        \u001b[49m\u001b[43mhome_telescope\u001b[49m\u001b[38;5;241;43m=\u001b[39;49m\u001b[43mhome_telescope\u001b[49m\u001b[43m,\u001b[49m\n\u001b[0;32m    198\u001b[0m \u001b[43m        \u001b[49m\u001b[43mtarget_counts\u001b[49m\u001b[38;5;241;43m=\u001b[39;49m\u001b[43mtarget_counts\u001b[49m\u001b[43m,\u001b[49m\n\u001b[0;32m    199\u001b[0m \u001b[43m        \u001b[49m\u001b[43mcheck_cooler\u001b[49m\u001b[38;5;241;43m=\u001b[39;49m\u001b[43mcheck_cooler\u001b[49m\u001b[43m,\u001b[49m\n\u001b[0;32m    200\u001b[0m \u001b[43m        \u001b[49m\u001b[43mtracking\u001b[49m\u001b[38;5;241;43m=\u001b[39;49m\u001b[43mtracking\u001b[49m\u001b[43m,\u001b[49m\n\u001b[0;32m    201\u001b[0m \u001b[43m        \u001b[49m\u001b[43mdither_radius\u001b[49m\u001b[38;5;241;43m=\u001b[39;49m\u001b[43mdither_radius\u001b[49m\u001b[43m,\u001b[49m\n\u001b[0;32m    202\u001b[0m \u001b[43m        \u001b[49m\u001b[43mfinal_telescope_position\u001b[49m\u001b[38;5;241;43m=\u001b[39;49m\u001b[38;5;124;43m\"\u001b[39;49m\u001b[38;5;124;43mno change\u001b[39;49m\u001b[38;5;124;43m\"\u001b[39;49m\u001b[43m,\u001b[49m\n\u001b[0;32m    203\u001b[0m \u001b[43m    \u001b[49m\u001b[43m)\u001b[49m\n\u001b[0;32m    204\u001b[0m     \u001b[38;5;28;01mif\u001b[39;00m \u001b[38;5;129;01mnot\u001b[39;00m success:\n\u001b[0;32m    205\u001b[0m         logger\u001b[38;5;241m.\u001b[39merror(\u001b[38;5;124m\"\u001b[39m\u001b[38;5;124mFailed to collect flats\u001b[39m\u001b[38;5;124m\"\u001b[39m)\n",
      "File \u001b[1;32mD:\\pyscope\\pyscope\\observatory\\observatory.py:2292\u001b[0m, in \u001b[0;36mObservatory.take_flats\u001b[1;34m(self, filters, filter_exposures, filter_brightness, target_counts, gain, readouts, binnings, repeat, save_path, home_telescope, check_cooler, tracking, dither_radius, final_telescope_position)\u001b[0m\n\u001b[0;32m   2287\u001b[0m     \u001b[38;5;28;01mif\u001b[39;00m \u001b[38;5;28mtype\u001b[39m(filter_brightness) \u001b[38;5;129;01mis\u001b[39;00m \u001b[38;5;28mlist\u001b[39m:\n\u001b[0;32m   2288\u001b[0m         logger\u001b[38;5;241m.\u001b[39minfo(\n\u001b[0;32m   2289\u001b[0m             \u001b[38;5;124m\"\u001b[39m\u001b[38;5;124mSetting the cover calibrator brightness to \u001b[39m\u001b[38;5;132;01m%i\u001b[39;00m\u001b[38;5;124m\"\u001b[39m\n\u001b[0;32m   2290\u001b[0m             \u001b[38;5;241m%\u001b[39m filter_brightness[idx]\n\u001b[0;32m   2291\u001b[0m         )\n\u001b[1;32m-> 2292\u001b[0m         \u001b[38;5;28;43mself\u001b[39;49m\u001b[38;5;241;43m.\u001b[39;49m\u001b[43mcover_calibrator\u001b[49m\u001b[38;5;241;43m.\u001b[39;49m\u001b[43mCalibratorOn\u001b[49m\u001b[43m(\u001b[49m\u001b[43mfilter_brightness\u001b[49m\u001b[43m[\u001b[49m\u001b[43midx\u001b[49m\u001b[43m]\u001b[49m\u001b[43m)\u001b[49m\n\u001b[0;32m   2293\u001b[0m         logger\u001b[38;5;241m.\u001b[39minfo(\u001b[38;5;124m\"\u001b[39m\u001b[38;5;124mCover calibrator on\u001b[39m\u001b[38;5;124m\"\u001b[39m)\n\u001b[0;32m   2294\u001b[0m \u001b[38;5;28;01melse\u001b[39;00m:\n",
      "File \u001b[1;32mD:\\pyscope\\pyscope\\observatory\\ip_cover_calibrator.py:24\u001b[0m, in \u001b[0;36mIPCoverCalibrator.CalibratorOn\u001b[1;34m(self, Brightness)\u001b[0m\n\u001b[0;32m     22\u001b[0m \u001b[38;5;28;01mdef\u001b[39;00m \u001b[38;5;21mCalibratorOn\u001b[39m(\u001b[38;5;28mself\u001b[39m, Brightness):\n\u001b[0;32m     23\u001b[0m     logger\u001b[38;5;241m.\u001b[39mdebug(\u001b[38;5;124mf\u001b[39m\u001b[38;5;124m\"\u001b[39m\u001b[38;5;124mCalibratorOn called with Brightness=\u001b[39m\u001b[38;5;132;01m{\u001b[39;00mBrightness\u001b[38;5;132;01m}\u001b[39;00m\u001b[38;5;124m\"\u001b[39m)\n\u001b[1;32m---> 24\u001b[0m     \u001b[38;5;28;01mreturn\u001b[39;00m \u001b[38;5;28;43mself\u001b[39;49m\u001b[38;5;241;43m.\u001b[39;49m\u001b[43m_send_packet\u001b[49m\u001b[43m(\u001b[49m\u001b[43mBrightness\u001b[49m\u001b[43m)\u001b[49m\n",
      "File \u001b[1;32mD:\\pyscope\\pyscope\\observatory\\ip_cover_calibrator.py:61\u001b[0m, in \u001b[0;36mIPCoverCalibrator._send_packet\u001b[1;34m(self, intensity)\u001b[0m\n\u001b[0;32m     59\u001b[0m logger\u001b[38;5;241m.\u001b[39mdebug(\u001b[38;5;124mf\u001b[39m\u001b[38;5;124m\"\u001b[39m\u001b[38;5;124m_send_packet called with intensity=\u001b[39m\u001b[38;5;132;01m{\u001b[39;00mintensity\u001b[38;5;132;01m}\u001b[39;00m\u001b[38;5;124m\"\u001b[39m)\n\u001b[0;32m     60\u001b[0m s \u001b[38;5;241m=\u001b[39m socket\u001b[38;5;241m.\u001b[39msocket(socket\u001b[38;5;241m.\u001b[39mAF_INET, socket\u001b[38;5;241m.\u001b[39mSOCK_STREAM)\n\u001b[1;32m---> 61\u001b[0m \u001b[43ms\u001b[49m\u001b[38;5;241;43m.\u001b[39;49m\u001b[43mconnect\u001b[49m\u001b[43m(\u001b[49m\u001b[43m(\u001b[49m\u001b[38;5;28;43mself\u001b[39;49m\u001b[38;5;241;43m.\u001b[39;49m\u001b[43mtcp_ip\u001b[49m\u001b[43m,\u001b[49m\u001b[43m \u001b[49m\u001b[38;5;28;43mself\u001b[39;49m\u001b[38;5;241;43m.\u001b[39;49m\u001b[43mtcp_port\u001b[49m\u001b[43m)\u001b[49m\u001b[43m)\u001b[49m\n\u001b[0;32m     63\u001b[0m \u001b[38;5;66;03m# Create 4 byte array\u001b[39;00m\n\u001b[0;32m     64\u001b[0m my_bytes \u001b[38;5;241m=\u001b[39m \u001b[38;5;28mbytearray\u001b[39m()\n",
      "\u001b[1;31mTypeError\u001b[0m: 'str' object cannot be interpreted as an integer"
     ]
    }
   ],
   "source": [
    "collect_calibration_set(\n",
    "    #observatory=\"./config/observatory.cfg\",\n",
    "    observatory=\"./config/observatory_no_wx.cfg\", #no weather station\n",
    "    camera=\"ccd\",\n",
    "    readouts=[2],\n",
    "    binnings=[\"1x1\"],\n",
    "    repeat=2,\n",
    "    dark_exposures=[],\n",
    "    #filters=[\"green\", \"red\", \"blue\", \"lum\"],\n",
    "    #filter_exposures=[7]*4,\n",
    "    \n",
    "    filters=[\"g\", \"r\", \"i\", \"z\", \"y\"], #this order for flats in the evening\n",
    "    filter_exposures=[2, 2, 4, 60, 180],\n",
    "    \n",
    "    #filters=[\"u\", \"y\", \"g\", \"z\", \"r\", \"i\"], #this order for flats in the morning\n",
    "    #filter_exposures=[7]*6,\n",
    "\n",
    "    # filters=[\"u\"],\n",
    "    # filter_exposures=[60],\n",
    "    \n",
    "    #filters=[\"g\"],\n",
    "    #filter_exposures=[7],\n",
    "\n",
    "    #filters=[\"r\"],\n",
    "    #filter_exposures=[7],\n",
    "\n",
    "    filter_brightness=[0, 1, 254, 254, 254],\n",
    "    # target_counts=30000,\n",
    "    home_telescope=False,\n",
    "    check_cooler=True,\n",
    "    tracking=False,\n",
    "    dither_radius=0,  # arcseconds\n",
    "    save_path=\"./images/calibrations/\",\n",
    "    new_dir=True,\n",
    ")"
   ]
  },
  {
   "cell_type": "code",
   "execution_count": null,
   "metadata": {},
   "outputs": [],
   "source": [
    "\"\"\"reduce_calibration_set(\n",
    "        \"./images/calibrations/2024-05-21_11-34-27/\",\n",
    "        camera=\"ccd\",\n",
    "        mode=\"0\",\n",
    "        pre_normalize=True,\n",
    "    )\"\"\""
   ]
  },
  {
   "cell_type": "markdown",
   "metadata": {},
   "source": []
  }
 ],
 "metadata": {
  "kernelspec": {
   "display_name": "pyscope-dev",
   "language": "python",
   "name": "python3"
  },
  "language_info": {
   "codemirror_mode": {
    "name": "ipython",
    "version": 3
   },
   "file_extension": ".py",
   "mimetype": "text/x-python",
   "name": "python",
   "nbconvert_exporter": "python",
   "pygments_lexer": "ipython3",
   "version": "3.12.2"
  }
 },
 "nbformat": 4,
 "nbformat_minor": 2
}
