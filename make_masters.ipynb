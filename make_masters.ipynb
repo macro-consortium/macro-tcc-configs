{
 "cells": [
  {
   "cell_type": "markdown",
   "metadata": {},
   "source": [
    "Imports "
   ]
  },
  {
   "cell_type": "code",
   "execution_count": null,
   "metadata": {},
   "outputs": [],
   "source": [
    "from pyscope.reduction import avg_fits, ccd_calib\n",
    "\n",
    "from astropy.io import fits\n",
    "import matplotlib as mpl\n",
    "import matplotlib.pyplot as plt\n",
    "import smplotlib\n",
    "\n",
    "import logging\n",
    "\n",
    "# # Set up logging\n",
    "# logging.basicConfig(level=logging.DEBUG)\n",
    "\n",
    "# # Set up after cell logging at debug level\n",
    "# logger = logging.getLogger('pyscope')\n",
    "# logger.setLevel(logging.DEBUG)\n",
    "\n",
    "mpl.rcParams['figure.dpi'] = 300"
   ]
  },
  {
   "cell_type": "markdown",
   "metadata": {},
   "source": [
    "Create master dark"
   ]
  },
  {
   "cell_type": "code",
   "execution_count": null,
   "metadata": {},
   "outputs": [],
   "source": [
    "avg_fits(\n",
    "    fnames=\"./images/calibrations/2024-05-03T17-56-00/dark_read2_gain4x_1x1/*.fts\",\n",
    "    outfile=\"./images/calibrations/2024-05-03T17-56-00/master_dark_read2_gain4x_1x1.fts\",\n",
    "    datatype=\"float32\",\n",
    ")"
   ]
  },
  {
   "cell_type": "markdown",
   "metadata": {},
   "source": [
    "Plot master dark"
   ]
  },
  {
   "cell_type": "code",
   "execution_count": null,
   "metadata": {},
   "outputs": [],
   "source": [
    "fig, ax = plt.subplots(1, 1, figsize=(10, 10))\n",
    "data = fits.getdata(\"./images/calibrations/2024-05-03T17-56-00/master_dark_read2_gain4x_1x1.fts\")\n",
    "mu = data.mean()\n",
    "sigma = data.std()\n",
    "im_plt = ax.imshow(data, cmap=\"gray\", origin=\"lower\", vmin=mu-3*sigma, vmax=mu+3*sigma)\n",
    "cbar = plt.colorbar(im_plt, ax=ax)\n",
    "ax.set_title(\"Master Dark\")\n",
    "plt.show()"
   ]
  },
  {
   "cell_type": "markdown",
   "metadata": {},
   "source": [
    "Create master bias"
   ]
  },
  {
   "cell_type": "code",
   "execution_count": null,
   "metadata": {},
   "outputs": [],
   "source": [
    "avg_fits(\n",
    "    fnames=\"./images/calibrations/2024-05-03T17-56-00/bias_read2_gain4x_1x1/*.fts\",\n",
    "    outfile=\"./images/calibrations/2024-05-03T17-56-00/master_bias_read2_gain4x_1x1.fts\",\n",
    ")"
   ]
  },
  {
   "cell_type": "markdown",
   "metadata": {},
   "source": [
    "Plot master bias"
   ]
  },
  {
   "cell_type": "code",
   "execution_count": null,
   "metadata": {},
   "outputs": [],
   "source": [
    "fig, ax = plt.subplots(1, 1, figsize=(10, 10))\n",
    "data = fits.getdata(\"./images/calibrations/2024-05-03T17-56-00/master_bias_read2_gain4x_1x1.fts\")\n",
    "mu = data.mean()\n",
    "std = data.std()\n",
    "im_plt = ax.imshow(data, cmap=\"gray\", origin=\"lower\", vmin=mu - 3 * std, vmax=mu + 3 * std)\n",
    "cbar = plt.colorbar(im_plt, ax=ax)\n",
    "ax.set_title(\"Master Bias\")\n",
    "plt.show()"
   ]
  },
  {
   "cell_type": "markdown",
   "metadata": {},
   "source": [
    "Calibrate flats"
   ]
  },
  {
   "cell_type": "code",
   "execution_count": null,
   "metadata": {},
   "outputs": [],
   "source": [
    "filt = \"r\"\n",
    "\n",
    "ccd_calib(\n",
    "    fnames=f\"./images/calibrations/2024-05-03T17-56-00/flat_{filt}_read2_gain4x_1x1/*.fts\",\n",
    "    dark_frame=\"./images/calibrations/2024-05-03T17-56-00/master_dark_read2_gain4x_1x1.fts\",\n",
    "    bias_frame=\"./images/calibrations/2024-05-03T17-56-00/master_bias_read2_gain4x_1x1.fts\",\n",
    "    # in_place=True,\n",
    "    #verbose=2\n",
    ")"
   ]
  },
  {
   "cell_type": "markdown",
   "metadata": {},
   "source": [
    "Plot one of the calibrated flats"
   ]
  },
  {
   "cell_type": "code",
   "execution_count": null,
   "metadata": {},
   "outputs": [],
   "source": [
    "fname = \"r.flat1_cal.fts\"\n",
    "\n",
    "fig, ax = plt.subplots(1, 1, figsize=(10, 10))\n",
    "data = fits.getdata(f\"./images/calibrations/2024-05-03T17-56-00/flat_{filt}_read2_gain4x_1x1/{fname}\")\n",
    "mu = data.mean()\n",
    "sigma = data.std()\n",
    "im_plot = ax.imshow(data, cmap='gray', vmin=mu - 3 * sigma, vmax=mu + 3 * sigma)\n",
    "cbar = fig.colorbar(im_plot, ax=ax)\n",
    "ax.set_title('Calibrated flat')\n",
    "plt.show()"
   ]
  },
  {
   "cell_type": "markdown",
   "metadata": {},
   "source": [
    "Make master flat"
   ]
  },
  {
   "cell_type": "code",
   "execution_count": null,
   "metadata": {},
   "outputs": [],
   "source": [
    "avg_fits(\n",
    "    fnames=f\"./images/calibrations/2024-05-03T17-56-00/flat_{filt}_read2_gain4x_1x1/*.fts\",\n",
    "    outfile=f\"./images/calibrations/2024-05-03T17-56-00/master_flat_{filt}_read2_gain4x_1x1.fts\",\n",
    "    pre_normalize=True,\n",
    ")"
   ]
  },
  {
   "cell_type": "markdown",
   "metadata": {},
   "source": [
    "Plot master flat"
   ]
  },
  {
   "cell_type": "code",
   "execution_count": null,
   "metadata": {},
   "outputs": [],
   "source": [
    "fig, ax = plt.subplots(1, 1, figsize=(10, 10))\n",
    "data = fits.getdata(f\"./images/calibrations/2024-05-03T17-56-00/master_flat_{filt}_read2_gain4x_1x1.fts\")\n",
    "mu = data.mean()\n",
    "sigma = data.std()\n",
    "im_plot = ax.imshow(data, cmap='gray', vmin=mu - 3 * sigma, vmax=mu + 3 * sigma)\n",
    "cbar = fig.colorbar(im_plot, ax=ax)\n",
    "ax.set_title('Master flat')\n",
    "plt.show()"
   ]
  },
  {
   "cell_type": "markdown",
   "metadata": {},
   "source": [
    "Calibrate a science image"
   ]
  },
  {
   "cell_type": "code",
   "execution_count": null,
   "metadata": {},
   "outputs": [],
   "source": [
    "science_fname = \"D:\\RLMT\\images\\mjc_mjcMay02_TIC 48217457_r_90s_2024-05-03T06-59-30_wcs.fts\"\n",
    "\n",
    "ccd_calib(\n",
    "    science_fname,\n",
    "    dark_frame=\"./images/calibrations/2024-05-03T17-56-00/master_dark_read2_gain4x_1x1.fts\",\n",
    "    bias_frame=\"./images/calibrations/2024-05-03T17-56-00/master_bias_read2_gain4x_1x1.fts\",\n",
    "    flat_frame=f\"./images/calibrations/2024-05-03T17-56-00/master_flat_{filt}_read2_gain4x_1x1.fts\",\n",
    ")"
   ]
  },
  {
   "cell_type": "markdown",
   "metadata": {},
   "source": [
    "Plot the calibrated science image"
   ]
  },
  {
   "cell_type": "code",
   "execution_count": null,
   "metadata": {},
   "outputs": [],
   "source": [
    "fig, ax = plt.subplots(1, 1, figsize=(10, 10))\n",
    "data = fits.getdata(science_fname.split(\".\")[0] + \"_cal.fts\")\n",
    "hdr = fits.getheader(science_fname.split(\".\")[0] + \"_cal.fts\")\n",
    "if 'PEDESTAL' in hdr:\n",
    "    data = data - hdr['PEDESTAL']\n",
    "mu = data.mean()\n",
    "sigma = data.std()\n",
    "im_plot = ax.imshow(data, cmap='gray', vmin=mu - 0.5 * sigma, vmax=mu + 1.5 * sigma)\n",
    "cbar = fig.colorbar(im_plot, ax=ax)\n",
    "ax.set_title('Calibrated science frame')\n",
    "plt.show()"
   ]
  },
  {
   "cell_type": "code",
   "execution_count": null,
   "metadata": {},
   "outputs": [],
   "source": []
  }
 ],
 "metadata": {
  "kernelspec": {
   "display_name": "pyscope-dev",
   "language": "python",
   "name": "python3"
  },
  "language_info": {
   "codemirror_mode": {
    "name": "ipython",
    "version": 3
   },
   "file_extension": ".py",
   "mimetype": "text/x-python",
   "name": "python",
   "nbconvert_exporter": "python",
   "pygments_lexer": "ipython3",
   "version": "3.12.2"
  }
 },
 "nbformat": 4,
 "nbformat_minor": 2
}
