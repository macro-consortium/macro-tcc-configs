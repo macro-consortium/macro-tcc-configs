{
 "cells": [
  {
   "cell_type": "markdown",
   "metadata": {},
   "source": [
    "Imports "
   ]
  },
  {
   "cell_type": "code",
   "execution_count": 5,
   "metadata": {},
   "outputs": [],
   "source": [
    "from pyscope.reduction import avg_fits, ccd_calib\n",
    "\n",
    "from astropy.io import fits\n",
    "import matplotlib as mpl\n",
    "import matplotlib.pyplot as plt\n",
    "import smplotlib\n",
    "import glob\n",
    "\n",
    "mpl.rcParams['figure.dpi'] = 300"
   ]
  },
  {
   "cell_type": "markdown",
   "metadata": {},
   "source": [
    "Calibrate a collection of science images:"
   ]
  },
  {
   "cell_type": "code",
   "execution_count": 6,
   "metadata": {},
   "outputs": [
    {
     "name": "stdout",
     "output_type": "stream",
     "text": [
      "158 files found\n"
     ]
    }
   ],
   "source": [
    "# Use glob to create list of files to be calibrated\n",
    "files = sorted(glob.glob('D:\\RLMT\\images\\*48217457*.fts'))\n",
    "print(str(len(files)) + ' files found')"
   ]
  },
  {
   "cell_type": "code",
   "execution_count": 7,
   "metadata": {},
   "outputs": [
    {
     "name": "stderr",
     "output_type": "stream",
     "text": [
      "INFO:pyscope.reduction.ccd_calib:Loading calibration frames...\n",
      "INFO:pyscope.reduction.ccd_calib:Loading bias frame: ./images/calibrations/2024-05-03T17-56-00/master_bias_read2_gain4x_1x1.fts\n",
      "INFO:pyscope.reduction.ccd_calib:Loading dark frame: ./images/calibrations/2024-05-03T17-56-00/master_dark_read2_gain4x_1x1.fts\n",
      "INFO:pyscope.reduction.ccd_calib:Loading flat frame: ./images/calibrations/2024-05-03T17-56-00/master_flat_r_read2_gain4x_1x1.fts\n",
      "INFO:pyscope.reduction.ccd_calib:Looping through images...\n",
      "INFO:pyscope.reduction.ccd_calib:Found 1 images\n",
      "INFO:pyscope.reduction.ccd_calib:Calibrating D:\\RLMT\\images\\mjc_mjcMay02_TIC 48217457_r_90s_2024-05-03T06-59-30_wcs.fts...\n",
      "WARNING:pyscope.reduction.ccd_calib:Image readout mode (1MHzHighSensitivity16-bit) does not match dark readout mode (1MHz High Sensitivity 16-bit)\n",
      "WARNING:pyscope.reduction.ccd_calib:Image readout mode (1MHzHighSensitivity16-bit) does not match flat readout mode (1MHz High Sensitivity 16-bit)\n",
      "INFO:pyscope.reduction.ccd_calib:Applying bias frame (CCD selected)...\n",
      "INFO:pyscope.reduction.ccd_calib:Applying the dark frame. CCD selected so a bias-subtracted\n",
      "                            dark frame is scaled by the ratio of the image exposure time over\n",
      "                            the dark exposure time then subtracted from the image.\n",
      "INFO:pyscope.reduction.ccd_calib:Checking if flat frame has a pedestal...\n",
      "INFO:pyscope.reduction.ccd_calib:Normalizing the flat frame by the mean of the entire image.\n",
      "INFO:pyscope.reduction.ccd_calib:flat_mean: 0.9999478043049569\n",
      "INFO:pyscope.reduction.ccd_calib:Applying the flat frame...\n"
     ]
    },
    {
     "name": "stdout",
     "output_type": "stream",
     "text": [
      "The dark frame is ./images/calibrations/2024-05-03T17-56-00/master_dark_read2_gain4x_1x1.fts\n",
      "The bias frame is ./images/calibrations/2024-05-03T17-56-00/master_bias_read2_gain4x_1x1.fts\n",
      "The flat frame is ./images/calibrations/2024-05-03T17-56-00/master_flat_r_read2_gain4x_1x1.fts\n",
      "Calibrating D:\\RLMT\\images\\mjc_mjcMay02_TIC 48217457_r_90s_2024-05-03T06-59-30_wcs.fts\n"
     ]
    },
    {
     "name": "stderr",
     "output_type": "stream",
     "text": [
      "INFO:pyscope.reduction.ccd_calib:Flooring the calibrated image...\n",
      "INFO:pyscope.reduction.ccd_calib:Adding pedestal of 1000\n",
      "INFO:pyscope.reduction.ccd_calib:Removing hot pixels...\n",
      "INFO:pyscope.reduction.ccd_calib:Clipping to uint16 range...\n",
      "INFO:pyscope.reduction.ccd_calib:Writing calibrated status to header...\n",
      "INFO:pyscope.reduction.ccd_calib:Writing calibrated image to D:\\RLMT\\images\\mjc_mjcMay02_TIC 48217457_r_90s_2024-05-03T06-59-30_wcs.fts\n",
      "INFO:pyscope.reduction.ccd_calib:Done!\n",
      "INFO:pyscope.reduction.ccd_calib:Loading calibration frames...\n",
      "INFO:pyscope.reduction.ccd_calib:Loading bias frame: ./images/calibrations/2024-05-03T17-56-00/master_bias_read2_gain4x_1x1.fts\n",
      "INFO:pyscope.reduction.ccd_calib:Loading dark frame: ./images/calibrations/2024-05-03T17-56-00/master_dark_read2_gain4x_1x1.fts\n",
      "INFO:pyscope.reduction.ccd_calib:Loading flat frame: ./images/calibrations/2024-05-03T17-56-00/master_flat_r_read2_gain4x_1x1.fts\n",
      "INFO:pyscope.reduction.ccd_calib:Looping through images...\n",
      "INFO:pyscope.reduction.ccd_calib:Found 1 images\n",
      "INFO:pyscope.reduction.ccd_calib:Calibrating D:\\RLMT\\images\\mjc_mjcMay02_TIC 48217457_r_90s_2024-05-03T06-59-30_wcs_cal.fts...\n",
      "WARNING:pyscope.reduction.ccd_calib:Image readout mode (1MHzHighSensitivity16-bit) does not match dark readout mode (1MHz High Sensitivity 16-bit)\n",
      "WARNING:pyscope.reduction.ccd_calib:Image readout mode (1MHzHighSensitivity16-bit) does not match flat readout mode (1MHz High Sensitivity 16-bit)\n",
      "INFO:pyscope.reduction.ccd_calib:Applying bias frame (CCD selected)...\n",
      "INFO:pyscope.reduction.ccd_calib:Applying the dark frame. CCD selected so a bias-subtracted\n",
      "                            dark frame is scaled by the ratio of the image exposure time over\n",
      "                            the dark exposure time then subtracted from the image.\n",
      "INFO:pyscope.reduction.ccd_calib:Checking if flat frame has a pedestal...\n",
      "INFO:pyscope.reduction.ccd_calib:Normalizing the flat frame by the mean of the entire image.\n",
      "INFO:pyscope.reduction.ccd_calib:flat_mean: 0.9999478043049569\n",
      "INFO:pyscope.reduction.ccd_calib:Applying the flat frame...\n",
      "INFO:pyscope.reduction.ccd_calib:Flooring the calibrated image...\n",
      "INFO:pyscope.reduction.ccd_calib:Adding pedestal of 1000\n",
      "INFO:pyscope.reduction.ccd_calib:Removing hot pixels...\n"
     ]
    },
    {
     "name": "stdout",
     "output_type": "stream",
     "text": [
      "Calibrating D:\\RLMT\\images\\mjc_mjcMay02_TIC 48217457_r_90s_2024-05-03T06-59-30_wcs_cal.fts\n"
     ]
    },
    {
     "name": "stderr",
     "output_type": "stream",
     "text": [
      "INFO:pyscope.reduction.ccd_calib:Clipping to uint16 range...\n",
      "INFO:pyscope.reduction.ccd_calib:Writing calibrated status to header...\n",
      "INFO:pyscope.reduction.ccd_calib:Writing calibrated image to D:\\RLMT\\images\\mjc_mjcMay02_TIC 48217457_r_90s_2024-05-03T06-59-30_wcs_cal.fts\n",
      "INFO:pyscope.reduction.ccd_calib:Done!\n",
      "INFO:pyscope.reduction.ccd_calib:Loading calibration frames...\n",
      "INFO:pyscope.reduction.ccd_calib:Loading bias frame: ./images/calibrations/2024-05-03T17-56-00/master_bias_read2_gain4x_1x1.fts\n",
      "INFO:pyscope.reduction.ccd_calib:Loading dark frame: ./images/calibrations/2024-05-03T17-56-00/master_dark_read2_gain4x_1x1.fts\n",
      "INFO:pyscope.reduction.ccd_calib:Loading flat frame: ./images/calibrations/2024-05-03T17-56-00/master_flat_r_read2_gain4x_1x1.fts\n",
      "INFO:pyscope.reduction.ccd_calib:Looping through images...\n",
      "INFO:pyscope.reduction.ccd_calib:Found 1 images\n",
      "INFO:pyscope.reduction.ccd_calib:Calibrating D:\\RLMT\\images\\mjc_mjcMay02_TIC 48217457_r_90s_2024-05-03T07-01-00_wcs.fts...\n",
      "WARNING:pyscope.reduction.ccd_calib:Image readout mode (1MHzHighSensitivity16-bit) does not match dark readout mode (1MHz High Sensitivity 16-bit)\n",
      "WARNING:pyscope.reduction.ccd_calib:Image readout mode (1MHzHighSensitivity16-bit) does not match flat readout mode (1MHz High Sensitivity 16-bit)\n",
      "INFO:pyscope.reduction.ccd_calib:Applying bias frame (CCD selected)...\n",
      "INFO:pyscope.reduction.ccd_calib:Applying the dark frame. CCD selected so a bias-subtracted\n",
      "                            dark frame is scaled by the ratio of the image exposure time over\n",
      "                            the dark exposure time then subtracted from the image.\n",
      "INFO:pyscope.reduction.ccd_calib:Checking if flat frame has a pedestal...\n",
      "INFO:pyscope.reduction.ccd_calib:Normalizing the flat frame by the mean of the entire image.\n",
      "INFO:pyscope.reduction.ccd_calib:flat_mean: 0.9999478043049569\n"
     ]
    },
    {
     "name": "stdout",
     "output_type": "stream",
     "text": [
      "Calibrating D:\\RLMT\\images\\mjc_mjcMay02_TIC 48217457_r_90s_2024-05-03T07-01-00_wcs.fts\n"
     ]
    },
    {
     "name": "stderr",
     "output_type": "stream",
     "text": [
      "INFO:pyscope.reduction.ccd_calib:Applying the flat frame...\n",
      "INFO:pyscope.reduction.ccd_calib:Flooring the calibrated image...\n",
      "INFO:pyscope.reduction.ccd_calib:Adding pedestal of 1000\n",
      "INFO:pyscope.reduction.ccd_calib:Removing hot pixels...\n",
      "INFO:pyscope.reduction.ccd_calib:Clipping to uint16 range...\n",
      "INFO:pyscope.reduction.ccd_calib:Writing calibrated status to header...\n",
      "INFO:pyscope.reduction.ccd_calib:Writing calibrated image to D:\\RLMT\\images\\mjc_mjcMay02_TIC 48217457_r_90s_2024-05-03T07-01-00_wcs.fts\n",
      "INFO:pyscope.reduction.ccd_calib:Done!\n",
      "INFO:pyscope.reduction.ccd_calib:Loading calibration frames...\n",
      "INFO:pyscope.reduction.ccd_calib:Loading bias frame: ./images/calibrations/2024-05-03T17-56-00/master_bias_read2_gain4x_1x1.fts\n",
      "INFO:pyscope.reduction.ccd_calib:Loading dark frame: ./images/calibrations/2024-05-03T17-56-00/master_dark_read2_gain4x_1x1.fts\n",
      "INFO:pyscope.reduction.ccd_calib:Loading flat frame: ./images/calibrations/2024-05-03T17-56-00/master_flat_r_read2_gain4x_1x1.fts\n",
      "INFO:pyscope.reduction.ccd_calib:Looping through images...\n",
      "INFO:pyscope.reduction.ccd_calib:Found 1 images\n",
      "INFO:pyscope.reduction.ccd_calib:Calibrating D:\\RLMT\\images\\mjc_mjcMay02_TIC 48217457_r_90s_2024-05-03T07-02-30_wcs.fts...\n",
      "WARNING:pyscope.reduction.ccd_calib:Image readout mode (1MHzHighSensitivity16-bit) does not match dark readout mode (1MHz High Sensitivity 16-bit)\n",
      "WARNING:pyscope.reduction.ccd_calib:Image readout mode (1MHzHighSensitivity16-bit) does not match flat readout mode (1MHz High Sensitivity 16-bit)\n",
      "INFO:pyscope.reduction.ccd_calib:Applying bias frame (CCD selected)...\n",
      "INFO:pyscope.reduction.ccd_calib:Applying the dark frame. CCD selected so a bias-subtracted\n",
      "                            dark frame is scaled by the ratio of the image exposure time over\n",
      "                            the dark exposure time then subtracted from the image.\n",
      "INFO:pyscope.reduction.ccd_calib:Checking if flat frame has a pedestal...\n",
      "INFO:pyscope.reduction.ccd_calib:Normalizing the flat frame by the mean of the entire image.\n",
      "INFO:pyscope.reduction.ccd_calib:flat_mean: 0.9999478043049569\n",
      "INFO:pyscope.reduction.ccd_calib:Applying the flat frame...\n"
     ]
    },
    {
     "name": "stdout",
     "output_type": "stream",
     "text": [
      "Calibrating D:\\RLMT\\images\\mjc_mjcMay02_TIC 48217457_r_90s_2024-05-03T07-02-30_wcs.fts\n"
     ]
    },
    {
     "name": "stderr",
     "output_type": "stream",
     "text": [
      "INFO:pyscope.reduction.ccd_calib:Flooring the calibrated image...\n",
      "INFO:pyscope.reduction.ccd_calib:Adding pedestal of 1000\n",
      "INFO:pyscope.reduction.ccd_calib:Removing hot pixels...\n",
      "INFO:pyscope.reduction.ccd_calib:Clipping to uint16 range...\n",
      "INFO:pyscope.reduction.ccd_calib:Writing calibrated status to header...\n",
      "INFO:pyscope.reduction.ccd_calib:Writing calibrated image to D:\\RLMT\\images\\mjc_mjcMay02_TIC 48217457_r_90s_2024-05-03T07-02-30_wcs.fts\n",
      "INFO:pyscope.reduction.ccd_calib:Done!\n",
      "INFO:pyscope.reduction.ccd_calib:Loading calibration frames...\n",
      "INFO:pyscope.reduction.ccd_calib:Loading bias frame: ./images/calibrations/2024-05-03T17-56-00/master_bias_read2_gain4x_1x1.fts\n",
      "INFO:pyscope.reduction.ccd_calib:Loading dark frame: ./images/calibrations/2024-05-03T17-56-00/master_dark_read2_gain4x_1x1.fts\n",
      "INFO:pyscope.reduction.ccd_calib:Loading flat frame: ./images/calibrations/2024-05-03T17-56-00/master_flat_r_read2_gain4x_1x1.fts\n",
      "INFO:pyscope.reduction.ccd_calib:Looping through images...\n",
      "INFO:pyscope.reduction.ccd_calib:Found 1 images\n",
      "INFO:pyscope.reduction.ccd_calib:Calibrating D:\\RLMT\\images\\mjc_mjcMay02_TIC 48217457_r_90s_2024-05-03T07-04-00_wcs.fts...\n",
      "WARNING:pyscope.reduction.ccd_calib:Image readout mode (1MHzHighSensitivity16-bit) does not match dark readout mode (1MHz High Sensitivity 16-bit)\n",
      "WARNING:pyscope.reduction.ccd_calib:Image readout mode (1MHzHighSensitivity16-bit) does not match flat readout mode (1MHz High Sensitivity 16-bit)\n",
      "INFO:pyscope.reduction.ccd_calib:Applying bias frame (CCD selected)...\n",
      "INFO:pyscope.reduction.ccd_calib:Applying the dark frame. CCD selected so a bias-subtracted\n",
      "                            dark frame is scaled by the ratio of the image exposure time over\n",
      "                            the dark exposure time then subtracted from the image.\n",
      "INFO:pyscope.reduction.ccd_calib:Checking if flat frame has a pedestal...\n",
      "INFO:pyscope.reduction.ccd_calib:Normalizing the flat frame by the mean of the entire image.\n",
      "INFO:pyscope.reduction.ccd_calib:flat_mean: 0.9999478043049569\n",
      "INFO:pyscope.reduction.ccd_calib:Applying the flat frame...\n",
      "INFO:pyscope.reduction.ccd_calib:Flooring the calibrated image...\n"
     ]
    },
    {
     "name": "stdout",
     "output_type": "stream",
     "text": [
      "Calibrating D:\\RLMT\\images\\mjc_mjcMay02_TIC 48217457_r_90s_2024-05-03T07-04-00_wcs.fts\n"
     ]
    },
    {
     "name": "stderr",
     "output_type": "stream",
     "text": [
      "INFO:pyscope.reduction.ccd_calib:Adding pedestal of 1000\n",
      "INFO:pyscope.reduction.ccd_calib:Removing hot pixels...\n",
      "INFO:pyscope.reduction.ccd_calib:Clipping to uint16 range...\n",
      "INFO:pyscope.reduction.ccd_calib:Writing calibrated status to header...\n",
      "INFO:pyscope.reduction.ccd_calib:Writing calibrated image to D:\\RLMT\\images\\mjc_mjcMay02_TIC 48217457_r_90s_2024-05-03T07-04-00_wcs.fts\n",
      "INFO:pyscope.reduction.ccd_calib:Done!\n",
      "INFO:pyscope.reduction.ccd_calib:Loading calibration frames...\n",
      "INFO:pyscope.reduction.ccd_calib:Loading bias frame: ./images/calibrations/2024-05-03T17-56-00/master_bias_read2_gain4x_1x1.fts\n",
      "INFO:pyscope.reduction.ccd_calib:Loading dark frame: ./images/calibrations/2024-05-03T17-56-00/master_dark_read2_gain4x_1x1.fts\n",
      "INFO:pyscope.reduction.ccd_calib:Loading flat frame: ./images/calibrations/2024-05-03T17-56-00/master_flat_r_read2_gain4x_1x1.fts\n",
      "INFO:pyscope.reduction.ccd_calib:Looping through images...\n",
      "INFO:pyscope.reduction.ccd_calib:Found 1 images\n",
      "INFO:pyscope.reduction.ccd_calib:Calibrating D:\\RLMT\\images\\mjc_mjcMay02_TIC 48217457_r_90s_2024-05-03T07-05-30_wcs.fts...\n",
      "WARNING:pyscope.reduction.ccd_calib:Image readout mode (1MHzHighSensitivity16-bit) does not match dark readout mode (1MHz High Sensitivity 16-bit)\n",
      "WARNING:pyscope.reduction.ccd_calib:Image readout mode (1MHzHighSensitivity16-bit) does not match flat readout mode (1MHz High Sensitivity 16-bit)\n",
      "INFO:pyscope.reduction.ccd_calib:Applying bias frame (CCD selected)...\n",
      "INFO:pyscope.reduction.ccd_calib:Applying the dark frame. CCD selected so a bias-subtracted\n",
      "                            dark frame is scaled by the ratio of the image exposure time over\n",
      "                            the dark exposure time then subtracted from the image.\n",
      "INFO:pyscope.reduction.ccd_calib:Checking if flat frame has a pedestal...\n"
     ]
    },
    {
     "name": "stdout",
     "output_type": "stream",
     "text": [
      "Calibrating D:\\RLMT\\images\\mjc_mjcMay02_TIC 48217457_r_90s_2024-05-03T07-05-30_wcs.fts\n"
     ]
    },
    {
     "name": "stderr",
     "output_type": "stream",
     "text": [
      "INFO:pyscope.reduction.ccd_calib:Normalizing the flat frame by the mean of the entire image.\n",
      "INFO:pyscope.reduction.ccd_calib:flat_mean: 0.9999478043049569\n",
      "INFO:pyscope.reduction.ccd_calib:Applying the flat frame...\n",
      "INFO:pyscope.reduction.ccd_calib:Flooring the calibrated image...\n",
      "INFO:pyscope.reduction.ccd_calib:Adding pedestal of 1000\n",
      "INFO:pyscope.reduction.ccd_calib:Removing hot pixels...\n",
      "INFO:pyscope.reduction.ccd_calib:Clipping to uint16 range...\n",
      "INFO:pyscope.reduction.ccd_calib:Writing calibrated status to header...\n",
      "INFO:pyscope.reduction.ccd_calib:Writing calibrated image to D:\\RLMT\\images\\mjc_mjcMay02_TIC 48217457_r_90s_2024-05-03T07-05-30_wcs.fts\n",
      "INFO:pyscope.reduction.ccd_calib:Done!\n",
      "INFO:pyscope.reduction.ccd_calib:Loading calibration frames...\n",
      "INFO:pyscope.reduction.ccd_calib:Loading bias frame: ./images/calibrations/2024-05-03T17-56-00/master_bias_read2_gain4x_1x1.fts\n",
      "INFO:pyscope.reduction.ccd_calib:Loading dark frame: ./images/calibrations/2024-05-03T17-56-00/master_dark_read2_gain4x_1x1.fts\n",
      "INFO:pyscope.reduction.ccd_calib:Loading flat frame: ./images/calibrations/2024-05-03T17-56-00/master_flat_r_read2_gain4x_1x1.fts\n",
      "INFO:pyscope.reduction.ccd_calib:Looping through images...\n",
      "INFO:pyscope.reduction.ccd_calib:Found 1 images\n",
      "INFO:pyscope.reduction.ccd_calib:Calibrating D:\\RLMT\\images\\mjc_mjcMay02_TIC 48217457_r_90s_2024-05-03T07-07-00_wcs.fts...\n",
      "WARNING:pyscope.reduction.ccd_calib:Image readout mode (1MHzHighSensitivity16-bit) does not match dark readout mode (1MHz High Sensitivity 16-bit)\n",
      "WARNING:pyscope.reduction.ccd_calib:Image readout mode (1MHzHighSensitivity16-bit) does not match flat readout mode (1MHz High Sensitivity 16-bit)\n",
      "INFO:pyscope.reduction.ccd_calib:Applying bias frame (CCD selected)...\n",
      "INFO:pyscope.reduction.ccd_calib:Applying the dark frame. CCD selected so a bias-subtracted\n",
      "                            dark frame is scaled by the ratio of the image exposure time over\n",
      "                            the dark exposure time then subtracted from the image.\n",
      "INFO:pyscope.reduction.ccd_calib:Checking if flat frame has a pedestal...\n",
      "INFO:pyscope.reduction.ccd_calib:Normalizing the flat frame by the mean of the entire image.\n",
      "INFO:pyscope.reduction.ccd_calib:flat_mean: 0.9999478043049569\n",
      "INFO:pyscope.reduction.ccd_calib:Applying the flat frame...\n",
      "INFO:pyscope.reduction.ccd_calib:Flooring the calibrated image...\n"
     ]
    },
    {
     "name": "stdout",
     "output_type": "stream",
     "text": [
      "Calibrating D:\\RLMT\\images\\mjc_mjcMay02_TIC 48217457_r_90s_2024-05-03T07-07-00_wcs.fts\n"
     ]
    },
    {
     "name": "stderr",
     "output_type": "stream",
     "text": [
      "INFO:pyscope.reduction.ccd_calib:Adding pedestal of 1000\n",
      "INFO:pyscope.reduction.ccd_calib:Removing hot pixels...\n",
      "INFO:pyscope.reduction.ccd_calib:Clipping to uint16 range...\n",
      "INFO:pyscope.reduction.ccd_calib:Writing calibrated status to header...\n",
      "INFO:pyscope.reduction.ccd_calib:Writing calibrated image to D:\\RLMT\\images\\mjc_mjcMay02_TIC 48217457_r_90s_2024-05-03T07-07-00_wcs.fts\n",
      "INFO:pyscope.reduction.ccd_calib:Done!\n",
      "INFO:pyscope.reduction.ccd_calib:Loading calibration frames...\n",
      "INFO:pyscope.reduction.ccd_calib:Loading bias frame: ./images/calibrations/2024-05-03T17-56-00/master_bias_read2_gain4x_1x1.fts\n",
      "INFO:pyscope.reduction.ccd_calib:Loading dark frame: ./images/calibrations/2024-05-03T17-56-00/master_dark_read2_gain4x_1x1.fts\n",
      "INFO:pyscope.reduction.ccd_calib:Loading flat frame: ./images/calibrations/2024-05-03T17-56-00/master_flat_r_read2_gain4x_1x1.fts\n",
      "INFO:pyscope.reduction.ccd_calib:Looping through images...\n",
      "INFO:pyscope.reduction.ccd_calib:Found 1 images\n",
      "INFO:pyscope.reduction.ccd_calib:Calibrating D:\\RLMT\\images\\mjc_mjcMay02_TIC 48217457_r_90s_2024-05-03T07-08-30_wcs.fts...\n",
      "WARNING:pyscope.reduction.ccd_calib:Image readout mode (1MHzHighSensitivity16-bit) does not match dark readout mode (1MHz High Sensitivity 16-bit)\n",
      "WARNING:pyscope.reduction.ccd_calib:Image readout mode (1MHzHighSensitivity16-bit) does not match flat readout mode (1MHz High Sensitivity 16-bit)\n",
      "INFO:pyscope.reduction.ccd_calib:Applying bias frame (CCD selected)...\n",
      "INFO:pyscope.reduction.ccd_calib:Applying the dark frame. CCD selected so a bias-subtracted\n",
      "                            dark frame is scaled by the ratio of the image exposure time over\n",
      "                            the dark exposure time then subtracted from the image.\n",
      "INFO:pyscope.reduction.ccd_calib:Checking if flat frame has a pedestal...\n"
     ]
    },
    {
     "name": "stdout",
     "output_type": "stream",
     "text": [
      "Calibrating D:\\RLMT\\images\\mjc_mjcMay02_TIC 48217457_r_90s_2024-05-03T07-08-30_wcs.fts\n"
     ]
    },
    {
     "name": "stderr",
     "output_type": "stream",
     "text": [
      "INFO:pyscope.reduction.ccd_calib:Normalizing the flat frame by the mean of the entire image.\n",
      "INFO:pyscope.reduction.ccd_calib:flat_mean: 0.9999478043049569\n",
      "INFO:pyscope.reduction.ccd_calib:Applying the flat frame...\n",
      "INFO:pyscope.reduction.ccd_calib:Flooring the calibrated image...\n",
      "INFO:pyscope.reduction.ccd_calib:Adding pedestal of 1000\n",
      "INFO:pyscope.reduction.ccd_calib:Removing hot pixels...\n",
      "INFO:pyscope.reduction.ccd_calib:Clipping to uint16 range...\n",
      "INFO:pyscope.reduction.ccd_calib:Writing calibrated status to header...\n",
      "INFO:pyscope.reduction.ccd_calib:Writing calibrated image to D:\\RLMT\\images\\mjc_mjcMay02_TIC 48217457_r_90s_2024-05-03T07-08-30_wcs.fts\n",
      "INFO:pyscope.reduction.ccd_calib:Done!\n",
      "INFO:pyscope.reduction.ccd_calib:Loading calibration frames...\n",
      "INFO:pyscope.reduction.ccd_calib:Loading bias frame: ./images/calibrations/2024-05-03T17-56-00/master_bias_read2_gain4x_1x1.fts\n",
      "INFO:pyscope.reduction.ccd_calib:Loading dark frame: ./images/calibrations/2024-05-03T17-56-00/master_dark_read2_gain4x_1x1.fts\n",
      "INFO:pyscope.reduction.ccd_calib:Loading flat frame: ./images/calibrations/2024-05-03T17-56-00/master_flat_r_read2_gain4x_1x1.fts\n",
      "INFO:pyscope.reduction.ccd_calib:Looping through images...\n",
      "INFO:pyscope.reduction.ccd_calib:Found 1 images\n",
      "INFO:pyscope.reduction.ccd_calib:Calibrating D:\\RLMT\\images\\mjc_mjcMay02_TIC 48217457_r_90s_2024-05-03T07-10-00_wcs.fts...\n",
      "WARNING:pyscope.reduction.ccd_calib:Image readout mode (1MHzHighSensitivity16-bit) does not match dark readout mode (1MHz High Sensitivity 16-bit)\n",
      "WARNING:pyscope.reduction.ccd_calib:Image readout mode (1MHzHighSensitivity16-bit) does not match flat readout mode (1MHz High Sensitivity 16-bit)\n",
      "INFO:pyscope.reduction.ccd_calib:Applying bias frame (CCD selected)...\n",
      "INFO:pyscope.reduction.ccd_calib:Applying the dark frame. CCD selected so a bias-subtracted\n",
      "                            dark frame is scaled by the ratio of the image exposure time over\n",
      "                            the dark exposure time then subtracted from the image.\n",
      "INFO:pyscope.reduction.ccd_calib:Checking if flat frame has a pedestal...\n",
      "INFO:pyscope.reduction.ccd_calib:Normalizing the flat frame by the mean of the entire image.\n"
     ]
    },
    {
     "name": "stdout",
     "output_type": "stream",
     "text": [
      "Calibrating D:\\RLMT\\images\\mjc_mjcMay02_TIC 48217457_r_90s_2024-05-03T07-10-00_wcs.fts\n"
     ]
    },
    {
     "name": "stderr",
     "output_type": "stream",
     "text": [
      "INFO:pyscope.reduction.ccd_calib:flat_mean: 0.9999478043049569\n",
      "INFO:pyscope.reduction.ccd_calib:Applying the flat frame...\n",
      "INFO:pyscope.reduction.ccd_calib:Flooring the calibrated image...\n",
      "INFO:pyscope.reduction.ccd_calib:Adding pedestal of 1000\n",
      "INFO:pyscope.reduction.ccd_calib:Removing hot pixels...\n",
      "INFO:pyscope.reduction.ccd_calib:Clipping to uint16 range...\n",
      "INFO:pyscope.reduction.ccd_calib:Writing calibrated status to header...\n",
      "INFO:pyscope.reduction.ccd_calib:Writing calibrated image to D:\\RLMT\\images\\mjc_mjcMay02_TIC 48217457_r_90s_2024-05-03T07-10-00_wcs.fts\n",
      "INFO:pyscope.reduction.ccd_calib:Done!\n",
      "INFO:pyscope.reduction.ccd_calib:Loading calibration frames...\n",
      "INFO:pyscope.reduction.ccd_calib:Loading bias frame: ./images/calibrations/2024-05-03T17-56-00/master_bias_read2_gain4x_1x1.fts\n",
      "INFO:pyscope.reduction.ccd_calib:Loading dark frame: ./images/calibrations/2024-05-03T17-56-00/master_dark_read2_gain4x_1x1.fts\n",
      "INFO:pyscope.reduction.ccd_calib:Loading flat frame: ./images/calibrations/2024-05-03T17-56-00/master_flat_r_read2_gain4x_1x1.fts\n",
      "INFO:pyscope.reduction.ccd_calib:Looping through images...\n",
      "INFO:pyscope.reduction.ccd_calib:Found 1 images\n",
      "INFO:pyscope.reduction.ccd_calib:Calibrating D:\\RLMT\\images\\mjc_mjcMay02_TIC 48217457_r_90s_2024-05-03T07-11-30_wcs.fts...\n",
      "WARNING:pyscope.reduction.ccd_calib:Image readout mode (1MHzHighSensitivity16-bit) does not match dark readout mode (1MHz High Sensitivity 16-bit)\n",
      "WARNING:pyscope.reduction.ccd_calib:Image readout mode (1MHzHighSensitivity16-bit) does not match flat readout mode (1MHz High Sensitivity 16-bit)\n",
      "INFO:pyscope.reduction.ccd_calib:Applying bias frame (CCD selected)...\n",
      "INFO:pyscope.reduction.ccd_calib:Applying the dark frame. CCD selected so a bias-subtracted\n",
      "                            dark frame is scaled by the ratio of the image exposure time over\n",
      "                            the dark exposure time then subtracted from the image.\n",
      "INFO:pyscope.reduction.ccd_calib:Checking if flat frame has a pedestal...\n"
     ]
    },
    {
     "name": "stdout",
     "output_type": "stream",
     "text": [
      "Calibrating D:\\RLMT\\images\\mjc_mjcMay02_TIC 48217457_r_90s_2024-05-03T07-11-30_wcs.fts\n"
     ]
    },
    {
     "name": "stderr",
     "output_type": "stream",
     "text": [
      "INFO:pyscope.reduction.ccd_calib:Normalizing the flat frame by the mean of the entire image.\n",
      "INFO:pyscope.reduction.ccd_calib:flat_mean: 0.9999478043049569\n",
      "INFO:pyscope.reduction.ccd_calib:Applying the flat frame...\n",
      "INFO:pyscope.reduction.ccd_calib:Flooring the calibrated image...\n",
      "INFO:pyscope.reduction.ccd_calib:Adding pedestal of 1000\n",
      "INFO:pyscope.reduction.ccd_calib:Removing hot pixels...\n",
      "INFO:pyscope.reduction.ccd_calib:Clipping to uint16 range...\n",
      "INFO:pyscope.reduction.ccd_calib:Writing calibrated status to header...\n",
      "INFO:pyscope.reduction.ccd_calib:Writing calibrated image to D:\\RLMT\\images\\mjc_mjcMay02_TIC 48217457_r_90s_2024-05-03T07-11-30_wcs.fts\n",
      "INFO:pyscope.reduction.ccd_calib:Done!\n",
      "INFO:pyscope.reduction.ccd_calib:Loading calibration frames...\n",
      "INFO:pyscope.reduction.ccd_calib:Loading bias frame: ./images/calibrations/2024-05-03T17-56-00/master_bias_read2_gain4x_1x1.fts\n",
      "INFO:pyscope.reduction.ccd_calib:Loading dark frame: ./images/calibrations/2024-05-03T17-56-00/master_dark_read2_gain4x_1x1.fts\n",
      "INFO:pyscope.reduction.ccd_calib:Loading flat frame: ./images/calibrations/2024-05-03T17-56-00/master_flat_r_read2_gain4x_1x1.fts\n",
      "INFO:pyscope.reduction.ccd_calib:Looping through images...\n",
      "INFO:pyscope.reduction.ccd_calib:Found 1 images\n",
      "INFO:pyscope.reduction.ccd_calib:Calibrating D:\\RLMT\\images\\mjc_mjcMay02_TIC 48217457_r_90s_2024-05-03T07-13-00_wcs.fts...\n",
      "WARNING:pyscope.reduction.ccd_calib:Image readout mode (1MHzHighSensitivity16-bit) does not match dark readout mode (1MHz High Sensitivity 16-bit)\n",
      "WARNING:pyscope.reduction.ccd_calib:Image readout mode (1MHzHighSensitivity16-bit) does not match flat readout mode (1MHz High Sensitivity 16-bit)\n",
      "INFO:pyscope.reduction.ccd_calib:Applying bias frame (CCD selected)...\n",
      "INFO:pyscope.reduction.ccd_calib:Applying the dark frame. CCD selected so a bias-subtracted\n",
      "                            dark frame is scaled by the ratio of the image exposure time over\n",
      "                            the dark exposure time then subtracted from the image.\n",
      "INFO:pyscope.reduction.ccd_calib:Checking if flat frame has a pedestal...\n"
     ]
    },
    {
     "name": "stdout",
     "output_type": "stream",
     "text": [
      "Calibrating D:\\RLMT\\images\\mjc_mjcMay02_TIC 48217457_r_90s_2024-05-03T07-13-00_wcs.fts\n"
     ]
    },
    {
     "name": "stderr",
     "output_type": "stream",
     "text": [
      "INFO:pyscope.reduction.ccd_calib:Normalizing the flat frame by the mean of the entire image.\n",
      "INFO:pyscope.reduction.ccd_calib:flat_mean: 0.9999478043049569\n",
      "INFO:pyscope.reduction.ccd_calib:Applying the flat frame...\n",
      "INFO:pyscope.reduction.ccd_calib:Flooring the calibrated image...\n",
      "INFO:pyscope.reduction.ccd_calib:Adding pedestal of 1000\n",
      "INFO:pyscope.reduction.ccd_calib:Removing hot pixels...\n",
      "INFO:pyscope.reduction.ccd_calib:Clipping to uint16 range...\n",
      "INFO:pyscope.reduction.ccd_calib:Writing calibrated status to header...\n",
      "INFO:pyscope.reduction.ccd_calib:Writing calibrated image to D:\\RLMT\\images\\mjc_mjcMay02_TIC 48217457_r_90s_2024-05-03T07-13-00_wcs.fts\n",
      "INFO:pyscope.reduction.ccd_calib:Done!\n",
      "INFO:pyscope.reduction.ccd_calib:Loading calibration frames...\n",
      "INFO:pyscope.reduction.ccd_calib:Loading bias frame: ./images/calibrations/2024-05-03T17-56-00/master_bias_read2_gain4x_1x1.fts\n",
      "INFO:pyscope.reduction.ccd_calib:Loading dark frame: ./images/calibrations/2024-05-03T17-56-00/master_dark_read2_gain4x_1x1.fts\n",
      "INFO:pyscope.reduction.ccd_calib:Loading flat frame: ./images/calibrations/2024-05-03T17-56-00/master_flat_r_read2_gain4x_1x1.fts\n",
      "INFO:pyscope.reduction.ccd_calib:Looping through images...\n",
      "INFO:pyscope.reduction.ccd_calib:Found 1 images\n",
      "INFO:pyscope.reduction.ccd_calib:Calibrating D:\\RLMT\\images\\mjc_mjcMay02_TIC 48217457_r_90s_2024-05-03T07-14-30_wcs.fts...\n",
      "WARNING:pyscope.reduction.ccd_calib:Image readout mode (1MHzHighSensitivity16-bit) does not match dark readout mode (1MHz High Sensitivity 16-bit)\n",
      "WARNING:pyscope.reduction.ccd_calib:Image readout mode (1MHzHighSensitivity16-bit) does not match flat readout mode (1MHz High Sensitivity 16-bit)\n",
      "INFO:pyscope.reduction.ccd_calib:Applying bias frame (CCD selected)...\n",
      "INFO:pyscope.reduction.ccd_calib:Applying the dark frame. CCD selected so a bias-subtracted\n",
      "                            dark frame is scaled by the ratio of the image exposure time over\n",
      "                            the dark exposure time then subtracted from the image.\n",
      "INFO:pyscope.reduction.ccd_calib:Checking if flat frame has a pedestal...\n"
     ]
    },
    {
     "name": "stdout",
     "output_type": "stream",
     "text": [
      "Calibrating D:\\RLMT\\images\\mjc_mjcMay02_TIC 48217457_r_90s_2024-05-03T07-14-30_wcs.fts\n"
     ]
    },
    {
     "name": "stderr",
     "output_type": "stream",
     "text": [
      "INFO:pyscope.reduction.ccd_calib:Normalizing the flat frame by the mean of the entire image.\n",
      "INFO:pyscope.reduction.ccd_calib:flat_mean: 0.9999478043049569\n",
      "INFO:pyscope.reduction.ccd_calib:Applying the flat frame...\n",
      "INFO:pyscope.reduction.ccd_calib:Flooring the calibrated image...\n",
      "INFO:pyscope.reduction.ccd_calib:Adding pedestal of 1000\n",
      "INFO:pyscope.reduction.ccd_calib:Removing hot pixels...\n",
      "INFO:pyscope.reduction.ccd_calib:Clipping to uint16 range...\n",
      "INFO:pyscope.reduction.ccd_calib:Writing calibrated status to header...\n",
      "INFO:pyscope.reduction.ccd_calib:Writing calibrated image to D:\\RLMT\\images\\mjc_mjcMay02_TIC 48217457_r_90s_2024-05-03T07-14-30_wcs.fts\n",
      "INFO:pyscope.reduction.ccd_calib:Done!\n",
      "INFO:pyscope.reduction.ccd_calib:Loading calibration frames...\n",
      "INFO:pyscope.reduction.ccd_calib:Loading bias frame: ./images/calibrations/2024-05-03T17-56-00/master_bias_read2_gain4x_1x1.fts\n",
      "INFO:pyscope.reduction.ccd_calib:Loading dark frame: ./images/calibrations/2024-05-03T17-56-00/master_dark_read2_gain4x_1x1.fts\n",
      "INFO:pyscope.reduction.ccd_calib:Loading flat frame: ./images/calibrations/2024-05-03T17-56-00/master_flat_r_read2_gain4x_1x1.fts\n",
      "INFO:pyscope.reduction.ccd_calib:Looping through images...\n",
      "INFO:pyscope.reduction.ccd_calib:Found 1 images\n",
      "INFO:pyscope.reduction.ccd_calib:Calibrating D:\\RLMT\\images\\mjc_mjcMay02_TIC 48217457_r_90s_2024-05-03T07-16-00_wcs.fts...\n",
      "WARNING:pyscope.reduction.ccd_calib:Image readout mode (1MHzHighSensitivity16-bit) does not match dark readout mode (1MHz High Sensitivity 16-bit)\n",
      "WARNING:pyscope.reduction.ccd_calib:Image readout mode (1MHzHighSensitivity16-bit) does not match flat readout mode (1MHz High Sensitivity 16-bit)\n",
      "INFO:pyscope.reduction.ccd_calib:Applying bias frame (CCD selected)...\n",
      "INFO:pyscope.reduction.ccd_calib:Applying the dark frame. CCD selected so a bias-subtracted\n",
      "                            dark frame is scaled by the ratio of the image exposure time over\n",
      "                            the dark exposure time then subtracted from the image.\n",
      "INFO:pyscope.reduction.ccd_calib:Checking if flat frame has a pedestal...\n",
      "INFO:pyscope.reduction.ccd_calib:Normalizing the flat frame by the mean of the entire image.\n",
      "INFO:pyscope.reduction.ccd_calib:flat_mean: 0.9999478043049569\n",
      "INFO:pyscope.reduction.ccd_calib:Applying the flat frame...\n"
     ]
    },
    {
     "name": "stdout",
     "output_type": "stream",
     "text": [
      "Calibrating D:\\RLMT\\images\\mjc_mjcMay02_TIC 48217457_r_90s_2024-05-03T07-16-00_wcs.fts\n"
     ]
    },
    {
     "name": "stderr",
     "output_type": "stream",
     "text": [
      "INFO:pyscope.reduction.ccd_calib:Flooring the calibrated image...\n",
      "INFO:pyscope.reduction.ccd_calib:Adding pedestal of 1000\n",
      "INFO:pyscope.reduction.ccd_calib:Removing hot pixels...\n",
      "INFO:pyscope.reduction.ccd_calib:Clipping to uint16 range...\n",
      "INFO:pyscope.reduction.ccd_calib:Writing calibrated status to header...\n",
      "INFO:pyscope.reduction.ccd_calib:Writing calibrated image to D:\\RLMT\\images\\mjc_mjcMay02_TIC 48217457_r_90s_2024-05-03T07-16-00_wcs.fts\n",
      "INFO:pyscope.reduction.ccd_calib:Done!\n",
      "INFO:pyscope.reduction.ccd_calib:Loading calibration frames...\n",
      "INFO:pyscope.reduction.ccd_calib:Loading bias frame: ./images/calibrations/2024-05-03T17-56-00/master_bias_read2_gain4x_1x1.fts\n",
      "INFO:pyscope.reduction.ccd_calib:Loading dark frame: ./images/calibrations/2024-05-03T17-56-00/master_dark_read2_gain4x_1x1.fts\n",
      "INFO:pyscope.reduction.ccd_calib:Loading flat frame: ./images/calibrations/2024-05-03T17-56-00/master_flat_r_read2_gain4x_1x1.fts\n",
      "INFO:pyscope.reduction.ccd_calib:Looping through images...\n",
      "INFO:pyscope.reduction.ccd_calib:Found 1 images\n",
      "INFO:pyscope.reduction.ccd_calib:Calibrating D:\\RLMT\\images\\mjc_mjcMay02_TIC 48217457_r_90s_2024-05-03T07-17-30_wcs.fts...\n",
      "WARNING:pyscope.reduction.ccd_calib:Image readout mode (1MHzHighSensitivity16-bit) does not match dark readout mode (1MHz High Sensitivity 16-bit)\n",
      "WARNING:pyscope.reduction.ccd_calib:Image readout mode (1MHzHighSensitivity16-bit) does not match flat readout mode (1MHz High Sensitivity 16-bit)\n",
      "INFO:pyscope.reduction.ccd_calib:Applying bias frame (CCD selected)...\n",
      "INFO:pyscope.reduction.ccd_calib:Applying the dark frame. CCD selected so a bias-subtracted\n",
      "                            dark frame is scaled by the ratio of the image exposure time over\n",
      "                            the dark exposure time then subtracted from the image.\n",
      "INFO:pyscope.reduction.ccd_calib:Checking if flat frame has a pedestal...\n",
      "INFO:pyscope.reduction.ccd_calib:Normalizing the flat frame by the mean of the entire image.\n",
      "INFO:pyscope.reduction.ccd_calib:flat_mean: 0.9999478043049569\n",
      "INFO:pyscope.reduction.ccd_calib:Applying the flat frame...\n"
     ]
    },
    {
     "name": "stdout",
     "output_type": "stream",
     "text": [
      "Calibrating D:\\RLMT\\images\\mjc_mjcMay02_TIC 48217457_r_90s_2024-05-03T07-17-30_wcs.fts\n"
     ]
    },
    {
     "name": "stderr",
     "output_type": "stream",
     "text": [
      "INFO:pyscope.reduction.ccd_calib:Flooring the calibrated image...\n",
      "INFO:pyscope.reduction.ccd_calib:Adding pedestal of 1000\n",
      "INFO:pyscope.reduction.ccd_calib:Removing hot pixels...\n",
      "INFO:pyscope.reduction.ccd_calib:Clipping to uint16 range...\n",
      "INFO:pyscope.reduction.ccd_calib:Writing calibrated status to header...\n",
      "INFO:pyscope.reduction.ccd_calib:Writing calibrated image to D:\\RLMT\\images\\mjc_mjcMay02_TIC 48217457_r_90s_2024-05-03T07-17-30_wcs.fts\n",
      "INFO:pyscope.reduction.ccd_calib:Done!\n",
      "INFO:pyscope.reduction.ccd_calib:Loading calibration frames...\n",
      "INFO:pyscope.reduction.ccd_calib:Loading bias frame: ./images/calibrations/2024-05-03T17-56-00/master_bias_read2_gain4x_1x1.fts\n",
      "INFO:pyscope.reduction.ccd_calib:Loading dark frame: ./images/calibrations/2024-05-03T17-56-00/master_dark_read2_gain4x_1x1.fts\n",
      "INFO:pyscope.reduction.ccd_calib:Loading flat frame: ./images/calibrations/2024-05-03T17-56-00/master_flat_r_read2_gain4x_1x1.fts\n",
      "INFO:pyscope.reduction.ccd_calib:Looping through images...\n",
      "INFO:pyscope.reduction.ccd_calib:Found 1 images\n",
      "INFO:pyscope.reduction.ccd_calib:Calibrating D:\\RLMT\\images\\mjc_mjcMay02_TIC 48217457_r_90s_2024-05-03T07-19-00_wcs.fts...\n",
      "WARNING:pyscope.reduction.ccd_calib:Image readout mode (1MHzHighSensitivity16-bit) does not match dark readout mode (1MHz High Sensitivity 16-bit)\n",
      "WARNING:pyscope.reduction.ccd_calib:Image readout mode (1MHzHighSensitivity16-bit) does not match flat readout mode (1MHz High Sensitivity 16-bit)\n",
      "INFO:pyscope.reduction.ccd_calib:Applying bias frame (CCD selected)...\n",
      "INFO:pyscope.reduction.ccd_calib:Applying the dark frame. CCD selected so a bias-subtracted\n",
      "                            dark frame is scaled by the ratio of the image exposure time over\n",
      "                            the dark exposure time then subtracted from the image.\n",
      "INFO:pyscope.reduction.ccd_calib:Checking if flat frame has a pedestal...\n",
      "INFO:pyscope.reduction.ccd_calib:Normalizing the flat frame by the mean of the entire image.\n",
      "INFO:pyscope.reduction.ccd_calib:flat_mean: 0.9999478043049569\n",
      "INFO:pyscope.reduction.ccd_calib:Applying the flat frame...\n",
      "INFO:pyscope.reduction.ccd_calib:Flooring the calibrated image...\n"
     ]
    },
    {
     "name": "stdout",
     "output_type": "stream",
     "text": [
      "Calibrating D:\\RLMT\\images\\mjc_mjcMay02_TIC 48217457_r_90s_2024-05-03T07-19-00_wcs.fts\n"
     ]
    },
    {
     "name": "stderr",
     "output_type": "stream",
     "text": [
      "INFO:pyscope.reduction.ccd_calib:Adding pedestal of 1000\n",
      "INFO:pyscope.reduction.ccd_calib:Removing hot pixels...\n",
      "INFO:pyscope.reduction.ccd_calib:Clipping to uint16 range...\n",
      "INFO:pyscope.reduction.ccd_calib:Writing calibrated status to header...\n",
      "INFO:pyscope.reduction.ccd_calib:Writing calibrated image to D:\\RLMT\\images\\mjc_mjcMay02_TIC 48217457_r_90s_2024-05-03T07-19-00_wcs.fts\n",
      "INFO:pyscope.reduction.ccd_calib:Done!\n",
      "INFO:pyscope.reduction.ccd_calib:Loading calibration frames...\n",
      "INFO:pyscope.reduction.ccd_calib:Loading bias frame: ./images/calibrations/2024-05-03T17-56-00/master_bias_read2_gain4x_1x1.fts\n",
      "INFO:pyscope.reduction.ccd_calib:Loading dark frame: ./images/calibrations/2024-05-03T17-56-00/master_dark_read2_gain4x_1x1.fts\n",
      "INFO:pyscope.reduction.ccd_calib:Loading flat frame: ./images/calibrations/2024-05-03T17-56-00/master_flat_r_read2_gain4x_1x1.fts\n",
      "INFO:pyscope.reduction.ccd_calib:Looping through images...\n",
      "INFO:pyscope.reduction.ccd_calib:Found 1 images\n",
      "INFO:pyscope.reduction.ccd_calib:Calibrating D:\\RLMT\\images\\mjc_mjcMay02_TIC 48217457_r_90s_2024-05-03T07-20-30_wcs.fts...\n",
      "WARNING:pyscope.reduction.ccd_calib:Image readout mode (1MHzHighSensitivity16-bit) does not match dark readout mode (1MHz High Sensitivity 16-bit)\n",
      "WARNING:pyscope.reduction.ccd_calib:Image readout mode (1MHzHighSensitivity16-bit) does not match flat readout mode (1MHz High Sensitivity 16-bit)\n",
      "INFO:pyscope.reduction.ccd_calib:Applying bias frame (CCD selected)...\n",
      "INFO:pyscope.reduction.ccd_calib:Applying the dark frame. CCD selected so a bias-subtracted\n",
      "                            dark frame is scaled by the ratio of the image exposure time over\n",
      "                            the dark exposure time then subtracted from the image.\n",
      "INFO:pyscope.reduction.ccd_calib:Checking if flat frame has a pedestal...\n",
      "INFO:pyscope.reduction.ccd_calib:Normalizing the flat frame by the mean of the entire image.\n",
      "INFO:pyscope.reduction.ccd_calib:flat_mean: 0.9999478043049569\n",
      "INFO:pyscope.reduction.ccd_calib:Applying the flat frame...\n"
     ]
    },
    {
     "name": "stdout",
     "output_type": "stream",
     "text": [
      "Calibrating D:\\RLMT\\images\\mjc_mjcMay02_TIC 48217457_r_90s_2024-05-03T07-20-30_wcs.fts\n"
     ]
    },
    {
     "name": "stderr",
     "output_type": "stream",
     "text": [
      "INFO:pyscope.reduction.ccd_calib:Flooring the calibrated image...\n",
      "INFO:pyscope.reduction.ccd_calib:Adding pedestal of 1000\n",
      "INFO:pyscope.reduction.ccd_calib:Removing hot pixels...\n",
      "INFO:pyscope.reduction.ccd_calib:Clipping to uint16 range...\n",
      "INFO:pyscope.reduction.ccd_calib:Writing calibrated status to header...\n",
      "INFO:pyscope.reduction.ccd_calib:Writing calibrated image to D:\\RLMT\\images\\mjc_mjcMay02_TIC 48217457_r_90s_2024-05-03T07-20-30_wcs.fts\n",
      "INFO:pyscope.reduction.ccd_calib:Done!\n",
      "INFO:pyscope.reduction.ccd_calib:Loading calibration frames...\n",
      "INFO:pyscope.reduction.ccd_calib:Loading bias frame: ./images/calibrations/2024-05-03T17-56-00/master_bias_read2_gain4x_1x1.fts\n",
      "INFO:pyscope.reduction.ccd_calib:Loading dark frame: ./images/calibrations/2024-05-03T17-56-00/master_dark_read2_gain4x_1x1.fts\n",
      "INFO:pyscope.reduction.ccd_calib:Loading flat frame: ./images/calibrations/2024-05-03T17-56-00/master_flat_r_read2_gain4x_1x1.fts\n",
      "INFO:pyscope.reduction.ccd_calib:Looping through images...\n",
      "INFO:pyscope.reduction.ccd_calib:Found 1 images\n",
      "INFO:pyscope.reduction.ccd_calib:Calibrating D:\\RLMT\\images\\mjc_mjcMay02_TIC 48217457_r_90s_2024-05-03T07-22-00_wcs.fts...\n",
      "WARNING:pyscope.reduction.ccd_calib:Image readout mode (1MHzHighSensitivity16-bit) does not match dark readout mode (1MHz High Sensitivity 16-bit)\n",
      "WARNING:pyscope.reduction.ccd_calib:Image readout mode (1MHzHighSensitivity16-bit) does not match flat readout mode (1MHz High Sensitivity 16-bit)\n",
      "INFO:pyscope.reduction.ccd_calib:Applying bias frame (CCD selected)...\n",
      "INFO:pyscope.reduction.ccd_calib:Applying the dark frame. CCD selected so a bias-subtracted\n",
      "                            dark frame is scaled by the ratio of the image exposure time over\n",
      "                            the dark exposure time then subtracted from the image.\n",
      "INFO:pyscope.reduction.ccd_calib:Checking if flat frame has a pedestal...\n",
      "INFO:pyscope.reduction.ccd_calib:Normalizing the flat frame by the mean of the entire image.\n",
      "INFO:pyscope.reduction.ccd_calib:flat_mean: 0.9999478043049569\n"
     ]
    },
    {
     "name": "stdout",
     "output_type": "stream",
     "text": [
      "Calibrating D:\\RLMT\\images\\mjc_mjcMay02_TIC 48217457_r_90s_2024-05-03T07-22-00_wcs.fts\n"
     ]
    },
    {
     "name": "stderr",
     "output_type": "stream",
     "text": [
      "INFO:pyscope.reduction.ccd_calib:Applying the flat frame...\n",
      "INFO:pyscope.reduction.ccd_calib:Flooring the calibrated image...\n",
      "INFO:pyscope.reduction.ccd_calib:Adding pedestal of 1000\n",
      "INFO:pyscope.reduction.ccd_calib:Removing hot pixels...\n",
      "INFO:pyscope.reduction.ccd_calib:Clipping to uint16 range...\n",
      "INFO:pyscope.reduction.ccd_calib:Writing calibrated status to header...\n",
      "INFO:pyscope.reduction.ccd_calib:Writing calibrated image to D:\\RLMT\\images\\mjc_mjcMay02_TIC 48217457_r_90s_2024-05-03T07-22-00_wcs.fts\n",
      "INFO:pyscope.reduction.ccd_calib:Done!\n",
      "INFO:pyscope.reduction.ccd_calib:Loading calibration frames...\n",
      "INFO:pyscope.reduction.ccd_calib:Loading bias frame: ./images/calibrations/2024-05-03T17-56-00/master_bias_read2_gain4x_1x1.fts\n",
      "INFO:pyscope.reduction.ccd_calib:Loading dark frame: ./images/calibrations/2024-05-03T17-56-00/master_dark_read2_gain4x_1x1.fts\n",
      "INFO:pyscope.reduction.ccd_calib:Loading flat frame: ./images/calibrations/2024-05-03T17-56-00/master_flat_r_read2_gain4x_1x1.fts\n",
      "INFO:pyscope.reduction.ccd_calib:Looping through images...\n",
      "INFO:pyscope.reduction.ccd_calib:Found 1 images\n",
      "INFO:pyscope.reduction.ccd_calib:Calibrating D:\\RLMT\\images\\mjc_mjcMay02_TIC 48217457_r_90s_2024-05-03T07-23-30_wcs.fts...\n",
      "WARNING:pyscope.reduction.ccd_calib:Image readout mode (1MHzHighSensitivity16-bit) does not match dark readout mode (1MHz High Sensitivity 16-bit)\n",
      "WARNING:pyscope.reduction.ccd_calib:Image readout mode (1MHzHighSensitivity16-bit) does not match flat readout mode (1MHz High Sensitivity 16-bit)\n",
      "INFO:pyscope.reduction.ccd_calib:Applying bias frame (CCD selected)...\n",
      "INFO:pyscope.reduction.ccd_calib:Applying the dark frame. CCD selected so a bias-subtracted\n",
      "                            dark frame is scaled by the ratio of the image exposure time over\n",
      "                            the dark exposure time then subtracted from the image.\n",
      "INFO:pyscope.reduction.ccd_calib:Checking if flat frame has a pedestal...\n"
     ]
    },
    {
     "name": "stdout",
     "output_type": "stream",
     "text": [
      "Calibrating D:\\RLMT\\images\\mjc_mjcMay02_TIC 48217457_r_90s_2024-05-03T07-23-30_wcs.fts\n"
     ]
    },
    {
     "name": "stderr",
     "output_type": "stream",
     "text": [
      "INFO:pyscope.reduction.ccd_calib:Normalizing the flat frame by the mean of the entire image.\n",
      "INFO:pyscope.reduction.ccd_calib:flat_mean: 0.9999478043049569\n",
      "INFO:pyscope.reduction.ccd_calib:Applying the flat frame...\n",
      "INFO:pyscope.reduction.ccd_calib:Flooring the calibrated image...\n",
      "INFO:pyscope.reduction.ccd_calib:Adding pedestal of 1000\n",
      "INFO:pyscope.reduction.ccd_calib:Removing hot pixels...\n",
      "INFO:pyscope.reduction.ccd_calib:Clipping to uint16 range...\n",
      "INFO:pyscope.reduction.ccd_calib:Writing calibrated status to header...\n",
      "INFO:pyscope.reduction.ccd_calib:Writing calibrated image to D:\\RLMT\\images\\mjc_mjcMay02_TIC 48217457_r_90s_2024-05-03T07-23-30_wcs.fts\n",
      "INFO:pyscope.reduction.ccd_calib:Done!\n",
      "INFO:pyscope.reduction.ccd_calib:Loading calibration frames...\n",
      "INFO:pyscope.reduction.ccd_calib:Loading bias frame: ./images/calibrations/2024-05-03T17-56-00/master_bias_read2_gain4x_1x1.fts\n",
      "INFO:pyscope.reduction.ccd_calib:Loading dark frame: ./images/calibrations/2024-05-03T17-56-00/master_dark_read2_gain4x_1x1.fts\n",
      "INFO:pyscope.reduction.ccd_calib:Loading flat frame: ./images/calibrations/2024-05-03T17-56-00/master_flat_r_read2_gain4x_1x1.fts\n",
      "INFO:pyscope.reduction.ccd_calib:Looping through images...\n",
      "INFO:pyscope.reduction.ccd_calib:Found 1 images\n",
      "INFO:pyscope.reduction.ccd_calib:Calibrating D:\\RLMT\\images\\mjc_mjcMay02_TIC 48217457_r_90s_2024-05-03T07-25-00_wcs.fts...\n",
      "WARNING:pyscope.reduction.ccd_calib:Image readout mode (1MHzHighSensitivity16-bit) does not match dark readout mode (1MHz High Sensitivity 16-bit)\n",
      "WARNING:pyscope.reduction.ccd_calib:Image readout mode (1MHzHighSensitivity16-bit) does not match flat readout mode (1MHz High Sensitivity 16-bit)\n",
      "INFO:pyscope.reduction.ccd_calib:Applying bias frame (CCD selected)...\n",
      "INFO:pyscope.reduction.ccd_calib:Applying the dark frame. CCD selected so a bias-subtracted\n",
      "                            dark frame is scaled by the ratio of the image exposure time over\n",
      "                            the dark exposure time then subtracted from the image.\n",
      "INFO:pyscope.reduction.ccd_calib:Checking if flat frame has a pedestal...\n",
      "INFO:pyscope.reduction.ccd_calib:Normalizing the flat frame by the mean of the entire image.\n",
      "INFO:pyscope.reduction.ccd_calib:flat_mean: 0.9999478043049569\n",
      "INFO:pyscope.reduction.ccd_calib:Applying the flat frame...\n",
      "INFO:pyscope.reduction.ccd_calib:Flooring the calibrated image...\n"
     ]
    },
    {
     "name": "stdout",
     "output_type": "stream",
     "text": [
      "Calibrating D:\\RLMT\\images\\mjc_mjcMay02_TIC 48217457_r_90s_2024-05-03T07-25-00_wcs.fts\n"
     ]
    },
    {
     "name": "stderr",
     "output_type": "stream",
     "text": [
      "INFO:pyscope.reduction.ccd_calib:Adding pedestal of 1000\n",
      "INFO:pyscope.reduction.ccd_calib:Removing hot pixels...\n",
      "INFO:pyscope.reduction.ccd_calib:Clipping to uint16 range...\n",
      "INFO:pyscope.reduction.ccd_calib:Writing calibrated status to header...\n",
      "INFO:pyscope.reduction.ccd_calib:Writing calibrated image to D:\\RLMT\\images\\mjc_mjcMay02_TIC 48217457_r_90s_2024-05-03T07-25-00_wcs.fts\n",
      "INFO:pyscope.reduction.ccd_calib:Done!\n",
      "INFO:pyscope.reduction.ccd_calib:Loading calibration frames...\n",
      "INFO:pyscope.reduction.ccd_calib:Loading bias frame: ./images/calibrations/2024-05-03T17-56-00/master_bias_read2_gain4x_1x1.fts\n",
      "INFO:pyscope.reduction.ccd_calib:Loading dark frame: ./images/calibrations/2024-05-03T17-56-00/master_dark_read2_gain4x_1x1.fts\n",
      "INFO:pyscope.reduction.ccd_calib:Loading flat frame: ./images/calibrations/2024-05-03T17-56-00/master_flat_r_read2_gain4x_1x1.fts\n",
      "INFO:pyscope.reduction.ccd_calib:Looping through images...\n",
      "INFO:pyscope.reduction.ccd_calib:Found 1 images\n",
      "INFO:pyscope.reduction.ccd_calib:Calibrating D:\\RLMT\\images\\mjc_mjcMay02_TIC 48217457_r_90s_2024-05-03T07-26-30_wcs.fts...\n",
      "WARNING:pyscope.reduction.ccd_calib:Image readout mode (1MHzHighSensitivity16-bit) does not match dark readout mode (1MHz High Sensitivity 16-bit)\n",
      "WARNING:pyscope.reduction.ccd_calib:Image readout mode (1MHzHighSensitivity16-bit) does not match flat readout mode (1MHz High Sensitivity 16-bit)\n",
      "INFO:pyscope.reduction.ccd_calib:Applying bias frame (CCD selected)...\n",
      "INFO:pyscope.reduction.ccd_calib:Applying the dark frame. CCD selected so a bias-subtracted\n",
      "                            dark frame is scaled by the ratio of the image exposure time over\n",
      "                            the dark exposure time then subtracted from the image.\n",
      "INFO:pyscope.reduction.ccd_calib:Checking if flat frame has a pedestal...\n"
     ]
    },
    {
     "name": "stdout",
     "output_type": "stream",
     "text": [
      "Calibrating D:\\RLMT\\images\\mjc_mjcMay02_TIC 48217457_r_90s_2024-05-03T07-26-30_wcs.fts\n"
     ]
    },
    {
     "name": "stderr",
     "output_type": "stream",
     "text": [
      "INFO:pyscope.reduction.ccd_calib:Normalizing the flat frame by the mean of the entire image.\n",
      "INFO:pyscope.reduction.ccd_calib:flat_mean: 0.9999478043049569\n",
      "INFO:pyscope.reduction.ccd_calib:Applying the flat frame...\n",
      "INFO:pyscope.reduction.ccd_calib:Flooring the calibrated image...\n",
      "INFO:pyscope.reduction.ccd_calib:Adding pedestal of 1000\n",
      "INFO:pyscope.reduction.ccd_calib:Removing hot pixels...\n",
      "INFO:pyscope.reduction.ccd_calib:Clipping to uint16 range...\n",
      "INFO:pyscope.reduction.ccd_calib:Writing calibrated status to header...\n",
      "INFO:pyscope.reduction.ccd_calib:Writing calibrated image to D:\\RLMT\\images\\mjc_mjcMay02_TIC 48217457_r_90s_2024-05-03T07-26-30_wcs.fts\n",
      "INFO:pyscope.reduction.ccd_calib:Done!\n",
      "INFO:pyscope.reduction.ccd_calib:Loading calibration frames...\n",
      "INFO:pyscope.reduction.ccd_calib:Loading bias frame: ./images/calibrations/2024-05-03T17-56-00/master_bias_read2_gain4x_1x1.fts\n",
      "INFO:pyscope.reduction.ccd_calib:Loading dark frame: ./images/calibrations/2024-05-03T17-56-00/master_dark_read2_gain4x_1x1.fts\n",
      "INFO:pyscope.reduction.ccd_calib:Loading flat frame: ./images/calibrations/2024-05-03T17-56-00/master_flat_r_read2_gain4x_1x1.fts\n",
      "INFO:pyscope.reduction.ccd_calib:Looping through images...\n",
      "INFO:pyscope.reduction.ccd_calib:Found 1 images\n",
      "INFO:pyscope.reduction.ccd_calib:Calibrating D:\\RLMT\\images\\mjc_mjcMay02_TIC 48217457_r_90s_2024-05-03T07-28-00_wcs.fts...\n",
      "WARNING:pyscope.reduction.ccd_calib:Image readout mode (1MHzHighSensitivity16-bit) does not match dark readout mode (1MHz High Sensitivity 16-bit)\n",
      "WARNING:pyscope.reduction.ccd_calib:Image readout mode (1MHzHighSensitivity16-bit) does not match flat readout mode (1MHz High Sensitivity 16-bit)\n",
      "INFO:pyscope.reduction.ccd_calib:Applying bias frame (CCD selected)...\n",
      "INFO:pyscope.reduction.ccd_calib:Applying the dark frame. CCD selected so a bias-subtracted\n",
      "                            dark frame is scaled by the ratio of the image exposure time over\n",
      "                            the dark exposure time then subtracted from the image.\n",
      "INFO:pyscope.reduction.ccd_calib:Checking if flat frame has a pedestal...\n",
      "INFO:pyscope.reduction.ccd_calib:Normalizing the flat frame by the mean of the entire image.\n",
      "INFO:pyscope.reduction.ccd_calib:flat_mean: 0.9999478043049569\n",
      "INFO:pyscope.reduction.ccd_calib:Applying the flat frame...\n"
     ]
    },
    {
     "name": "stdout",
     "output_type": "stream",
     "text": [
      "Calibrating D:\\RLMT\\images\\mjc_mjcMay02_TIC 48217457_r_90s_2024-05-03T07-28-00_wcs.fts\n"
     ]
    },
    {
     "name": "stderr",
     "output_type": "stream",
     "text": [
      "INFO:pyscope.reduction.ccd_calib:Flooring the calibrated image...\n",
      "INFO:pyscope.reduction.ccd_calib:Adding pedestal of 1000\n",
      "INFO:pyscope.reduction.ccd_calib:Removing hot pixels...\n",
      "INFO:pyscope.reduction.ccd_calib:Clipping to uint16 range...\n",
      "INFO:pyscope.reduction.ccd_calib:Writing calibrated status to header...\n",
      "INFO:pyscope.reduction.ccd_calib:Writing calibrated image to D:\\RLMT\\images\\mjc_mjcMay02_TIC 48217457_r_90s_2024-05-03T07-28-00_wcs.fts\n",
      "INFO:pyscope.reduction.ccd_calib:Done!\n",
      "INFO:pyscope.reduction.ccd_calib:Loading calibration frames...\n",
      "INFO:pyscope.reduction.ccd_calib:Loading bias frame: ./images/calibrations/2024-05-03T17-56-00/master_bias_read2_gain4x_1x1.fts\n",
      "INFO:pyscope.reduction.ccd_calib:Loading dark frame: ./images/calibrations/2024-05-03T17-56-00/master_dark_read2_gain4x_1x1.fts\n",
      "INFO:pyscope.reduction.ccd_calib:Loading flat frame: ./images/calibrations/2024-05-03T17-56-00/master_flat_r_read2_gain4x_1x1.fts\n",
      "INFO:pyscope.reduction.ccd_calib:Looping through images...\n",
      "INFO:pyscope.reduction.ccd_calib:Found 1 images\n",
      "INFO:pyscope.reduction.ccd_calib:Calibrating D:\\RLMT\\images\\mjc_mjcMay02_TIC 48217457_r_90s_2024-05-03T07-29-30_wcs.fts...\n",
      "WARNING:pyscope.reduction.ccd_calib:Image readout mode (1MHzHighSensitivity16-bit) does not match dark readout mode (1MHz High Sensitivity 16-bit)\n",
      "WARNING:pyscope.reduction.ccd_calib:Image readout mode (1MHzHighSensitivity16-bit) does not match flat readout mode (1MHz High Sensitivity 16-bit)\n",
      "INFO:pyscope.reduction.ccd_calib:Applying bias frame (CCD selected)...\n",
      "INFO:pyscope.reduction.ccd_calib:Applying the dark frame. CCD selected so a bias-subtracted\n",
      "                            dark frame is scaled by the ratio of the image exposure time over\n",
      "                            the dark exposure time then subtracted from the image.\n",
      "INFO:pyscope.reduction.ccd_calib:Checking if flat frame has a pedestal...\n"
     ]
    },
    {
     "name": "stdout",
     "output_type": "stream",
     "text": [
      "Calibrating D:\\RLMT\\images\\mjc_mjcMay02_TIC 48217457_r_90s_2024-05-03T07-29-30_wcs.fts\n"
     ]
    },
    {
     "name": "stderr",
     "output_type": "stream",
     "text": [
      "INFO:pyscope.reduction.ccd_calib:Normalizing the flat frame by the mean of the entire image.\n",
      "INFO:pyscope.reduction.ccd_calib:flat_mean: 0.9999478043049569\n",
      "INFO:pyscope.reduction.ccd_calib:Applying the flat frame...\n",
      "INFO:pyscope.reduction.ccd_calib:Flooring the calibrated image...\n",
      "INFO:pyscope.reduction.ccd_calib:Adding pedestal of 1000\n",
      "INFO:pyscope.reduction.ccd_calib:Removing hot pixels...\n",
      "INFO:pyscope.reduction.ccd_calib:Clipping to uint16 range...\n",
      "INFO:pyscope.reduction.ccd_calib:Writing calibrated status to header...\n",
      "INFO:pyscope.reduction.ccd_calib:Writing calibrated image to D:\\RLMT\\images\\mjc_mjcMay02_TIC 48217457_r_90s_2024-05-03T07-29-30_wcs.fts\n",
      "INFO:pyscope.reduction.ccd_calib:Done!\n",
      "INFO:pyscope.reduction.ccd_calib:Loading calibration frames...\n",
      "INFO:pyscope.reduction.ccd_calib:Loading bias frame: ./images/calibrations/2024-05-03T17-56-00/master_bias_read2_gain4x_1x1.fts\n",
      "INFO:pyscope.reduction.ccd_calib:Loading dark frame: ./images/calibrations/2024-05-03T17-56-00/master_dark_read2_gain4x_1x1.fts\n",
      "INFO:pyscope.reduction.ccd_calib:Loading flat frame: ./images/calibrations/2024-05-03T17-56-00/master_flat_r_read2_gain4x_1x1.fts\n",
      "INFO:pyscope.reduction.ccd_calib:Looping through images...\n",
      "INFO:pyscope.reduction.ccd_calib:Found 1 images\n",
      "INFO:pyscope.reduction.ccd_calib:Calibrating D:\\RLMT\\images\\mjc_mjcMay02_TIC 48217457_r_90s_2024-05-03T07-31-00_wcs.fts...\n",
      "WARNING:pyscope.reduction.ccd_calib:Image readout mode (1MHzHighSensitivity16-bit) does not match dark readout mode (1MHz High Sensitivity 16-bit)\n",
      "WARNING:pyscope.reduction.ccd_calib:Image readout mode (1MHzHighSensitivity16-bit) does not match flat readout mode (1MHz High Sensitivity 16-bit)\n",
      "INFO:pyscope.reduction.ccd_calib:Applying bias frame (CCD selected)...\n",
      "INFO:pyscope.reduction.ccd_calib:Applying the dark frame. CCD selected so a bias-subtracted\n",
      "                            dark frame is scaled by the ratio of the image exposure time over\n",
      "                            the dark exposure time then subtracted from the image.\n",
      "INFO:pyscope.reduction.ccd_calib:Checking if flat frame has a pedestal...\n"
     ]
    },
    {
     "name": "stdout",
     "output_type": "stream",
     "text": [
      "Calibrating D:\\RLMT\\images\\mjc_mjcMay02_TIC 48217457_r_90s_2024-05-03T07-31-00_wcs.fts\n"
     ]
    },
    {
     "name": "stderr",
     "output_type": "stream",
     "text": [
      "INFO:pyscope.reduction.ccd_calib:Normalizing the flat frame by the mean of the entire image.\n",
      "INFO:pyscope.reduction.ccd_calib:flat_mean: 0.9999478043049569\n",
      "INFO:pyscope.reduction.ccd_calib:Applying the flat frame...\n",
      "INFO:pyscope.reduction.ccd_calib:Flooring the calibrated image...\n",
      "INFO:pyscope.reduction.ccd_calib:Adding pedestal of 1000\n",
      "INFO:pyscope.reduction.ccd_calib:Removing hot pixels...\n",
      "INFO:pyscope.reduction.ccd_calib:Clipping to uint16 range...\n",
      "INFO:pyscope.reduction.ccd_calib:Writing calibrated status to header...\n",
      "INFO:pyscope.reduction.ccd_calib:Writing calibrated image to D:\\RLMT\\images\\mjc_mjcMay02_TIC 48217457_r_90s_2024-05-03T07-31-00_wcs.fts\n",
      "INFO:pyscope.reduction.ccd_calib:Done!\n",
      "INFO:pyscope.reduction.ccd_calib:Loading calibration frames...\n",
      "INFO:pyscope.reduction.ccd_calib:Loading bias frame: ./images/calibrations/2024-05-03T17-56-00/master_bias_read2_gain4x_1x1.fts\n",
      "INFO:pyscope.reduction.ccd_calib:Loading dark frame: ./images/calibrations/2024-05-03T17-56-00/master_dark_read2_gain4x_1x1.fts\n",
      "INFO:pyscope.reduction.ccd_calib:Loading flat frame: ./images/calibrations/2024-05-03T17-56-00/master_flat_r_read2_gain4x_1x1.fts\n",
      "INFO:pyscope.reduction.ccd_calib:Looping through images...\n",
      "INFO:pyscope.reduction.ccd_calib:Found 1 images\n",
      "INFO:pyscope.reduction.ccd_calib:Calibrating D:\\RLMT\\images\\mjc_mjcMay02_TIC 48217457_r_90s_2024-05-03T07-32-30_wcs.fts...\n",
      "WARNING:pyscope.reduction.ccd_calib:Image readout mode (1MHzHighSensitivity16-bit) does not match dark readout mode (1MHz High Sensitivity 16-bit)\n",
      "WARNING:pyscope.reduction.ccd_calib:Image readout mode (1MHzHighSensitivity16-bit) does not match flat readout mode (1MHz High Sensitivity 16-bit)\n",
      "INFO:pyscope.reduction.ccd_calib:Applying bias frame (CCD selected)...\n",
      "INFO:pyscope.reduction.ccd_calib:Applying the dark frame. CCD selected so a bias-subtracted\n",
      "                            dark frame is scaled by the ratio of the image exposure time over\n",
      "                            the dark exposure time then subtracted from the image.\n",
      "INFO:pyscope.reduction.ccd_calib:Checking if flat frame has a pedestal...\n"
     ]
    },
    {
     "name": "stdout",
     "output_type": "stream",
     "text": [
      "Calibrating D:\\RLMT\\images\\mjc_mjcMay02_TIC 48217457_r_90s_2024-05-03T07-32-30_wcs.fts\n"
     ]
    },
    {
     "name": "stderr",
     "output_type": "stream",
     "text": [
      "INFO:pyscope.reduction.ccd_calib:Normalizing the flat frame by the mean of the entire image.\n",
      "INFO:pyscope.reduction.ccd_calib:flat_mean: 0.9999478043049569\n",
      "INFO:pyscope.reduction.ccd_calib:Applying the flat frame...\n",
      "INFO:pyscope.reduction.ccd_calib:Flooring the calibrated image...\n",
      "INFO:pyscope.reduction.ccd_calib:Adding pedestal of 1000\n",
      "INFO:pyscope.reduction.ccd_calib:Removing hot pixels...\n",
      "INFO:pyscope.reduction.ccd_calib:Clipping to uint16 range...\n",
      "INFO:pyscope.reduction.ccd_calib:Writing calibrated status to header...\n",
      "INFO:pyscope.reduction.ccd_calib:Writing calibrated image to D:\\RLMT\\images\\mjc_mjcMay02_TIC 48217457_r_90s_2024-05-03T07-32-30_wcs.fts\n",
      "INFO:pyscope.reduction.ccd_calib:Done!\n",
      "INFO:pyscope.reduction.ccd_calib:Loading calibration frames...\n",
      "INFO:pyscope.reduction.ccd_calib:Loading bias frame: ./images/calibrations/2024-05-03T17-56-00/master_bias_read2_gain4x_1x1.fts\n",
      "INFO:pyscope.reduction.ccd_calib:Loading dark frame: ./images/calibrations/2024-05-03T17-56-00/master_dark_read2_gain4x_1x1.fts\n",
      "INFO:pyscope.reduction.ccd_calib:Loading flat frame: ./images/calibrations/2024-05-03T17-56-00/master_flat_r_read2_gain4x_1x1.fts\n",
      "INFO:pyscope.reduction.ccd_calib:Looping through images...\n",
      "INFO:pyscope.reduction.ccd_calib:Found 1 images\n",
      "INFO:pyscope.reduction.ccd_calib:Calibrating D:\\RLMT\\images\\mjc_mjcMay02_TIC 48217457_r_90s_2024-05-03T07-34-00_wcs.fts...\n",
      "WARNING:pyscope.reduction.ccd_calib:Image readout mode (1MHzHighSensitivity16-bit) does not match dark readout mode (1MHz High Sensitivity 16-bit)\n",
      "WARNING:pyscope.reduction.ccd_calib:Image readout mode (1MHzHighSensitivity16-bit) does not match flat readout mode (1MHz High Sensitivity 16-bit)\n",
      "INFO:pyscope.reduction.ccd_calib:Applying bias frame (CCD selected)...\n",
      "INFO:pyscope.reduction.ccd_calib:Applying the dark frame. CCD selected so a bias-subtracted\n",
      "                            dark frame is scaled by the ratio of the image exposure time over\n",
      "                            the dark exposure time then subtracted from the image.\n",
      "INFO:pyscope.reduction.ccd_calib:Checking if flat frame has a pedestal...\n"
     ]
    },
    {
     "name": "stdout",
     "output_type": "stream",
     "text": [
      "Calibrating D:\\RLMT\\images\\mjc_mjcMay02_TIC 48217457_r_90s_2024-05-03T07-34-00_wcs.fts\n"
     ]
    },
    {
     "name": "stderr",
     "output_type": "stream",
     "text": [
      "INFO:pyscope.reduction.ccd_calib:Normalizing the flat frame by the mean of the entire image.\n",
      "INFO:pyscope.reduction.ccd_calib:flat_mean: 0.9999478043049569\n",
      "INFO:pyscope.reduction.ccd_calib:Applying the flat frame...\n",
      "INFO:pyscope.reduction.ccd_calib:Flooring the calibrated image...\n",
      "INFO:pyscope.reduction.ccd_calib:Adding pedestal of 1000\n",
      "INFO:pyscope.reduction.ccd_calib:Removing hot pixels...\n",
      "INFO:pyscope.reduction.ccd_calib:Clipping to uint16 range...\n",
      "INFO:pyscope.reduction.ccd_calib:Writing calibrated status to header...\n",
      "INFO:pyscope.reduction.ccd_calib:Writing calibrated image to D:\\RLMT\\images\\mjc_mjcMay02_TIC 48217457_r_90s_2024-05-03T07-34-00_wcs.fts\n",
      "INFO:pyscope.reduction.ccd_calib:Done!\n",
      "INFO:pyscope.reduction.ccd_calib:Loading calibration frames...\n",
      "INFO:pyscope.reduction.ccd_calib:Loading bias frame: ./images/calibrations/2024-05-03T17-56-00/master_bias_read2_gain4x_1x1.fts\n",
      "INFO:pyscope.reduction.ccd_calib:Loading dark frame: ./images/calibrations/2024-05-03T17-56-00/master_dark_read2_gain4x_1x1.fts\n",
      "INFO:pyscope.reduction.ccd_calib:Loading flat frame: ./images/calibrations/2024-05-03T17-56-00/master_flat_r_read2_gain4x_1x1.fts\n",
      "INFO:pyscope.reduction.ccd_calib:Looping through images...\n",
      "INFO:pyscope.reduction.ccd_calib:Found 1 images\n",
      "INFO:pyscope.reduction.ccd_calib:Calibrating D:\\RLMT\\images\\mjc_mjcMay02_TIC 48217457_r_90s_2024-05-03T07-35-30_wcs.fts...\n",
      "WARNING:pyscope.reduction.ccd_calib:Image readout mode (1MHzHighSensitivity16-bit) does not match dark readout mode (1MHz High Sensitivity 16-bit)\n",
      "WARNING:pyscope.reduction.ccd_calib:Image readout mode (1MHzHighSensitivity16-bit) does not match flat readout mode (1MHz High Sensitivity 16-bit)\n",
      "INFO:pyscope.reduction.ccd_calib:Applying bias frame (CCD selected)...\n",
      "INFO:pyscope.reduction.ccd_calib:Applying the dark frame. CCD selected so a bias-subtracted\n",
      "                            dark frame is scaled by the ratio of the image exposure time over\n",
      "                            the dark exposure time then subtracted from the image.\n",
      "INFO:pyscope.reduction.ccd_calib:Checking if flat frame has a pedestal...\n",
      "INFO:pyscope.reduction.ccd_calib:Normalizing the flat frame by the mean of the entire image.\n",
      "INFO:pyscope.reduction.ccd_calib:flat_mean: 0.9999478043049569\n",
      "INFO:pyscope.reduction.ccd_calib:Applying the flat frame...\n"
     ]
    },
    {
     "name": "stdout",
     "output_type": "stream",
     "text": [
      "Calibrating D:\\RLMT\\images\\mjc_mjcMay02_TIC 48217457_r_90s_2024-05-03T07-35-30_wcs.fts\n"
     ]
    },
    {
     "name": "stderr",
     "output_type": "stream",
     "text": [
      "INFO:pyscope.reduction.ccd_calib:Flooring the calibrated image...\n",
      "INFO:pyscope.reduction.ccd_calib:Adding pedestal of 1000\n",
      "INFO:pyscope.reduction.ccd_calib:Removing hot pixels...\n",
      "INFO:pyscope.reduction.ccd_calib:Clipping to uint16 range...\n",
      "INFO:pyscope.reduction.ccd_calib:Writing calibrated status to header...\n",
      "INFO:pyscope.reduction.ccd_calib:Writing calibrated image to D:\\RLMT\\images\\mjc_mjcMay02_TIC 48217457_r_90s_2024-05-03T07-35-30_wcs.fts\n",
      "INFO:pyscope.reduction.ccd_calib:Done!\n",
      "INFO:pyscope.reduction.ccd_calib:Loading calibration frames...\n",
      "INFO:pyscope.reduction.ccd_calib:Loading bias frame: ./images/calibrations/2024-05-03T17-56-00/master_bias_read2_gain4x_1x1.fts\n",
      "INFO:pyscope.reduction.ccd_calib:Loading dark frame: ./images/calibrations/2024-05-03T17-56-00/master_dark_read2_gain4x_1x1.fts\n",
      "INFO:pyscope.reduction.ccd_calib:Loading flat frame: ./images/calibrations/2024-05-03T17-56-00/master_flat_r_read2_gain4x_1x1.fts\n",
      "INFO:pyscope.reduction.ccd_calib:Looping through images...\n",
      "INFO:pyscope.reduction.ccd_calib:Found 1 images\n",
      "INFO:pyscope.reduction.ccd_calib:Calibrating D:\\RLMT\\images\\mjc_mjcMay02_TIC 48217457_r_90s_2024-05-03T07-37-00_wcs.fts...\n",
      "WARNING:pyscope.reduction.ccd_calib:Image readout mode (1MHzHighSensitivity16-bit) does not match dark readout mode (1MHz High Sensitivity 16-bit)\n",
      "WARNING:pyscope.reduction.ccd_calib:Image readout mode (1MHzHighSensitivity16-bit) does not match flat readout mode (1MHz High Sensitivity 16-bit)\n",
      "INFO:pyscope.reduction.ccd_calib:Applying bias frame (CCD selected)...\n",
      "INFO:pyscope.reduction.ccd_calib:Applying the dark frame. CCD selected so a bias-subtracted\n",
      "                            dark frame is scaled by the ratio of the image exposure time over\n",
      "                            the dark exposure time then subtracted from the image.\n",
      "INFO:pyscope.reduction.ccd_calib:Checking if flat frame has a pedestal...\n",
      "INFO:pyscope.reduction.ccd_calib:Normalizing the flat frame by the mean of the entire image.\n",
      "INFO:pyscope.reduction.ccd_calib:flat_mean: 0.9999478043049569\n",
      "INFO:pyscope.reduction.ccd_calib:Applying the flat frame...\n"
     ]
    },
    {
     "name": "stdout",
     "output_type": "stream",
     "text": [
      "Calibrating D:\\RLMT\\images\\mjc_mjcMay02_TIC 48217457_r_90s_2024-05-03T07-37-00_wcs.fts\n"
     ]
    },
    {
     "name": "stderr",
     "output_type": "stream",
     "text": [
      "INFO:pyscope.reduction.ccd_calib:Flooring the calibrated image...\n",
      "INFO:pyscope.reduction.ccd_calib:Adding pedestal of 1000\n",
      "INFO:pyscope.reduction.ccd_calib:Removing hot pixels...\n",
      "INFO:pyscope.reduction.ccd_calib:Clipping to uint16 range...\n",
      "INFO:pyscope.reduction.ccd_calib:Writing calibrated status to header...\n",
      "INFO:pyscope.reduction.ccd_calib:Writing calibrated image to D:\\RLMT\\images\\mjc_mjcMay02_TIC 48217457_r_90s_2024-05-03T07-37-00_wcs.fts\n",
      "INFO:pyscope.reduction.ccd_calib:Done!\n",
      "INFO:pyscope.reduction.ccd_calib:Loading calibration frames...\n",
      "INFO:pyscope.reduction.ccd_calib:Loading bias frame: ./images/calibrations/2024-05-03T17-56-00/master_bias_read2_gain4x_1x1.fts\n",
      "INFO:pyscope.reduction.ccd_calib:Loading dark frame: ./images/calibrations/2024-05-03T17-56-00/master_dark_read2_gain4x_1x1.fts\n",
      "INFO:pyscope.reduction.ccd_calib:Loading flat frame: ./images/calibrations/2024-05-03T17-56-00/master_flat_r_read2_gain4x_1x1.fts\n",
      "INFO:pyscope.reduction.ccd_calib:Looping through images...\n",
      "INFO:pyscope.reduction.ccd_calib:Found 1 images\n",
      "INFO:pyscope.reduction.ccd_calib:Calibrating D:\\RLMT\\images\\mjc_mjcMay02_TIC 48217457_r_90s_2024-05-03T07-38-30_wcs.fts...\n",
      "WARNING:pyscope.reduction.ccd_calib:Image readout mode (1MHzHighSensitivity16-bit) does not match dark readout mode (1MHz High Sensitivity 16-bit)\n",
      "WARNING:pyscope.reduction.ccd_calib:Image readout mode (1MHzHighSensitivity16-bit) does not match flat readout mode (1MHz High Sensitivity 16-bit)\n",
      "INFO:pyscope.reduction.ccd_calib:Applying bias frame (CCD selected)...\n",
      "INFO:pyscope.reduction.ccd_calib:Applying the dark frame. CCD selected so a bias-subtracted\n",
      "                            dark frame is scaled by the ratio of the image exposure time over\n",
      "                            the dark exposure time then subtracted from the image.\n",
      "INFO:pyscope.reduction.ccd_calib:Checking if flat frame has a pedestal...\n",
      "INFO:pyscope.reduction.ccd_calib:Normalizing the flat frame by the mean of the entire image.\n",
      "INFO:pyscope.reduction.ccd_calib:flat_mean: 0.9999478043049569\n"
     ]
    },
    {
     "name": "stdout",
     "output_type": "stream",
     "text": [
      "Calibrating D:\\RLMT\\images\\mjc_mjcMay02_TIC 48217457_r_90s_2024-05-03T07-38-30_wcs.fts\n"
     ]
    },
    {
     "name": "stderr",
     "output_type": "stream",
     "text": [
      "INFO:pyscope.reduction.ccd_calib:Applying the flat frame...\n",
      "INFO:pyscope.reduction.ccd_calib:Flooring the calibrated image...\n",
      "INFO:pyscope.reduction.ccd_calib:Adding pedestal of 1000\n",
      "INFO:pyscope.reduction.ccd_calib:Removing hot pixels...\n",
      "INFO:pyscope.reduction.ccd_calib:Clipping to uint16 range...\n",
      "INFO:pyscope.reduction.ccd_calib:Writing calibrated status to header...\n",
      "INFO:pyscope.reduction.ccd_calib:Writing calibrated image to D:\\RLMT\\images\\mjc_mjcMay02_TIC 48217457_r_90s_2024-05-03T07-38-30_wcs.fts\n",
      "INFO:pyscope.reduction.ccd_calib:Done!\n",
      "INFO:pyscope.reduction.ccd_calib:Loading calibration frames...\n",
      "INFO:pyscope.reduction.ccd_calib:Loading bias frame: ./images/calibrations/2024-05-03T17-56-00/master_bias_read2_gain4x_1x1.fts\n",
      "INFO:pyscope.reduction.ccd_calib:Loading dark frame: ./images/calibrations/2024-05-03T17-56-00/master_dark_read2_gain4x_1x1.fts\n",
      "INFO:pyscope.reduction.ccd_calib:Loading flat frame: ./images/calibrations/2024-05-03T17-56-00/master_flat_r_read2_gain4x_1x1.fts\n",
      "INFO:pyscope.reduction.ccd_calib:Looping through images...\n",
      "INFO:pyscope.reduction.ccd_calib:Found 1 images\n",
      "INFO:pyscope.reduction.ccd_calib:Calibrating D:\\RLMT\\images\\mjc_mjcMay02_TIC 48217457_r_90s_2024-05-03T07-40-00_wcs.fts...\n",
      "WARNING:pyscope.reduction.ccd_calib:Image readout mode (1MHzHighSensitivity16-bit) does not match dark readout mode (1MHz High Sensitivity 16-bit)\n",
      "WARNING:pyscope.reduction.ccd_calib:Image readout mode (1MHzHighSensitivity16-bit) does not match flat readout mode (1MHz High Sensitivity 16-bit)\n",
      "INFO:pyscope.reduction.ccd_calib:Applying bias frame (CCD selected)...\n",
      "INFO:pyscope.reduction.ccd_calib:Applying the dark frame. CCD selected so a bias-subtracted\n",
      "                            dark frame is scaled by the ratio of the image exposure time over\n",
      "                            the dark exposure time then subtracted from the image.\n",
      "INFO:pyscope.reduction.ccd_calib:Checking if flat frame has a pedestal...\n"
     ]
    },
    {
     "name": "stdout",
     "output_type": "stream",
     "text": [
      "Calibrating D:\\RLMT\\images\\mjc_mjcMay02_TIC 48217457_r_90s_2024-05-03T07-40-00_wcs.fts\n"
     ]
    },
    {
     "name": "stderr",
     "output_type": "stream",
     "text": [
      "INFO:pyscope.reduction.ccd_calib:Normalizing the flat frame by the mean of the entire image.\n",
      "INFO:pyscope.reduction.ccd_calib:flat_mean: 0.9999478043049569\n",
      "INFO:pyscope.reduction.ccd_calib:Applying the flat frame...\n",
      "INFO:pyscope.reduction.ccd_calib:Flooring the calibrated image...\n",
      "INFO:pyscope.reduction.ccd_calib:Adding pedestal of 1000\n",
      "INFO:pyscope.reduction.ccd_calib:Removing hot pixels...\n",
      "INFO:pyscope.reduction.ccd_calib:Clipping to uint16 range...\n",
      "INFO:pyscope.reduction.ccd_calib:Writing calibrated status to header...\n",
      "INFO:pyscope.reduction.ccd_calib:Writing calibrated image to D:\\RLMT\\images\\mjc_mjcMay02_TIC 48217457_r_90s_2024-05-03T07-40-00_wcs.fts\n",
      "INFO:pyscope.reduction.ccd_calib:Done!\n",
      "INFO:pyscope.reduction.ccd_calib:Loading calibration frames...\n",
      "INFO:pyscope.reduction.ccd_calib:Loading bias frame: ./images/calibrations/2024-05-03T17-56-00/master_bias_read2_gain4x_1x1.fts\n",
      "INFO:pyscope.reduction.ccd_calib:Loading dark frame: ./images/calibrations/2024-05-03T17-56-00/master_dark_read2_gain4x_1x1.fts\n",
      "INFO:pyscope.reduction.ccd_calib:Loading flat frame: ./images/calibrations/2024-05-03T17-56-00/master_flat_r_read2_gain4x_1x1.fts\n",
      "INFO:pyscope.reduction.ccd_calib:Looping through images...\n",
      "INFO:pyscope.reduction.ccd_calib:Found 1 images\n",
      "INFO:pyscope.reduction.ccd_calib:Calibrating D:\\RLMT\\images\\mjc_mjcMay02_TIC 48217457_r_90s_2024-05-03T07-41-30_wcs.fts...\n"
     ]
    },
    {
     "name": "stdout",
     "output_type": "stream",
     "text": [
      "Calibrating D:\\RLMT\\images\\mjc_mjcMay02_TIC 48217457_r_90s_2024-05-03T07-41-30_wcs.fts\n"
     ]
    },
    {
     "name": "stderr",
     "output_type": "stream",
     "text": [
      "WARNING:pyscope.reduction.ccd_calib:Image readout mode (1MHzHighSensitivity16-bit) does not match dark readout mode (1MHz High Sensitivity 16-bit)\n",
      "WARNING:pyscope.reduction.ccd_calib:Image readout mode (1MHzHighSensitivity16-bit) does not match flat readout mode (1MHz High Sensitivity 16-bit)\n",
      "INFO:pyscope.reduction.ccd_calib:Applying bias frame (CCD selected)...\n",
      "INFO:pyscope.reduction.ccd_calib:Applying the dark frame. CCD selected so a bias-subtracted\n",
      "                            dark frame is scaled by the ratio of the image exposure time over\n",
      "                            the dark exposure time then subtracted from the image.\n",
      "INFO:pyscope.reduction.ccd_calib:Checking if flat frame has a pedestal...\n",
      "INFO:pyscope.reduction.ccd_calib:Normalizing the flat frame by the mean of the entire image.\n",
      "INFO:pyscope.reduction.ccd_calib:flat_mean: 0.9999478043049569\n",
      "INFO:pyscope.reduction.ccd_calib:Applying the flat frame...\n",
      "INFO:pyscope.reduction.ccd_calib:Flooring the calibrated image...\n",
      "INFO:pyscope.reduction.ccd_calib:Adding pedestal of 1000\n",
      "INFO:pyscope.reduction.ccd_calib:Removing hot pixels...\n",
      "INFO:pyscope.reduction.ccd_calib:Clipping to uint16 range...\n",
      "INFO:pyscope.reduction.ccd_calib:Writing calibrated status to header...\n",
      "INFO:pyscope.reduction.ccd_calib:Writing calibrated image to D:\\RLMT\\images\\mjc_mjcMay02_TIC 48217457_r_90s_2024-05-03T07-41-30_wcs.fts\n",
      "INFO:pyscope.reduction.ccd_calib:Done!\n",
      "INFO:pyscope.reduction.ccd_calib:Loading calibration frames...\n",
      "INFO:pyscope.reduction.ccd_calib:Loading bias frame: ./images/calibrations/2024-05-03T17-56-00/master_bias_read2_gain4x_1x1.fts\n",
      "INFO:pyscope.reduction.ccd_calib:Loading dark frame: ./images/calibrations/2024-05-03T17-56-00/master_dark_read2_gain4x_1x1.fts\n",
      "INFO:pyscope.reduction.ccd_calib:Loading flat frame: ./images/calibrations/2024-05-03T17-56-00/master_flat_r_read2_gain4x_1x1.fts\n",
      "INFO:pyscope.reduction.ccd_calib:Looping through images...\n",
      "INFO:pyscope.reduction.ccd_calib:Found 1 images\n",
      "INFO:pyscope.reduction.ccd_calib:Calibrating D:\\RLMT\\images\\mjc_mjcMay02_TIC 48217457_r_90s_2024-05-03T07-43-00_wcs.fts...\n",
      "WARNING:pyscope.reduction.ccd_calib:Image readout mode (1MHzHighSensitivity16-bit) does not match dark readout mode (1MHz High Sensitivity 16-bit)\n",
      "WARNING:pyscope.reduction.ccd_calib:Image readout mode (1MHzHighSensitivity16-bit) does not match flat readout mode (1MHz High Sensitivity 16-bit)\n",
      "INFO:pyscope.reduction.ccd_calib:Applying bias frame (CCD selected)...\n",
      "INFO:pyscope.reduction.ccd_calib:Applying the dark frame. CCD selected so a bias-subtracted\n",
      "                            dark frame is scaled by the ratio of the image exposure time over\n",
      "                            the dark exposure time then subtracted from the image.\n",
      "INFO:pyscope.reduction.ccd_calib:Checking if flat frame has a pedestal...\n",
      "INFO:pyscope.reduction.ccd_calib:Normalizing the flat frame by the mean of the entire image.\n",
      "INFO:pyscope.reduction.ccd_calib:flat_mean: 0.9999478043049569\n"
     ]
    },
    {
     "name": "stdout",
     "output_type": "stream",
     "text": [
      "Calibrating D:\\RLMT\\images\\mjc_mjcMay02_TIC 48217457_r_90s_2024-05-03T07-43-00_wcs.fts\n"
     ]
    },
    {
     "name": "stderr",
     "output_type": "stream",
     "text": [
      "INFO:pyscope.reduction.ccd_calib:Applying the flat frame...\n",
      "INFO:pyscope.reduction.ccd_calib:Flooring the calibrated image...\n",
      "INFO:pyscope.reduction.ccd_calib:Adding pedestal of 1000\n",
      "INFO:pyscope.reduction.ccd_calib:Removing hot pixels...\n",
      "INFO:pyscope.reduction.ccd_calib:Clipping to uint16 range...\n",
      "INFO:pyscope.reduction.ccd_calib:Writing calibrated status to header...\n",
      "INFO:pyscope.reduction.ccd_calib:Writing calibrated image to D:\\RLMT\\images\\mjc_mjcMay02_TIC 48217457_r_90s_2024-05-03T07-43-00_wcs.fts\n",
      "INFO:pyscope.reduction.ccd_calib:Done!\n",
      "INFO:pyscope.reduction.ccd_calib:Loading calibration frames...\n",
      "INFO:pyscope.reduction.ccd_calib:Loading bias frame: ./images/calibrations/2024-05-03T17-56-00/master_bias_read2_gain4x_1x1.fts\n",
      "INFO:pyscope.reduction.ccd_calib:Loading dark frame: ./images/calibrations/2024-05-03T17-56-00/master_dark_read2_gain4x_1x1.fts\n",
      "INFO:pyscope.reduction.ccd_calib:Loading flat frame: ./images/calibrations/2024-05-03T17-56-00/master_flat_r_read2_gain4x_1x1.fts\n",
      "INFO:pyscope.reduction.ccd_calib:Looping through images...\n",
      "INFO:pyscope.reduction.ccd_calib:Found 1 images\n",
      "INFO:pyscope.reduction.ccd_calib:Calibrating D:\\RLMT\\images\\mjc_mjcMay02_TIC 48217457_r_90s_2024-05-03T07-44-30_wcs.fts...\n",
      "WARNING:pyscope.reduction.ccd_calib:Image readout mode (1MHzHighSensitivity16-bit) does not match dark readout mode (1MHz High Sensitivity 16-bit)\n",
      "WARNING:pyscope.reduction.ccd_calib:Image readout mode (1MHzHighSensitivity16-bit) does not match flat readout mode (1MHz High Sensitivity 16-bit)\n",
      "INFO:pyscope.reduction.ccd_calib:Applying bias frame (CCD selected)...\n",
      "INFO:pyscope.reduction.ccd_calib:Applying the dark frame. CCD selected so a bias-subtracted\n",
      "                            dark frame is scaled by the ratio of the image exposure time over\n",
      "                            the dark exposure time then subtracted from the image.\n",
      "INFO:pyscope.reduction.ccd_calib:Checking if flat frame has a pedestal...\n",
      "INFO:pyscope.reduction.ccd_calib:Normalizing the flat frame by the mean of the entire image.\n",
      "INFO:pyscope.reduction.ccd_calib:flat_mean: 0.9999478043049569\n"
     ]
    },
    {
     "name": "stdout",
     "output_type": "stream",
     "text": [
      "Calibrating D:\\RLMT\\images\\mjc_mjcMay02_TIC 48217457_r_90s_2024-05-03T07-44-30_wcs.fts\n"
     ]
    },
    {
     "name": "stderr",
     "output_type": "stream",
     "text": [
      "INFO:pyscope.reduction.ccd_calib:Applying the flat frame...\n",
      "INFO:pyscope.reduction.ccd_calib:Flooring the calibrated image...\n",
      "INFO:pyscope.reduction.ccd_calib:Adding pedestal of 1000\n",
      "INFO:pyscope.reduction.ccd_calib:Removing hot pixels...\n",
      "INFO:pyscope.reduction.ccd_calib:Clipping to uint16 range...\n",
      "INFO:pyscope.reduction.ccd_calib:Writing calibrated status to header...\n",
      "INFO:pyscope.reduction.ccd_calib:Writing calibrated image to D:\\RLMT\\images\\mjc_mjcMay02_TIC 48217457_r_90s_2024-05-03T07-44-30_wcs.fts\n",
      "INFO:pyscope.reduction.ccd_calib:Done!\n",
      "INFO:pyscope.reduction.ccd_calib:Loading calibration frames...\n",
      "INFO:pyscope.reduction.ccd_calib:Loading bias frame: ./images/calibrations/2024-05-03T17-56-00/master_bias_read2_gain4x_1x1.fts\n",
      "INFO:pyscope.reduction.ccd_calib:Loading dark frame: ./images/calibrations/2024-05-03T17-56-00/master_dark_read2_gain4x_1x1.fts\n",
      "INFO:pyscope.reduction.ccd_calib:Loading flat frame: ./images/calibrations/2024-05-03T17-56-00/master_flat_r_read2_gain4x_1x1.fts\n",
      "INFO:pyscope.reduction.ccd_calib:Looping through images...\n",
      "INFO:pyscope.reduction.ccd_calib:Found 1 images\n",
      "INFO:pyscope.reduction.ccd_calib:Calibrating D:\\RLMT\\images\\mjc_mjcMay02_TIC 48217457_r_90s_2024-05-03T07-46-00_wcs.fts...\n",
      "WARNING:pyscope.reduction.ccd_calib:Image readout mode (1MHzHighSensitivity16-bit) does not match dark readout mode (1MHz High Sensitivity 16-bit)\n",
      "WARNING:pyscope.reduction.ccd_calib:Image readout mode (1MHzHighSensitivity16-bit) does not match flat readout mode (1MHz High Sensitivity 16-bit)\n",
      "INFO:pyscope.reduction.ccd_calib:Applying bias frame (CCD selected)...\n",
      "INFO:pyscope.reduction.ccd_calib:Applying the dark frame. CCD selected so a bias-subtracted\n",
      "                            dark frame is scaled by the ratio of the image exposure time over\n",
      "                            the dark exposure time then subtracted from the image.\n",
      "INFO:pyscope.reduction.ccd_calib:Checking if flat frame has a pedestal...\n",
      "INFO:pyscope.reduction.ccd_calib:Normalizing the flat frame by the mean of the entire image.\n",
      "INFO:pyscope.reduction.ccd_calib:flat_mean: 0.9999478043049569\n",
      "INFO:pyscope.reduction.ccd_calib:Applying the flat frame...\n"
     ]
    },
    {
     "name": "stdout",
     "output_type": "stream",
     "text": [
      "Calibrating D:\\RLMT\\images\\mjc_mjcMay02_TIC 48217457_r_90s_2024-05-03T07-46-00_wcs.fts\n"
     ]
    },
    {
     "name": "stderr",
     "output_type": "stream",
     "text": [
      "INFO:pyscope.reduction.ccd_calib:Flooring the calibrated image...\n",
      "INFO:pyscope.reduction.ccd_calib:Adding pedestal of 1000\n",
      "INFO:pyscope.reduction.ccd_calib:Removing hot pixels...\n",
      "INFO:pyscope.reduction.ccd_calib:Clipping to uint16 range...\n",
      "INFO:pyscope.reduction.ccd_calib:Writing calibrated status to header...\n",
      "INFO:pyscope.reduction.ccd_calib:Writing calibrated image to D:\\RLMT\\images\\mjc_mjcMay02_TIC 48217457_r_90s_2024-05-03T07-46-00_wcs.fts\n",
      "INFO:pyscope.reduction.ccd_calib:Done!\n",
      "INFO:pyscope.reduction.ccd_calib:Loading calibration frames...\n",
      "INFO:pyscope.reduction.ccd_calib:Loading bias frame: ./images/calibrations/2024-05-03T17-56-00/master_bias_read2_gain4x_1x1.fts\n",
      "INFO:pyscope.reduction.ccd_calib:Loading dark frame: ./images/calibrations/2024-05-03T17-56-00/master_dark_read2_gain4x_1x1.fts\n",
      "INFO:pyscope.reduction.ccd_calib:Loading flat frame: ./images/calibrations/2024-05-03T17-56-00/master_flat_r_read2_gain4x_1x1.fts\n",
      "INFO:pyscope.reduction.ccd_calib:Looping through images...\n",
      "INFO:pyscope.reduction.ccd_calib:Found 1 images\n",
      "INFO:pyscope.reduction.ccd_calib:Calibrating D:\\RLMT\\images\\mjc_mjcMay02_TIC 48217457_r_90s_2024-05-03T07-47-30_wcs.fts...\n",
      "WARNING:pyscope.reduction.ccd_calib:Image readout mode (1MHzHighSensitivity16-bit) does not match dark readout mode (1MHz High Sensitivity 16-bit)\n",
      "WARNING:pyscope.reduction.ccd_calib:Image readout mode (1MHzHighSensitivity16-bit) does not match flat readout mode (1MHz High Sensitivity 16-bit)\n",
      "INFO:pyscope.reduction.ccd_calib:Applying bias frame (CCD selected)...\n",
      "INFO:pyscope.reduction.ccd_calib:Applying the dark frame. CCD selected so a bias-subtracted\n",
      "                            dark frame is scaled by the ratio of the image exposure time over\n",
      "                            the dark exposure time then subtracted from the image.\n",
      "INFO:pyscope.reduction.ccd_calib:Checking if flat frame has a pedestal...\n",
      "INFO:pyscope.reduction.ccd_calib:Normalizing the flat frame by the mean of the entire image.\n",
      "INFO:pyscope.reduction.ccd_calib:flat_mean: 0.9999478043049569\n",
      "INFO:pyscope.reduction.ccd_calib:Applying the flat frame...\n"
     ]
    },
    {
     "name": "stdout",
     "output_type": "stream",
     "text": [
      "Calibrating D:\\RLMT\\images\\mjc_mjcMay02_TIC 48217457_r_90s_2024-05-03T07-47-30_wcs.fts\n"
     ]
    },
    {
     "name": "stderr",
     "output_type": "stream",
     "text": [
      "INFO:pyscope.reduction.ccd_calib:Flooring the calibrated image...\n",
      "INFO:pyscope.reduction.ccd_calib:Adding pedestal of 1000\n",
      "INFO:pyscope.reduction.ccd_calib:Removing hot pixels...\n",
      "INFO:pyscope.reduction.ccd_calib:Clipping to uint16 range...\n",
      "INFO:pyscope.reduction.ccd_calib:Writing calibrated status to header...\n",
      "INFO:pyscope.reduction.ccd_calib:Writing calibrated image to D:\\RLMT\\images\\mjc_mjcMay02_TIC 48217457_r_90s_2024-05-03T07-47-30_wcs.fts\n",
      "INFO:pyscope.reduction.ccd_calib:Done!\n",
      "INFO:pyscope.reduction.ccd_calib:Loading calibration frames...\n",
      "INFO:pyscope.reduction.ccd_calib:Loading bias frame: ./images/calibrations/2024-05-03T17-56-00/master_bias_read2_gain4x_1x1.fts\n",
      "INFO:pyscope.reduction.ccd_calib:Loading dark frame: ./images/calibrations/2024-05-03T17-56-00/master_dark_read2_gain4x_1x1.fts\n",
      "INFO:pyscope.reduction.ccd_calib:Loading flat frame: ./images/calibrations/2024-05-03T17-56-00/master_flat_r_read2_gain4x_1x1.fts\n",
      "INFO:pyscope.reduction.ccd_calib:Looping through images...\n",
      "INFO:pyscope.reduction.ccd_calib:Found 1 images\n",
      "INFO:pyscope.reduction.ccd_calib:Calibrating D:\\RLMT\\images\\mjc_mjcMay02_TIC 48217457_r_90s_2024-05-03T07-49-00_wcs.fts...\n",
      "WARNING:pyscope.reduction.ccd_calib:Image readout mode (1MHzHighSensitivity16-bit) does not match dark readout mode (1MHz High Sensitivity 16-bit)\n",
      "WARNING:pyscope.reduction.ccd_calib:Image readout mode (1MHzHighSensitivity16-bit) does not match flat readout mode (1MHz High Sensitivity 16-bit)\n",
      "INFO:pyscope.reduction.ccd_calib:Applying bias frame (CCD selected)...\n",
      "INFO:pyscope.reduction.ccd_calib:Applying the dark frame. CCD selected so a bias-subtracted\n",
      "                            dark frame is scaled by the ratio of the image exposure time over\n",
      "                            the dark exposure time then subtracted from the image.\n",
      "INFO:pyscope.reduction.ccd_calib:Checking if flat frame has a pedestal...\n",
      "INFO:pyscope.reduction.ccd_calib:Normalizing the flat frame by the mean of the entire image.\n",
      "INFO:pyscope.reduction.ccd_calib:flat_mean: 0.9999478043049569\n",
      "INFO:pyscope.reduction.ccd_calib:Applying the flat frame...\n"
     ]
    },
    {
     "name": "stdout",
     "output_type": "stream",
     "text": [
      "Calibrating D:\\RLMT\\images\\mjc_mjcMay02_TIC 48217457_r_90s_2024-05-03T07-49-00_wcs.fts\n"
     ]
    },
    {
     "name": "stderr",
     "output_type": "stream",
     "text": [
      "INFO:pyscope.reduction.ccd_calib:Flooring the calibrated image...\n",
      "INFO:pyscope.reduction.ccd_calib:Adding pedestal of 1000\n",
      "INFO:pyscope.reduction.ccd_calib:Removing hot pixels...\n",
      "INFO:pyscope.reduction.ccd_calib:Clipping to uint16 range...\n",
      "INFO:pyscope.reduction.ccd_calib:Writing calibrated status to header...\n",
      "INFO:pyscope.reduction.ccd_calib:Writing calibrated image to D:\\RLMT\\images\\mjc_mjcMay02_TIC 48217457_r_90s_2024-05-03T07-49-00_wcs.fts\n",
      "INFO:pyscope.reduction.ccd_calib:Done!\n",
      "INFO:pyscope.reduction.ccd_calib:Loading calibration frames...\n",
      "INFO:pyscope.reduction.ccd_calib:Loading bias frame: ./images/calibrations/2024-05-03T17-56-00/master_bias_read2_gain4x_1x1.fts\n",
      "INFO:pyscope.reduction.ccd_calib:Loading dark frame: ./images/calibrations/2024-05-03T17-56-00/master_dark_read2_gain4x_1x1.fts\n",
      "INFO:pyscope.reduction.ccd_calib:Loading flat frame: ./images/calibrations/2024-05-03T17-56-00/master_flat_r_read2_gain4x_1x1.fts\n",
      "INFO:pyscope.reduction.ccd_calib:Looping through images...\n",
      "INFO:pyscope.reduction.ccd_calib:Found 1 images\n",
      "INFO:pyscope.reduction.ccd_calib:Calibrating D:\\RLMT\\images\\mjc_mjcMay02_TIC 48217457_r_90s_2024-05-03T07-50-30_wcs.fts...\n",
      "WARNING:pyscope.reduction.ccd_calib:Image readout mode (1MHzHighSensitivity16-bit) does not match dark readout mode (1MHz High Sensitivity 16-bit)\n",
      "WARNING:pyscope.reduction.ccd_calib:Image readout mode (1MHzHighSensitivity16-bit) does not match flat readout mode (1MHz High Sensitivity 16-bit)\n",
      "INFO:pyscope.reduction.ccd_calib:Applying bias frame (CCD selected)...\n",
      "INFO:pyscope.reduction.ccd_calib:Applying the dark frame. CCD selected so a bias-subtracted\n",
      "                            dark frame is scaled by the ratio of the image exposure time over\n",
      "                            the dark exposure time then subtracted from the image.\n",
      "INFO:pyscope.reduction.ccd_calib:Checking if flat frame has a pedestal...\n"
     ]
    },
    {
     "name": "stdout",
     "output_type": "stream",
     "text": [
      "Calibrating D:\\RLMT\\images\\mjc_mjcMay02_TIC 48217457_r_90s_2024-05-03T07-50-30_wcs.fts\n"
     ]
    },
    {
     "name": "stderr",
     "output_type": "stream",
     "text": [
      "INFO:pyscope.reduction.ccd_calib:Normalizing the flat frame by the mean of the entire image.\n",
      "INFO:pyscope.reduction.ccd_calib:flat_mean: 0.9999478043049569\n",
      "INFO:pyscope.reduction.ccd_calib:Applying the flat frame...\n",
      "INFO:pyscope.reduction.ccd_calib:Flooring the calibrated image...\n",
      "INFO:pyscope.reduction.ccd_calib:Adding pedestal of 1000\n",
      "INFO:pyscope.reduction.ccd_calib:Removing hot pixels...\n",
      "INFO:pyscope.reduction.ccd_calib:Clipping to uint16 range...\n",
      "INFO:pyscope.reduction.ccd_calib:Writing calibrated status to header...\n",
      "INFO:pyscope.reduction.ccd_calib:Writing calibrated image to D:\\RLMT\\images\\mjc_mjcMay02_TIC 48217457_r_90s_2024-05-03T07-50-30_wcs.fts\n",
      "INFO:pyscope.reduction.ccd_calib:Done!\n",
      "INFO:pyscope.reduction.ccd_calib:Loading calibration frames...\n",
      "INFO:pyscope.reduction.ccd_calib:Loading bias frame: ./images/calibrations/2024-05-03T17-56-00/master_bias_read2_gain4x_1x1.fts\n",
      "INFO:pyscope.reduction.ccd_calib:Loading dark frame: ./images/calibrations/2024-05-03T17-56-00/master_dark_read2_gain4x_1x1.fts\n",
      "INFO:pyscope.reduction.ccd_calib:Loading flat frame: ./images/calibrations/2024-05-03T17-56-00/master_flat_r_read2_gain4x_1x1.fts\n",
      "INFO:pyscope.reduction.ccd_calib:Looping through images...\n",
      "INFO:pyscope.reduction.ccd_calib:Found 1 images\n",
      "INFO:pyscope.reduction.ccd_calib:Calibrating D:\\RLMT\\images\\mjc_mjcMay02_TIC 48217457_r_90s_2024-05-03T07-52-00_wcs.fts...\n",
      "WARNING:pyscope.reduction.ccd_calib:Image readout mode (1MHzHighSensitivity16-bit) does not match dark readout mode (1MHz High Sensitivity 16-bit)\n",
      "WARNING:pyscope.reduction.ccd_calib:Image readout mode (1MHzHighSensitivity16-bit) does not match flat readout mode (1MHz High Sensitivity 16-bit)\n",
      "INFO:pyscope.reduction.ccd_calib:Applying bias frame (CCD selected)...\n",
      "INFO:pyscope.reduction.ccd_calib:Applying the dark frame. CCD selected so a bias-subtracted\n",
      "                            dark frame is scaled by the ratio of the image exposure time over\n",
      "                            the dark exposure time then subtracted from the image.\n",
      "INFO:pyscope.reduction.ccd_calib:Checking if flat frame has a pedestal...\n",
      "INFO:pyscope.reduction.ccd_calib:Normalizing the flat frame by the mean of the entire image.\n",
      "INFO:pyscope.reduction.ccd_calib:flat_mean: 0.9999478043049569\n",
      "INFO:pyscope.reduction.ccd_calib:Applying the flat frame...\n"
     ]
    },
    {
     "name": "stdout",
     "output_type": "stream",
     "text": [
      "Calibrating D:\\RLMT\\images\\mjc_mjcMay02_TIC 48217457_r_90s_2024-05-03T07-52-00_wcs.fts\n"
     ]
    },
    {
     "name": "stderr",
     "output_type": "stream",
     "text": [
      "INFO:pyscope.reduction.ccd_calib:Flooring the calibrated image...\n",
      "INFO:pyscope.reduction.ccd_calib:Adding pedestal of 1000\n",
      "INFO:pyscope.reduction.ccd_calib:Removing hot pixels...\n",
      "INFO:pyscope.reduction.ccd_calib:Clipping to uint16 range...\n",
      "INFO:pyscope.reduction.ccd_calib:Writing calibrated status to header...\n",
      "INFO:pyscope.reduction.ccd_calib:Writing calibrated image to D:\\RLMT\\images\\mjc_mjcMay02_TIC 48217457_r_90s_2024-05-03T07-52-00_wcs.fts\n",
      "INFO:pyscope.reduction.ccd_calib:Done!\n",
      "INFO:pyscope.reduction.ccd_calib:Loading calibration frames...\n",
      "INFO:pyscope.reduction.ccd_calib:Loading bias frame: ./images/calibrations/2024-05-03T17-56-00/master_bias_read2_gain4x_1x1.fts\n",
      "INFO:pyscope.reduction.ccd_calib:Loading dark frame: ./images/calibrations/2024-05-03T17-56-00/master_dark_read2_gain4x_1x1.fts\n",
      "INFO:pyscope.reduction.ccd_calib:Loading flat frame: ./images/calibrations/2024-05-03T17-56-00/master_flat_r_read2_gain4x_1x1.fts\n",
      "INFO:pyscope.reduction.ccd_calib:Looping through images...\n",
      "INFO:pyscope.reduction.ccd_calib:Found 1 images\n",
      "INFO:pyscope.reduction.ccd_calib:Calibrating D:\\RLMT\\images\\mjc_mjcMay02_TIC 48217457_r_90s_2024-05-03T07-53-30_wcs.fts...\n",
      "WARNING:pyscope.reduction.ccd_calib:Image readout mode (1MHzHighSensitivity16-bit) does not match dark readout mode (1MHz High Sensitivity 16-bit)\n",
      "WARNING:pyscope.reduction.ccd_calib:Image readout mode (1MHzHighSensitivity16-bit) does not match flat readout mode (1MHz High Sensitivity 16-bit)\n",
      "INFO:pyscope.reduction.ccd_calib:Applying bias frame (CCD selected)...\n",
      "INFO:pyscope.reduction.ccd_calib:Applying the dark frame. CCD selected so a bias-subtracted\n",
      "                            dark frame is scaled by the ratio of the image exposure time over\n",
      "                            the dark exposure time then subtracted from the image.\n",
      "INFO:pyscope.reduction.ccd_calib:Checking if flat frame has a pedestal...\n",
      "INFO:pyscope.reduction.ccd_calib:Normalizing the flat frame by the mean of the entire image.\n"
     ]
    },
    {
     "name": "stdout",
     "output_type": "stream",
     "text": [
      "Calibrating D:\\RLMT\\images\\mjc_mjcMay02_TIC 48217457_r_90s_2024-05-03T07-53-30_wcs.fts\n"
     ]
    },
    {
     "name": "stderr",
     "output_type": "stream",
     "text": [
      "INFO:pyscope.reduction.ccd_calib:flat_mean: 0.9999478043049569\n",
      "INFO:pyscope.reduction.ccd_calib:Applying the flat frame...\n",
      "INFO:pyscope.reduction.ccd_calib:Flooring the calibrated image...\n",
      "INFO:pyscope.reduction.ccd_calib:Adding pedestal of 1000\n",
      "INFO:pyscope.reduction.ccd_calib:Removing hot pixels...\n",
      "INFO:pyscope.reduction.ccd_calib:Clipping to uint16 range...\n",
      "INFO:pyscope.reduction.ccd_calib:Writing calibrated status to header...\n",
      "INFO:pyscope.reduction.ccd_calib:Writing calibrated image to D:\\RLMT\\images\\mjc_mjcMay02_TIC 48217457_r_90s_2024-05-03T07-53-30_wcs.fts\n",
      "INFO:pyscope.reduction.ccd_calib:Done!\n",
      "INFO:pyscope.reduction.ccd_calib:Loading calibration frames...\n",
      "INFO:pyscope.reduction.ccd_calib:Loading bias frame: ./images/calibrations/2024-05-03T17-56-00/master_bias_read2_gain4x_1x1.fts\n",
      "INFO:pyscope.reduction.ccd_calib:Loading dark frame: ./images/calibrations/2024-05-03T17-56-00/master_dark_read2_gain4x_1x1.fts\n",
      "INFO:pyscope.reduction.ccd_calib:Loading flat frame: ./images/calibrations/2024-05-03T17-56-00/master_flat_r_read2_gain4x_1x1.fts\n",
      "INFO:pyscope.reduction.ccd_calib:Looping through images...\n",
      "INFO:pyscope.reduction.ccd_calib:Found 1 images\n",
      "INFO:pyscope.reduction.ccd_calib:Calibrating D:\\RLMT\\images\\mjc_mjcMay02_TIC 48217457_r_90s_2024-05-03T07-55-00_wcs.fts...\n",
      "WARNING:pyscope.reduction.ccd_calib:Image readout mode (1MHzHighSensitivity16-bit) does not match dark readout mode (1MHz High Sensitivity 16-bit)\n",
      "WARNING:pyscope.reduction.ccd_calib:Image readout mode (1MHzHighSensitivity16-bit) does not match flat readout mode (1MHz High Sensitivity 16-bit)\n",
      "INFO:pyscope.reduction.ccd_calib:Applying bias frame (CCD selected)...\n",
      "INFO:pyscope.reduction.ccd_calib:Applying the dark frame. CCD selected so a bias-subtracted\n",
      "                            dark frame is scaled by the ratio of the image exposure time over\n",
      "                            the dark exposure time then subtracted from the image.\n",
      "INFO:pyscope.reduction.ccd_calib:Checking if flat frame has a pedestal...\n",
      "INFO:pyscope.reduction.ccd_calib:Normalizing the flat frame by the mean of the entire image.\n",
      "INFO:pyscope.reduction.ccd_calib:flat_mean: 0.9999478043049569\n",
      "INFO:pyscope.reduction.ccd_calib:Applying the flat frame...\n"
     ]
    },
    {
     "name": "stdout",
     "output_type": "stream",
     "text": [
      "Calibrating D:\\RLMT\\images\\mjc_mjcMay02_TIC 48217457_r_90s_2024-05-03T07-55-00_wcs.fts\n"
     ]
    },
    {
     "name": "stderr",
     "output_type": "stream",
     "text": [
      "INFO:pyscope.reduction.ccd_calib:Flooring the calibrated image...\n",
      "INFO:pyscope.reduction.ccd_calib:Adding pedestal of 1000\n",
      "INFO:pyscope.reduction.ccd_calib:Removing hot pixels...\n",
      "INFO:pyscope.reduction.ccd_calib:Clipping to uint16 range...\n",
      "INFO:pyscope.reduction.ccd_calib:Writing calibrated status to header...\n",
      "INFO:pyscope.reduction.ccd_calib:Writing calibrated image to D:\\RLMT\\images\\mjc_mjcMay02_TIC 48217457_r_90s_2024-05-03T07-55-00_wcs.fts\n",
      "INFO:pyscope.reduction.ccd_calib:Done!\n",
      "INFO:pyscope.reduction.ccd_calib:Loading calibration frames...\n",
      "INFO:pyscope.reduction.ccd_calib:Loading bias frame: ./images/calibrations/2024-05-03T17-56-00/master_bias_read2_gain4x_1x1.fts\n",
      "INFO:pyscope.reduction.ccd_calib:Loading dark frame: ./images/calibrations/2024-05-03T17-56-00/master_dark_read2_gain4x_1x1.fts\n",
      "INFO:pyscope.reduction.ccd_calib:Loading flat frame: ./images/calibrations/2024-05-03T17-56-00/master_flat_r_read2_gain4x_1x1.fts\n",
      "INFO:pyscope.reduction.ccd_calib:Looping through images...\n",
      "INFO:pyscope.reduction.ccd_calib:Found 1 images\n",
      "INFO:pyscope.reduction.ccd_calib:Calibrating D:\\RLMT\\images\\mjc_mjcMay02_TIC 48217457_r_90s_2024-05-03T07-56-30_wcs.fts...\n",
      "WARNING:pyscope.reduction.ccd_calib:Image readout mode (1MHzHighSensitivity16-bit) does not match dark readout mode (1MHz High Sensitivity 16-bit)\n",
      "WARNING:pyscope.reduction.ccd_calib:Image readout mode (1MHzHighSensitivity16-bit) does not match flat readout mode (1MHz High Sensitivity 16-bit)\n",
      "INFO:pyscope.reduction.ccd_calib:Applying bias frame (CCD selected)...\n",
      "INFO:pyscope.reduction.ccd_calib:Applying the dark frame. CCD selected so a bias-subtracted\n",
      "                            dark frame is scaled by the ratio of the image exposure time over\n",
      "                            the dark exposure time then subtracted from the image.\n",
      "INFO:pyscope.reduction.ccd_calib:Checking if flat frame has a pedestal...\n",
      "INFO:pyscope.reduction.ccd_calib:Normalizing the flat frame by the mean of the entire image.\n",
      "INFO:pyscope.reduction.ccd_calib:flat_mean: 0.9999478043049569\n"
     ]
    },
    {
     "name": "stdout",
     "output_type": "stream",
     "text": [
      "Calibrating D:\\RLMT\\images\\mjc_mjcMay02_TIC 48217457_r_90s_2024-05-03T07-56-30_wcs.fts\n"
     ]
    },
    {
     "name": "stderr",
     "output_type": "stream",
     "text": [
      "INFO:pyscope.reduction.ccd_calib:Applying the flat frame...\n",
      "INFO:pyscope.reduction.ccd_calib:Flooring the calibrated image...\n",
      "INFO:pyscope.reduction.ccd_calib:Adding pedestal of 1000\n",
      "INFO:pyscope.reduction.ccd_calib:Removing hot pixels...\n",
      "INFO:pyscope.reduction.ccd_calib:Clipping to uint16 range...\n",
      "INFO:pyscope.reduction.ccd_calib:Writing calibrated status to header...\n",
      "INFO:pyscope.reduction.ccd_calib:Writing calibrated image to D:\\RLMT\\images\\mjc_mjcMay02_TIC 48217457_r_90s_2024-05-03T07-56-30_wcs.fts\n",
      "INFO:pyscope.reduction.ccd_calib:Done!\n",
      "INFO:pyscope.reduction.ccd_calib:Loading calibration frames...\n",
      "INFO:pyscope.reduction.ccd_calib:Loading bias frame: ./images/calibrations/2024-05-03T17-56-00/master_bias_read2_gain4x_1x1.fts\n",
      "INFO:pyscope.reduction.ccd_calib:Loading dark frame: ./images/calibrations/2024-05-03T17-56-00/master_dark_read2_gain4x_1x1.fts\n",
      "INFO:pyscope.reduction.ccd_calib:Loading flat frame: ./images/calibrations/2024-05-03T17-56-00/master_flat_r_read2_gain4x_1x1.fts\n",
      "INFO:pyscope.reduction.ccd_calib:Looping through images...\n",
      "INFO:pyscope.reduction.ccd_calib:Found 1 images\n",
      "INFO:pyscope.reduction.ccd_calib:Calibrating D:\\RLMT\\images\\mjc_mjcMay02_TIC 48217457_r_90s_2024-05-03T07-58-00_wcs.fts...\n",
      "WARNING:pyscope.reduction.ccd_calib:Image readout mode (1MHzHighSensitivity16-bit) does not match dark readout mode (1MHz High Sensitivity 16-bit)\n",
      "WARNING:pyscope.reduction.ccd_calib:Image readout mode (1MHzHighSensitivity16-bit) does not match flat readout mode (1MHz High Sensitivity 16-bit)\n",
      "INFO:pyscope.reduction.ccd_calib:Applying bias frame (CCD selected)...\n",
      "INFO:pyscope.reduction.ccd_calib:Applying the dark frame. CCD selected so a bias-subtracted\n",
      "                            dark frame is scaled by the ratio of the image exposure time over\n",
      "                            the dark exposure time then subtracted from the image.\n",
      "INFO:pyscope.reduction.ccd_calib:Checking if flat frame has a pedestal...\n",
      "INFO:pyscope.reduction.ccd_calib:Normalizing the flat frame by the mean of the entire image.\n",
      "INFO:pyscope.reduction.ccd_calib:flat_mean: 0.9999478043049569\n",
      "INFO:pyscope.reduction.ccd_calib:Applying the flat frame...\n"
     ]
    },
    {
     "name": "stdout",
     "output_type": "stream",
     "text": [
      "Calibrating D:\\RLMT\\images\\mjc_mjcMay02_TIC 48217457_r_90s_2024-05-03T07-58-00_wcs.fts\n"
     ]
    },
    {
     "name": "stderr",
     "output_type": "stream",
     "text": [
      "INFO:pyscope.reduction.ccd_calib:Flooring the calibrated image...\n",
      "INFO:pyscope.reduction.ccd_calib:Adding pedestal of 1000\n",
      "INFO:pyscope.reduction.ccd_calib:Removing hot pixels...\n",
      "INFO:pyscope.reduction.ccd_calib:Clipping to uint16 range...\n",
      "INFO:pyscope.reduction.ccd_calib:Writing calibrated status to header...\n",
      "INFO:pyscope.reduction.ccd_calib:Writing calibrated image to D:\\RLMT\\images\\mjc_mjcMay02_TIC 48217457_r_90s_2024-05-03T07-58-00_wcs.fts\n",
      "INFO:pyscope.reduction.ccd_calib:Done!\n",
      "INFO:pyscope.reduction.ccd_calib:Loading calibration frames...\n",
      "INFO:pyscope.reduction.ccd_calib:Loading bias frame: ./images/calibrations/2024-05-03T17-56-00/master_bias_read2_gain4x_1x1.fts\n",
      "INFO:pyscope.reduction.ccd_calib:Loading dark frame: ./images/calibrations/2024-05-03T17-56-00/master_dark_read2_gain4x_1x1.fts\n",
      "INFO:pyscope.reduction.ccd_calib:Loading flat frame: ./images/calibrations/2024-05-03T17-56-00/master_flat_r_read2_gain4x_1x1.fts\n",
      "INFO:pyscope.reduction.ccd_calib:Looping through images...\n",
      "INFO:pyscope.reduction.ccd_calib:Found 1 images\n",
      "INFO:pyscope.reduction.ccd_calib:Calibrating D:\\RLMT\\images\\mjc_mjcMay02_TIC 48217457_r_90s_2024-05-03T07-59-30_wcs.fts...\n"
     ]
    },
    {
     "name": "stdout",
     "output_type": "stream",
     "text": [
      "Calibrating D:\\RLMT\\images\\mjc_mjcMay02_TIC 48217457_r_90s_2024-05-03T07-59-30_wcs.fts\n"
     ]
    },
    {
     "name": "stderr",
     "output_type": "stream",
     "text": [
      "WARNING:pyscope.reduction.ccd_calib:Image readout mode (1MHzHighSensitivity16-bit) does not match dark readout mode (1MHz High Sensitivity 16-bit)\n",
      "WARNING:pyscope.reduction.ccd_calib:Image readout mode (1MHzHighSensitivity16-bit) does not match flat readout mode (1MHz High Sensitivity 16-bit)\n",
      "INFO:pyscope.reduction.ccd_calib:Applying bias frame (CCD selected)...\n",
      "INFO:pyscope.reduction.ccd_calib:Applying the dark frame. CCD selected so a bias-subtracted\n",
      "                            dark frame is scaled by the ratio of the image exposure time over\n",
      "                            the dark exposure time then subtracted from the image.\n",
      "INFO:pyscope.reduction.ccd_calib:Checking if flat frame has a pedestal...\n",
      "INFO:pyscope.reduction.ccd_calib:Normalizing the flat frame by the mean of the entire image.\n",
      "INFO:pyscope.reduction.ccd_calib:flat_mean: 0.9999478043049569\n",
      "INFO:pyscope.reduction.ccd_calib:Applying the flat frame...\n",
      "INFO:pyscope.reduction.ccd_calib:Flooring the calibrated image...\n",
      "INFO:pyscope.reduction.ccd_calib:Adding pedestal of 1000\n",
      "INFO:pyscope.reduction.ccd_calib:Removing hot pixels...\n",
      "INFO:pyscope.reduction.ccd_calib:Clipping to uint16 range...\n",
      "INFO:pyscope.reduction.ccd_calib:Writing calibrated status to header...\n",
      "INFO:pyscope.reduction.ccd_calib:Writing calibrated image to D:\\RLMT\\images\\mjc_mjcMay02_TIC 48217457_r_90s_2024-05-03T07-59-30_wcs.fts\n",
      "INFO:pyscope.reduction.ccd_calib:Done!\n",
      "INFO:pyscope.reduction.ccd_calib:Loading calibration frames...\n",
      "INFO:pyscope.reduction.ccd_calib:Loading bias frame: ./images/calibrations/2024-05-03T17-56-00/master_bias_read2_gain4x_1x1.fts\n",
      "INFO:pyscope.reduction.ccd_calib:Loading dark frame: ./images/calibrations/2024-05-03T17-56-00/master_dark_read2_gain4x_1x1.fts\n",
      "INFO:pyscope.reduction.ccd_calib:Loading flat frame: ./images/calibrations/2024-05-03T17-56-00/master_flat_r_read2_gain4x_1x1.fts\n",
      "INFO:pyscope.reduction.ccd_calib:Looping through images...\n",
      "INFO:pyscope.reduction.ccd_calib:Found 1 images\n",
      "INFO:pyscope.reduction.ccd_calib:Calibrating D:\\RLMT\\images\\mjc_mjcMay02_TIC 48217457_r_90s_2024-05-03T08-01-00_wcs.fts...\n",
      "WARNING:pyscope.reduction.ccd_calib:Image readout mode (1MHzHighSensitivity16-bit) does not match dark readout mode (1MHz High Sensitivity 16-bit)\n",
      "WARNING:pyscope.reduction.ccd_calib:Image readout mode (1MHzHighSensitivity16-bit) does not match flat readout mode (1MHz High Sensitivity 16-bit)\n",
      "INFO:pyscope.reduction.ccd_calib:Applying bias frame (CCD selected)...\n",
      "INFO:pyscope.reduction.ccd_calib:Applying the dark frame. CCD selected so a bias-subtracted\n",
      "                            dark frame is scaled by the ratio of the image exposure time over\n",
      "                            the dark exposure time then subtracted from the image.\n",
      "INFO:pyscope.reduction.ccd_calib:Checking if flat frame has a pedestal...\n"
     ]
    },
    {
     "name": "stdout",
     "output_type": "stream",
     "text": [
      "Calibrating D:\\RLMT\\images\\mjc_mjcMay02_TIC 48217457_r_90s_2024-05-03T08-01-00_wcs.fts\n"
     ]
    },
    {
     "name": "stderr",
     "output_type": "stream",
     "text": [
      "INFO:pyscope.reduction.ccd_calib:Normalizing the flat frame by the mean of the entire image.\n",
      "INFO:pyscope.reduction.ccd_calib:flat_mean: 0.9999478043049569\n",
      "INFO:pyscope.reduction.ccd_calib:Applying the flat frame...\n",
      "INFO:pyscope.reduction.ccd_calib:Flooring the calibrated image...\n",
      "INFO:pyscope.reduction.ccd_calib:Adding pedestal of 1000\n",
      "INFO:pyscope.reduction.ccd_calib:Removing hot pixels...\n",
      "INFO:pyscope.reduction.ccd_calib:Clipping to uint16 range...\n",
      "INFO:pyscope.reduction.ccd_calib:Writing calibrated status to header...\n",
      "INFO:pyscope.reduction.ccd_calib:Writing calibrated image to D:\\RLMT\\images\\mjc_mjcMay02_TIC 48217457_r_90s_2024-05-03T08-01-00_wcs.fts\n",
      "INFO:pyscope.reduction.ccd_calib:Done!\n",
      "INFO:pyscope.reduction.ccd_calib:Loading calibration frames...\n",
      "INFO:pyscope.reduction.ccd_calib:Loading bias frame: ./images/calibrations/2024-05-03T17-56-00/master_bias_read2_gain4x_1x1.fts\n",
      "INFO:pyscope.reduction.ccd_calib:Loading dark frame: ./images/calibrations/2024-05-03T17-56-00/master_dark_read2_gain4x_1x1.fts\n",
      "INFO:pyscope.reduction.ccd_calib:Loading flat frame: ./images/calibrations/2024-05-03T17-56-00/master_flat_r_read2_gain4x_1x1.fts\n",
      "INFO:pyscope.reduction.ccd_calib:Looping through images...\n",
      "INFO:pyscope.reduction.ccd_calib:Found 1 images\n",
      "INFO:pyscope.reduction.ccd_calib:Calibrating D:\\RLMT\\images\\mjc_mjcMay02_TIC 48217457_r_90s_2024-05-03T08-02-30_wcs.fts...\n",
      "WARNING:pyscope.reduction.ccd_calib:Image readout mode (1MHzHighSensitivity16-bit) does not match dark readout mode (1MHz High Sensitivity 16-bit)\n",
      "WARNING:pyscope.reduction.ccd_calib:Image readout mode (1MHzHighSensitivity16-bit) does not match flat readout mode (1MHz High Sensitivity 16-bit)\n",
      "INFO:pyscope.reduction.ccd_calib:Applying bias frame (CCD selected)...\n",
      "INFO:pyscope.reduction.ccd_calib:Applying the dark frame. CCD selected so a bias-subtracted\n",
      "                            dark frame is scaled by the ratio of the image exposure time over\n",
      "                            the dark exposure time then subtracted from the image.\n",
      "INFO:pyscope.reduction.ccd_calib:Checking if flat frame has a pedestal...\n"
     ]
    },
    {
     "name": "stdout",
     "output_type": "stream",
     "text": [
      "Calibrating D:\\RLMT\\images\\mjc_mjcMay02_TIC 48217457_r_90s_2024-05-03T08-02-30_wcs.fts\n"
     ]
    },
    {
     "name": "stderr",
     "output_type": "stream",
     "text": [
      "INFO:pyscope.reduction.ccd_calib:Normalizing the flat frame by the mean of the entire image.\n",
      "INFO:pyscope.reduction.ccd_calib:flat_mean: 0.9999478043049569\n",
      "INFO:pyscope.reduction.ccd_calib:Applying the flat frame...\n",
      "INFO:pyscope.reduction.ccd_calib:Flooring the calibrated image...\n",
      "INFO:pyscope.reduction.ccd_calib:Adding pedestal of 1000\n",
      "INFO:pyscope.reduction.ccd_calib:Removing hot pixels...\n",
      "INFO:pyscope.reduction.ccd_calib:Clipping to uint16 range...\n",
      "INFO:pyscope.reduction.ccd_calib:Writing calibrated status to header...\n",
      "INFO:pyscope.reduction.ccd_calib:Writing calibrated image to D:\\RLMT\\images\\mjc_mjcMay02_TIC 48217457_r_90s_2024-05-03T08-02-30_wcs.fts\n",
      "INFO:pyscope.reduction.ccd_calib:Done!\n",
      "INFO:pyscope.reduction.ccd_calib:Loading calibration frames...\n",
      "INFO:pyscope.reduction.ccd_calib:Loading bias frame: ./images/calibrations/2024-05-03T17-56-00/master_bias_read2_gain4x_1x1.fts\n",
      "INFO:pyscope.reduction.ccd_calib:Loading dark frame: ./images/calibrations/2024-05-03T17-56-00/master_dark_read2_gain4x_1x1.fts\n",
      "INFO:pyscope.reduction.ccd_calib:Loading flat frame: ./images/calibrations/2024-05-03T17-56-00/master_flat_r_read2_gain4x_1x1.fts\n",
      "INFO:pyscope.reduction.ccd_calib:Looping through images...\n",
      "INFO:pyscope.reduction.ccd_calib:Found 1 images\n",
      "INFO:pyscope.reduction.ccd_calib:Calibrating D:\\RLMT\\images\\mjc_mjcMay02_TIC 48217457_r_90s_2024-05-03T08-04-00_wcs.fts...\n",
      "WARNING:pyscope.reduction.ccd_calib:Image readout mode (1MHzHighSensitivity16-bit) does not match dark readout mode (1MHz High Sensitivity 16-bit)\n",
      "WARNING:pyscope.reduction.ccd_calib:Image readout mode (1MHzHighSensitivity16-bit) does not match flat readout mode (1MHz High Sensitivity 16-bit)\n",
      "INFO:pyscope.reduction.ccd_calib:Applying bias frame (CCD selected)...\n",
      "INFO:pyscope.reduction.ccd_calib:Applying the dark frame. CCD selected so a bias-subtracted\n",
      "                            dark frame is scaled by the ratio of the image exposure time over\n",
      "                            the dark exposure time then subtracted from the image.\n",
      "INFO:pyscope.reduction.ccd_calib:Checking if flat frame has a pedestal...\n",
      "INFO:pyscope.reduction.ccd_calib:Normalizing the flat frame by the mean of the entire image.\n",
      "INFO:pyscope.reduction.ccd_calib:flat_mean: 0.9999478043049569\n",
      "INFO:pyscope.reduction.ccd_calib:Applying the flat frame...\n"
     ]
    },
    {
     "name": "stdout",
     "output_type": "stream",
     "text": [
      "Calibrating D:\\RLMT\\images\\mjc_mjcMay02_TIC 48217457_r_90s_2024-05-03T08-04-00_wcs.fts\n"
     ]
    },
    {
     "name": "stderr",
     "output_type": "stream",
     "text": [
      "INFO:pyscope.reduction.ccd_calib:Flooring the calibrated image...\n",
      "INFO:pyscope.reduction.ccd_calib:Adding pedestal of 1000\n",
      "INFO:pyscope.reduction.ccd_calib:Removing hot pixels...\n",
      "INFO:pyscope.reduction.ccd_calib:Clipping to uint16 range...\n",
      "INFO:pyscope.reduction.ccd_calib:Writing calibrated status to header...\n",
      "INFO:pyscope.reduction.ccd_calib:Writing calibrated image to D:\\RLMT\\images\\mjc_mjcMay02_TIC 48217457_r_90s_2024-05-03T08-04-00_wcs.fts\n",
      "INFO:pyscope.reduction.ccd_calib:Done!\n",
      "INFO:pyscope.reduction.ccd_calib:Loading calibration frames...\n",
      "INFO:pyscope.reduction.ccd_calib:Loading bias frame: ./images/calibrations/2024-05-03T17-56-00/master_bias_read2_gain4x_1x1.fts\n",
      "INFO:pyscope.reduction.ccd_calib:Loading dark frame: ./images/calibrations/2024-05-03T17-56-00/master_dark_read2_gain4x_1x1.fts\n",
      "INFO:pyscope.reduction.ccd_calib:Loading flat frame: ./images/calibrations/2024-05-03T17-56-00/master_flat_r_read2_gain4x_1x1.fts\n",
      "INFO:pyscope.reduction.ccd_calib:Looping through images...\n",
      "INFO:pyscope.reduction.ccd_calib:Found 1 images\n",
      "INFO:pyscope.reduction.ccd_calib:Calibrating D:\\RLMT\\images\\mjc_mjcMay02_TIC 48217457_r_90s_2024-05-03T08-05-30_wcs.fts...\n",
      "WARNING:pyscope.reduction.ccd_calib:Image readout mode (1MHzHighSensitivity16-bit) does not match dark readout mode (1MHz High Sensitivity 16-bit)\n",
      "WARNING:pyscope.reduction.ccd_calib:Image readout mode (1MHzHighSensitivity16-bit) does not match flat readout mode (1MHz High Sensitivity 16-bit)\n",
      "INFO:pyscope.reduction.ccd_calib:Applying bias frame (CCD selected)...\n",
      "INFO:pyscope.reduction.ccd_calib:Applying the dark frame. CCD selected so a bias-subtracted\n",
      "                            dark frame is scaled by the ratio of the image exposure time over\n",
      "                            the dark exposure time then subtracted from the image.\n",
      "INFO:pyscope.reduction.ccd_calib:Checking if flat frame has a pedestal...\n",
      "INFO:pyscope.reduction.ccd_calib:Normalizing the flat frame by the mean of the entire image.\n",
      "INFO:pyscope.reduction.ccd_calib:flat_mean: 0.9999478043049569\n",
      "INFO:pyscope.reduction.ccd_calib:Applying the flat frame...\n"
     ]
    },
    {
     "name": "stdout",
     "output_type": "stream",
     "text": [
      "Calibrating D:\\RLMT\\images\\mjc_mjcMay02_TIC 48217457_r_90s_2024-05-03T08-05-30_wcs.fts\n"
     ]
    },
    {
     "name": "stderr",
     "output_type": "stream",
     "text": [
      "INFO:pyscope.reduction.ccd_calib:Flooring the calibrated image...\n",
      "INFO:pyscope.reduction.ccd_calib:Adding pedestal of 1000\n",
      "INFO:pyscope.reduction.ccd_calib:Removing hot pixels...\n",
      "INFO:pyscope.reduction.ccd_calib:Clipping to uint16 range...\n",
      "INFO:pyscope.reduction.ccd_calib:Writing calibrated status to header...\n",
      "INFO:pyscope.reduction.ccd_calib:Writing calibrated image to D:\\RLMT\\images\\mjc_mjcMay02_TIC 48217457_r_90s_2024-05-03T08-05-30_wcs.fts\n",
      "INFO:pyscope.reduction.ccd_calib:Done!\n",
      "INFO:pyscope.reduction.ccd_calib:Loading calibration frames...\n",
      "INFO:pyscope.reduction.ccd_calib:Loading bias frame: ./images/calibrations/2024-05-03T17-56-00/master_bias_read2_gain4x_1x1.fts\n",
      "INFO:pyscope.reduction.ccd_calib:Loading dark frame: ./images/calibrations/2024-05-03T17-56-00/master_dark_read2_gain4x_1x1.fts\n",
      "INFO:pyscope.reduction.ccd_calib:Loading flat frame: ./images/calibrations/2024-05-03T17-56-00/master_flat_r_read2_gain4x_1x1.fts\n",
      "INFO:pyscope.reduction.ccd_calib:Looping through images...\n",
      "INFO:pyscope.reduction.ccd_calib:Found 1 images\n",
      "INFO:pyscope.reduction.ccd_calib:Calibrating D:\\RLMT\\images\\mjc_mjcMay02_TIC 48217457_r_90s_2024-05-03T08-07-00_wcs.fts...\n",
      "WARNING:pyscope.reduction.ccd_calib:Image readout mode (1MHzHighSensitivity16-bit) does not match dark readout mode (1MHz High Sensitivity 16-bit)\n",
      "WARNING:pyscope.reduction.ccd_calib:Image readout mode (1MHzHighSensitivity16-bit) does not match flat readout mode (1MHz High Sensitivity 16-bit)\n",
      "INFO:pyscope.reduction.ccd_calib:Applying bias frame (CCD selected)...\n"
     ]
    },
    {
     "name": "stdout",
     "output_type": "stream",
     "text": [
      "Calibrating D:\\RLMT\\images\\mjc_mjcMay02_TIC 48217457_r_90s_2024-05-03T08-07-00_wcs.fts\n"
     ]
    },
    {
     "name": "stderr",
     "output_type": "stream",
     "text": [
      "INFO:pyscope.reduction.ccd_calib:Applying the dark frame. CCD selected so a bias-subtracted\n",
      "                            dark frame is scaled by the ratio of the image exposure time over\n",
      "                            the dark exposure time then subtracted from the image.\n",
      "INFO:pyscope.reduction.ccd_calib:Checking if flat frame has a pedestal...\n",
      "INFO:pyscope.reduction.ccd_calib:Normalizing the flat frame by the mean of the entire image.\n",
      "INFO:pyscope.reduction.ccd_calib:flat_mean: 0.9999478043049569\n",
      "INFO:pyscope.reduction.ccd_calib:Applying the flat frame...\n",
      "INFO:pyscope.reduction.ccd_calib:Flooring the calibrated image...\n",
      "INFO:pyscope.reduction.ccd_calib:Adding pedestal of 1000\n",
      "INFO:pyscope.reduction.ccd_calib:Removing hot pixels...\n",
      "INFO:pyscope.reduction.ccd_calib:Clipping to uint16 range...\n",
      "INFO:pyscope.reduction.ccd_calib:Writing calibrated status to header...\n",
      "INFO:pyscope.reduction.ccd_calib:Writing calibrated image to D:\\RLMT\\images\\mjc_mjcMay02_TIC 48217457_r_90s_2024-05-03T08-07-00_wcs.fts\n",
      "INFO:pyscope.reduction.ccd_calib:Done!\n",
      "INFO:pyscope.reduction.ccd_calib:Loading calibration frames...\n",
      "INFO:pyscope.reduction.ccd_calib:Loading bias frame: ./images/calibrations/2024-05-03T17-56-00/master_bias_read2_gain4x_1x1.fts\n",
      "INFO:pyscope.reduction.ccd_calib:Loading dark frame: ./images/calibrations/2024-05-03T17-56-00/master_dark_read2_gain4x_1x1.fts\n",
      "INFO:pyscope.reduction.ccd_calib:Loading flat frame: ./images/calibrations/2024-05-03T17-56-00/master_flat_r_read2_gain4x_1x1.fts\n",
      "INFO:pyscope.reduction.ccd_calib:Looping through images...\n",
      "INFO:pyscope.reduction.ccd_calib:Found 1 images\n",
      "INFO:pyscope.reduction.ccd_calib:Calibrating D:\\RLMT\\images\\mjc_mjcMay02_TIC 48217457_r_90s_2024-05-03T08-08-30_wcs.fts...\n",
      "WARNING:pyscope.reduction.ccd_calib:Image readout mode (1MHzHighSensitivity16-bit) does not match dark readout mode (1MHz High Sensitivity 16-bit)\n",
      "WARNING:pyscope.reduction.ccd_calib:Image readout mode (1MHzHighSensitivity16-bit) does not match flat readout mode (1MHz High Sensitivity 16-bit)\n",
      "INFO:pyscope.reduction.ccd_calib:Applying bias frame (CCD selected)...\n",
      "INFO:pyscope.reduction.ccd_calib:Applying the dark frame. CCD selected so a bias-subtracted\n",
      "                            dark frame is scaled by the ratio of the image exposure time over\n",
      "                            the dark exposure time then subtracted from the image.\n",
      "INFO:pyscope.reduction.ccd_calib:Checking if flat frame has a pedestal...\n"
     ]
    },
    {
     "name": "stdout",
     "output_type": "stream",
     "text": [
      "Calibrating D:\\RLMT\\images\\mjc_mjcMay02_TIC 48217457_r_90s_2024-05-03T08-08-30_wcs.fts\n"
     ]
    },
    {
     "name": "stderr",
     "output_type": "stream",
     "text": [
      "INFO:pyscope.reduction.ccd_calib:Normalizing the flat frame by the mean of the entire image.\n",
      "INFO:pyscope.reduction.ccd_calib:flat_mean: 0.9999478043049569\n",
      "INFO:pyscope.reduction.ccd_calib:Applying the flat frame...\n",
      "INFO:pyscope.reduction.ccd_calib:Flooring the calibrated image...\n",
      "INFO:pyscope.reduction.ccd_calib:Adding pedestal of 1000\n",
      "INFO:pyscope.reduction.ccd_calib:Removing hot pixels...\n",
      "INFO:pyscope.reduction.ccd_calib:Clipping to uint16 range...\n",
      "INFO:pyscope.reduction.ccd_calib:Writing calibrated status to header...\n",
      "INFO:pyscope.reduction.ccd_calib:Writing calibrated image to D:\\RLMT\\images\\mjc_mjcMay02_TIC 48217457_r_90s_2024-05-03T08-08-30_wcs.fts\n",
      "INFO:pyscope.reduction.ccd_calib:Done!\n",
      "INFO:pyscope.reduction.ccd_calib:Loading calibration frames...\n",
      "INFO:pyscope.reduction.ccd_calib:Loading bias frame: ./images/calibrations/2024-05-03T17-56-00/master_bias_read2_gain4x_1x1.fts\n",
      "INFO:pyscope.reduction.ccd_calib:Loading dark frame: ./images/calibrations/2024-05-03T17-56-00/master_dark_read2_gain4x_1x1.fts\n",
      "INFO:pyscope.reduction.ccd_calib:Loading flat frame: ./images/calibrations/2024-05-03T17-56-00/master_flat_r_read2_gain4x_1x1.fts\n",
      "INFO:pyscope.reduction.ccd_calib:Looping through images...\n",
      "INFO:pyscope.reduction.ccd_calib:Found 1 images\n",
      "INFO:pyscope.reduction.ccd_calib:Calibrating D:\\RLMT\\images\\mjc_mjcMay02_TIC 48217457_r_90s_2024-05-03T08-10-00_wcs.fts...\n",
      "WARNING:pyscope.reduction.ccd_calib:Image readout mode (1MHzHighSensitivity16-bit) does not match dark readout mode (1MHz High Sensitivity 16-bit)\n",
      "WARNING:pyscope.reduction.ccd_calib:Image readout mode (1MHzHighSensitivity16-bit) does not match flat readout mode (1MHz High Sensitivity 16-bit)\n",
      "INFO:pyscope.reduction.ccd_calib:Applying bias frame (CCD selected)...\n",
      "INFO:pyscope.reduction.ccd_calib:Applying the dark frame. CCD selected so a bias-subtracted\n",
      "                            dark frame is scaled by the ratio of the image exposure time over\n",
      "                            the dark exposure time then subtracted from the image.\n",
      "INFO:pyscope.reduction.ccd_calib:Checking if flat frame has a pedestal...\n",
      "INFO:pyscope.reduction.ccd_calib:Normalizing the flat frame by the mean of the entire image.\n",
      "INFO:pyscope.reduction.ccd_calib:flat_mean: 0.9999478043049569\n"
     ]
    },
    {
     "name": "stdout",
     "output_type": "stream",
     "text": [
      "Calibrating D:\\RLMT\\images\\mjc_mjcMay02_TIC 48217457_r_90s_2024-05-03T08-10-00_wcs.fts\n"
     ]
    },
    {
     "name": "stderr",
     "output_type": "stream",
     "text": [
      "INFO:pyscope.reduction.ccd_calib:Applying the flat frame...\n",
      "INFO:pyscope.reduction.ccd_calib:Flooring the calibrated image...\n",
      "INFO:pyscope.reduction.ccd_calib:Adding pedestal of 1000\n",
      "INFO:pyscope.reduction.ccd_calib:Removing hot pixels...\n",
      "INFO:pyscope.reduction.ccd_calib:Clipping to uint16 range...\n",
      "INFO:pyscope.reduction.ccd_calib:Writing calibrated status to header...\n",
      "INFO:pyscope.reduction.ccd_calib:Writing calibrated image to D:\\RLMT\\images\\mjc_mjcMay02_TIC 48217457_r_90s_2024-05-03T08-10-00_wcs.fts\n",
      "INFO:pyscope.reduction.ccd_calib:Done!\n",
      "INFO:pyscope.reduction.ccd_calib:Loading calibration frames...\n",
      "INFO:pyscope.reduction.ccd_calib:Loading bias frame: ./images/calibrations/2024-05-03T17-56-00/master_bias_read2_gain4x_1x1.fts\n",
      "INFO:pyscope.reduction.ccd_calib:Loading dark frame: ./images/calibrations/2024-05-03T17-56-00/master_dark_read2_gain4x_1x1.fts\n",
      "INFO:pyscope.reduction.ccd_calib:Loading flat frame: ./images/calibrations/2024-05-03T17-56-00/master_flat_r_read2_gain4x_1x1.fts\n",
      "INFO:pyscope.reduction.ccd_calib:Looping through images...\n",
      "INFO:pyscope.reduction.ccd_calib:Found 1 images\n",
      "INFO:pyscope.reduction.ccd_calib:Calibrating D:\\RLMT\\images\\mjc_mjcMay02_TIC 48217457_r_90s_2024-05-03T08-11-30_wcs.fts...\n",
      "WARNING:pyscope.reduction.ccd_calib:Image readout mode (1MHzHighSensitivity16-bit) does not match dark readout mode (1MHz High Sensitivity 16-bit)\n",
      "WARNING:pyscope.reduction.ccd_calib:Image readout mode (1MHzHighSensitivity16-bit) does not match flat readout mode (1MHz High Sensitivity 16-bit)\n",
      "INFO:pyscope.reduction.ccd_calib:Applying bias frame (CCD selected)...\n",
      "INFO:pyscope.reduction.ccd_calib:Applying the dark frame. CCD selected so a bias-subtracted\n",
      "                            dark frame is scaled by the ratio of the image exposure time over\n",
      "                            the dark exposure time then subtracted from the image.\n",
      "INFO:pyscope.reduction.ccd_calib:Checking if flat frame has a pedestal...\n",
      "INFO:pyscope.reduction.ccd_calib:Normalizing the flat frame by the mean of the entire image.\n",
      "INFO:pyscope.reduction.ccd_calib:flat_mean: 0.9999478043049569\n",
      "INFO:pyscope.reduction.ccd_calib:Applying the flat frame...\n",
      "INFO:pyscope.reduction.ccd_calib:Flooring the calibrated image...\n",
      "INFO:pyscope.reduction.ccd_calib:Adding pedestal of 1000\n"
     ]
    },
    {
     "name": "stdout",
     "output_type": "stream",
     "text": [
      "Calibrating D:\\RLMT\\images\\mjc_mjcMay02_TIC 48217457_r_90s_2024-05-03T08-11-30_wcs.fts\n"
     ]
    },
    {
     "name": "stderr",
     "output_type": "stream",
     "text": [
      "INFO:pyscope.reduction.ccd_calib:Removing hot pixels...\n",
      "INFO:pyscope.reduction.ccd_calib:Clipping to uint16 range...\n",
      "INFO:pyscope.reduction.ccd_calib:Writing calibrated status to header...\n",
      "INFO:pyscope.reduction.ccd_calib:Writing calibrated image to D:\\RLMT\\images\\mjc_mjcMay02_TIC 48217457_r_90s_2024-05-03T08-11-30_wcs.fts\n",
      "INFO:pyscope.reduction.ccd_calib:Done!\n",
      "INFO:pyscope.reduction.ccd_calib:Loading calibration frames...\n",
      "INFO:pyscope.reduction.ccd_calib:Loading bias frame: ./images/calibrations/2024-05-03T17-56-00/master_bias_read2_gain4x_1x1.fts\n",
      "INFO:pyscope.reduction.ccd_calib:Loading dark frame: ./images/calibrations/2024-05-03T17-56-00/master_dark_read2_gain4x_1x1.fts\n",
      "INFO:pyscope.reduction.ccd_calib:Loading flat frame: ./images/calibrations/2024-05-03T17-56-00/master_flat_r_read2_gain4x_1x1.fts\n",
      "INFO:pyscope.reduction.ccd_calib:Looping through images...\n",
      "INFO:pyscope.reduction.ccd_calib:Found 1 images\n",
      "INFO:pyscope.reduction.ccd_calib:Calibrating D:\\RLMT\\images\\mjc_mjcMay02_TIC 48217457_r_90s_2024-05-03T08-13-00_wcs.fts...\n",
      "WARNING:pyscope.reduction.ccd_calib:Image readout mode (1MHzHighSensitivity16-bit) does not match dark readout mode (1MHz High Sensitivity 16-bit)\n",
      "WARNING:pyscope.reduction.ccd_calib:Image readout mode (1MHzHighSensitivity16-bit) does not match flat readout mode (1MHz High Sensitivity 16-bit)\n",
      "INFO:pyscope.reduction.ccd_calib:Applying bias frame (CCD selected)...\n",
      "INFO:pyscope.reduction.ccd_calib:Applying the dark frame. CCD selected so a bias-subtracted\n",
      "                            dark frame is scaled by the ratio of the image exposure time over\n",
      "                            the dark exposure time then subtracted from the image.\n",
      "INFO:pyscope.reduction.ccd_calib:Checking if flat frame has a pedestal...\n",
      "INFO:pyscope.reduction.ccd_calib:Normalizing the flat frame by the mean of the entire image.\n",
      "INFO:pyscope.reduction.ccd_calib:flat_mean: 0.9999478043049569\n",
      "INFO:pyscope.reduction.ccd_calib:Applying the flat frame...\n"
     ]
    },
    {
     "name": "stdout",
     "output_type": "stream",
     "text": [
      "Calibrating D:\\RLMT\\images\\mjc_mjcMay02_TIC 48217457_r_90s_2024-05-03T08-13-00_wcs.fts\n"
     ]
    },
    {
     "name": "stderr",
     "output_type": "stream",
     "text": [
      "INFO:pyscope.reduction.ccd_calib:Flooring the calibrated image...\n",
      "INFO:pyscope.reduction.ccd_calib:Adding pedestal of 1000\n",
      "INFO:pyscope.reduction.ccd_calib:Removing hot pixels...\n",
      "INFO:pyscope.reduction.ccd_calib:Clipping to uint16 range...\n",
      "INFO:pyscope.reduction.ccd_calib:Writing calibrated status to header...\n",
      "INFO:pyscope.reduction.ccd_calib:Writing calibrated image to D:\\RLMT\\images\\mjc_mjcMay02_TIC 48217457_r_90s_2024-05-03T08-13-00_wcs.fts\n",
      "INFO:pyscope.reduction.ccd_calib:Done!\n",
      "INFO:pyscope.reduction.ccd_calib:Loading calibration frames...\n",
      "INFO:pyscope.reduction.ccd_calib:Loading bias frame: ./images/calibrations/2024-05-03T17-56-00/master_bias_read2_gain4x_1x1.fts\n",
      "INFO:pyscope.reduction.ccd_calib:Loading dark frame: ./images/calibrations/2024-05-03T17-56-00/master_dark_read2_gain4x_1x1.fts\n",
      "INFO:pyscope.reduction.ccd_calib:Loading flat frame: ./images/calibrations/2024-05-03T17-56-00/master_flat_r_read2_gain4x_1x1.fts\n",
      "INFO:pyscope.reduction.ccd_calib:Looping through images...\n",
      "INFO:pyscope.reduction.ccd_calib:Found 1 images\n",
      "INFO:pyscope.reduction.ccd_calib:Calibrating D:\\RLMT\\images\\mjc_mjcMay02_TIC 48217457_r_90s_2024-05-03T08-14-30_wcs.fts...\n",
      "WARNING:pyscope.reduction.ccd_calib:Image readout mode (1MHzHighSensitivity16-bit) does not match dark readout mode (1MHz High Sensitivity 16-bit)\n",
      "WARNING:pyscope.reduction.ccd_calib:Image readout mode (1MHzHighSensitivity16-bit) does not match flat readout mode (1MHz High Sensitivity 16-bit)\n",
      "INFO:pyscope.reduction.ccd_calib:Applying bias frame (CCD selected)...\n",
      "INFO:pyscope.reduction.ccd_calib:Applying the dark frame. CCD selected so a bias-subtracted\n",
      "                            dark frame is scaled by the ratio of the image exposure time over\n",
      "                            the dark exposure time then subtracted from the image.\n",
      "INFO:pyscope.reduction.ccd_calib:Checking if flat frame has a pedestal...\n"
     ]
    },
    {
     "name": "stdout",
     "output_type": "stream",
     "text": [
      "Calibrating D:\\RLMT\\images\\mjc_mjcMay02_TIC 48217457_r_90s_2024-05-03T08-14-30_wcs.fts\n"
     ]
    },
    {
     "name": "stderr",
     "output_type": "stream",
     "text": [
      "INFO:pyscope.reduction.ccd_calib:Normalizing the flat frame by the mean of the entire image.\n",
      "INFO:pyscope.reduction.ccd_calib:flat_mean: 0.9999478043049569\n",
      "INFO:pyscope.reduction.ccd_calib:Applying the flat frame...\n",
      "INFO:pyscope.reduction.ccd_calib:Flooring the calibrated image...\n",
      "INFO:pyscope.reduction.ccd_calib:Adding pedestal of 1000\n",
      "INFO:pyscope.reduction.ccd_calib:Removing hot pixels...\n",
      "INFO:pyscope.reduction.ccd_calib:Clipping to uint16 range...\n",
      "INFO:pyscope.reduction.ccd_calib:Writing calibrated status to header...\n",
      "INFO:pyscope.reduction.ccd_calib:Writing calibrated image to D:\\RLMT\\images\\mjc_mjcMay02_TIC 48217457_r_90s_2024-05-03T08-14-30_wcs.fts\n",
      "INFO:pyscope.reduction.ccd_calib:Done!\n",
      "INFO:pyscope.reduction.ccd_calib:Loading calibration frames...\n",
      "INFO:pyscope.reduction.ccd_calib:Loading bias frame: ./images/calibrations/2024-05-03T17-56-00/master_bias_read2_gain4x_1x1.fts\n",
      "INFO:pyscope.reduction.ccd_calib:Loading dark frame: ./images/calibrations/2024-05-03T17-56-00/master_dark_read2_gain4x_1x1.fts\n",
      "INFO:pyscope.reduction.ccd_calib:Loading flat frame: ./images/calibrations/2024-05-03T17-56-00/master_flat_r_read2_gain4x_1x1.fts\n",
      "INFO:pyscope.reduction.ccd_calib:Looping through images...\n",
      "INFO:pyscope.reduction.ccd_calib:Found 1 images\n",
      "INFO:pyscope.reduction.ccd_calib:Calibrating D:\\RLMT\\images\\mjc_mjcMay02_TIC 48217457_r_90s_2024-05-03T08-16-00_wcs.fts...\n",
      "WARNING:pyscope.reduction.ccd_calib:Image readout mode (1MHzHighSensitivity16-bit) does not match dark readout mode (1MHz High Sensitivity 16-bit)\n",
      "WARNING:pyscope.reduction.ccd_calib:Image readout mode (1MHzHighSensitivity16-bit) does not match flat readout mode (1MHz High Sensitivity 16-bit)\n",
      "INFO:pyscope.reduction.ccd_calib:Applying bias frame (CCD selected)...\n",
      "INFO:pyscope.reduction.ccd_calib:Applying the dark frame. CCD selected so a bias-subtracted\n",
      "                            dark frame is scaled by the ratio of the image exposure time over\n",
      "                            the dark exposure time then subtracted from the image.\n",
      "INFO:pyscope.reduction.ccd_calib:Checking if flat frame has a pedestal...\n",
      "INFO:pyscope.reduction.ccd_calib:Normalizing the flat frame by the mean of the entire image.\n",
      "INFO:pyscope.reduction.ccd_calib:flat_mean: 0.9999478043049569\n"
     ]
    },
    {
     "name": "stdout",
     "output_type": "stream",
     "text": [
      "Calibrating D:\\RLMT\\images\\mjc_mjcMay02_TIC 48217457_r_90s_2024-05-03T08-16-00_wcs.fts\n"
     ]
    },
    {
     "name": "stderr",
     "output_type": "stream",
     "text": [
      "INFO:pyscope.reduction.ccd_calib:Applying the flat frame...\n",
      "INFO:pyscope.reduction.ccd_calib:Flooring the calibrated image...\n",
      "INFO:pyscope.reduction.ccd_calib:Adding pedestal of 1000\n",
      "INFO:pyscope.reduction.ccd_calib:Removing hot pixels...\n",
      "INFO:pyscope.reduction.ccd_calib:Clipping to uint16 range...\n",
      "INFO:pyscope.reduction.ccd_calib:Writing calibrated status to header...\n",
      "INFO:pyscope.reduction.ccd_calib:Writing calibrated image to D:\\RLMT\\images\\mjc_mjcMay02_TIC 48217457_r_90s_2024-05-03T08-16-00_wcs.fts\n",
      "INFO:pyscope.reduction.ccd_calib:Done!\n",
      "INFO:pyscope.reduction.ccd_calib:Loading calibration frames...\n",
      "INFO:pyscope.reduction.ccd_calib:Loading bias frame: ./images/calibrations/2024-05-03T17-56-00/master_bias_read2_gain4x_1x1.fts\n",
      "INFO:pyscope.reduction.ccd_calib:Loading dark frame: ./images/calibrations/2024-05-03T17-56-00/master_dark_read2_gain4x_1x1.fts\n",
      "INFO:pyscope.reduction.ccd_calib:Loading flat frame: ./images/calibrations/2024-05-03T17-56-00/master_flat_r_read2_gain4x_1x1.fts\n",
      "INFO:pyscope.reduction.ccd_calib:Looping through images...\n",
      "INFO:pyscope.reduction.ccd_calib:Found 1 images\n",
      "INFO:pyscope.reduction.ccd_calib:Calibrating D:\\RLMT\\images\\mjc_mjcMay02_TIC 48217457_r_90s_2024-05-03T08-17-30_wcs.fts...\n",
      "WARNING:pyscope.reduction.ccd_calib:Image readout mode (1MHzHighSensitivity16-bit) does not match dark readout mode (1MHz High Sensitivity 16-bit)\n",
      "WARNING:pyscope.reduction.ccd_calib:Image readout mode (1MHzHighSensitivity16-bit) does not match flat readout mode (1MHz High Sensitivity 16-bit)\n",
      "INFO:pyscope.reduction.ccd_calib:Applying bias frame (CCD selected)...\n",
      "INFO:pyscope.reduction.ccd_calib:Applying the dark frame. CCD selected so a bias-subtracted\n",
      "                            dark frame is scaled by the ratio of the image exposure time over\n",
      "                            the dark exposure time then subtracted from the image.\n"
     ]
    },
    {
     "name": "stdout",
     "output_type": "stream",
     "text": [
      "Calibrating D:\\RLMT\\images\\mjc_mjcMay02_TIC 48217457_r_90s_2024-05-03T08-17-30_wcs.fts\n"
     ]
    },
    {
     "name": "stderr",
     "output_type": "stream",
     "text": [
      "INFO:pyscope.reduction.ccd_calib:Checking if flat frame has a pedestal...\n",
      "INFO:pyscope.reduction.ccd_calib:Normalizing the flat frame by the mean of the entire image.\n",
      "INFO:pyscope.reduction.ccd_calib:flat_mean: 0.9999478043049569\n",
      "INFO:pyscope.reduction.ccd_calib:Applying the flat frame...\n",
      "INFO:pyscope.reduction.ccd_calib:Flooring the calibrated image...\n",
      "INFO:pyscope.reduction.ccd_calib:Adding pedestal of 1000\n",
      "INFO:pyscope.reduction.ccd_calib:Removing hot pixels...\n",
      "INFO:pyscope.reduction.ccd_calib:Clipping to uint16 range...\n",
      "INFO:pyscope.reduction.ccd_calib:Writing calibrated status to header...\n",
      "INFO:pyscope.reduction.ccd_calib:Writing calibrated image to D:\\RLMT\\images\\mjc_mjcMay02_TIC 48217457_r_90s_2024-05-03T08-17-30_wcs.fts\n",
      "INFO:pyscope.reduction.ccd_calib:Done!\n",
      "INFO:pyscope.reduction.ccd_calib:Loading calibration frames...\n",
      "INFO:pyscope.reduction.ccd_calib:Loading bias frame: ./images/calibrations/2024-05-03T17-56-00/master_bias_read2_gain4x_1x1.fts\n",
      "INFO:pyscope.reduction.ccd_calib:Loading dark frame: ./images/calibrations/2024-05-03T17-56-00/master_dark_read2_gain4x_1x1.fts\n",
      "INFO:pyscope.reduction.ccd_calib:Loading flat frame: ./images/calibrations/2024-05-03T17-56-00/master_flat_r_read2_gain4x_1x1.fts\n",
      "INFO:pyscope.reduction.ccd_calib:Looping through images...\n",
      "INFO:pyscope.reduction.ccd_calib:Found 1 images\n",
      "INFO:pyscope.reduction.ccd_calib:Calibrating D:\\RLMT\\images\\mjc_mjcMay02_TIC 48217457_r_90s_2024-05-03T08-19-00_wcs.fts...\n",
      "WARNING:pyscope.reduction.ccd_calib:Image readout mode (1MHzHighSensitivity16-bit) does not match dark readout mode (1MHz High Sensitivity 16-bit)\n",
      "WARNING:pyscope.reduction.ccd_calib:Image readout mode (1MHzHighSensitivity16-bit) does not match flat readout mode (1MHz High Sensitivity 16-bit)\n",
      "INFO:pyscope.reduction.ccd_calib:Applying bias frame (CCD selected)...\n",
      "INFO:pyscope.reduction.ccd_calib:Applying the dark frame. CCD selected so a bias-subtracted\n",
      "                            dark frame is scaled by the ratio of the image exposure time over\n",
      "                            the dark exposure time then subtracted from the image.\n",
      "INFO:pyscope.reduction.ccd_calib:Checking if flat frame has a pedestal...\n",
      "INFO:pyscope.reduction.ccd_calib:Normalizing the flat frame by the mean of the entire image.\n",
      "INFO:pyscope.reduction.ccd_calib:flat_mean: 0.9999478043049569\n",
      "INFO:pyscope.reduction.ccd_calib:Applying the flat frame...\n",
      "INFO:pyscope.reduction.ccd_calib:Flooring the calibrated image...\n"
     ]
    },
    {
     "name": "stdout",
     "output_type": "stream",
     "text": [
      "Calibrating D:\\RLMT\\images\\mjc_mjcMay02_TIC 48217457_r_90s_2024-05-03T08-19-00_wcs.fts\n"
     ]
    },
    {
     "name": "stderr",
     "output_type": "stream",
     "text": [
      "INFO:pyscope.reduction.ccd_calib:Adding pedestal of 1000\n",
      "INFO:pyscope.reduction.ccd_calib:Removing hot pixels...\n",
      "INFO:pyscope.reduction.ccd_calib:Clipping to uint16 range...\n",
      "INFO:pyscope.reduction.ccd_calib:Writing calibrated status to header...\n",
      "INFO:pyscope.reduction.ccd_calib:Writing calibrated image to D:\\RLMT\\images\\mjc_mjcMay02_TIC 48217457_r_90s_2024-05-03T08-19-00_wcs.fts\n",
      "INFO:pyscope.reduction.ccd_calib:Done!\n",
      "INFO:pyscope.reduction.ccd_calib:Loading calibration frames...\n",
      "INFO:pyscope.reduction.ccd_calib:Loading bias frame: ./images/calibrations/2024-05-03T17-56-00/master_bias_read2_gain4x_1x1.fts\n",
      "INFO:pyscope.reduction.ccd_calib:Loading dark frame: ./images/calibrations/2024-05-03T17-56-00/master_dark_read2_gain4x_1x1.fts\n",
      "INFO:pyscope.reduction.ccd_calib:Loading flat frame: ./images/calibrations/2024-05-03T17-56-00/master_flat_r_read2_gain4x_1x1.fts\n",
      "INFO:pyscope.reduction.ccd_calib:Looping through images...\n",
      "INFO:pyscope.reduction.ccd_calib:Found 1 images\n",
      "INFO:pyscope.reduction.ccd_calib:Calibrating D:\\RLMT\\images\\mjc_mjcMay02_TIC 48217457_r_90s_2024-05-03T08-20-30_wcs.fts...\n",
      "WARNING:pyscope.reduction.ccd_calib:Image readout mode (1MHzHighSensitivity16-bit) does not match dark readout mode (1MHz High Sensitivity 16-bit)\n",
      "WARNING:pyscope.reduction.ccd_calib:Image readout mode (1MHzHighSensitivity16-bit) does not match flat readout mode (1MHz High Sensitivity 16-bit)\n",
      "INFO:pyscope.reduction.ccd_calib:Applying bias frame (CCD selected)...\n",
      "INFO:pyscope.reduction.ccd_calib:Applying the dark frame. CCD selected so a bias-subtracted\n",
      "                            dark frame is scaled by the ratio of the image exposure time over\n",
      "                            the dark exposure time then subtracted from the image.\n",
      "INFO:pyscope.reduction.ccd_calib:Checking if flat frame has a pedestal...\n"
     ]
    },
    {
     "name": "stdout",
     "output_type": "stream",
     "text": [
      "Calibrating D:\\RLMT\\images\\mjc_mjcMay02_TIC 48217457_r_90s_2024-05-03T08-20-30_wcs.fts\n"
     ]
    },
    {
     "name": "stderr",
     "output_type": "stream",
     "text": [
      "INFO:pyscope.reduction.ccd_calib:Normalizing the flat frame by the mean of the entire image.\n",
      "INFO:pyscope.reduction.ccd_calib:flat_mean: 0.9999478043049569\n",
      "INFO:pyscope.reduction.ccd_calib:Applying the flat frame...\n",
      "INFO:pyscope.reduction.ccd_calib:Flooring the calibrated image...\n",
      "INFO:pyscope.reduction.ccd_calib:Adding pedestal of 1000\n",
      "INFO:pyscope.reduction.ccd_calib:Removing hot pixels...\n",
      "INFO:pyscope.reduction.ccd_calib:Clipping to uint16 range...\n",
      "INFO:pyscope.reduction.ccd_calib:Writing calibrated status to header...\n",
      "INFO:pyscope.reduction.ccd_calib:Writing calibrated image to D:\\RLMT\\images\\mjc_mjcMay02_TIC 48217457_r_90s_2024-05-03T08-20-30_wcs.fts\n",
      "INFO:pyscope.reduction.ccd_calib:Done!\n",
      "INFO:pyscope.reduction.ccd_calib:Loading calibration frames...\n",
      "INFO:pyscope.reduction.ccd_calib:Loading bias frame: ./images/calibrations/2024-05-03T17-56-00/master_bias_read2_gain4x_1x1.fts\n",
      "INFO:pyscope.reduction.ccd_calib:Loading dark frame: ./images/calibrations/2024-05-03T17-56-00/master_dark_read2_gain4x_1x1.fts\n",
      "INFO:pyscope.reduction.ccd_calib:Loading flat frame: ./images/calibrations/2024-05-03T17-56-00/master_flat_r_read2_gain4x_1x1.fts\n",
      "INFO:pyscope.reduction.ccd_calib:Looping through images...\n",
      "INFO:pyscope.reduction.ccd_calib:Found 1 images\n",
      "INFO:pyscope.reduction.ccd_calib:Calibrating D:\\RLMT\\images\\mjc_mjcMay02_TIC 48217457_r_90s_2024-05-03T08-22-00_wcs.fts...\n",
      "WARNING:pyscope.reduction.ccd_calib:Image readout mode (1MHzHighSensitivity16-bit) does not match dark readout mode (1MHz High Sensitivity 16-bit)\n",
      "WARNING:pyscope.reduction.ccd_calib:Image readout mode (1MHzHighSensitivity16-bit) does not match flat readout mode (1MHz High Sensitivity 16-bit)\n",
      "INFO:pyscope.reduction.ccd_calib:Applying bias frame (CCD selected)...\n",
      "INFO:pyscope.reduction.ccd_calib:Applying the dark frame. CCD selected so a bias-subtracted\n",
      "                            dark frame is scaled by the ratio of the image exposure time over\n",
      "                            the dark exposure time then subtracted from the image.\n",
      "INFO:pyscope.reduction.ccd_calib:Checking if flat frame has a pedestal...\n"
     ]
    },
    {
     "name": "stdout",
     "output_type": "stream",
     "text": [
      "Calibrating D:\\RLMT\\images\\mjc_mjcMay02_TIC 48217457_r_90s_2024-05-03T08-22-00_wcs.fts\n"
     ]
    },
    {
     "name": "stderr",
     "output_type": "stream",
     "text": [
      "INFO:pyscope.reduction.ccd_calib:Normalizing the flat frame by the mean of the entire image.\n",
      "INFO:pyscope.reduction.ccd_calib:flat_mean: 0.9999478043049569\n",
      "INFO:pyscope.reduction.ccd_calib:Applying the flat frame...\n",
      "INFO:pyscope.reduction.ccd_calib:Flooring the calibrated image...\n",
      "INFO:pyscope.reduction.ccd_calib:Adding pedestal of 1000\n",
      "INFO:pyscope.reduction.ccd_calib:Removing hot pixels...\n",
      "INFO:pyscope.reduction.ccd_calib:Clipping to uint16 range...\n",
      "INFO:pyscope.reduction.ccd_calib:Writing calibrated status to header...\n",
      "INFO:pyscope.reduction.ccd_calib:Writing calibrated image to D:\\RLMT\\images\\mjc_mjcMay02_TIC 48217457_r_90s_2024-05-03T08-22-00_wcs.fts\n",
      "INFO:pyscope.reduction.ccd_calib:Done!\n",
      "INFO:pyscope.reduction.ccd_calib:Loading calibration frames...\n",
      "INFO:pyscope.reduction.ccd_calib:Loading bias frame: ./images/calibrations/2024-05-03T17-56-00/master_bias_read2_gain4x_1x1.fts\n",
      "INFO:pyscope.reduction.ccd_calib:Loading dark frame: ./images/calibrations/2024-05-03T17-56-00/master_dark_read2_gain4x_1x1.fts\n",
      "INFO:pyscope.reduction.ccd_calib:Loading flat frame: ./images/calibrations/2024-05-03T17-56-00/master_flat_r_read2_gain4x_1x1.fts\n",
      "INFO:pyscope.reduction.ccd_calib:Looping through images...\n",
      "INFO:pyscope.reduction.ccd_calib:Found 1 images\n",
      "INFO:pyscope.reduction.ccd_calib:Calibrating D:\\RLMT\\images\\mjc_mjcMay02_TIC 48217457_r_90s_2024-05-03T08-23-30_wcs.fts...\n",
      "WARNING:pyscope.reduction.ccd_calib:Image readout mode (1MHzHighSensitivity16-bit) does not match dark readout mode (1MHz High Sensitivity 16-bit)\n",
      "WARNING:pyscope.reduction.ccd_calib:Image readout mode (1MHzHighSensitivity16-bit) does not match flat readout mode (1MHz High Sensitivity 16-bit)\n",
      "INFO:pyscope.reduction.ccd_calib:Applying bias frame (CCD selected)...\n",
      "INFO:pyscope.reduction.ccd_calib:Applying the dark frame. CCD selected so a bias-subtracted\n",
      "                            dark frame is scaled by the ratio of the image exposure time over\n",
      "                            the dark exposure time then subtracted from the image.\n",
      "INFO:pyscope.reduction.ccd_calib:Checking if flat frame has a pedestal...\n",
      "INFO:pyscope.reduction.ccd_calib:Normalizing the flat frame by the mean of the entire image.\n",
      "INFO:pyscope.reduction.ccd_calib:flat_mean: 0.9999478043049569\n"
     ]
    },
    {
     "name": "stdout",
     "output_type": "stream",
     "text": [
      "Calibrating D:\\RLMT\\images\\mjc_mjcMay02_TIC 48217457_r_90s_2024-05-03T08-23-30_wcs.fts\n"
     ]
    },
    {
     "name": "stderr",
     "output_type": "stream",
     "text": [
      "INFO:pyscope.reduction.ccd_calib:Applying the flat frame...\n",
      "INFO:pyscope.reduction.ccd_calib:Flooring the calibrated image...\n",
      "INFO:pyscope.reduction.ccd_calib:Adding pedestal of 1000\n",
      "INFO:pyscope.reduction.ccd_calib:Removing hot pixels...\n",
      "INFO:pyscope.reduction.ccd_calib:Clipping to uint16 range...\n",
      "INFO:pyscope.reduction.ccd_calib:Writing calibrated status to header...\n",
      "INFO:pyscope.reduction.ccd_calib:Writing calibrated image to D:\\RLMT\\images\\mjc_mjcMay02_TIC 48217457_r_90s_2024-05-03T08-23-30_wcs.fts\n",
      "INFO:pyscope.reduction.ccd_calib:Done!\n",
      "INFO:pyscope.reduction.ccd_calib:Loading calibration frames...\n",
      "INFO:pyscope.reduction.ccd_calib:Loading bias frame: ./images/calibrations/2024-05-03T17-56-00/master_bias_read2_gain4x_1x1.fts\n",
      "INFO:pyscope.reduction.ccd_calib:Loading dark frame: ./images/calibrations/2024-05-03T17-56-00/master_dark_read2_gain4x_1x1.fts\n",
      "INFO:pyscope.reduction.ccd_calib:Loading flat frame: ./images/calibrations/2024-05-03T17-56-00/master_flat_r_read2_gain4x_1x1.fts\n",
      "INFO:pyscope.reduction.ccd_calib:Looping through images...\n",
      "INFO:pyscope.reduction.ccd_calib:Found 1 images\n",
      "INFO:pyscope.reduction.ccd_calib:Calibrating D:\\RLMT\\images\\mjc_mjcMay02_TIC 48217457_r_90s_2024-05-03T08-25-00_wcs.fts...\n",
      "WARNING:pyscope.reduction.ccd_calib:Image readout mode (1MHzHighSensitivity16-bit) does not match dark readout mode (1MHz High Sensitivity 16-bit)\n",
      "WARNING:pyscope.reduction.ccd_calib:Image readout mode (1MHzHighSensitivity16-bit) does not match flat readout mode (1MHz High Sensitivity 16-bit)\n",
      "INFO:pyscope.reduction.ccd_calib:Applying bias frame (CCD selected)...\n",
      "INFO:pyscope.reduction.ccd_calib:Applying the dark frame. CCD selected so a bias-subtracted\n",
      "                            dark frame is scaled by the ratio of the image exposure time over\n",
      "                            the dark exposure time then subtracted from the image.\n",
      "INFO:pyscope.reduction.ccd_calib:Checking if flat frame has a pedestal...\n",
      "INFO:pyscope.reduction.ccd_calib:Normalizing the flat frame by the mean of the entire image.\n",
      "INFO:pyscope.reduction.ccd_calib:flat_mean: 0.9999478043049569\n",
      "INFO:pyscope.reduction.ccd_calib:Applying the flat frame...\n",
      "INFO:pyscope.reduction.ccd_calib:Flooring the calibrated image...\n"
     ]
    },
    {
     "name": "stdout",
     "output_type": "stream",
     "text": [
      "Calibrating D:\\RLMT\\images\\mjc_mjcMay02_TIC 48217457_r_90s_2024-05-03T08-25-00_wcs.fts\n"
     ]
    },
    {
     "name": "stderr",
     "output_type": "stream",
     "text": [
      "INFO:pyscope.reduction.ccd_calib:Adding pedestal of 1000\n",
      "INFO:pyscope.reduction.ccd_calib:Removing hot pixels...\n",
      "INFO:pyscope.reduction.ccd_calib:Clipping to uint16 range...\n",
      "INFO:pyscope.reduction.ccd_calib:Writing calibrated status to header...\n",
      "INFO:pyscope.reduction.ccd_calib:Writing calibrated image to D:\\RLMT\\images\\mjc_mjcMay02_TIC 48217457_r_90s_2024-05-03T08-25-00_wcs.fts\n",
      "INFO:pyscope.reduction.ccd_calib:Done!\n",
      "INFO:pyscope.reduction.ccd_calib:Loading calibration frames...\n",
      "INFO:pyscope.reduction.ccd_calib:Loading bias frame: ./images/calibrations/2024-05-03T17-56-00/master_bias_read2_gain4x_1x1.fts\n",
      "INFO:pyscope.reduction.ccd_calib:Loading dark frame: ./images/calibrations/2024-05-03T17-56-00/master_dark_read2_gain4x_1x1.fts\n",
      "INFO:pyscope.reduction.ccd_calib:Loading flat frame: ./images/calibrations/2024-05-03T17-56-00/master_flat_r_read2_gain4x_1x1.fts\n",
      "INFO:pyscope.reduction.ccd_calib:Looping through images...\n",
      "INFO:pyscope.reduction.ccd_calib:Found 1 images\n",
      "INFO:pyscope.reduction.ccd_calib:Calibrating D:\\RLMT\\images\\mjc_mjcMay02_TIC 48217457_r_90s_2024-05-03T08-26-30_wcs.fts...\n",
      "WARNING:pyscope.reduction.ccd_calib:Image readout mode (1MHzHighSensitivity16-bit) does not match dark readout mode (1MHz High Sensitivity 16-bit)\n",
      "WARNING:pyscope.reduction.ccd_calib:Image readout mode (1MHzHighSensitivity16-bit) does not match flat readout mode (1MHz High Sensitivity 16-bit)\n",
      "INFO:pyscope.reduction.ccd_calib:Applying bias frame (CCD selected)...\n",
      "INFO:pyscope.reduction.ccd_calib:Applying the dark frame. CCD selected so a bias-subtracted\n",
      "                            dark frame is scaled by the ratio of the image exposure time over\n",
      "                            the dark exposure time then subtracted from the image.\n",
      "INFO:pyscope.reduction.ccd_calib:Checking if flat frame has a pedestal...\n",
      "INFO:pyscope.reduction.ccd_calib:Normalizing the flat frame by the mean of the entire image.\n",
      "INFO:pyscope.reduction.ccd_calib:flat_mean: 0.9999478043049569\n",
      "INFO:pyscope.reduction.ccd_calib:Applying the flat frame...\n"
     ]
    },
    {
     "name": "stdout",
     "output_type": "stream",
     "text": [
      "Calibrating D:\\RLMT\\images\\mjc_mjcMay02_TIC 48217457_r_90s_2024-05-03T08-26-30_wcs.fts\n"
     ]
    },
    {
     "name": "stderr",
     "output_type": "stream",
     "text": [
      "INFO:pyscope.reduction.ccd_calib:Flooring the calibrated image...\n",
      "INFO:pyscope.reduction.ccd_calib:Adding pedestal of 1000\n",
      "INFO:pyscope.reduction.ccd_calib:Removing hot pixels...\n",
      "INFO:pyscope.reduction.ccd_calib:Clipping to uint16 range...\n",
      "INFO:pyscope.reduction.ccd_calib:Writing calibrated status to header...\n",
      "INFO:pyscope.reduction.ccd_calib:Writing calibrated image to D:\\RLMT\\images\\mjc_mjcMay02_TIC 48217457_r_90s_2024-05-03T08-26-30_wcs.fts\n",
      "INFO:pyscope.reduction.ccd_calib:Done!\n",
      "INFO:pyscope.reduction.ccd_calib:Loading calibration frames...\n",
      "INFO:pyscope.reduction.ccd_calib:Loading bias frame: ./images/calibrations/2024-05-03T17-56-00/master_bias_read2_gain4x_1x1.fts\n",
      "INFO:pyscope.reduction.ccd_calib:Loading dark frame: ./images/calibrations/2024-05-03T17-56-00/master_dark_read2_gain4x_1x1.fts\n",
      "INFO:pyscope.reduction.ccd_calib:Loading flat frame: ./images/calibrations/2024-05-03T17-56-00/master_flat_r_read2_gain4x_1x1.fts\n",
      "INFO:pyscope.reduction.ccd_calib:Looping through images...\n",
      "INFO:pyscope.reduction.ccd_calib:Found 1 images\n",
      "INFO:pyscope.reduction.ccd_calib:Calibrating D:\\RLMT\\images\\mjc_mjcMay02_TIC 48217457_r_90s_2024-05-03T08-28-00_wcs.fts...\n",
      "WARNING:pyscope.reduction.ccd_calib:Image readout mode (1MHzHighSensitivity16-bit) does not match dark readout mode (1MHz High Sensitivity 16-bit)\n",
      "WARNING:pyscope.reduction.ccd_calib:Image readout mode (1MHzHighSensitivity16-bit) does not match flat readout mode (1MHz High Sensitivity 16-bit)\n",
      "INFO:pyscope.reduction.ccd_calib:Applying bias frame (CCD selected)...\n",
      "INFO:pyscope.reduction.ccd_calib:Applying the dark frame. CCD selected so a bias-subtracted\n",
      "                            dark frame is scaled by the ratio of the image exposure time over\n",
      "                            the dark exposure time then subtracted from the image.\n",
      "INFO:pyscope.reduction.ccd_calib:Checking if flat frame has a pedestal...\n",
      "INFO:pyscope.reduction.ccd_calib:Normalizing the flat frame by the mean of the entire image.\n",
      "INFO:pyscope.reduction.ccd_calib:flat_mean: 0.9999478043049569\n"
     ]
    },
    {
     "name": "stdout",
     "output_type": "stream",
     "text": [
      "Calibrating D:\\RLMT\\images\\mjc_mjcMay02_TIC 48217457_r_90s_2024-05-03T08-28-00_wcs.fts\n"
     ]
    },
    {
     "name": "stderr",
     "output_type": "stream",
     "text": [
      "INFO:pyscope.reduction.ccd_calib:Applying the flat frame...\n",
      "INFO:pyscope.reduction.ccd_calib:Flooring the calibrated image...\n",
      "INFO:pyscope.reduction.ccd_calib:Adding pedestal of 1000\n",
      "INFO:pyscope.reduction.ccd_calib:Removing hot pixels...\n",
      "INFO:pyscope.reduction.ccd_calib:Clipping to uint16 range...\n",
      "INFO:pyscope.reduction.ccd_calib:Writing calibrated status to header...\n",
      "INFO:pyscope.reduction.ccd_calib:Writing calibrated image to D:\\RLMT\\images\\mjc_mjcMay02_TIC 48217457_r_90s_2024-05-03T08-28-00_wcs.fts\n",
      "INFO:pyscope.reduction.ccd_calib:Done!\n",
      "INFO:pyscope.reduction.ccd_calib:Loading calibration frames...\n",
      "INFO:pyscope.reduction.ccd_calib:Loading bias frame: ./images/calibrations/2024-05-03T17-56-00/master_bias_read2_gain4x_1x1.fts\n",
      "INFO:pyscope.reduction.ccd_calib:Loading dark frame: ./images/calibrations/2024-05-03T17-56-00/master_dark_read2_gain4x_1x1.fts\n",
      "INFO:pyscope.reduction.ccd_calib:Loading flat frame: ./images/calibrations/2024-05-03T17-56-00/master_flat_r_read2_gain4x_1x1.fts\n",
      "INFO:pyscope.reduction.ccd_calib:Looping through images...\n",
      "INFO:pyscope.reduction.ccd_calib:Found 1 images\n",
      "INFO:pyscope.reduction.ccd_calib:Calibrating D:\\RLMT\\images\\mjc_mjcMay02_TIC 48217457_r_90s_2024-05-03T08-29-30_wcs.fts...\n",
      "WARNING:pyscope.reduction.ccd_calib:Image readout mode (1MHzHighSensitivity16-bit) does not match dark readout mode (1MHz High Sensitivity 16-bit)\n",
      "WARNING:pyscope.reduction.ccd_calib:Image readout mode (1MHzHighSensitivity16-bit) does not match flat readout mode (1MHz High Sensitivity 16-bit)\n",
      "INFO:pyscope.reduction.ccd_calib:Applying bias frame (CCD selected)...\n",
      "INFO:pyscope.reduction.ccd_calib:Applying the dark frame. CCD selected so a bias-subtracted\n",
      "                            dark frame is scaled by the ratio of the image exposure time over\n",
      "                            the dark exposure time then subtracted from the image.\n",
      "INFO:pyscope.reduction.ccd_calib:Checking if flat frame has a pedestal...\n",
      "INFO:pyscope.reduction.ccd_calib:Normalizing the flat frame by the mean of the entire image.\n",
      "INFO:pyscope.reduction.ccd_calib:flat_mean: 0.9999478043049569\n",
      "INFO:pyscope.reduction.ccd_calib:Applying the flat frame...\n"
     ]
    },
    {
     "name": "stdout",
     "output_type": "stream",
     "text": [
      "Calibrating D:\\RLMT\\images\\mjc_mjcMay02_TIC 48217457_r_90s_2024-05-03T08-29-30_wcs.fts\n"
     ]
    },
    {
     "name": "stderr",
     "output_type": "stream",
     "text": [
      "INFO:pyscope.reduction.ccd_calib:Flooring the calibrated image...\n",
      "INFO:pyscope.reduction.ccd_calib:Adding pedestal of 1000\n",
      "INFO:pyscope.reduction.ccd_calib:Removing hot pixels...\n",
      "INFO:pyscope.reduction.ccd_calib:Clipping to uint16 range...\n",
      "INFO:pyscope.reduction.ccd_calib:Writing calibrated status to header...\n",
      "INFO:pyscope.reduction.ccd_calib:Writing calibrated image to D:\\RLMT\\images\\mjc_mjcMay02_TIC 48217457_r_90s_2024-05-03T08-29-30_wcs.fts\n",
      "INFO:pyscope.reduction.ccd_calib:Done!\n",
      "INFO:pyscope.reduction.ccd_calib:Loading calibration frames...\n",
      "INFO:pyscope.reduction.ccd_calib:Loading bias frame: ./images/calibrations/2024-05-03T17-56-00/master_bias_read2_gain4x_1x1.fts\n",
      "INFO:pyscope.reduction.ccd_calib:Loading dark frame: ./images/calibrations/2024-05-03T17-56-00/master_dark_read2_gain4x_1x1.fts\n",
      "INFO:pyscope.reduction.ccd_calib:Loading flat frame: ./images/calibrations/2024-05-03T17-56-00/master_flat_r_read2_gain4x_1x1.fts\n",
      "INFO:pyscope.reduction.ccd_calib:Looping through images...\n",
      "INFO:pyscope.reduction.ccd_calib:Found 1 images\n",
      "INFO:pyscope.reduction.ccd_calib:Calibrating D:\\RLMT\\images\\mjc_mjcMay02_TIC 48217457_r_90s_2024-05-03T08-31-00_wcs.fts...\n",
      "WARNING:pyscope.reduction.ccd_calib:Image readout mode (1MHzHighSensitivity16-bit) does not match dark readout mode (1MHz High Sensitivity 16-bit)\n",
      "WARNING:pyscope.reduction.ccd_calib:Image readout mode (1MHzHighSensitivity16-bit) does not match flat readout mode (1MHz High Sensitivity 16-bit)\n",
      "INFO:pyscope.reduction.ccd_calib:Applying bias frame (CCD selected)...\n",
      "INFO:pyscope.reduction.ccd_calib:Applying the dark frame. CCD selected so a bias-subtracted\n",
      "                            dark frame is scaled by the ratio of the image exposure time over\n",
      "                            the dark exposure time then subtracted from the image.\n",
      "INFO:pyscope.reduction.ccd_calib:Checking if flat frame has a pedestal...\n",
      "INFO:pyscope.reduction.ccd_calib:Normalizing the flat frame by the mean of the entire image.\n",
      "INFO:pyscope.reduction.ccd_calib:flat_mean: 0.9999478043049569\n",
      "INFO:pyscope.reduction.ccd_calib:Applying the flat frame...\n",
      "INFO:pyscope.reduction.ccd_calib:Flooring the calibrated image...\n"
     ]
    },
    {
     "name": "stdout",
     "output_type": "stream",
     "text": [
      "Calibrating D:\\RLMT\\images\\mjc_mjcMay02_TIC 48217457_r_90s_2024-05-03T08-31-00_wcs.fts\n"
     ]
    },
    {
     "name": "stderr",
     "output_type": "stream",
     "text": [
      "INFO:pyscope.reduction.ccd_calib:Adding pedestal of 1000\n",
      "INFO:pyscope.reduction.ccd_calib:Removing hot pixels...\n",
      "INFO:pyscope.reduction.ccd_calib:Clipping to uint16 range...\n",
      "INFO:pyscope.reduction.ccd_calib:Writing calibrated status to header...\n",
      "INFO:pyscope.reduction.ccd_calib:Writing calibrated image to D:\\RLMT\\images\\mjc_mjcMay02_TIC 48217457_r_90s_2024-05-03T08-31-00_wcs.fts\n",
      "INFO:pyscope.reduction.ccd_calib:Done!\n",
      "INFO:pyscope.reduction.ccd_calib:Loading calibration frames...\n",
      "INFO:pyscope.reduction.ccd_calib:Loading bias frame: ./images/calibrations/2024-05-03T17-56-00/master_bias_read2_gain4x_1x1.fts\n",
      "INFO:pyscope.reduction.ccd_calib:Loading dark frame: ./images/calibrations/2024-05-03T17-56-00/master_dark_read2_gain4x_1x1.fts\n",
      "INFO:pyscope.reduction.ccd_calib:Loading flat frame: ./images/calibrations/2024-05-03T17-56-00/master_flat_r_read2_gain4x_1x1.fts\n",
      "INFO:pyscope.reduction.ccd_calib:Looping through images...\n",
      "INFO:pyscope.reduction.ccd_calib:Found 1 images\n",
      "INFO:pyscope.reduction.ccd_calib:Calibrating D:\\RLMT\\images\\mjc_mjcMay02_TIC 48217457_r_90s_2024-05-03T08-32-30_wcs.fts...\n",
      "WARNING:pyscope.reduction.ccd_calib:Image readout mode (1MHzHighSensitivity16-bit) does not match dark readout mode (1MHz High Sensitivity 16-bit)\n",
      "WARNING:pyscope.reduction.ccd_calib:Image readout mode (1MHzHighSensitivity16-bit) does not match flat readout mode (1MHz High Sensitivity 16-bit)\n",
      "INFO:pyscope.reduction.ccd_calib:Applying bias frame (CCD selected)...\n",
      "INFO:pyscope.reduction.ccd_calib:Applying the dark frame. CCD selected so a bias-subtracted\n",
      "                            dark frame is scaled by the ratio of the image exposure time over\n",
      "                            the dark exposure time then subtracted from the image.\n",
      "INFO:pyscope.reduction.ccd_calib:Checking if flat frame has a pedestal...\n",
      "INFO:pyscope.reduction.ccd_calib:Normalizing the flat frame by the mean of the entire image.\n",
      "INFO:pyscope.reduction.ccd_calib:flat_mean: 0.9999478043049569\n",
      "INFO:pyscope.reduction.ccd_calib:Applying the flat frame...\n"
     ]
    },
    {
     "name": "stdout",
     "output_type": "stream",
     "text": [
      "Calibrating D:\\RLMT\\images\\mjc_mjcMay02_TIC 48217457_r_90s_2024-05-03T08-32-30_wcs.fts\n"
     ]
    },
    {
     "name": "stderr",
     "output_type": "stream",
     "text": [
      "INFO:pyscope.reduction.ccd_calib:Flooring the calibrated image...\n",
      "INFO:pyscope.reduction.ccd_calib:Adding pedestal of 1000\n",
      "INFO:pyscope.reduction.ccd_calib:Removing hot pixels...\n",
      "INFO:pyscope.reduction.ccd_calib:Clipping to uint16 range...\n",
      "INFO:pyscope.reduction.ccd_calib:Writing calibrated status to header...\n",
      "INFO:pyscope.reduction.ccd_calib:Writing calibrated image to D:\\RLMT\\images\\mjc_mjcMay02_TIC 48217457_r_90s_2024-05-03T08-32-30_wcs.fts\n",
      "INFO:pyscope.reduction.ccd_calib:Done!\n",
      "INFO:pyscope.reduction.ccd_calib:Loading calibration frames...\n",
      "INFO:pyscope.reduction.ccd_calib:Loading bias frame: ./images/calibrations/2024-05-03T17-56-00/master_bias_read2_gain4x_1x1.fts\n",
      "INFO:pyscope.reduction.ccd_calib:Loading dark frame: ./images/calibrations/2024-05-03T17-56-00/master_dark_read2_gain4x_1x1.fts\n",
      "INFO:pyscope.reduction.ccd_calib:Loading flat frame: ./images/calibrations/2024-05-03T17-56-00/master_flat_r_read2_gain4x_1x1.fts\n",
      "INFO:pyscope.reduction.ccd_calib:Looping through images...\n",
      "INFO:pyscope.reduction.ccd_calib:Found 1 images\n",
      "INFO:pyscope.reduction.ccd_calib:Calibrating D:\\RLMT\\images\\mjc_mjcMay02_TIC 48217457_r_90s_2024-05-03T08-34-00_wcs.fts...\n",
      "WARNING:pyscope.reduction.ccd_calib:Image readout mode (1MHzHighSensitivity16-bit) does not match dark readout mode (1MHz High Sensitivity 16-bit)\n",
      "WARNING:pyscope.reduction.ccd_calib:Image readout mode (1MHzHighSensitivity16-bit) does not match flat readout mode (1MHz High Sensitivity 16-bit)\n",
      "INFO:pyscope.reduction.ccd_calib:Applying bias frame (CCD selected)...\n",
      "INFO:pyscope.reduction.ccd_calib:Applying the dark frame. CCD selected so a bias-subtracted\n",
      "                            dark frame is scaled by the ratio of the image exposure time over\n",
      "                            the dark exposure time then subtracted from the image.\n",
      "INFO:pyscope.reduction.ccd_calib:Checking if flat frame has a pedestal...\n",
      "INFO:pyscope.reduction.ccd_calib:Normalizing the flat frame by the mean of the entire image.\n",
      "INFO:pyscope.reduction.ccd_calib:flat_mean: 0.9999478043049569\n",
      "INFO:pyscope.reduction.ccd_calib:Applying the flat frame...\n"
     ]
    },
    {
     "name": "stdout",
     "output_type": "stream",
     "text": [
      "Calibrating D:\\RLMT\\images\\mjc_mjcMay02_TIC 48217457_r_90s_2024-05-03T08-34-00_wcs.fts\n"
     ]
    },
    {
     "name": "stderr",
     "output_type": "stream",
     "text": [
      "INFO:pyscope.reduction.ccd_calib:Flooring the calibrated image...\n",
      "INFO:pyscope.reduction.ccd_calib:Adding pedestal of 1000\n",
      "INFO:pyscope.reduction.ccd_calib:Removing hot pixels...\n",
      "INFO:pyscope.reduction.ccd_calib:Clipping to uint16 range...\n",
      "INFO:pyscope.reduction.ccd_calib:Writing calibrated status to header...\n",
      "INFO:pyscope.reduction.ccd_calib:Writing calibrated image to D:\\RLMT\\images\\mjc_mjcMay02_TIC 48217457_r_90s_2024-05-03T08-34-00_wcs.fts\n",
      "INFO:pyscope.reduction.ccd_calib:Done!\n",
      "INFO:pyscope.reduction.ccd_calib:Loading calibration frames...\n",
      "INFO:pyscope.reduction.ccd_calib:Loading bias frame: ./images/calibrations/2024-05-03T17-56-00/master_bias_read2_gain4x_1x1.fts\n",
      "INFO:pyscope.reduction.ccd_calib:Loading dark frame: ./images/calibrations/2024-05-03T17-56-00/master_dark_read2_gain4x_1x1.fts\n",
      "INFO:pyscope.reduction.ccd_calib:Loading flat frame: ./images/calibrations/2024-05-03T17-56-00/master_flat_r_read2_gain4x_1x1.fts\n",
      "INFO:pyscope.reduction.ccd_calib:Looping through images...\n",
      "INFO:pyscope.reduction.ccd_calib:Found 1 images\n",
      "INFO:pyscope.reduction.ccd_calib:Calibrating D:\\RLMT\\images\\mjc_mjcMay02_TIC 48217457_r_90s_2024-05-03T08-35-30_wcs.fts...\n",
      "WARNING:pyscope.reduction.ccd_calib:Image readout mode (1MHzHighSensitivity16-bit) does not match dark readout mode (1MHz High Sensitivity 16-bit)\n"
     ]
    },
    {
     "name": "stdout",
     "output_type": "stream",
     "text": [
      "Calibrating D:\\RLMT\\images\\mjc_mjcMay02_TIC 48217457_r_90s_2024-05-03T08-35-30_wcs.fts\n"
     ]
    },
    {
     "name": "stderr",
     "output_type": "stream",
     "text": [
      "WARNING:pyscope.reduction.ccd_calib:Image readout mode (1MHzHighSensitivity16-bit) does not match flat readout mode (1MHz High Sensitivity 16-bit)\n",
      "INFO:pyscope.reduction.ccd_calib:Applying bias frame (CCD selected)...\n",
      "INFO:pyscope.reduction.ccd_calib:Applying the dark frame. CCD selected so a bias-subtracted\n",
      "                            dark frame is scaled by the ratio of the image exposure time over\n",
      "                            the dark exposure time then subtracted from the image.\n",
      "INFO:pyscope.reduction.ccd_calib:Checking if flat frame has a pedestal...\n",
      "INFO:pyscope.reduction.ccd_calib:Normalizing the flat frame by the mean of the entire image.\n",
      "INFO:pyscope.reduction.ccd_calib:flat_mean: 0.9999478043049569\n",
      "INFO:pyscope.reduction.ccd_calib:Applying the flat frame...\n",
      "INFO:pyscope.reduction.ccd_calib:Flooring the calibrated image...\n",
      "INFO:pyscope.reduction.ccd_calib:Adding pedestal of 1000\n",
      "INFO:pyscope.reduction.ccd_calib:Removing hot pixels...\n",
      "INFO:pyscope.reduction.ccd_calib:Clipping to uint16 range...\n",
      "INFO:pyscope.reduction.ccd_calib:Writing calibrated status to header...\n",
      "INFO:pyscope.reduction.ccd_calib:Writing calibrated image to D:\\RLMT\\images\\mjc_mjcMay02_TIC 48217457_r_90s_2024-05-03T08-35-30_wcs.fts\n",
      "INFO:pyscope.reduction.ccd_calib:Done!\n",
      "INFO:pyscope.reduction.ccd_calib:Loading calibration frames...\n",
      "INFO:pyscope.reduction.ccd_calib:Loading bias frame: ./images/calibrations/2024-05-03T17-56-00/master_bias_read2_gain4x_1x1.fts\n",
      "INFO:pyscope.reduction.ccd_calib:Loading dark frame: ./images/calibrations/2024-05-03T17-56-00/master_dark_read2_gain4x_1x1.fts\n",
      "INFO:pyscope.reduction.ccd_calib:Loading flat frame: ./images/calibrations/2024-05-03T17-56-00/master_flat_r_read2_gain4x_1x1.fts\n",
      "INFO:pyscope.reduction.ccd_calib:Looping through images...\n",
      "INFO:pyscope.reduction.ccd_calib:Found 1 images\n",
      "INFO:pyscope.reduction.ccd_calib:Calibrating D:\\RLMT\\images\\mjc_mjcMay02_TIC 48217457_r_90s_2024-05-03T08-37-00_wcs.fts...\n",
      "WARNING:pyscope.reduction.ccd_calib:Image readout mode (1MHzHighSensitivity16-bit) does not match dark readout mode (1MHz High Sensitivity 16-bit)\n",
      "WARNING:pyscope.reduction.ccd_calib:Image readout mode (1MHzHighSensitivity16-bit) does not match flat readout mode (1MHz High Sensitivity 16-bit)\n",
      "INFO:pyscope.reduction.ccd_calib:Applying bias frame (CCD selected)...\n",
      "INFO:pyscope.reduction.ccd_calib:Applying the dark frame. CCD selected so a bias-subtracted\n",
      "                            dark frame is scaled by the ratio of the image exposure time over\n",
      "                            the dark exposure time then subtracted from the image.\n",
      "INFO:pyscope.reduction.ccd_calib:Checking if flat frame has a pedestal...\n",
      "INFO:pyscope.reduction.ccd_calib:Normalizing the flat frame by the mean of the entire image.\n",
      "INFO:pyscope.reduction.ccd_calib:flat_mean: 0.9999478043049569\n",
      "INFO:pyscope.reduction.ccd_calib:Applying the flat frame...\n"
     ]
    },
    {
     "name": "stdout",
     "output_type": "stream",
     "text": [
      "Calibrating D:\\RLMT\\images\\mjc_mjcMay02_TIC 48217457_r_90s_2024-05-03T08-37-00_wcs.fts\n"
     ]
    },
    {
     "name": "stderr",
     "output_type": "stream",
     "text": [
      "INFO:pyscope.reduction.ccd_calib:Flooring the calibrated image...\n",
      "INFO:pyscope.reduction.ccd_calib:Adding pedestal of 1000\n",
      "INFO:pyscope.reduction.ccd_calib:Removing hot pixels...\n",
      "INFO:pyscope.reduction.ccd_calib:Clipping to uint16 range...\n",
      "INFO:pyscope.reduction.ccd_calib:Writing calibrated status to header...\n",
      "INFO:pyscope.reduction.ccd_calib:Writing calibrated image to D:\\RLMT\\images\\mjc_mjcMay02_TIC 48217457_r_90s_2024-05-03T08-37-00_wcs.fts\n",
      "INFO:pyscope.reduction.ccd_calib:Done!\n",
      "INFO:pyscope.reduction.ccd_calib:Loading calibration frames...\n",
      "INFO:pyscope.reduction.ccd_calib:Loading bias frame: ./images/calibrations/2024-05-03T17-56-00/master_bias_read2_gain4x_1x1.fts\n",
      "INFO:pyscope.reduction.ccd_calib:Loading dark frame: ./images/calibrations/2024-05-03T17-56-00/master_dark_read2_gain4x_1x1.fts\n",
      "INFO:pyscope.reduction.ccd_calib:Loading flat frame: ./images/calibrations/2024-05-03T17-56-00/master_flat_r_read2_gain4x_1x1.fts\n",
      "INFO:pyscope.reduction.ccd_calib:Looping through images...\n",
      "INFO:pyscope.reduction.ccd_calib:Found 1 images\n",
      "INFO:pyscope.reduction.ccd_calib:Calibrating D:\\RLMT\\images\\mjc_mjcMay02_TIC 48217457_r_90s_2024-05-03T08-38-30_wcs.fts...\n",
      "WARNING:pyscope.reduction.ccd_calib:Image readout mode (1MHzHighSensitivity16-bit) does not match dark readout mode (1MHz High Sensitivity 16-bit)\n",
      "WARNING:pyscope.reduction.ccd_calib:Image readout mode (1MHzHighSensitivity16-bit) does not match flat readout mode (1MHz High Sensitivity 16-bit)\n",
      "INFO:pyscope.reduction.ccd_calib:Applying bias frame (CCD selected)...\n",
      "INFO:pyscope.reduction.ccd_calib:Applying the dark frame. CCD selected so a bias-subtracted\n",
      "                            dark frame is scaled by the ratio of the image exposure time over\n",
      "                            the dark exposure time then subtracted from the image.\n",
      "INFO:pyscope.reduction.ccd_calib:Checking if flat frame has a pedestal...\n",
      "INFO:pyscope.reduction.ccd_calib:Normalizing the flat frame by the mean of the entire image.\n",
      "INFO:pyscope.reduction.ccd_calib:flat_mean: 0.9999478043049569\n"
     ]
    },
    {
     "name": "stdout",
     "output_type": "stream",
     "text": [
      "Calibrating D:\\RLMT\\images\\mjc_mjcMay02_TIC 48217457_r_90s_2024-05-03T08-38-30_wcs.fts\n"
     ]
    },
    {
     "name": "stderr",
     "output_type": "stream",
     "text": [
      "INFO:pyscope.reduction.ccd_calib:Applying the flat frame...\n",
      "INFO:pyscope.reduction.ccd_calib:Flooring the calibrated image...\n",
      "INFO:pyscope.reduction.ccd_calib:Adding pedestal of 1000\n",
      "INFO:pyscope.reduction.ccd_calib:Removing hot pixels...\n",
      "INFO:pyscope.reduction.ccd_calib:Clipping to uint16 range...\n",
      "INFO:pyscope.reduction.ccd_calib:Writing calibrated status to header...\n",
      "INFO:pyscope.reduction.ccd_calib:Writing calibrated image to D:\\RLMT\\images\\mjc_mjcMay02_TIC 48217457_r_90s_2024-05-03T08-38-30_wcs.fts\n",
      "INFO:pyscope.reduction.ccd_calib:Done!\n",
      "INFO:pyscope.reduction.ccd_calib:Loading calibration frames...\n",
      "INFO:pyscope.reduction.ccd_calib:Loading bias frame: ./images/calibrations/2024-05-03T17-56-00/master_bias_read2_gain4x_1x1.fts\n",
      "INFO:pyscope.reduction.ccd_calib:Loading dark frame: ./images/calibrations/2024-05-03T17-56-00/master_dark_read2_gain4x_1x1.fts\n",
      "INFO:pyscope.reduction.ccd_calib:Loading flat frame: ./images/calibrations/2024-05-03T17-56-00/master_flat_r_read2_gain4x_1x1.fts\n",
      "INFO:pyscope.reduction.ccd_calib:Looping through images...\n",
      "INFO:pyscope.reduction.ccd_calib:Found 1 images\n",
      "INFO:pyscope.reduction.ccd_calib:Calibrating D:\\RLMT\\images\\mjc_mjcMay02_TIC 48217457_r_90s_2024-05-03T08-40-00_wcs.fts...\n",
      "WARNING:pyscope.reduction.ccd_calib:Image readout mode (1MHzHighSensitivity16-bit) does not match dark readout mode (1MHz High Sensitivity 16-bit)\n",
      "WARNING:pyscope.reduction.ccd_calib:Image readout mode (1MHzHighSensitivity16-bit) does not match flat readout mode (1MHz High Sensitivity 16-bit)\n",
      "INFO:pyscope.reduction.ccd_calib:Applying bias frame (CCD selected)...\n",
      "INFO:pyscope.reduction.ccd_calib:Applying the dark frame. CCD selected so a bias-subtracted\n",
      "                            dark frame is scaled by the ratio of the image exposure time over\n",
      "                            the dark exposure time then subtracted from the image.\n",
      "INFO:pyscope.reduction.ccd_calib:Checking if flat frame has a pedestal...\n",
      "INFO:pyscope.reduction.ccd_calib:Normalizing the flat frame by the mean of the entire image.\n",
      "INFO:pyscope.reduction.ccd_calib:flat_mean: 0.9999478043049569\n"
     ]
    },
    {
     "name": "stdout",
     "output_type": "stream",
     "text": [
      "Calibrating D:\\RLMT\\images\\mjc_mjcMay02_TIC 48217457_r_90s_2024-05-03T08-40-00_wcs.fts\n"
     ]
    },
    {
     "name": "stderr",
     "output_type": "stream",
     "text": [
      "INFO:pyscope.reduction.ccd_calib:Applying the flat frame...\n",
      "INFO:pyscope.reduction.ccd_calib:Flooring the calibrated image...\n",
      "INFO:pyscope.reduction.ccd_calib:Adding pedestal of 1000\n",
      "INFO:pyscope.reduction.ccd_calib:Removing hot pixels...\n",
      "INFO:pyscope.reduction.ccd_calib:Clipping to uint16 range...\n",
      "INFO:pyscope.reduction.ccd_calib:Writing calibrated status to header...\n",
      "INFO:pyscope.reduction.ccd_calib:Writing calibrated image to D:\\RLMT\\images\\mjc_mjcMay02_TIC 48217457_r_90s_2024-05-03T08-40-00_wcs.fts\n",
      "INFO:pyscope.reduction.ccd_calib:Done!\n",
      "INFO:pyscope.reduction.ccd_calib:Loading calibration frames...\n",
      "INFO:pyscope.reduction.ccd_calib:Loading bias frame: ./images/calibrations/2024-05-03T17-56-00/master_bias_read2_gain4x_1x1.fts\n",
      "INFO:pyscope.reduction.ccd_calib:Loading dark frame: ./images/calibrations/2024-05-03T17-56-00/master_dark_read2_gain4x_1x1.fts\n",
      "INFO:pyscope.reduction.ccd_calib:Loading flat frame: ./images/calibrations/2024-05-03T17-56-00/master_flat_r_read2_gain4x_1x1.fts\n",
      "INFO:pyscope.reduction.ccd_calib:Looping through images...\n",
      "INFO:pyscope.reduction.ccd_calib:Found 1 images\n",
      "INFO:pyscope.reduction.ccd_calib:Calibrating D:\\RLMT\\images\\mjc_mjcMay02_TIC 48217457_r_90s_2024-05-03T08-41-30_wcs.fts...\n",
      "WARNING:pyscope.reduction.ccd_calib:Image readout mode (1MHzHighSensitivity16-bit) does not match dark readout mode (1MHz High Sensitivity 16-bit)\n",
      "WARNING:pyscope.reduction.ccd_calib:Image readout mode (1MHzHighSensitivity16-bit) does not match flat readout mode (1MHz High Sensitivity 16-bit)\n",
      "INFO:pyscope.reduction.ccd_calib:Applying bias frame (CCD selected)...\n",
      "INFO:pyscope.reduction.ccd_calib:Applying the dark frame. CCD selected so a bias-subtracted\n",
      "                            dark frame is scaled by the ratio of the image exposure time over\n",
      "                            the dark exposure time then subtracted from the image.\n",
      "INFO:pyscope.reduction.ccd_calib:Checking if flat frame has a pedestal...\n"
     ]
    },
    {
     "name": "stdout",
     "output_type": "stream",
     "text": [
      "Calibrating D:\\RLMT\\images\\mjc_mjcMay02_TIC 48217457_r_90s_2024-05-03T08-41-30_wcs.fts\n"
     ]
    },
    {
     "name": "stderr",
     "output_type": "stream",
     "text": [
      "INFO:pyscope.reduction.ccd_calib:Normalizing the flat frame by the mean of the entire image.\n",
      "INFO:pyscope.reduction.ccd_calib:flat_mean: 0.9999478043049569\n",
      "INFO:pyscope.reduction.ccd_calib:Applying the flat frame...\n",
      "INFO:pyscope.reduction.ccd_calib:Flooring the calibrated image...\n",
      "INFO:pyscope.reduction.ccd_calib:Adding pedestal of 1000\n",
      "INFO:pyscope.reduction.ccd_calib:Removing hot pixels...\n",
      "INFO:pyscope.reduction.ccd_calib:Clipping to uint16 range...\n",
      "INFO:pyscope.reduction.ccd_calib:Writing calibrated status to header...\n",
      "INFO:pyscope.reduction.ccd_calib:Writing calibrated image to D:\\RLMT\\images\\mjc_mjcMay02_TIC 48217457_r_90s_2024-05-03T08-41-30_wcs.fts\n",
      "INFO:pyscope.reduction.ccd_calib:Done!\n",
      "INFO:pyscope.reduction.ccd_calib:Loading calibration frames...\n",
      "INFO:pyscope.reduction.ccd_calib:Loading bias frame: ./images/calibrations/2024-05-03T17-56-00/master_bias_read2_gain4x_1x1.fts\n",
      "INFO:pyscope.reduction.ccd_calib:Loading dark frame: ./images/calibrations/2024-05-03T17-56-00/master_dark_read2_gain4x_1x1.fts\n",
      "INFO:pyscope.reduction.ccd_calib:Loading flat frame: ./images/calibrations/2024-05-03T17-56-00/master_flat_r_read2_gain4x_1x1.fts\n",
      "INFO:pyscope.reduction.ccd_calib:Looping through images...\n",
      "INFO:pyscope.reduction.ccd_calib:Found 1 images\n",
      "INFO:pyscope.reduction.ccd_calib:Calibrating D:\\RLMT\\images\\mjc_mjcMay02_TIC 48217457_r_90s_2024-05-03T08-43-00_wcs.fts...\n",
      "WARNING:pyscope.reduction.ccd_calib:Image readout mode (1MHzHighSensitivity16-bit) does not match dark readout mode (1MHz High Sensitivity 16-bit)\n",
      "WARNING:pyscope.reduction.ccd_calib:Image readout mode (1MHzHighSensitivity16-bit) does not match flat readout mode (1MHz High Sensitivity 16-bit)\n",
      "INFO:pyscope.reduction.ccd_calib:Applying bias frame (CCD selected)...\n",
      "INFO:pyscope.reduction.ccd_calib:Applying the dark frame. CCD selected so a bias-subtracted\n",
      "                            dark frame is scaled by the ratio of the image exposure time over\n",
      "                            the dark exposure time then subtracted from the image.\n",
      "INFO:pyscope.reduction.ccd_calib:Checking if flat frame has a pedestal...\n"
     ]
    },
    {
     "name": "stdout",
     "output_type": "stream",
     "text": [
      "Calibrating D:\\RLMT\\images\\mjc_mjcMay02_TIC 48217457_r_90s_2024-05-03T08-43-00_wcs.fts\n"
     ]
    },
    {
     "name": "stderr",
     "output_type": "stream",
     "text": [
      "INFO:pyscope.reduction.ccd_calib:Normalizing the flat frame by the mean of the entire image.\n",
      "INFO:pyscope.reduction.ccd_calib:flat_mean: 0.9999478043049569\n",
      "INFO:pyscope.reduction.ccd_calib:Applying the flat frame...\n",
      "INFO:pyscope.reduction.ccd_calib:Flooring the calibrated image...\n",
      "INFO:pyscope.reduction.ccd_calib:Adding pedestal of 1000\n",
      "INFO:pyscope.reduction.ccd_calib:Removing hot pixels...\n",
      "INFO:pyscope.reduction.ccd_calib:Clipping to uint16 range...\n",
      "INFO:pyscope.reduction.ccd_calib:Writing calibrated status to header...\n",
      "INFO:pyscope.reduction.ccd_calib:Writing calibrated image to D:\\RLMT\\images\\mjc_mjcMay02_TIC 48217457_r_90s_2024-05-03T08-43-00_wcs.fts\n",
      "INFO:pyscope.reduction.ccd_calib:Done!\n",
      "INFO:pyscope.reduction.ccd_calib:Loading calibration frames...\n",
      "INFO:pyscope.reduction.ccd_calib:Loading bias frame: ./images/calibrations/2024-05-03T17-56-00/master_bias_read2_gain4x_1x1.fts\n",
      "INFO:pyscope.reduction.ccd_calib:Loading dark frame: ./images/calibrations/2024-05-03T17-56-00/master_dark_read2_gain4x_1x1.fts\n",
      "INFO:pyscope.reduction.ccd_calib:Loading flat frame: ./images/calibrations/2024-05-03T17-56-00/master_flat_r_read2_gain4x_1x1.fts\n",
      "INFO:pyscope.reduction.ccd_calib:Looping through images...\n",
      "INFO:pyscope.reduction.ccd_calib:Found 1 images\n",
      "INFO:pyscope.reduction.ccd_calib:Calibrating D:\\RLMT\\images\\mjc_mjcMay02_TIC 48217457_r_90s_2024-05-03T08-44-30_wcs.fts...\n",
      "WARNING:pyscope.reduction.ccd_calib:Image readout mode (1MHzHighSensitivity16-bit) does not match dark readout mode (1MHz High Sensitivity 16-bit)\n",
      "WARNING:pyscope.reduction.ccd_calib:Image readout mode (1MHzHighSensitivity16-bit) does not match flat readout mode (1MHz High Sensitivity 16-bit)\n",
      "INFO:pyscope.reduction.ccd_calib:Applying bias frame (CCD selected)...\n",
      "INFO:pyscope.reduction.ccd_calib:Applying the dark frame. CCD selected so a bias-subtracted\n",
      "                            dark frame is scaled by the ratio of the image exposure time over\n",
      "                            the dark exposure time then subtracted from the image.\n",
      "INFO:pyscope.reduction.ccd_calib:Checking if flat frame has a pedestal...\n"
     ]
    },
    {
     "name": "stdout",
     "output_type": "stream",
     "text": [
      "Calibrating D:\\RLMT\\images\\mjc_mjcMay02_TIC 48217457_r_90s_2024-05-03T08-44-30_wcs.fts\n"
     ]
    },
    {
     "name": "stderr",
     "output_type": "stream",
     "text": [
      "INFO:pyscope.reduction.ccd_calib:Normalizing the flat frame by the mean of the entire image.\n",
      "INFO:pyscope.reduction.ccd_calib:flat_mean: 0.9999478043049569\n",
      "INFO:pyscope.reduction.ccd_calib:Applying the flat frame...\n",
      "INFO:pyscope.reduction.ccd_calib:Flooring the calibrated image...\n",
      "INFO:pyscope.reduction.ccd_calib:Adding pedestal of 1000\n",
      "INFO:pyscope.reduction.ccd_calib:Removing hot pixels...\n",
      "INFO:pyscope.reduction.ccd_calib:Clipping to uint16 range...\n",
      "INFO:pyscope.reduction.ccd_calib:Writing calibrated status to header...\n",
      "INFO:pyscope.reduction.ccd_calib:Writing calibrated image to D:\\RLMT\\images\\mjc_mjcMay02_TIC 48217457_r_90s_2024-05-03T08-44-30_wcs.fts\n",
      "INFO:pyscope.reduction.ccd_calib:Done!\n",
      "INFO:pyscope.reduction.ccd_calib:Loading calibration frames...\n",
      "INFO:pyscope.reduction.ccd_calib:Loading bias frame: ./images/calibrations/2024-05-03T17-56-00/master_bias_read2_gain4x_1x1.fts\n",
      "INFO:pyscope.reduction.ccd_calib:Loading dark frame: ./images/calibrations/2024-05-03T17-56-00/master_dark_read2_gain4x_1x1.fts\n",
      "INFO:pyscope.reduction.ccd_calib:Loading flat frame: ./images/calibrations/2024-05-03T17-56-00/master_flat_r_read2_gain4x_1x1.fts\n",
      "INFO:pyscope.reduction.ccd_calib:Looping through images...\n",
      "INFO:pyscope.reduction.ccd_calib:Found 1 images\n",
      "INFO:pyscope.reduction.ccd_calib:Calibrating D:\\RLMT\\images\\mjc_mjcMay02_TIC 48217457_r_90s_2024-05-03T08-46-00_wcs.fts...\n",
      "WARNING:pyscope.reduction.ccd_calib:Image readout mode (1MHzHighSensitivity16-bit) does not match dark readout mode (1MHz High Sensitivity 16-bit)\n",
      "WARNING:pyscope.reduction.ccd_calib:Image readout mode (1MHzHighSensitivity16-bit) does not match flat readout mode (1MHz High Sensitivity 16-bit)\n",
      "INFO:pyscope.reduction.ccd_calib:Applying bias frame (CCD selected)...\n",
      "INFO:pyscope.reduction.ccd_calib:Applying the dark frame. CCD selected so a bias-subtracted\n",
      "                            dark frame is scaled by the ratio of the image exposure time over\n",
      "                            the dark exposure time then subtracted from the image.\n",
      "INFO:pyscope.reduction.ccd_calib:Checking if flat frame has a pedestal...\n",
      "INFO:pyscope.reduction.ccd_calib:Normalizing the flat frame by the mean of the entire image.\n",
      "INFO:pyscope.reduction.ccd_calib:flat_mean: 0.9999478043049569\n"
     ]
    },
    {
     "name": "stdout",
     "output_type": "stream",
     "text": [
      "Calibrating D:\\RLMT\\images\\mjc_mjcMay02_TIC 48217457_r_90s_2024-05-03T08-46-00_wcs.fts\n"
     ]
    },
    {
     "name": "stderr",
     "output_type": "stream",
     "text": [
      "INFO:pyscope.reduction.ccd_calib:Applying the flat frame...\n",
      "INFO:pyscope.reduction.ccd_calib:Flooring the calibrated image...\n",
      "INFO:pyscope.reduction.ccd_calib:Adding pedestal of 1000\n",
      "INFO:pyscope.reduction.ccd_calib:Removing hot pixels...\n",
      "INFO:pyscope.reduction.ccd_calib:Clipping to uint16 range...\n",
      "INFO:pyscope.reduction.ccd_calib:Writing calibrated status to header...\n",
      "INFO:pyscope.reduction.ccd_calib:Writing calibrated image to D:\\RLMT\\images\\mjc_mjcMay02_TIC 48217457_r_90s_2024-05-03T08-46-00_wcs.fts\n",
      "INFO:pyscope.reduction.ccd_calib:Done!\n",
      "INFO:pyscope.reduction.ccd_calib:Loading calibration frames...\n",
      "INFO:pyscope.reduction.ccd_calib:Loading bias frame: ./images/calibrations/2024-05-03T17-56-00/master_bias_read2_gain4x_1x1.fts\n",
      "INFO:pyscope.reduction.ccd_calib:Loading dark frame: ./images/calibrations/2024-05-03T17-56-00/master_dark_read2_gain4x_1x1.fts\n",
      "INFO:pyscope.reduction.ccd_calib:Loading flat frame: ./images/calibrations/2024-05-03T17-56-00/master_flat_r_read2_gain4x_1x1.fts\n",
      "INFO:pyscope.reduction.ccd_calib:Looping through images...\n",
      "INFO:pyscope.reduction.ccd_calib:Found 1 images\n",
      "INFO:pyscope.reduction.ccd_calib:Calibrating D:\\RLMT\\images\\mjc_mjcMay02_TIC 48217457_r_90s_2024-05-03T08-47-30_wcs.fts...\n",
      "WARNING:pyscope.reduction.ccd_calib:Image readout mode (1MHzHighSensitivity16-bit) does not match dark readout mode (1MHz High Sensitivity 16-bit)\n",
      "WARNING:pyscope.reduction.ccd_calib:Image readout mode (1MHzHighSensitivity16-bit) does not match flat readout mode (1MHz High Sensitivity 16-bit)\n",
      "INFO:pyscope.reduction.ccd_calib:Applying bias frame (CCD selected)...\n",
      "INFO:pyscope.reduction.ccd_calib:Applying the dark frame. CCD selected so a bias-subtracted\n",
      "                            dark frame is scaled by the ratio of the image exposure time over\n",
      "                            the dark exposure time then subtracted from the image.\n",
      "INFO:pyscope.reduction.ccd_calib:Checking if flat frame has a pedestal...\n",
      "INFO:pyscope.reduction.ccd_calib:Normalizing the flat frame by the mean of the entire image.\n",
      "INFO:pyscope.reduction.ccd_calib:flat_mean: 0.9999478043049569\n",
      "INFO:pyscope.reduction.ccd_calib:Applying the flat frame...\n"
     ]
    },
    {
     "name": "stdout",
     "output_type": "stream",
     "text": [
      "Calibrating D:\\RLMT\\images\\mjc_mjcMay02_TIC 48217457_r_90s_2024-05-03T08-47-30_wcs.fts\n"
     ]
    },
    {
     "name": "stderr",
     "output_type": "stream",
     "text": [
      "INFO:pyscope.reduction.ccd_calib:Flooring the calibrated image...\n",
      "INFO:pyscope.reduction.ccd_calib:Adding pedestal of 1000\n",
      "INFO:pyscope.reduction.ccd_calib:Removing hot pixels...\n",
      "INFO:pyscope.reduction.ccd_calib:Clipping to uint16 range...\n",
      "INFO:pyscope.reduction.ccd_calib:Writing calibrated status to header...\n",
      "INFO:pyscope.reduction.ccd_calib:Writing calibrated image to D:\\RLMT\\images\\mjc_mjcMay02_TIC 48217457_r_90s_2024-05-03T08-47-30_wcs.fts\n",
      "INFO:pyscope.reduction.ccd_calib:Done!\n",
      "INFO:pyscope.reduction.ccd_calib:Loading calibration frames...\n",
      "INFO:pyscope.reduction.ccd_calib:Loading bias frame: ./images/calibrations/2024-05-03T17-56-00/master_bias_read2_gain4x_1x1.fts\n",
      "INFO:pyscope.reduction.ccd_calib:Loading dark frame: ./images/calibrations/2024-05-03T17-56-00/master_dark_read2_gain4x_1x1.fts\n",
      "INFO:pyscope.reduction.ccd_calib:Loading flat frame: ./images/calibrations/2024-05-03T17-56-00/master_flat_r_read2_gain4x_1x1.fts\n",
      "INFO:pyscope.reduction.ccd_calib:Looping through images...\n",
      "INFO:pyscope.reduction.ccd_calib:Found 1 images\n",
      "INFO:pyscope.reduction.ccd_calib:Calibrating D:\\RLMT\\images\\mjc_mjcMay02_TIC 48217457_r_90s_2024-05-03T08-49-00_wcs.fts...\n",
      "WARNING:pyscope.reduction.ccd_calib:Image readout mode (1MHzHighSensitivity16-bit) does not match dark readout mode (1MHz High Sensitivity 16-bit)\n",
      "WARNING:pyscope.reduction.ccd_calib:Image readout mode (1MHzHighSensitivity16-bit) does not match flat readout mode (1MHz High Sensitivity 16-bit)\n",
      "INFO:pyscope.reduction.ccd_calib:Applying bias frame (CCD selected)...\n",
      "INFO:pyscope.reduction.ccd_calib:Applying the dark frame. CCD selected so a bias-subtracted\n",
      "                            dark frame is scaled by the ratio of the image exposure time over\n",
      "                            the dark exposure time then subtracted from the image.\n",
      "INFO:pyscope.reduction.ccd_calib:Checking if flat frame has a pedestal...\n"
     ]
    },
    {
     "name": "stdout",
     "output_type": "stream",
     "text": [
      "Calibrating D:\\RLMT\\images\\mjc_mjcMay02_TIC 48217457_r_90s_2024-05-03T08-49-00_wcs.fts\n"
     ]
    },
    {
     "name": "stderr",
     "output_type": "stream",
     "text": [
      "INFO:pyscope.reduction.ccd_calib:Normalizing the flat frame by the mean of the entire image.\n",
      "INFO:pyscope.reduction.ccd_calib:flat_mean: 0.9999478043049569\n",
      "INFO:pyscope.reduction.ccd_calib:Applying the flat frame...\n",
      "INFO:pyscope.reduction.ccd_calib:Flooring the calibrated image...\n",
      "INFO:pyscope.reduction.ccd_calib:Adding pedestal of 1000\n",
      "INFO:pyscope.reduction.ccd_calib:Removing hot pixels...\n",
      "INFO:pyscope.reduction.ccd_calib:Clipping to uint16 range...\n",
      "INFO:pyscope.reduction.ccd_calib:Writing calibrated status to header...\n",
      "INFO:pyscope.reduction.ccd_calib:Writing calibrated image to D:\\RLMT\\images\\mjc_mjcMay02_TIC 48217457_r_90s_2024-05-03T08-49-00_wcs.fts\n",
      "INFO:pyscope.reduction.ccd_calib:Done!\n",
      "INFO:pyscope.reduction.ccd_calib:Loading calibration frames...\n",
      "INFO:pyscope.reduction.ccd_calib:Loading bias frame: ./images/calibrations/2024-05-03T17-56-00/master_bias_read2_gain4x_1x1.fts\n",
      "INFO:pyscope.reduction.ccd_calib:Loading dark frame: ./images/calibrations/2024-05-03T17-56-00/master_dark_read2_gain4x_1x1.fts\n",
      "INFO:pyscope.reduction.ccd_calib:Loading flat frame: ./images/calibrations/2024-05-03T17-56-00/master_flat_r_read2_gain4x_1x1.fts\n",
      "INFO:pyscope.reduction.ccd_calib:Looping through images...\n",
      "INFO:pyscope.reduction.ccd_calib:Found 1 images\n",
      "INFO:pyscope.reduction.ccd_calib:Calibrating D:\\RLMT\\images\\mjc_mjcMay02_TIC 48217457_r_90s_2024-05-03T08-50-30_wcs.fts...\n",
      "WARNING:pyscope.reduction.ccd_calib:Image readout mode (1MHzHighSensitivity16-bit) does not match dark readout mode (1MHz High Sensitivity 16-bit)\n",
      "WARNING:pyscope.reduction.ccd_calib:Image readout mode (1MHzHighSensitivity16-bit) does not match flat readout mode (1MHz High Sensitivity 16-bit)\n",
      "INFO:pyscope.reduction.ccd_calib:Applying bias frame (CCD selected)...\n",
      "INFO:pyscope.reduction.ccd_calib:Applying the dark frame. CCD selected so a bias-subtracted\n",
      "                            dark frame is scaled by the ratio of the image exposure time over\n",
      "                            the dark exposure time then subtracted from the image.\n",
      "INFO:pyscope.reduction.ccd_calib:Checking if flat frame has a pedestal...\n",
      "INFO:pyscope.reduction.ccd_calib:Normalizing the flat frame by the mean of the entire image.\n",
      "INFO:pyscope.reduction.ccd_calib:flat_mean: 0.9999478043049569\n"
     ]
    },
    {
     "name": "stdout",
     "output_type": "stream",
     "text": [
      "Calibrating D:\\RLMT\\images\\mjc_mjcMay02_TIC 48217457_r_90s_2024-05-03T08-50-30_wcs.fts\n"
     ]
    },
    {
     "name": "stderr",
     "output_type": "stream",
     "text": [
      "INFO:pyscope.reduction.ccd_calib:Applying the flat frame...\n",
      "INFO:pyscope.reduction.ccd_calib:Flooring the calibrated image...\n",
      "INFO:pyscope.reduction.ccd_calib:Adding pedestal of 1000\n",
      "INFO:pyscope.reduction.ccd_calib:Removing hot pixels...\n",
      "INFO:pyscope.reduction.ccd_calib:Clipping to uint16 range...\n",
      "INFO:pyscope.reduction.ccd_calib:Writing calibrated status to header...\n",
      "INFO:pyscope.reduction.ccd_calib:Writing calibrated image to D:\\RLMT\\images\\mjc_mjcMay02_TIC 48217457_r_90s_2024-05-03T08-50-30_wcs.fts\n",
      "INFO:pyscope.reduction.ccd_calib:Done!\n",
      "INFO:pyscope.reduction.ccd_calib:Loading calibration frames...\n",
      "INFO:pyscope.reduction.ccd_calib:Loading bias frame: ./images/calibrations/2024-05-03T17-56-00/master_bias_read2_gain4x_1x1.fts\n",
      "INFO:pyscope.reduction.ccd_calib:Loading dark frame: ./images/calibrations/2024-05-03T17-56-00/master_dark_read2_gain4x_1x1.fts\n",
      "INFO:pyscope.reduction.ccd_calib:Loading flat frame: ./images/calibrations/2024-05-03T17-56-00/master_flat_r_read2_gain4x_1x1.fts\n",
      "INFO:pyscope.reduction.ccd_calib:Looping through images...\n",
      "INFO:pyscope.reduction.ccd_calib:Found 1 images\n",
      "INFO:pyscope.reduction.ccd_calib:Calibrating D:\\RLMT\\images\\mjc_mjcMay02_TIC 48217457_r_90s_2024-05-03T08-52-00_wcs.fts...\n",
      "WARNING:pyscope.reduction.ccd_calib:Image readout mode (1MHzHighSensitivity16-bit) does not match dark readout mode (1MHz High Sensitivity 16-bit)\n",
      "WARNING:pyscope.reduction.ccd_calib:Image readout mode (1MHzHighSensitivity16-bit) does not match flat readout mode (1MHz High Sensitivity 16-bit)\n",
      "INFO:pyscope.reduction.ccd_calib:Applying bias frame (CCD selected)...\n",
      "INFO:pyscope.reduction.ccd_calib:Applying the dark frame. CCD selected so a bias-subtracted\n",
      "                            dark frame is scaled by the ratio of the image exposure time over\n",
      "                            the dark exposure time then subtracted from the image.\n",
      "INFO:pyscope.reduction.ccd_calib:Checking if flat frame has a pedestal...\n",
      "INFO:pyscope.reduction.ccd_calib:Normalizing the flat frame by the mean of the entire image.\n",
      "INFO:pyscope.reduction.ccd_calib:flat_mean: 0.9999478043049569\n",
      "INFO:pyscope.reduction.ccd_calib:Applying the flat frame...\n"
     ]
    },
    {
     "name": "stdout",
     "output_type": "stream",
     "text": [
      "Calibrating D:\\RLMT\\images\\mjc_mjcMay02_TIC 48217457_r_90s_2024-05-03T08-52-00_wcs.fts\n"
     ]
    },
    {
     "name": "stderr",
     "output_type": "stream",
     "text": [
      "INFO:pyscope.reduction.ccd_calib:Flooring the calibrated image...\n",
      "INFO:pyscope.reduction.ccd_calib:Adding pedestal of 1000\n",
      "INFO:pyscope.reduction.ccd_calib:Removing hot pixels...\n",
      "INFO:pyscope.reduction.ccd_calib:Clipping to uint16 range...\n",
      "INFO:pyscope.reduction.ccd_calib:Writing calibrated status to header...\n",
      "INFO:pyscope.reduction.ccd_calib:Writing calibrated image to D:\\RLMT\\images\\mjc_mjcMay02_TIC 48217457_r_90s_2024-05-03T08-52-00_wcs.fts\n",
      "INFO:pyscope.reduction.ccd_calib:Done!\n",
      "INFO:pyscope.reduction.ccd_calib:Loading calibration frames...\n",
      "INFO:pyscope.reduction.ccd_calib:Loading bias frame: ./images/calibrations/2024-05-03T17-56-00/master_bias_read2_gain4x_1x1.fts\n",
      "INFO:pyscope.reduction.ccd_calib:Loading dark frame: ./images/calibrations/2024-05-03T17-56-00/master_dark_read2_gain4x_1x1.fts\n",
      "INFO:pyscope.reduction.ccd_calib:Loading flat frame: ./images/calibrations/2024-05-03T17-56-00/master_flat_r_read2_gain4x_1x1.fts\n",
      "INFO:pyscope.reduction.ccd_calib:Looping through images...\n",
      "INFO:pyscope.reduction.ccd_calib:Found 1 images\n",
      "INFO:pyscope.reduction.ccd_calib:Calibrating D:\\RLMT\\images\\mjc_mjcMay02_TIC 48217457_r_90s_2024-05-03T08-53-30_wcs.fts...\n",
      "WARNING:pyscope.reduction.ccd_calib:Image readout mode (1MHzHighSensitivity16-bit) does not match dark readout mode (1MHz High Sensitivity 16-bit)\n",
      "WARNING:pyscope.reduction.ccd_calib:Image readout mode (1MHzHighSensitivity16-bit) does not match flat readout mode (1MHz High Sensitivity 16-bit)\n",
      "INFO:pyscope.reduction.ccd_calib:Applying bias frame (CCD selected)...\n",
      "INFO:pyscope.reduction.ccd_calib:Applying the dark frame. CCD selected so a bias-subtracted\n",
      "                            dark frame is scaled by the ratio of the image exposure time over\n",
      "                            the dark exposure time then subtracted from the image.\n"
     ]
    },
    {
     "name": "stdout",
     "output_type": "stream",
     "text": [
      "Calibrating D:\\RLMT\\images\\mjc_mjcMay02_TIC 48217457_r_90s_2024-05-03T08-53-30_wcs.fts\n"
     ]
    },
    {
     "name": "stderr",
     "output_type": "stream",
     "text": [
      "INFO:pyscope.reduction.ccd_calib:Checking if flat frame has a pedestal...\n",
      "INFO:pyscope.reduction.ccd_calib:Normalizing the flat frame by the mean of the entire image.\n",
      "INFO:pyscope.reduction.ccd_calib:flat_mean: 0.9999478043049569\n",
      "INFO:pyscope.reduction.ccd_calib:Applying the flat frame...\n",
      "INFO:pyscope.reduction.ccd_calib:Flooring the calibrated image...\n",
      "INFO:pyscope.reduction.ccd_calib:Adding pedestal of 1000\n",
      "INFO:pyscope.reduction.ccd_calib:Removing hot pixels...\n",
      "INFO:pyscope.reduction.ccd_calib:Clipping to uint16 range...\n",
      "INFO:pyscope.reduction.ccd_calib:Writing calibrated status to header...\n",
      "INFO:pyscope.reduction.ccd_calib:Writing calibrated image to D:\\RLMT\\images\\mjc_mjcMay02_TIC 48217457_r_90s_2024-05-03T08-53-30_wcs.fts\n",
      "INFO:pyscope.reduction.ccd_calib:Done!\n",
      "INFO:pyscope.reduction.ccd_calib:Loading calibration frames...\n",
      "INFO:pyscope.reduction.ccd_calib:Loading bias frame: ./images/calibrations/2024-05-03T17-56-00/master_bias_read2_gain4x_1x1.fts\n",
      "INFO:pyscope.reduction.ccd_calib:Loading dark frame: ./images/calibrations/2024-05-03T17-56-00/master_dark_read2_gain4x_1x1.fts\n",
      "INFO:pyscope.reduction.ccd_calib:Loading flat frame: ./images/calibrations/2024-05-03T17-56-00/master_flat_r_read2_gain4x_1x1.fts\n",
      "INFO:pyscope.reduction.ccd_calib:Looping through images...\n",
      "INFO:pyscope.reduction.ccd_calib:Found 1 images\n",
      "INFO:pyscope.reduction.ccd_calib:Calibrating D:\\RLMT\\images\\mjc_mjcMay02_TIC 48217457_r_90s_2024-05-03T08-55-00_wcs.fts...\n",
      "WARNING:pyscope.reduction.ccd_calib:Image readout mode (1MHzHighSensitivity16-bit) does not match dark readout mode (1MHz High Sensitivity 16-bit)\n",
      "WARNING:pyscope.reduction.ccd_calib:Image readout mode (1MHzHighSensitivity16-bit) does not match flat readout mode (1MHz High Sensitivity 16-bit)\n",
      "INFO:pyscope.reduction.ccd_calib:Applying bias frame (CCD selected)...\n",
      "INFO:pyscope.reduction.ccd_calib:Applying the dark frame. CCD selected so a bias-subtracted\n",
      "                            dark frame is scaled by the ratio of the image exposure time over\n",
      "                            the dark exposure time then subtracted from the image.\n",
      "INFO:pyscope.reduction.ccd_calib:Checking if flat frame has a pedestal...\n"
     ]
    },
    {
     "name": "stdout",
     "output_type": "stream",
     "text": [
      "Calibrating D:\\RLMT\\images\\mjc_mjcMay02_TIC 48217457_r_90s_2024-05-03T08-55-00_wcs.fts\n"
     ]
    },
    {
     "name": "stderr",
     "output_type": "stream",
     "text": [
      "INFO:pyscope.reduction.ccd_calib:Normalizing the flat frame by the mean of the entire image.\n",
      "INFO:pyscope.reduction.ccd_calib:flat_mean: 0.9999478043049569\n",
      "INFO:pyscope.reduction.ccd_calib:Applying the flat frame...\n",
      "INFO:pyscope.reduction.ccd_calib:Flooring the calibrated image...\n",
      "INFO:pyscope.reduction.ccd_calib:Adding pedestal of 1000\n",
      "INFO:pyscope.reduction.ccd_calib:Removing hot pixels...\n",
      "INFO:pyscope.reduction.ccd_calib:Clipping to uint16 range...\n",
      "INFO:pyscope.reduction.ccd_calib:Writing calibrated status to header...\n",
      "INFO:pyscope.reduction.ccd_calib:Writing calibrated image to D:\\RLMT\\images\\mjc_mjcMay02_TIC 48217457_r_90s_2024-05-03T08-55-00_wcs.fts\n",
      "INFO:pyscope.reduction.ccd_calib:Done!\n",
      "INFO:pyscope.reduction.ccd_calib:Loading calibration frames...\n",
      "INFO:pyscope.reduction.ccd_calib:Loading bias frame: ./images/calibrations/2024-05-03T17-56-00/master_bias_read2_gain4x_1x1.fts\n",
      "INFO:pyscope.reduction.ccd_calib:Loading dark frame: ./images/calibrations/2024-05-03T17-56-00/master_dark_read2_gain4x_1x1.fts\n",
      "INFO:pyscope.reduction.ccd_calib:Loading flat frame: ./images/calibrations/2024-05-03T17-56-00/master_flat_r_read2_gain4x_1x1.fts\n",
      "INFO:pyscope.reduction.ccd_calib:Looping through images...\n",
      "INFO:pyscope.reduction.ccd_calib:Found 1 images\n",
      "INFO:pyscope.reduction.ccd_calib:Calibrating D:\\RLMT\\images\\mjc_mjcMay02_TIC 48217457_r_90s_2024-05-03T08-56-30_wcs.fts...\n"
     ]
    },
    {
     "name": "stdout",
     "output_type": "stream",
     "text": [
      "Calibrating D:\\RLMT\\images\\mjc_mjcMay02_TIC 48217457_r_90s_2024-05-03T08-56-30_wcs.fts\n"
     ]
    },
    {
     "name": "stderr",
     "output_type": "stream",
     "text": [
      "WARNING:pyscope.reduction.ccd_calib:Image readout mode (1MHzHighSensitivity16-bit) does not match dark readout mode (1MHz High Sensitivity 16-bit)\n",
      "WARNING:pyscope.reduction.ccd_calib:Image readout mode (1MHzHighSensitivity16-bit) does not match flat readout mode (1MHz High Sensitivity 16-bit)\n",
      "INFO:pyscope.reduction.ccd_calib:Applying bias frame (CCD selected)...\n",
      "INFO:pyscope.reduction.ccd_calib:Applying the dark frame. CCD selected so a bias-subtracted\n",
      "                            dark frame is scaled by the ratio of the image exposure time over\n",
      "                            the dark exposure time then subtracted from the image.\n",
      "INFO:pyscope.reduction.ccd_calib:Checking if flat frame has a pedestal...\n",
      "INFO:pyscope.reduction.ccd_calib:Normalizing the flat frame by the mean of the entire image.\n",
      "INFO:pyscope.reduction.ccd_calib:flat_mean: 0.9999478043049569\n",
      "INFO:pyscope.reduction.ccd_calib:Applying the flat frame...\n",
      "INFO:pyscope.reduction.ccd_calib:Flooring the calibrated image...\n",
      "INFO:pyscope.reduction.ccd_calib:Adding pedestal of 1000\n",
      "INFO:pyscope.reduction.ccd_calib:Removing hot pixels...\n",
      "INFO:pyscope.reduction.ccd_calib:Clipping to uint16 range...\n",
      "INFO:pyscope.reduction.ccd_calib:Writing calibrated status to header...\n",
      "INFO:pyscope.reduction.ccd_calib:Writing calibrated image to D:\\RLMT\\images\\mjc_mjcMay02_TIC 48217457_r_90s_2024-05-03T08-56-30_wcs.fts\n",
      "INFO:pyscope.reduction.ccd_calib:Done!\n",
      "INFO:pyscope.reduction.ccd_calib:Loading calibration frames...\n",
      "INFO:pyscope.reduction.ccd_calib:Loading bias frame: ./images/calibrations/2024-05-03T17-56-00/master_bias_read2_gain4x_1x1.fts\n",
      "INFO:pyscope.reduction.ccd_calib:Loading dark frame: ./images/calibrations/2024-05-03T17-56-00/master_dark_read2_gain4x_1x1.fts\n",
      "INFO:pyscope.reduction.ccd_calib:Loading flat frame: ./images/calibrations/2024-05-03T17-56-00/master_flat_r_read2_gain4x_1x1.fts\n",
      "INFO:pyscope.reduction.ccd_calib:Looping through images...\n",
      "INFO:pyscope.reduction.ccd_calib:Found 1 images\n",
      "INFO:pyscope.reduction.ccd_calib:Calibrating D:\\RLMT\\images\\mjc_mjcMay02_TIC 48217457_r_90s_2024-05-03T08-58-00_wcs.fts...\n",
      "WARNING:pyscope.reduction.ccd_calib:Image readout mode (1MHzHighSensitivity16-bit) does not match dark readout mode (1MHz High Sensitivity 16-bit)\n",
      "WARNING:pyscope.reduction.ccd_calib:Image readout mode (1MHzHighSensitivity16-bit) does not match flat readout mode (1MHz High Sensitivity 16-bit)\n",
      "INFO:pyscope.reduction.ccd_calib:Applying bias frame (CCD selected)...\n",
      "INFO:pyscope.reduction.ccd_calib:Applying the dark frame. CCD selected so a bias-subtracted\n",
      "                            dark frame is scaled by the ratio of the image exposure time over\n",
      "                            the dark exposure time then subtracted from the image.\n",
      "INFO:pyscope.reduction.ccd_calib:Checking if flat frame has a pedestal...\n",
      "INFO:pyscope.reduction.ccd_calib:Normalizing the flat frame by the mean of the entire image.\n",
      "INFO:pyscope.reduction.ccd_calib:flat_mean: 0.9999478043049569\n"
     ]
    },
    {
     "name": "stdout",
     "output_type": "stream",
     "text": [
      "Calibrating D:\\RLMT\\images\\mjc_mjcMay02_TIC 48217457_r_90s_2024-05-03T08-58-00_wcs.fts\n"
     ]
    },
    {
     "name": "stderr",
     "output_type": "stream",
     "text": [
      "INFO:pyscope.reduction.ccd_calib:Applying the flat frame...\n",
      "INFO:pyscope.reduction.ccd_calib:Flooring the calibrated image...\n",
      "INFO:pyscope.reduction.ccd_calib:Adding pedestal of 1000\n",
      "INFO:pyscope.reduction.ccd_calib:Removing hot pixels...\n",
      "INFO:pyscope.reduction.ccd_calib:Clipping to uint16 range...\n",
      "INFO:pyscope.reduction.ccd_calib:Writing calibrated status to header...\n",
      "INFO:pyscope.reduction.ccd_calib:Writing calibrated image to D:\\RLMT\\images\\mjc_mjcMay02_TIC 48217457_r_90s_2024-05-03T08-58-00_wcs.fts\n",
      "INFO:pyscope.reduction.ccd_calib:Done!\n",
      "INFO:pyscope.reduction.ccd_calib:Loading calibration frames...\n",
      "INFO:pyscope.reduction.ccd_calib:Loading bias frame: ./images/calibrations/2024-05-03T17-56-00/master_bias_read2_gain4x_1x1.fts\n",
      "INFO:pyscope.reduction.ccd_calib:Loading dark frame: ./images/calibrations/2024-05-03T17-56-00/master_dark_read2_gain4x_1x1.fts\n",
      "INFO:pyscope.reduction.ccd_calib:Loading flat frame: ./images/calibrations/2024-05-03T17-56-00/master_flat_r_read2_gain4x_1x1.fts\n",
      "INFO:pyscope.reduction.ccd_calib:Looping through images...\n",
      "INFO:pyscope.reduction.ccd_calib:Found 1 images\n",
      "INFO:pyscope.reduction.ccd_calib:Calibrating D:\\RLMT\\images\\mjc_mjcMay02_TIC 48217457_r_90s_2024-05-03T08-59-30_wcs.fts...\n",
      "WARNING:pyscope.reduction.ccd_calib:Image readout mode (1MHzHighSensitivity16-bit) does not match dark readout mode (1MHz High Sensitivity 16-bit)\n",
      "WARNING:pyscope.reduction.ccd_calib:Image readout mode (1MHzHighSensitivity16-bit) does not match flat readout mode (1MHz High Sensitivity 16-bit)\n",
      "INFO:pyscope.reduction.ccd_calib:Applying bias frame (CCD selected)...\n",
      "INFO:pyscope.reduction.ccd_calib:Applying the dark frame. CCD selected so a bias-subtracted\n",
      "                            dark frame is scaled by the ratio of the image exposure time over\n",
      "                            the dark exposure time then subtracted from the image.\n",
      "INFO:pyscope.reduction.ccd_calib:Checking if flat frame has a pedestal...\n"
     ]
    },
    {
     "name": "stdout",
     "output_type": "stream",
     "text": [
      "Calibrating D:\\RLMT\\images\\mjc_mjcMay02_TIC 48217457_r_90s_2024-05-03T08-59-30_wcs.fts\n"
     ]
    },
    {
     "name": "stderr",
     "output_type": "stream",
     "text": [
      "INFO:pyscope.reduction.ccd_calib:Normalizing the flat frame by the mean of the entire image.\n",
      "INFO:pyscope.reduction.ccd_calib:flat_mean: 0.9999478043049569\n",
      "INFO:pyscope.reduction.ccd_calib:Applying the flat frame...\n",
      "INFO:pyscope.reduction.ccd_calib:Flooring the calibrated image...\n",
      "INFO:pyscope.reduction.ccd_calib:Adding pedestal of 1000\n",
      "INFO:pyscope.reduction.ccd_calib:Removing hot pixels...\n",
      "INFO:pyscope.reduction.ccd_calib:Clipping to uint16 range...\n",
      "INFO:pyscope.reduction.ccd_calib:Writing calibrated status to header...\n",
      "INFO:pyscope.reduction.ccd_calib:Writing calibrated image to D:\\RLMT\\images\\mjc_mjcMay02_TIC 48217457_r_90s_2024-05-03T08-59-30_wcs.fts\n",
      "INFO:pyscope.reduction.ccd_calib:Done!\n",
      "INFO:pyscope.reduction.ccd_calib:Loading calibration frames...\n",
      "INFO:pyscope.reduction.ccd_calib:Loading bias frame: ./images/calibrations/2024-05-03T17-56-00/master_bias_read2_gain4x_1x1.fts\n",
      "INFO:pyscope.reduction.ccd_calib:Loading dark frame: ./images/calibrations/2024-05-03T17-56-00/master_dark_read2_gain4x_1x1.fts\n",
      "INFO:pyscope.reduction.ccd_calib:Loading flat frame: ./images/calibrations/2024-05-03T17-56-00/master_flat_r_read2_gain4x_1x1.fts\n",
      "INFO:pyscope.reduction.ccd_calib:Looping through images...\n",
      "INFO:pyscope.reduction.ccd_calib:Found 1 images\n",
      "INFO:pyscope.reduction.ccd_calib:Calibrating D:\\RLMT\\images\\mjc_mjcMay02_TIC 48217457_r_90s_2024-05-03T09-01-00_wcs.fts...\n"
     ]
    },
    {
     "name": "stdout",
     "output_type": "stream",
     "text": [
      "Calibrating D:\\RLMT\\images\\mjc_mjcMay02_TIC 48217457_r_90s_2024-05-03T09-01-00_wcs.fts\n"
     ]
    },
    {
     "name": "stderr",
     "output_type": "stream",
     "text": [
      "WARNING:pyscope.reduction.ccd_calib:Image readout mode (1MHzHighSensitivity16-bit) does not match dark readout mode (1MHz High Sensitivity 16-bit)\n",
      "WARNING:pyscope.reduction.ccd_calib:Image readout mode (1MHzHighSensitivity16-bit) does not match flat readout mode (1MHz High Sensitivity 16-bit)\n",
      "INFO:pyscope.reduction.ccd_calib:Applying bias frame (CCD selected)...\n",
      "INFO:pyscope.reduction.ccd_calib:Applying the dark frame. CCD selected so a bias-subtracted\n",
      "                            dark frame is scaled by the ratio of the image exposure time over\n",
      "                            the dark exposure time then subtracted from the image.\n",
      "INFO:pyscope.reduction.ccd_calib:Checking if flat frame has a pedestal...\n",
      "INFO:pyscope.reduction.ccd_calib:Normalizing the flat frame by the mean of the entire image.\n",
      "INFO:pyscope.reduction.ccd_calib:flat_mean: 0.9999478043049569\n",
      "INFO:pyscope.reduction.ccd_calib:Applying the flat frame...\n",
      "INFO:pyscope.reduction.ccd_calib:Flooring the calibrated image...\n",
      "INFO:pyscope.reduction.ccd_calib:Adding pedestal of 1000\n",
      "INFO:pyscope.reduction.ccd_calib:Removing hot pixels...\n",
      "INFO:pyscope.reduction.ccd_calib:Clipping to uint16 range...\n",
      "INFO:pyscope.reduction.ccd_calib:Writing calibrated status to header...\n",
      "INFO:pyscope.reduction.ccd_calib:Writing calibrated image to D:\\RLMT\\images\\mjc_mjcMay02_TIC 48217457_r_90s_2024-05-03T09-01-00_wcs.fts\n",
      "INFO:pyscope.reduction.ccd_calib:Done!\n",
      "INFO:pyscope.reduction.ccd_calib:Loading calibration frames...\n",
      "INFO:pyscope.reduction.ccd_calib:Loading bias frame: ./images/calibrations/2024-05-03T17-56-00/master_bias_read2_gain4x_1x1.fts\n",
      "INFO:pyscope.reduction.ccd_calib:Loading dark frame: ./images/calibrations/2024-05-03T17-56-00/master_dark_read2_gain4x_1x1.fts\n",
      "INFO:pyscope.reduction.ccd_calib:Loading flat frame: ./images/calibrations/2024-05-03T17-56-00/master_flat_r_read2_gain4x_1x1.fts\n",
      "INFO:pyscope.reduction.ccd_calib:Looping through images...\n",
      "INFO:pyscope.reduction.ccd_calib:Found 1 images\n",
      "INFO:pyscope.reduction.ccd_calib:Calibrating D:\\RLMT\\images\\mjc_mjcMay02_TIC 48217457_r_90s_2024-05-03T09-02-30_wcs.fts...\n",
      "WARNING:pyscope.reduction.ccd_calib:Image readout mode (1MHzHighSensitivity16-bit) does not match dark readout mode (1MHz High Sensitivity 16-bit)\n",
      "WARNING:pyscope.reduction.ccd_calib:Image readout mode (1MHzHighSensitivity16-bit) does not match flat readout mode (1MHz High Sensitivity 16-bit)\n",
      "INFO:pyscope.reduction.ccd_calib:Applying bias frame (CCD selected)...\n",
      "INFO:pyscope.reduction.ccd_calib:Applying the dark frame. CCD selected so a bias-subtracted\n",
      "                            dark frame is scaled by the ratio of the image exposure time over\n",
      "                            the dark exposure time then subtracted from the image.\n",
      "INFO:pyscope.reduction.ccd_calib:Checking if flat frame has a pedestal...\n",
      "INFO:pyscope.reduction.ccd_calib:Normalizing the flat frame by the mean of the entire image.\n",
      "INFO:pyscope.reduction.ccd_calib:flat_mean: 0.9999478043049569\n",
      "INFO:pyscope.reduction.ccd_calib:Applying the flat frame...\n"
     ]
    },
    {
     "name": "stdout",
     "output_type": "stream",
     "text": [
      "Calibrating D:\\RLMT\\images\\mjc_mjcMay02_TIC 48217457_r_90s_2024-05-03T09-02-30_wcs.fts\n"
     ]
    },
    {
     "name": "stderr",
     "output_type": "stream",
     "text": [
      "INFO:pyscope.reduction.ccd_calib:Flooring the calibrated image...\n",
      "INFO:pyscope.reduction.ccd_calib:Adding pedestal of 1000\n",
      "INFO:pyscope.reduction.ccd_calib:Removing hot pixels...\n",
      "INFO:pyscope.reduction.ccd_calib:Clipping to uint16 range...\n",
      "INFO:pyscope.reduction.ccd_calib:Writing calibrated status to header...\n",
      "INFO:pyscope.reduction.ccd_calib:Writing calibrated image to D:\\RLMT\\images\\mjc_mjcMay02_TIC 48217457_r_90s_2024-05-03T09-02-30_wcs.fts\n",
      "INFO:pyscope.reduction.ccd_calib:Done!\n",
      "INFO:pyscope.reduction.ccd_calib:Loading calibration frames...\n",
      "INFO:pyscope.reduction.ccd_calib:Loading bias frame: ./images/calibrations/2024-05-03T17-56-00/master_bias_read2_gain4x_1x1.fts\n",
      "INFO:pyscope.reduction.ccd_calib:Loading dark frame: ./images/calibrations/2024-05-03T17-56-00/master_dark_read2_gain4x_1x1.fts\n",
      "INFO:pyscope.reduction.ccd_calib:Loading flat frame: ./images/calibrations/2024-05-03T17-56-00/master_flat_r_read2_gain4x_1x1.fts\n",
      "INFO:pyscope.reduction.ccd_calib:Looping through images...\n",
      "INFO:pyscope.reduction.ccd_calib:Found 1 images\n",
      "INFO:pyscope.reduction.ccd_calib:Calibrating D:\\RLMT\\images\\mjc_mjcMay02_TIC 48217457_r_90s_2024-05-03T09-04-00_wcs.fts...\n",
      "WARNING:pyscope.reduction.ccd_calib:Image readout mode (1MHzHighSensitivity16-bit) does not match dark readout mode (1MHz High Sensitivity 16-bit)\n",
      "WARNING:pyscope.reduction.ccd_calib:Image readout mode (1MHzHighSensitivity16-bit) does not match flat readout mode (1MHz High Sensitivity 16-bit)\n",
      "INFO:pyscope.reduction.ccd_calib:Applying bias frame (CCD selected)...\n",
      "INFO:pyscope.reduction.ccd_calib:Applying the dark frame. CCD selected so a bias-subtracted\n",
      "                            dark frame is scaled by the ratio of the image exposure time over\n",
      "                            the dark exposure time then subtracted from the image.\n",
      "INFO:pyscope.reduction.ccd_calib:Checking if flat frame has a pedestal...\n",
      "INFO:pyscope.reduction.ccd_calib:Normalizing the flat frame by the mean of the entire image.\n",
      "INFO:pyscope.reduction.ccd_calib:flat_mean: 0.9999478043049569\n"
     ]
    },
    {
     "name": "stdout",
     "output_type": "stream",
     "text": [
      "Calibrating D:\\RLMT\\images\\mjc_mjcMay02_TIC 48217457_r_90s_2024-05-03T09-04-00_wcs.fts\n"
     ]
    },
    {
     "name": "stderr",
     "output_type": "stream",
     "text": [
      "INFO:pyscope.reduction.ccd_calib:Applying the flat frame...\n",
      "INFO:pyscope.reduction.ccd_calib:Flooring the calibrated image...\n",
      "INFO:pyscope.reduction.ccd_calib:Adding pedestal of 1000\n",
      "INFO:pyscope.reduction.ccd_calib:Removing hot pixels...\n",
      "INFO:pyscope.reduction.ccd_calib:Clipping to uint16 range...\n",
      "INFO:pyscope.reduction.ccd_calib:Writing calibrated status to header...\n",
      "INFO:pyscope.reduction.ccd_calib:Writing calibrated image to D:\\RLMT\\images\\mjc_mjcMay02_TIC 48217457_r_90s_2024-05-03T09-04-00_wcs.fts\n",
      "INFO:pyscope.reduction.ccd_calib:Done!\n",
      "INFO:pyscope.reduction.ccd_calib:Loading calibration frames...\n",
      "INFO:pyscope.reduction.ccd_calib:Loading bias frame: ./images/calibrations/2024-05-03T17-56-00/master_bias_read2_gain4x_1x1.fts\n",
      "INFO:pyscope.reduction.ccd_calib:Loading dark frame: ./images/calibrations/2024-05-03T17-56-00/master_dark_read2_gain4x_1x1.fts\n",
      "INFO:pyscope.reduction.ccd_calib:Loading flat frame: ./images/calibrations/2024-05-03T17-56-00/master_flat_r_read2_gain4x_1x1.fts\n",
      "INFO:pyscope.reduction.ccd_calib:Looping through images...\n",
      "INFO:pyscope.reduction.ccd_calib:Found 1 images\n",
      "INFO:pyscope.reduction.ccd_calib:Calibrating D:\\RLMT\\images\\mjc_mjcMay02_TIC 48217457_r_90s_2024-05-03T09-05-30_wcs.fts...\n",
      "WARNING:pyscope.reduction.ccd_calib:Image readout mode (1MHzHighSensitivity16-bit) does not match dark readout mode (1MHz High Sensitivity 16-bit)\n",
      "WARNING:pyscope.reduction.ccd_calib:Image readout mode (1MHzHighSensitivity16-bit) does not match flat readout mode (1MHz High Sensitivity 16-bit)\n",
      "INFO:pyscope.reduction.ccd_calib:Applying bias frame (CCD selected)...\n",
      "INFO:pyscope.reduction.ccd_calib:Applying the dark frame. CCD selected so a bias-subtracted\n",
      "                            dark frame is scaled by the ratio of the image exposure time over\n",
      "                            the dark exposure time then subtracted from the image.\n",
      "INFO:pyscope.reduction.ccd_calib:Checking if flat frame has a pedestal...\n",
      "INFO:pyscope.reduction.ccd_calib:Normalizing the flat frame by the mean of the entire image.\n",
      "INFO:pyscope.reduction.ccd_calib:flat_mean: 0.9999478043049569\n",
      "INFO:pyscope.reduction.ccd_calib:Applying the flat frame...\n",
      "INFO:pyscope.reduction.ccd_calib:Flooring the calibrated image...\n"
     ]
    },
    {
     "name": "stdout",
     "output_type": "stream",
     "text": [
      "Calibrating D:\\RLMT\\images\\mjc_mjcMay02_TIC 48217457_r_90s_2024-05-03T09-05-30_wcs.fts\n"
     ]
    },
    {
     "name": "stderr",
     "output_type": "stream",
     "text": [
      "INFO:pyscope.reduction.ccd_calib:Adding pedestal of 1000\n",
      "INFO:pyscope.reduction.ccd_calib:Removing hot pixels...\n",
      "INFO:pyscope.reduction.ccd_calib:Clipping to uint16 range...\n",
      "INFO:pyscope.reduction.ccd_calib:Writing calibrated status to header...\n",
      "INFO:pyscope.reduction.ccd_calib:Writing calibrated image to D:\\RLMT\\images\\mjc_mjcMay02_TIC 48217457_r_90s_2024-05-03T09-05-30_wcs.fts\n",
      "INFO:pyscope.reduction.ccd_calib:Done!\n",
      "INFO:pyscope.reduction.ccd_calib:Loading calibration frames...\n",
      "INFO:pyscope.reduction.ccd_calib:Loading bias frame: ./images/calibrations/2024-05-03T17-56-00/master_bias_read2_gain4x_1x1.fts\n",
      "INFO:pyscope.reduction.ccd_calib:Loading dark frame: ./images/calibrations/2024-05-03T17-56-00/master_dark_read2_gain4x_1x1.fts\n",
      "INFO:pyscope.reduction.ccd_calib:Loading flat frame: ./images/calibrations/2024-05-03T17-56-00/master_flat_r_read2_gain4x_1x1.fts\n",
      "INFO:pyscope.reduction.ccd_calib:Looping through images...\n",
      "INFO:pyscope.reduction.ccd_calib:Found 1 images\n",
      "INFO:pyscope.reduction.ccd_calib:Calibrating D:\\RLMT\\images\\mjc_mjcMay02_TIC 48217457_r_90s_2024-05-03T09-07-00_wcs.fts...\n",
      "WARNING:pyscope.reduction.ccd_calib:Image readout mode (1MHzHighSensitivity16-bit) does not match dark readout mode (1MHz High Sensitivity 16-bit)\n",
      "WARNING:pyscope.reduction.ccd_calib:Image readout mode (1MHzHighSensitivity16-bit) does not match flat readout mode (1MHz High Sensitivity 16-bit)\n",
      "INFO:pyscope.reduction.ccd_calib:Applying bias frame (CCD selected)...\n",
      "INFO:pyscope.reduction.ccd_calib:Applying the dark frame. CCD selected so a bias-subtracted\n",
      "                            dark frame is scaled by the ratio of the image exposure time over\n",
      "                            the dark exposure time then subtracted from the image.\n",
      "INFO:pyscope.reduction.ccd_calib:Checking if flat frame has a pedestal...\n"
     ]
    },
    {
     "name": "stdout",
     "output_type": "stream",
     "text": [
      "Calibrating D:\\RLMT\\images\\mjc_mjcMay02_TIC 48217457_r_90s_2024-05-03T09-07-00_wcs.fts\n"
     ]
    },
    {
     "name": "stderr",
     "output_type": "stream",
     "text": [
      "INFO:pyscope.reduction.ccd_calib:Normalizing the flat frame by the mean of the entire image.\n",
      "INFO:pyscope.reduction.ccd_calib:flat_mean: 0.9999478043049569\n",
      "INFO:pyscope.reduction.ccd_calib:Applying the flat frame...\n",
      "INFO:pyscope.reduction.ccd_calib:Flooring the calibrated image...\n",
      "INFO:pyscope.reduction.ccd_calib:Adding pedestal of 1000\n",
      "INFO:pyscope.reduction.ccd_calib:Removing hot pixels...\n",
      "INFO:pyscope.reduction.ccd_calib:Clipping to uint16 range...\n",
      "INFO:pyscope.reduction.ccd_calib:Writing calibrated status to header...\n",
      "INFO:pyscope.reduction.ccd_calib:Writing calibrated image to D:\\RLMT\\images\\mjc_mjcMay02_TIC 48217457_r_90s_2024-05-03T09-07-00_wcs.fts\n",
      "INFO:pyscope.reduction.ccd_calib:Done!\n",
      "INFO:pyscope.reduction.ccd_calib:Loading calibration frames...\n",
      "INFO:pyscope.reduction.ccd_calib:Loading bias frame: ./images/calibrations/2024-05-03T17-56-00/master_bias_read2_gain4x_1x1.fts\n",
      "INFO:pyscope.reduction.ccd_calib:Loading dark frame: ./images/calibrations/2024-05-03T17-56-00/master_dark_read2_gain4x_1x1.fts\n",
      "INFO:pyscope.reduction.ccd_calib:Loading flat frame: ./images/calibrations/2024-05-03T17-56-00/master_flat_r_read2_gain4x_1x1.fts\n",
      "INFO:pyscope.reduction.ccd_calib:Looping through images...\n",
      "INFO:pyscope.reduction.ccd_calib:Found 1 images\n",
      "INFO:pyscope.reduction.ccd_calib:Calibrating D:\\RLMT\\images\\mjc_mjcMay02_TIC 48217457_r_90s_2024-05-03T09-08-30_wcs.fts...\n",
      "WARNING:pyscope.reduction.ccd_calib:Image readout mode (1MHzHighSensitivity16-bit) does not match dark readout mode (1MHz High Sensitivity 16-bit)\n",
      "WARNING:pyscope.reduction.ccd_calib:Image readout mode (1MHzHighSensitivity16-bit) does not match flat readout mode (1MHz High Sensitivity 16-bit)\n",
      "INFO:pyscope.reduction.ccd_calib:Applying bias frame (CCD selected)...\n",
      "INFO:pyscope.reduction.ccd_calib:Applying the dark frame. CCD selected so a bias-subtracted\n",
      "                            dark frame is scaled by the ratio of the image exposure time over\n",
      "                            the dark exposure time then subtracted from the image.\n",
      "INFO:pyscope.reduction.ccd_calib:Checking if flat frame has a pedestal...\n",
      "INFO:pyscope.reduction.ccd_calib:Normalizing the flat frame by the mean of the entire image.\n",
      "INFO:pyscope.reduction.ccd_calib:flat_mean: 0.9999478043049569\n"
     ]
    },
    {
     "name": "stdout",
     "output_type": "stream",
     "text": [
      "Calibrating D:\\RLMT\\images\\mjc_mjcMay02_TIC 48217457_r_90s_2024-05-03T09-08-30_wcs.fts\n"
     ]
    },
    {
     "name": "stderr",
     "output_type": "stream",
     "text": [
      "INFO:pyscope.reduction.ccd_calib:Applying the flat frame...\n",
      "INFO:pyscope.reduction.ccd_calib:Flooring the calibrated image...\n",
      "INFO:pyscope.reduction.ccd_calib:Adding pedestal of 1000\n",
      "INFO:pyscope.reduction.ccd_calib:Removing hot pixels...\n",
      "INFO:pyscope.reduction.ccd_calib:Clipping to uint16 range...\n",
      "INFO:pyscope.reduction.ccd_calib:Writing calibrated status to header...\n",
      "INFO:pyscope.reduction.ccd_calib:Writing calibrated image to D:\\RLMT\\images\\mjc_mjcMay02_TIC 48217457_r_90s_2024-05-03T09-08-30_wcs.fts\n",
      "INFO:pyscope.reduction.ccd_calib:Done!\n",
      "INFO:pyscope.reduction.ccd_calib:Loading calibration frames...\n",
      "INFO:pyscope.reduction.ccd_calib:Loading bias frame: ./images/calibrations/2024-05-03T17-56-00/master_bias_read2_gain4x_1x1.fts\n",
      "INFO:pyscope.reduction.ccd_calib:Loading dark frame: ./images/calibrations/2024-05-03T17-56-00/master_dark_read2_gain4x_1x1.fts\n",
      "INFO:pyscope.reduction.ccd_calib:Loading flat frame: ./images/calibrations/2024-05-03T17-56-00/master_flat_r_read2_gain4x_1x1.fts\n",
      "INFO:pyscope.reduction.ccd_calib:Looping through images...\n",
      "INFO:pyscope.reduction.ccd_calib:Found 1 images\n",
      "INFO:pyscope.reduction.ccd_calib:Calibrating D:\\RLMT\\images\\mjc_mjcMay02_TIC 48217457_r_90s_2024-05-03T09-10-00_wcs.fts...\n",
      "WARNING:pyscope.reduction.ccd_calib:Image readout mode (1MHzHighSensitivity16-bit) does not match dark readout mode (1MHz High Sensitivity 16-bit)\n",
      "WARNING:pyscope.reduction.ccd_calib:Image readout mode (1MHzHighSensitivity16-bit) does not match flat readout mode (1MHz High Sensitivity 16-bit)\n",
      "INFO:pyscope.reduction.ccd_calib:Applying bias frame (CCD selected)...\n",
      "INFO:pyscope.reduction.ccd_calib:Applying the dark frame. CCD selected so a bias-subtracted\n",
      "                            dark frame is scaled by the ratio of the image exposure time over\n",
      "                            the dark exposure time then subtracted from the image.\n",
      "INFO:pyscope.reduction.ccd_calib:Checking if flat frame has a pedestal...\n",
      "INFO:pyscope.reduction.ccd_calib:Normalizing the flat frame by the mean of the entire image.\n",
      "INFO:pyscope.reduction.ccd_calib:flat_mean: 0.9999478043049569\n",
      "INFO:pyscope.reduction.ccd_calib:Applying the flat frame...\n"
     ]
    },
    {
     "name": "stdout",
     "output_type": "stream",
     "text": [
      "Calibrating D:\\RLMT\\images\\mjc_mjcMay02_TIC 48217457_r_90s_2024-05-03T09-10-00_wcs.fts\n"
     ]
    },
    {
     "name": "stderr",
     "output_type": "stream",
     "text": [
      "INFO:pyscope.reduction.ccd_calib:Flooring the calibrated image...\n",
      "INFO:pyscope.reduction.ccd_calib:Adding pedestal of 1000\n",
      "INFO:pyscope.reduction.ccd_calib:Removing hot pixels...\n",
      "INFO:pyscope.reduction.ccd_calib:Clipping to uint16 range...\n",
      "INFO:pyscope.reduction.ccd_calib:Writing calibrated status to header...\n",
      "INFO:pyscope.reduction.ccd_calib:Writing calibrated image to D:\\RLMT\\images\\mjc_mjcMay02_TIC 48217457_r_90s_2024-05-03T09-10-00_wcs.fts\n",
      "INFO:pyscope.reduction.ccd_calib:Done!\n",
      "INFO:pyscope.reduction.ccd_calib:Loading calibration frames...\n",
      "INFO:pyscope.reduction.ccd_calib:Loading bias frame: ./images/calibrations/2024-05-03T17-56-00/master_bias_read2_gain4x_1x1.fts\n",
      "INFO:pyscope.reduction.ccd_calib:Loading dark frame: ./images/calibrations/2024-05-03T17-56-00/master_dark_read2_gain4x_1x1.fts\n",
      "INFO:pyscope.reduction.ccd_calib:Loading flat frame: ./images/calibrations/2024-05-03T17-56-00/master_flat_r_read2_gain4x_1x1.fts\n",
      "INFO:pyscope.reduction.ccd_calib:Looping through images...\n",
      "INFO:pyscope.reduction.ccd_calib:Found 1 images\n",
      "INFO:pyscope.reduction.ccd_calib:Calibrating D:\\RLMT\\images\\mjc_mjcMay02_TIC 48217457_r_90s_2024-05-03T09-11-30_wcs.fts...\n",
      "WARNING:pyscope.reduction.ccd_calib:Image readout mode (1MHzHighSensitivity16-bit) does not match dark readout mode (1MHz High Sensitivity 16-bit)\n",
      "WARNING:pyscope.reduction.ccd_calib:Image readout mode (1MHzHighSensitivity16-bit) does not match flat readout mode (1MHz High Sensitivity 16-bit)\n",
      "INFO:pyscope.reduction.ccd_calib:Applying bias frame (CCD selected)...\n",
      "INFO:pyscope.reduction.ccd_calib:Applying the dark frame. CCD selected so a bias-subtracted\n",
      "                            dark frame is scaled by the ratio of the image exposure time over\n",
      "                            the dark exposure time then subtracted from the image.\n",
      "INFO:pyscope.reduction.ccd_calib:Checking if flat frame has a pedestal...\n",
      "INFO:pyscope.reduction.ccd_calib:Normalizing the flat frame by the mean of the entire image.\n",
      "INFO:pyscope.reduction.ccd_calib:flat_mean: 0.9999478043049569\n"
     ]
    },
    {
     "name": "stdout",
     "output_type": "stream",
     "text": [
      "Calibrating D:\\RLMT\\images\\mjc_mjcMay02_TIC 48217457_r_90s_2024-05-03T09-11-30_wcs.fts\n"
     ]
    },
    {
     "name": "stderr",
     "output_type": "stream",
     "text": [
      "INFO:pyscope.reduction.ccd_calib:Applying the flat frame...\n",
      "INFO:pyscope.reduction.ccd_calib:Flooring the calibrated image...\n",
      "INFO:pyscope.reduction.ccd_calib:Adding pedestal of 1000\n",
      "INFO:pyscope.reduction.ccd_calib:Removing hot pixels...\n",
      "INFO:pyscope.reduction.ccd_calib:Clipping to uint16 range...\n",
      "INFO:pyscope.reduction.ccd_calib:Writing calibrated status to header...\n",
      "INFO:pyscope.reduction.ccd_calib:Writing calibrated image to D:\\RLMT\\images\\mjc_mjcMay02_TIC 48217457_r_90s_2024-05-03T09-11-30_wcs.fts\n",
      "INFO:pyscope.reduction.ccd_calib:Done!\n",
      "INFO:pyscope.reduction.ccd_calib:Loading calibration frames...\n",
      "INFO:pyscope.reduction.ccd_calib:Loading bias frame: ./images/calibrations/2024-05-03T17-56-00/master_bias_read2_gain4x_1x1.fts\n",
      "INFO:pyscope.reduction.ccd_calib:Loading dark frame: ./images/calibrations/2024-05-03T17-56-00/master_dark_read2_gain4x_1x1.fts\n",
      "INFO:pyscope.reduction.ccd_calib:Loading flat frame: ./images/calibrations/2024-05-03T17-56-00/master_flat_r_read2_gain4x_1x1.fts\n",
      "INFO:pyscope.reduction.ccd_calib:Looping through images...\n",
      "INFO:pyscope.reduction.ccd_calib:Found 1 images\n",
      "INFO:pyscope.reduction.ccd_calib:Calibrating D:\\RLMT\\images\\mjc_mjcMay02_TIC 48217457_r_90s_2024-05-03T09-13-00_wcs.fts...\n",
      "WARNING:pyscope.reduction.ccd_calib:Image readout mode (1MHzHighSensitivity16-bit) does not match dark readout mode (1MHz High Sensitivity 16-bit)\n",
      "WARNING:pyscope.reduction.ccd_calib:Image readout mode (1MHzHighSensitivity16-bit) does not match flat readout mode (1MHz High Sensitivity 16-bit)\n",
      "INFO:pyscope.reduction.ccd_calib:Applying bias frame (CCD selected)...\n",
      "INFO:pyscope.reduction.ccd_calib:Applying the dark frame. CCD selected so a bias-subtracted\n",
      "                            dark frame is scaled by the ratio of the image exposure time over\n",
      "                            the dark exposure time then subtracted from the image.\n",
      "INFO:pyscope.reduction.ccd_calib:Checking if flat frame has a pedestal...\n",
      "INFO:pyscope.reduction.ccd_calib:Normalizing the flat frame by the mean of the entire image.\n",
      "INFO:pyscope.reduction.ccd_calib:flat_mean: 0.9999478043049569\n"
     ]
    },
    {
     "name": "stdout",
     "output_type": "stream",
     "text": [
      "Calibrating D:\\RLMT\\images\\mjc_mjcMay02_TIC 48217457_r_90s_2024-05-03T09-13-00_wcs.fts\n"
     ]
    },
    {
     "name": "stderr",
     "output_type": "stream",
     "text": [
      "INFO:pyscope.reduction.ccd_calib:Applying the flat frame...\n",
      "INFO:pyscope.reduction.ccd_calib:Flooring the calibrated image...\n",
      "INFO:pyscope.reduction.ccd_calib:Adding pedestal of 1000\n",
      "INFO:pyscope.reduction.ccd_calib:Removing hot pixels...\n",
      "INFO:pyscope.reduction.ccd_calib:Clipping to uint16 range...\n",
      "INFO:pyscope.reduction.ccd_calib:Writing calibrated status to header...\n",
      "INFO:pyscope.reduction.ccd_calib:Writing calibrated image to D:\\RLMT\\images\\mjc_mjcMay02_TIC 48217457_r_90s_2024-05-03T09-13-00_wcs.fts\n",
      "INFO:pyscope.reduction.ccd_calib:Done!\n",
      "INFO:pyscope.reduction.ccd_calib:Loading calibration frames...\n",
      "INFO:pyscope.reduction.ccd_calib:Loading bias frame: ./images/calibrations/2024-05-03T17-56-00/master_bias_read2_gain4x_1x1.fts\n",
      "INFO:pyscope.reduction.ccd_calib:Loading dark frame: ./images/calibrations/2024-05-03T17-56-00/master_dark_read2_gain4x_1x1.fts\n",
      "INFO:pyscope.reduction.ccd_calib:Loading flat frame: ./images/calibrations/2024-05-03T17-56-00/master_flat_r_read2_gain4x_1x1.fts\n",
      "INFO:pyscope.reduction.ccd_calib:Looping through images...\n",
      "INFO:pyscope.reduction.ccd_calib:Found 1 images\n",
      "INFO:pyscope.reduction.ccd_calib:Calibrating D:\\RLMT\\images\\mjc_mjcMay02_TIC 48217457_r_90s_2024-05-03T09-14-30_wcs.fts...\n",
      "WARNING:pyscope.reduction.ccd_calib:Image readout mode (1MHzHighSensitivity16-bit) does not match dark readout mode (1MHz High Sensitivity 16-bit)\n",
      "WARNING:pyscope.reduction.ccd_calib:Image readout mode (1MHzHighSensitivity16-bit) does not match flat readout mode (1MHz High Sensitivity 16-bit)\n",
      "INFO:pyscope.reduction.ccd_calib:Applying bias frame (CCD selected)...\n",
      "INFO:pyscope.reduction.ccd_calib:Applying the dark frame. CCD selected so a bias-subtracted\n",
      "                            dark frame is scaled by the ratio of the image exposure time over\n",
      "                            the dark exposure time then subtracted from the image.\n",
      "INFO:pyscope.reduction.ccd_calib:Checking if flat frame has a pedestal...\n"
     ]
    },
    {
     "name": "stdout",
     "output_type": "stream",
     "text": [
      "Calibrating D:\\RLMT\\images\\mjc_mjcMay02_TIC 48217457_r_90s_2024-05-03T09-14-30_wcs.fts\n"
     ]
    },
    {
     "name": "stderr",
     "output_type": "stream",
     "text": [
      "INFO:pyscope.reduction.ccd_calib:Normalizing the flat frame by the mean of the entire image.\n",
      "INFO:pyscope.reduction.ccd_calib:flat_mean: 0.9999478043049569\n",
      "INFO:pyscope.reduction.ccd_calib:Applying the flat frame...\n",
      "INFO:pyscope.reduction.ccd_calib:Flooring the calibrated image...\n",
      "INFO:pyscope.reduction.ccd_calib:Adding pedestal of 1000\n",
      "INFO:pyscope.reduction.ccd_calib:Removing hot pixels...\n",
      "INFO:pyscope.reduction.ccd_calib:Clipping to uint16 range...\n",
      "INFO:pyscope.reduction.ccd_calib:Writing calibrated status to header...\n",
      "INFO:pyscope.reduction.ccd_calib:Writing calibrated image to D:\\RLMT\\images\\mjc_mjcMay02_TIC 48217457_r_90s_2024-05-03T09-14-30_wcs.fts\n",
      "INFO:pyscope.reduction.ccd_calib:Done!\n",
      "INFO:pyscope.reduction.ccd_calib:Loading calibration frames...\n",
      "INFO:pyscope.reduction.ccd_calib:Loading bias frame: ./images/calibrations/2024-05-03T17-56-00/master_bias_read2_gain4x_1x1.fts\n",
      "INFO:pyscope.reduction.ccd_calib:Loading dark frame: ./images/calibrations/2024-05-03T17-56-00/master_dark_read2_gain4x_1x1.fts\n",
      "INFO:pyscope.reduction.ccd_calib:Loading flat frame: ./images/calibrations/2024-05-03T17-56-00/master_flat_r_read2_gain4x_1x1.fts\n",
      "INFO:pyscope.reduction.ccd_calib:Looping through images...\n",
      "INFO:pyscope.reduction.ccd_calib:Found 1 images\n",
      "INFO:pyscope.reduction.ccd_calib:Calibrating D:\\RLMT\\images\\mjc_mjcMay02_TIC 48217457_r_90s_2024-05-03T09-16-00_wcs.fts...\n",
      "WARNING:pyscope.reduction.ccd_calib:Image readout mode (1MHzHighSensitivity16-bit) does not match dark readout mode (1MHz High Sensitivity 16-bit)\n",
      "WARNING:pyscope.reduction.ccd_calib:Image readout mode (1MHzHighSensitivity16-bit) does not match flat readout mode (1MHz High Sensitivity 16-bit)\n",
      "INFO:pyscope.reduction.ccd_calib:Applying bias frame (CCD selected)...\n",
      "INFO:pyscope.reduction.ccd_calib:Applying the dark frame. CCD selected so a bias-subtracted\n",
      "                            dark frame is scaled by the ratio of the image exposure time over\n",
      "                            the dark exposure time then subtracted from the image.\n",
      "INFO:pyscope.reduction.ccd_calib:Checking if flat frame has a pedestal...\n",
      "INFO:pyscope.reduction.ccd_calib:Normalizing the flat frame by the mean of the entire image.\n"
     ]
    },
    {
     "name": "stdout",
     "output_type": "stream",
     "text": [
      "Calibrating D:\\RLMT\\images\\mjc_mjcMay02_TIC 48217457_r_90s_2024-05-03T09-16-00_wcs.fts\n"
     ]
    },
    {
     "name": "stderr",
     "output_type": "stream",
     "text": [
      "INFO:pyscope.reduction.ccd_calib:flat_mean: 0.9999478043049569\n",
      "INFO:pyscope.reduction.ccd_calib:Applying the flat frame...\n",
      "INFO:pyscope.reduction.ccd_calib:Flooring the calibrated image...\n",
      "INFO:pyscope.reduction.ccd_calib:Adding pedestal of 1000\n",
      "INFO:pyscope.reduction.ccd_calib:Removing hot pixels...\n",
      "INFO:pyscope.reduction.ccd_calib:Clipping to uint16 range...\n",
      "INFO:pyscope.reduction.ccd_calib:Writing calibrated status to header...\n",
      "INFO:pyscope.reduction.ccd_calib:Writing calibrated image to D:\\RLMT\\images\\mjc_mjcMay02_TIC 48217457_r_90s_2024-05-03T09-16-00_wcs.fts\n",
      "INFO:pyscope.reduction.ccd_calib:Done!\n",
      "INFO:pyscope.reduction.ccd_calib:Loading calibration frames...\n",
      "INFO:pyscope.reduction.ccd_calib:Loading bias frame: ./images/calibrations/2024-05-03T17-56-00/master_bias_read2_gain4x_1x1.fts\n",
      "INFO:pyscope.reduction.ccd_calib:Loading dark frame: ./images/calibrations/2024-05-03T17-56-00/master_dark_read2_gain4x_1x1.fts\n",
      "INFO:pyscope.reduction.ccd_calib:Loading flat frame: ./images/calibrations/2024-05-03T17-56-00/master_flat_r_read2_gain4x_1x1.fts\n",
      "INFO:pyscope.reduction.ccd_calib:Looping through images...\n",
      "INFO:pyscope.reduction.ccd_calib:Found 1 images\n",
      "INFO:pyscope.reduction.ccd_calib:Calibrating D:\\RLMT\\images\\mjc_mjcMay02_TIC 48217457_r_90s_2024-05-03T09-17-30_wcs.fts...\n",
      "WARNING:pyscope.reduction.ccd_calib:Image readout mode (1MHzHighSensitivity16-bit) does not match dark readout mode (1MHz High Sensitivity 16-bit)\n",
      "WARNING:pyscope.reduction.ccd_calib:Image readout mode (1MHzHighSensitivity16-bit) does not match flat readout mode (1MHz High Sensitivity 16-bit)\n",
      "INFO:pyscope.reduction.ccd_calib:Applying bias frame (CCD selected)...\n",
      "INFO:pyscope.reduction.ccd_calib:Applying the dark frame. CCD selected so a bias-subtracted\n",
      "                            dark frame is scaled by the ratio of the image exposure time over\n",
      "                            the dark exposure time then subtracted from the image.\n",
      "INFO:pyscope.reduction.ccd_calib:Checking if flat frame has a pedestal...\n",
      "INFO:pyscope.reduction.ccd_calib:Normalizing the flat frame by the mean of the entire image.\n",
      "INFO:pyscope.reduction.ccd_calib:flat_mean: 0.9999478043049569\n",
      "INFO:pyscope.reduction.ccd_calib:Applying the flat frame...\n"
     ]
    },
    {
     "name": "stdout",
     "output_type": "stream",
     "text": [
      "Calibrating D:\\RLMT\\images\\mjc_mjcMay02_TIC 48217457_r_90s_2024-05-03T09-17-30_wcs.fts\n"
     ]
    },
    {
     "name": "stderr",
     "output_type": "stream",
     "text": [
      "INFO:pyscope.reduction.ccd_calib:Flooring the calibrated image...\n",
      "INFO:pyscope.reduction.ccd_calib:Adding pedestal of 1000\n",
      "INFO:pyscope.reduction.ccd_calib:Removing hot pixels...\n",
      "INFO:pyscope.reduction.ccd_calib:Clipping to uint16 range...\n",
      "INFO:pyscope.reduction.ccd_calib:Writing calibrated status to header...\n",
      "INFO:pyscope.reduction.ccd_calib:Writing calibrated image to D:\\RLMT\\images\\mjc_mjcMay02_TIC 48217457_r_90s_2024-05-03T09-17-30_wcs.fts\n",
      "INFO:pyscope.reduction.ccd_calib:Done!\n",
      "INFO:pyscope.reduction.ccd_calib:Loading calibration frames...\n",
      "INFO:pyscope.reduction.ccd_calib:Loading bias frame: ./images/calibrations/2024-05-03T17-56-00/master_bias_read2_gain4x_1x1.fts\n",
      "INFO:pyscope.reduction.ccd_calib:Loading dark frame: ./images/calibrations/2024-05-03T17-56-00/master_dark_read2_gain4x_1x1.fts\n",
      "INFO:pyscope.reduction.ccd_calib:Loading flat frame: ./images/calibrations/2024-05-03T17-56-00/master_flat_r_read2_gain4x_1x1.fts\n",
      "INFO:pyscope.reduction.ccd_calib:Looping through images...\n",
      "INFO:pyscope.reduction.ccd_calib:Found 1 images\n",
      "INFO:pyscope.reduction.ccd_calib:Calibrating D:\\RLMT\\images\\mjc_mjcMay02_TIC 48217457_r_90s_2024-05-03T09-19-00_wcs.fts...\n",
      "WARNING:pyscope.reduction.ccd_calib:Image readout mode (1MHzHighSensitivity16-bit) does not match dark readout mode (1MHz High Sensitivity 16-bit)\n",
      "WARNING:pyscope.reduction.ccd_calib:Image readout mode (1MHzHighSensitivity16-bit) does not match flat readout mode (1MHz High Sensitivity 16-bit)\n",
      "INFO:pyscope.reduction.ccd_calib:Applying bias frame (CCD selected)...\n",
      "INFO:pyscope.reduction.ccd_calib:Applying the dark frame. CCD selected so a bias-subtracted\n",
      "                            dark frame is scaled by the ratio of the image exposure time over\n",
      "                            the dark exposure time then subtracted from the image.\n",
      "INFO:pyscope.reduction.ccd_calib:Checking if flat frame has a pedestal...\n"
     ]
    },
    {
     "name": "stdout",
     "output_type": "stream",
     "text": [
      "Calibrating D:\\RLMT\\images\\mjc_mjcMay02_TIC 48217457_r_90s_2024-05-03T09-19-00_wcs.fts\n"
     ]
    },
    {
     "name": "stderr",
     "output_type": "stream",
     "text": [
      "INFO:pyscope.reduction.ccd_calib:Normalizing the flat frame by the mean of the entire image.\n",
      "INFO:pyscope.reduction.ccd_calib:flat_mean: 0.9999478043049569\n",
      "INFO:pyscope.reduction.ccd_calib:Applying the flat frame...\n",
      "INFO:pyscope.reduction.ccd_calib:Flooring the calibrated image...\n",
      "INFO:pyscope.reduction.ccd_calib:Adding pedestal of 1000\n",
      "INFO:pyscope.reduction.ccd_calib:Removing hot pixels...\n",
      "INFO:pyscope.reduction.ccd_calib:Clipping to uint16 range...\n",
      "INFO:pyscope.reduction.ccd_calib:Writing calibrated status to header...\n",
      "INFO:pyscope.reduction.ccd_calib:Writing calibrated image to D:\\RLMT\\images\\mjc_mjcMay02_TIC 48217457_r_90s_2024-05-03T09-19-00_wcs.fts\n",
      "INFO:pyscope.reduction.ccd_calib:Done!\n",
      "INFO:pyscope.reduction.ccd_calib:Loading calibration frames...\n",
      "INFO:pyscope.reduction.ccd_calib:Loading bias frame: ./images/calibrations/2024-05-03T17-56-00/master_bias_read2_gain4x_1x1.fts\n",
      "INFO:pyscope.reduction.ccd_calib:Loading dark frame: ./images/calibrations/2024-05-03T17-56-00/master_dark_read2_gain4x_1x1.fts\n",
      "INFO:pyscope.reduction.ccd_calib:Loading flat frame: ./images/calibrations/2024-05-03T17-56-00/master_flat_r_read2_gain4x_1x1.fts\n",
      "INFO:pyscope.reduction.ccd_calib:Looping through images...\n",
      "INFO:pyscope.reduction.ccd_calib:Found 1 images\n",
      "INFO:pyscope.reduction.ccd_calib:Calibrating D:\\RLMT\\images\\mjc_mjcMay02_TIC 48217457_r_90s_2024-05-03T09-20-30_wcs.fts...\n",
      "WARNING:pyscope.reduction.ccd_calib:Image readout mode (1MHzHighSensitivity16-bit) does not match dark readout mode (1MHz High Sensitivity 16-bit)\n",
      "WARNING:pyscope.reduction.ccd_calib:Image readout mode (1MHzHighSensitivity16-bit) does not match flat readout mode (1MHz High Sensitivity 16-bit)\n",
      "INFO:pyscope.reduction.ccd_calib:Applying bias frame (CCD selected)...\n",
      "INFO:pyscope.reduction.ccd_calib:Applying the dark frame. CCD selected so a bias-subtracted\n",
      "                            dark frame is scaled by the ratio of the image exposure time over\n",
      "                            the dark exposure time then subtracted from the image.\n",
      "INFO:pyscope.reduction.ccd_calib:Checking if flat frame has a pedestal...\n"
     ]
    },
    {
     "name": "stdout",
     "output_type": "stream",
     "text": [
      "Calibrating D:\\RLMT\\images\\mjc_mjcMay02_TIC 48217457_r_90s_2024-05-03T09-20-30_wcs.fts\n"
     ]
    },
    {
     "name": "stderr",
     "output_type": "stream",
     "text": [
      "INFO:pyscope.reduction.ccd_calib:Normalizing the flat frame by the mean of the entire image.\n",
      "INFO:pyscope.reduction.ccd_calib:flat_mean: 0.9999478043049569\n",
      "INFO:pyscope.reduction.ccd_calib:Applying the flat frame...\n",
      "INFO:pyscope.reduction.ccd_calib:Flooring the calibrated image...\n",
      "INFO:pyscope.reduction.ccd_calib:Adding pedestal of 1000\n",
      "INFO:pyscope.reduction.ccd_calib:Removing hot pixels...\n",
      "INFO:pyscope.reduction.ccd_calib:Clipping to uint16 range...\n",
      "INFO:pyscope.reduction.ccd_calib:Writing calibrated status to header...\n",
      "INFO:pyscope.reduction.ccd_calib:Writing calibrated image to D:\\RLMT\\images\\mjc_mjcMay02_TIC 48217457_r_90s_2024-05-03T09-20-30_wcs.fts\n",
      "INFO:pyscope.reduction.ccd_calib:Done!\n",
      "INFO:pyscope.reduction.ccd_calib:Loading calibration frames...\n",
      "INFO:pyscope.reduction.ccd_calib:Loading bias frame: ./images/calibrations/2024-05-03T17-56-00/master_bias_read2_gain4x_1x1.fts\n",
      "INFO:pyscope.reduction.ccd_calib:Loading dark frame: ./images/calibrations/2024-05-03T17-56-00/master_dark_read2_gain4x_1x1.fts\n",
      "INFO:pyscope.reduction.ccd_calib:Loading flat frame: ./images/calibrations/2024-05-03T17-56-00/master_flat_r_read2_gain4x_1x1.fts\n",
      "INFO:pyscope.reduction.ccd_calib:Looping through images...\n",
      "INFO:pyscope.reduction.ccd_calib:Found 1 images\n",
      "INFO:pyscope.reduction.ccd_calib:Calibrating D:\\RLMT\\images\\mjc_mjcMay02_TIC 48217457_r_90s_2024-05-03T09-22-00_wcs.fts...\n",
      "WARNING:pyscope.reduction.ccd_calib:Image readout mode (1MHzHighSensitivity16-bit) does not match dark readout mode (1MHz High Sensitivity 16-bit)\n",
      "WARNING:pyscope.reduction.ccd_calib:Image readout mode (1MHzHighSensitivity16-bit) does not match flat readout mode (1MHz High Sensitivity 16-bit)\n",
      "INFO:pyscope.reduction.ccd_calib:Applying bias frame (CCD selected)...\n",
      "INFO:pyscope.reduction.ccd_calib:Applying the dark frame. CCD selected so a bias-subtracted\n",
      "                            dark frame is scaled by the ratio of the image exposure time over\n",
      "                            the dark exposure time then subtracted from the image.\n",
      "INFO:pyscope.reduction.ccd_calib:Checking if flat frame has a pedestal...\n"
     ]
    },
    {
     "name": "stdout",
     "output_type": "stream",
     "text": [
      "Calibrating D:\\RLMT\\images\\mjc_mjcMay02_TIC 48217457_r_90s_2024-05-03T09-22-00_wcs.fts\n"
     ]
    },
    {
     "name": "stderr",
     "output_type": "stream",
     "text": [
      "INFO:pyscope.reduction.ccd_calib:Normalizing the flat frame by the mean of the entire image.\n",
      "INFO:pyscope.reduction.ccd_calib:flat_mean: 0.9999478043049569\n",
      "INFO:pyscope.reduction.ccd_calib:Applying the flat frame...\n",
      "INFO:pyscope.reduction.ccd_calib:Flooring the calibrated image...\n",
      "INFO:pyscope.reduction.ccd_calib:Adding pedestal of 1000\n",
      "INFO:pyscope.reduction.ccd_calib:Removing hot pixels...\n",
      "INFO:pyscope.reduction.ccd_calib:Clipping to uint16 range...\n",
      "INFO:pyscope.reduction.ccd_calib:Writing calibrated status to header...\n",
      "INFO:pyscope.reduction.ccd_calib:Writing calibrated image to D:\\RLMT\\images\\mjc_mjcMay02_TIC 48217457_r_90s_2024-05-03T09-22-00_wcs.fts\n",
      "INFO:pyscope.reduction.ccd_calib:Done!\n",
      "INFO:pyscope.reduction.ccd_calib:Loading calibration frames...\n",
      "INFO:pyscope.reduction.ccd_calib:Loading bias frame: ./images/calibrations/2024-05-03T17-56-00/master_bias_read2_gain4x_1x1.fts\n",
      "INFO:pyscope.reduction.ccd_calib:Loading dark frame: ./images/calibrations/2024-05-03T17-56-00/master_dark_read2_gain4x_1x1.fts\n",
      "INFO:pyscope.reduction.ccd_calib:Loading flat frame: ./images/calibrations/2024-05-03T17-56-00/master_flat_r_read2_gain4x_1x1.fts\n",
      "INFO:pyscope.reduction.ccd_calib:Looping through images...\n",
      "INFO:pyscope.reduction.ccd_calib:Found 1 images\n",
      "INFO:pyscope.reduction.ccd_calib:Calibrating D:\\RLMT\\images\\mjc_mjcMay02_TIC 48217457_r_90s_2024-05-03T09-23-30_wcs.fts...\n",
      "WARNING:pyscope.reduction.ccd_calib:Image readout mode (1MHzHighSensitivity16-bit) does not match dark readout mode (1MHz High Sensitivity 16-bit)\n",
      "WARNING:pyscope.reduction.ccd_calib:Image readout mode (1MHzHighSensitivity16-bit) does not match flat readout mode (1MHz High Sensitivity 16-bit)\n",
      "INFO:pyscope.reduction.ccd_calib:Applying bias frame (CCD selected)...\n",
      "INFO:pyscope.reduction.ccd_calib:Applying the dark frame. CCD selected so a bias-subtracted\n",
      "                            dark frame is scaled by the ratio of the image exposure time over\n",
      "                            the dark exposure time then subtracted from the image.\n",
      "INFO:pyscope.reduction.ccd_calib:Checking if flat frame has a pedestal...\n",
      "INFO:pyscope.reduction.ccd_calib:Normalizing the flat frame by the mean of the entire image.\n",
      "INFO:pyscope.reduction.ccd_calib:flat_mean: 0.9999478043049569\n",
      "INFO:pyscope.reduction.ccd_calib:Applying the flat frame...\n"
     ]
    },
    {
     "name": "stdout",
     "output_type": "stream",
     "text": [
      "Calibrating D:\\RLMT\\images\\mjc_mjcMay02_TIC 48217457_r_90s_2024-05-03T09-23-30_wcs.fts\n"
     ]
    },
    {
     "name": "stderr",
     "output_type": "stream",
     "text": [
      "INFO:pyscope.reduction.ccd_calib:Flooring the calibrated image...\n",
      "INFO:pyscope.reduction.ccd_calib:Adding pedestal of 1000\n",
      "INFO:pyscope.reduction.ccd_calib:Removing hot pixels...\n",
      "INFO:pyscope.reduction.ccd_calib:Clipping to uint16 range...\n",
      "INFO:pyscope.reduction.ccd_calib:Writing calibrated status to header...\n",
      "INFO:pyscope.reduction.ccd_calib:Writing calibrated image to D:\\RLMT\\images\\mjc_mjcMay02_TIC 48217457_r_90s_2024-05-03T09-23-30_wcs.fts\n",
      "INFO:pyscope.reduction.ccd_calib:Done!\n",
      "INFO:pyscope.reduction.ccd_calib:Loading calibration frames...\n",
      "INFO:pyscope.reduction.ccd_calib:Loading bias frame: ./images/calibrations/2024-05-03T17-56-00/master_bias_read2_gain4x_1x1.fts\n",
      "INFO:pyscope.reduction.ccd_calib:Loading dark frame: ./images/calibrations/2024-05-03T17-56-00/master_dark_read2_gain4x_1x1.fts\n",
      "INFO:pyscope.reduction.ccd_calib:Loading flat frame: ./images/calibrations/2024-05-03T17-56-00/master_flat_r_read2_gain4x_1x1.fts\n",
      "INFO:pyscope.reduction.ccd_calib:Looping through images...\n",
      "INFO:pyscope.reduction.ccd_calib:Found 1 images\n",
      "INFO:pyscope.reduction.ccd_calib:Calibrating D:\\RLMT\\images\\mjc_mjcMay02_TIC 48217457_r_90s_2024-05-03T09-25-00_wcs.fts...\n",
      "WARNING:pyscope.reduction.ccd_calib:Image readout mode (1MHzHighSensitivity16-bit) does not match dark readout mode (1MHz High Sensitivity 16-bit)\n",
      "WARNING:pyscope.reduction.ccd_calib:Image readout mode (1MHzHighSensitivity16-bit) does not match flat readout mode (1MHz High Sensitivity 16-bit)\n",
      "INFO:pyscope.reduction.ccd_calib:Applying bias frame (CCD selected)...\n",
      "INFO:pyscope.reduction.ccd_calib:Applying the dark frame. CCD selected so a bias-subtracted\n",
      "                            dark frame is scaled by the ratio of the image exposure time over\n",
      "                            the dark exposure time then subtracted from the image.\n",
      "INFO:pyscope.reduction.ccd_calib:Checking if flat frame has a pedestal...\n",
      "INFO:pyscope.reduction.ccd_calib:Normalizing the flat frame by the mean of the entire image.\n",
      "INFO:pyscope.reduction.ccd_calib:flat_mean: 0.9999478043049569\n",
      "INFO:pyscope.reduction.ccd_calib:Applying the flat frame...\n",
      "INFO:pyscope.reduction.ccd_calib:Flooring the calibrated image...\n"
     ]
    },
    {
     "name": "stdout",
     "output_type": "stream",
     "text": [
      "Calibrating D:\\RLMT\\images\\mjc_mjcMay02_TIC 48217457_r_90s_2024-05-03T09-25-00_wcs.fts\n"
     ]
    },
    {
     "name": "stderr",
     "output_type": "stream",
     "text": [
      "INFO:pyscope.reduction.ccd_calib:Adding pedestal of 1000\n",
      "INFO:pyscope.reduction.ccd_calib:Removing hot pixels...\n",
      "INFO:pyscope.reduction.ccd_calib:Clipping to uint16 range...\n",
      "INFO:pyscope.reduction.ccd_calib:Writing calibrated status to header...\n",
      "INFO:pyscope.reduction.ccd_calib:Writing calibrated image to D:\\RLMT\\images\\mjc_mjcMay02_TIC 48217457_r_90s_2024-05-03T09-25-00_wcs.fts\n",
      "INFO:pyscope.reduction.ccd_calib:Done!\n",
      "INFO:pyscope.reduction.ccd_calib:Loading calibration frames...\n",
      "INFO:pyscope.reduction.ccd_calib:Loading bias frame: ./images/calibrations/2024-05-03T17-56-00/master_bias_read2_gain4x_1x1.fts\n",
      "INFO:pyscope.reduction.ccd_calib:Loading dark frame: ./images/calibrations/2024-05-03T17-56-00/master_dark_read2_gain4x_1x1.fts\n",
      "INFO:pyscope.reduction.ccd_calib:Loading flat frame: ./images/calibrations/2024-05-03T17-56-00/master_flat_r_read2_gain4x_1x1.fts\n",
      "INFO:pyscope.reduction.ccd_calib:Looping through images...\n",
      "INFO:pyscope.reduction.ccd_calib:Found 1 images\n",
      "INFO:pyscope.reduction.ccd_calib:Calibrating D:\\RLMT\\images\\mjc_mjcMay02_TIC 48217457_r_90s_2024-05-03T09-26-30_wcs.fts...\n"
     ]
    },
    {
     "name": "stdout",
     "output_type": "stream",
     "text": [
      "Calibrating D:\\RLMT\\images\\mjc_mjcMay02_TIC 48217457_r_90s_2024-05-03T09-26-30_wcs.fts\n"
     ]
    },
    {
     "name": "stderr",
     "output_type": "stream",
     "text": [
      "WARNING:pyscope.reduction.ccd_calib:Image readout mode (1MHzHighSensitivity16-bit) does not match dark readout mode (1MHz High Sensitivity 16-bit)\n",
      "WARNING:pyscope.reduction.ccd_calib:Image readout mode (1MHzHighSensitivity16-bit) does not match flat readout mode (1MHz High Sensitivity 16-bit)\n",
      "INFO:pyscope.reduction.ccd_calib:Applying bias frame (CCD selected)...\n",
      "INFO:pyscope.reduction.ccd_calib:Applying the dark frame. CCD selected so a bias-subtracted\n",
      "                            dark frame is scaled by the ratio of the image exposure time over\n",
      "                            the dark exposure time then subtracted from the image.\n",
      "INFO:pyscope.reduction.ccd_calib:Checking if flat frame has a pedestal...\n",
      "INFO:pyscope.reduction.ccd_calib:Normalizing the flat frame by the mean of the entire image.\n",
      "INFO:pyscope.reduction.ccd_calib:flat_mean: 0.9999478043049569\n",
      "INFO:pyscope.reduction.ccd_calib:Applying the flat frame...\n",
      "INFO:pyscope.reduction.ccd_calib:Flooring the calibrated image...\n",
      "INFO:pyscope.reduction.ccd_calib:Adding pedestal of 1000\n",
      "INFO:pyscope.reduction.ccd_calib:Removing hot pixels...\n",
      "INFO:pyscope.reduction.ccd_calib:Clipping to uint16 range...\n",
      "INFO:pyscope.reduction.ccd_calib:Writing calibrated status to header...\n",
      "INFO:pyscope.reduction.ccd_calib:Writing calibrated image to D:\\RLMT\\images\\mjc_mjcMay02_TIC 48217457_r_90s_2024-05-03T09-26-30_wcs.fts\n",
      "INFO:pyscope.reduction.ccd_calib:Done!\n",
      "INFO:pyscope.reduction.ccd_calib:Loading calibration frames...\n",
      "INFO:pyscope.reduction.ccd_calib:Loading bias frame: ./images/calibrations/2024-05-03T17-56-00/master_bias_read2_gain4x_1x1.fts\n",
      "INFO:pyscope.reduction.ccd_calib:Loading dark frame: ./images/calibrations/2024-05-03T17-56-00/master_dark_read2_gain4x_1x1.fts\n",
      "INFO:pyscope.reduction.ccd_calib:Loading flat frame: ./images/calibrations/2024-05-03T17-56-00/master_flat_r_read2_gain4x_1x1.fts\n",
      "INFO:pyscope.reduction.ccd_calib:Looping through images...\n",
      "INFO:pyscope.reduction.ccd_calib:Found 1 images\n",
      "INFO:pyscope.reduction.ccd_calib:Calibrating D:\\RLMT\\images\\mjc_mjcMay02_TIC 48217457_r_90s_2024-05-03T09-28-00_wcs.fts...\n",
      "WARNING:pyscope.reduction.ccd_calib:Image readout mode (1MHzHighSensitivity16-bit) does not match dark readout mode (1MHz High Sensitivity 16-bit)\n",
      "WARNING:pyscope.reduction.ccd_calib:Image readout mode (1MHzHighSensitivity16-bit) does not match flat readout mode (1MHz High Sensitivity 16-bit)\n",
      "INFO:pyscope.reduction.ccd_calib:Applying bias frame (CCD selected)...\n",
      "INFO:pyscope.reduction.ccd_calib:Applying the dark frame. CCD selected so a bias-subtracted\n",
      "                            dark frame is scaled by the ratio of the image exposure time over\n",
      "                            the dark exposure time then subtracted from the image.\n",
      "INFO:pyscope.reduction.ccd_calib:Checking if flat frame has a pedestal...\n"
     ]
    },
    {
     "name": "stdout",
     "output_type": "stream",
     "text": [
      "Calibrating D:\\RLMT\\images\\mjc_mjcMay02_TIC 48217457_r_90s_2024-05-03T09-28-00_wcs.fts\n"
     ]
    },
    {
     "name": "stderr",
     "output_type": "stream",
     "text": [
      "INFO:pyscope.reduction.ccd_calib:Normalizing the flat frame by the mean of the entire image.\n",
      "INFO:pyscope.reduction.ccd_calib:flat_mean: 0.9999478043049569\n",
      "INFO:pyscope.reduction.ccd_calib:Applying the flat frame...\n",
      "INFO:pyscope.reduction.ccd_calib:Flooring the calibrated image...\n",
      "INFO:pyscope.reduction.ccd_calib:Adding pedestal of 1000\n",
      "INFO:pyscope.reduction.ccd_calib:Removing hot pixels...\n",
      "INFO:pyscope.reduction.ccd_calib:Clipping to uint16 range...\n",
      "INFO:pyscope.reduction.ccd_calib:Writing calibrated status to header...\n",
      "INFO:pyscope.reduction.ccd_calib:Writing calibrated image to D:\\RLMT\\images\\mjc_mjcMay02_TIC 48217457_r_90s_2024-05-03T09-28-00_wcs.fts\n",
      "INFO:pyscope.reduction.ccd_calib:Done!\n",
      "INFO:pyscope.reduction.ccd_calib:Loading calibration frames...\n",
      "INFO:pyscope.reduction.ccd_calib:Loading bias frame: ./images/calibrations/2024-05-03T17-56-00/master_bias_read2_gain4x_1x1.fts\n",
      "INFO:pyscope.reduction.ccd_calib:Loading dark frame: ./images/calibrations/2024-05-03T17-56-00/master_dark_read2_gain4x_1x1.fts\n",
      "INFO:pyscope.reduction.ccd_calib:Loading flat frame: ./images/calibrations/2024-05-03T17-56-00/master_flat_r_read2_gain4x_1x1.fts\n",
      "INFO:pyscope.reduction.ccd_calib:Looping through images...\n",
      "INFO:pyscope.reduction.ccd_calib:Found 1 images\n",
      "INFO:pyscope.reduction.ccd_calib:Calibrating D:\\RLMT\\images\\mjc_mjcMay02_TIC 48217457_r_90s_2024-05-03T09-29-30_wcs.fts...\n",
      "WARNING:pyscope.reduction.ccd_calib:Image readout mode (1MHzHighSensitivity16-bit) does not match dark readout mode (1MHz High Sensitivity 16-bit)\n",
      "WARNING:pyscope.reduction.ccd_calib:Image readout mode (1MHzHighSensitivity16-bit) does not match flat readout mode (1MHz High Sensitivity 16-bit)\n",
      "INFO:pyscope.reduction.ccd_calib:Applying bias frame (CCD selected)...\n",
      "INFO:pyscope.reduction.ccd_calib:Applying the dark frame. CCD selected so a bias-subtracted\n",
      "                            dark frame is scaled by the ratio of the image exposure time over\n",
      "                            the dark exposure time then subtracted from the image.\n",
      "INFO:pyscope.reduction.ccd_calib:Checking if flat frame has a pedestal...\n"
     ]
    },
    {
     "name": "stdout",
     "output_type": "stream",
     "text": [
      "Calibrating D:\\RLMT\\images\\mjc_mjcMay02_TIC 48217457_r_90s_2024-05-03T09-29-30_wcs.fts\n"
     ]
    },
    {
     "name": "stderr",
     "output_type": "stream",
     "text": [
      "INFO:pyscope.reduction.ccd_calib:Normalizing the flat frame by the mean of the entire image.\n",
      "INFO:pyscope.reduction.ccd_calib:flat_mean: 0.9999478043049569\n",
      "INFO:pyscope.reduction.ccd_calib:Applying the flat frame...\n",
      "INFO:pyscope.reduction.ccd_calib:Flooring the calibrated image...\n",
      "INFO:pyscope.reduction.ccd_calib:Adding pedestal of 1000\n",
      "INFO:pyscope.reduction.ccd_calib:Removing hot pixels...\n",
      "INFO:pyscope.reduction.ccd_calib:Clipping to uint16 range...\n",
      "INFO:pyscope.reduction.ccd_calib:Writing calibrated status to header...\n",
      "INFO:pyscope.reduction.ccd_calib:Writing calibrated image to D:\\RLMT\\images\\mjc_mjcMay02_TIC 48217457_r_90s_2024-05-03T09-29-30_wcs.fts\n",
      "INFO:pyscope.reduction.ccd_calib:Done!\n",
      "INFO:pyscope.reduction.ccd_calib:Loading calibration frames...\n",
      "INFO:pyscope.reduction.ccd_calib:Loading bias frame: ./images/calibrations/2024-05-03T17-56-00/master_bias_read2_gain4x_1x1.fts\n",
      "INFO:pyscope.reduction.ccd_calib:Loading dark frame: ./images/calibrations/2024-05-03T17-56-00/master_dark_read2_gain4x_1x1.fts\n",
      "INFO:pyscope.reduction.ccd_calib:Loading flat frame: ./images/calibrations/2024-05-03T17-56-00/master_flat_r_read2_gain4x_1x1.fts\n",
      "INFO:pyscope.reduction.ccd_calib:Looping through images...\n",
      "INFO:pyscope.reduction.ccd_calib:Found 1 images\n",
      "INFO:pyscope.reduction.ccd_calib:Calibrating D:\\RLMT\\images\\mjc_mjcMay02_TIC 48217457_r_90s_2024-05-03T09-31-00_wcs.fts...\n",
      "WARNING:pyscope.reduction.ccd_calib:Image readout mode (1MHzHighSensitivity16-bit) does not match dark readout mode (1MHz High Sensitivity 16-bit)\n",
      "WARNING:pyscope.reduction.ccd_calib:Image readout mode (1MHzHighSensitivity16-bit) does not match flat readout mode (1MHz High Sensitivity 16-bit)\n",
      "INFO:pyscope.reduction.ccd_calib:Applying bias frame (CCD selected)...\n",
      "INFO:pyscope.reduction.ccd_calib:Applying the dark frame. CCD selected so a bias-subtracted\n",
      "                            dark frame is scaled by the ratio of the image exposure time over\n",
      "                            the dark exposure time then subtracted from the image.\n"
     ]
    },
    {
     "name": "stdout",
     "output_type": "stream",
     "text": [
      "Calibrating D:\\RLMT\\images\\mjc_mjcMay02_TIC 48217457_r_90s_2024-05-03T09-31-00_wcs.fts\n"
     ]
    },
    {
     "name": "stderr",
     "output_type": "stream",
     "text": [
      "INFO:pyscope.reduction.ccd_calib:Checking if flat frame has a pedestal...\n",
      "INFO:pyscope.reduction.ccd_calib:Normalizing the flat frame by the mean of the entire image.\n",
      "INFO:pyscope.reduction.ccd_calib:flat_mean: 0.9999478043049569\n",
      "INFO:pyscope.reduction.ccd_calib:Applying the flat frame...\n",
      "INFO:pyscope.reduction.ccd_calib:Flooring the calibrated image...\n",
      "INFO:pyscope.reduction.ccd_calib:Adding pedestal of 1000\n",
      "INFO:pyscope.reduction.ccd_calib:Removing hot pixels...\n",
      "INFO:pyscope.reduction.ccd_calib:Clipping to uint16 range...\n",
      "INFO:pyscope.reduction.ccd_calib:Writing calibrated status to header...\n",
      "INFO:pyscope.reduction.ccd_calib:Writing calibrated image to D:\\RLMT\\images\\mjc_mjcMay02_TIC 48217457_r_90s_2024-05-03T09-31-00_wcs.fts\n",
      "INFO:pyscope.reduction.ccd_calib:Done!\n",
      "INFO:pyscope.reduction.ccd_calib:Loading calibration frames...\n",
      "INFO:pyscope.reduction.ccd_calib:Loading bias frame: ./images/calibrations/2024-05-03T17-56-00/master_bias_read2_gain4x_1x1.fts\n",
      "INFO:pyscope.reduction.ccd_calib:Loading dark frame: ./images/calibrations/2024-05-03T17-56-00/master_dark_read2_gain4x_1x1.fts\n",
      "INFO:pyscope.reduction.ccd_calib:Loading flat frame: ./images/calibrations/2024-05-03T17-56-00/master_flat_r_read2_gain4x_1x1.fts\n",
      "INFO:pyscope.reduction.ccd_calib:Looping through images...\n",
      "INFO:pyscope.reduction.ccd_calib:Found 1 images\n",
      "INFO:pyscope.reduction.ccd_calib:Calibrating D:\\RLMT\\images\\mjc_mjcMay02_TIC 48217457_r_90s_2024-05-03T09-32-30_wcs.fts...\n",
      "WARNING:pyscope.reduction.ccd_calib:Image readout mode (1MHzHighSensitivity16-bit) does not match dark readout mode (1MHz High Sensitivity 16-bit)\n",
      "WARNING:pyscope.reduction.ccd_calib:Image readout mode (1MHzHighSensitivity16-bit) does not match flat readout mode (1MHz High Sensitivity 16-bit)\n",
      "INFO:pyscope.reduction.ccd_calib:Applying bias frame (CCD selected)...\n",
      "INFO:pyscope.reduction.ccd_calib:Applying the dark frame. CCD selected so a bias-subtracted\n",
      "                            dark frame is scaled by the ratio of the image exposure time over\n",
      "                            the dark exposure time then subtracted from the image.\n",
      "INFO:pyscope.reduction.ccd_calib:Checking if flat frame has a pedestal...\n",
      "INFO:pyscope.reduction.ccd_calib:Normalizing the flat frame by the mean of the entire image.\n",
      "INFO:pyscope.reduction.ccd_calib:flat_mean: 0.9999478043049569\n",
      "INFO:pyscope.reduction.ccd_calib:Applying the flat frame...\n",
      "INFO:pyscope.reduction.ccd_calib:Flooring the calibrated image...\n"
     ]
    },
    {
     "name": "stdout",
     "output_type": "stream",
     "text": [
      "Calibrating D:\\RLMT\\images\\mjc_mjcMay02_TIC 48217457_r_90s_2024-05-03T09-32-30_wcs.fts\n"
     ]
    },
    {
     "name": "stderr",
     "output_type": "stream",
     "text": [
      "INFO:pyscope.reduction.ccd_calib:Adding pedestal of 1000\n",
      "INFO:pyscope.reduction.ccd_calib:Removing hot pixels...\n",
      "INFO:pyscope.reduction.ccd_calib:Clipping to uint16 range...\n",
      "INFO:pyscope.reduction.ccd_calib:Writing calibrated status to header...\n",
      "INFO:pyscope.reduction.ccd_calib:Writing calibrated image to D:\\RLMT\\images\\mjc_mjcMay02_TIC 48217457_r_90s_2024-05-03T09-32-30_wcs.fts\n",
      "INFO:pyscope.reduction.ccd_calib:Done!\n",
      "INFO:pyscope.reduction.ccd_calib:Loading calibration frames...\n",
      "INFO:pyscope.reduction.ccd_calib:Loading bias frame: ./images/calibrations/2024-05-03T17-56-00/master_bias_read2_gain4x_1x1.fts\n",
      "INFO:pyscope.reduction.ccd_calib:Loading dark frame: ./images/calibrations/2024-05-03T17-56-00/master_dark_read2_gain4x_1x1.fts\n",
      "INFO:pyscope.reduction.ccd_calib:Loading flat frame: ./images/calibrations/2024-05-03T17-56-00/master_flat_r_read2_gain4x_1x1.fts\n",
      "INFO:pyscope.reduction.ccd_calib:Looping through images...\n",
      "INFO:pyscope.reduction.ccd_calib:Found 1 images\n",
      "INFO:pyscope.reduction.ccd_calib:Calibrating D:\\RLMT\\images\\mjc_mjcMay02_TIC 48217457_r_90s_2024-05-03T09-34-00_wcs.fts...\n",
      "WARNING:pyscope.reduction.ccd_calib:Image readout mode (1MHzHighSensitivity16-bit) does not match dark readout mode (1MHz High Sensitivity 16-bit)\n",
      "WARNING:pyscope.reduction.ccd_calib:Image readout mode (1MHzHighSensitivity16-bit) does not match flat readout mode (1MHz High Sensitivity 16-bit)\n",
      "INFO:pyscope.reduction.ccd_calib:Applying bias frame (CCD selected)...\n",
      "INFO:pyscope.reduction.ccd_calib:Applying the dark frame. CCD selected so a bias-subtracted\n",
      "                            dark frame is scaled by the ratio of the image exposure time over\n",
      "                            the dark exposure time then subtracted from the image.\n",
      "INFO:pyscope.reduction.ccd_calib:Checking if flat frame has a pedestal...\n",
      "INFO:pyscope.reduction.ccd_calib:Normalizing the flat frame by the mean of the entire image.\n",
      "INFO:pyscope.reduction.ccd_calib:flat_mean: 0.9999478043049569\n",
      "INFO:pyscope.reduction.ccd_calib:Applying the flat frame...\n"
     ]
    },
    {
     "name": "stdout",
     "output_type": "stream",
     "text": [
      "Calibrating D:\\RLMT\\images\\mjc_mjcMay02_TIC 48217457_r_90s_2024-05-03T09-34-00_wcs.fts\n"
     ]
    },
    {
     "name": "stderr",
     "output_type": "stream",
     "text": [
      "INFO:pyscope.reduction.ccd_calib:Flooring the calibrated image...\n",
      "INFO:pyscope.reduction.ccd_calib:Adding pedestal of 1000\n",
      "INFO:pyscope.reduction.ccd_calib:Removing hot pixels...\n",
      "INFO:pyscope.reduction.ccd_calib:Clipping to uint16 range...\n",
      "INFO:pyscope.reduction.ccd_calib:Writing calibrated status to header...\n",
      "INFO:pyscope.reduction.ccd_calib:Writing calibrated image to D:\\RLMT\\images\\mjc_mjcMay02_TIC 48217457_r_90s_2024-05-03T09-34-00_wcs.fts\n",
      "INFO:pyscope.reduction.ccd_calib:Done!\n",
      "INFO:pyscope.reduction.ccd_calib:Loading calibration frames...\n",
      "INFO:pyscope.reduction.ccd_calib:Loading bias frame: ./images/calibrations/2024-05-03T17-56-00/master_bias_read2_gain4x_1x1.fts\n",
      "INFO:pyscope.reduction.ccd_calib:Loading dark frame: ./images/calibrations/2024-05-03T17-56-00/master_dark_read2_gain4x_1x1.fts\n",
      "INFO:pyscope.reduction.ccd_calib:Loading flat frame: ./images/calibrations/2024-05-03T17-56-00/master_flat_r_read2_gain4x_1x1.fts\n",
      "INFO:pyscope.reduction.ccd_calib:Looping through images...\n",
      "INFO:pyscope.reduction.ccd_calib:Found 1 images\n",
      "INFO:pyscope.reduction.ccd_calib:Calibrating D:\\RLMT\\images\\mjc_mjcMay02_TIC 48217457_r_90s_2024-05-03T09-35-30_wcs.fts...\n",
      "WARNING:pyscope.reduction.ccd_calib:Image readout mode (1MHzHighSensitivity16-bit) does not match dark readout mode (1MHz High Sensitivity 16-bit)\n",
      "WARNING:pyscope.reduction.ccd_calib:Image readout mode (1MHzHighSensitivity16-bit) does not match flat readout mode (1MHz High Sensitivity 16-bit)\n",
      "INFO:pyscope.reduction.ccd_calib:Applying bias frame (CCD selected)...\n",
      "INFO:pyscope.reduction.ccd_calib:Applying the dark frame. CCD selected so a bias-subtracted\n",
      "                            dark frame is scaled by the ratio of the image exposure time over\n",
      "                            the dark exposure time then subtracted from the image.\n",
      "INFO:pyscope.reduction.ccd_calib:Checking if flat frame has a pedestal...\n",
      "INFO:pyscope.reduction.ccd_calib:Normalizing the flat frame by the mean of the entire image.\n",
      "INFO:pyscope.reduction.ccd_calib:flat_mean: 0.9999478043049569\n"
     ]
    },
    {
     "name": "stdout",
     "output_type": "stream",
     "text": [
      "Calibrating D:\\RLMT\\images\\mjc_mjcMay02_TIC 48217457_r_90s_2024-05-03T09-35-30_wcs.fts\n"
     ]
    },
    {
     "name": "stderr",
     "output_type": "stream",
     "text": [
      "INFO:pyscope.reduction.ccd_calib:Applying the flat frame...\n",
      "INFO:pyscope.reduction.ccd_calib:Flooring the calibrated image...\n",
      "INFO:pyscope.reduction.ccd_calib:Adding pedestal of 1000\n",
      "INFO:pyscope.reduction.ccd_calib:Removing hot pixels...\n",
      "INFO:pyscope.reduction.ccd_calib:Clipping to uint16 range...\n",
      "INFO:pyscope.reduction.ccd_calib:Writing calibrated status to header...\n",
      "INFO:pyscope.reduction.ccd_calib:Writing calibrated image to D:\\RLMT\\images\\mjc_mjcMay02_TIC 48217457_r_90s_2024-05-03T09-35-30_wcs.fts\n",
      "INFO:pyscope.reduction.ccd_calib:Done!\n",
      "INFO:pyscope.reduction.ccd_calib:Loading calibration frames...\n",
      "INFO:pyscope.reduction.ccd_calib:Loading bias frame: ./images/calibrations/2024-05-03T17-56-00/master_bias_read2_gain4x_1x1.fts\n",
      "INFO:pyscope.reduction.ccd_calib:Loading dark frame: ./images/calibrations/2024-05-03T17-56-00/master_dark_read2_gain4x_1x1.fts\n",
      "INFO:pyscope.reduction.ccd_calib:Loading flat frame: ./images/calibrations/2024-05-03T17-56-00/master_flat_r_read2_gain4x_1x1.fts\n",
      "INFO:pyscope.reduction.ccd_calib:Looping through images...\n",
      "INFO:pyscope.reduction.ccd_calib:Found 1 images\n",
      "INFO:pyscope.reduction.ccd_calib:Calibrating D:\\RLMT\\images\\mjc_mjcMay02_TIC 48217457_r_90s_2024-05-03T09-37-00_wcs.fts...\n",
      "WARNING:pyscope.reduction.ccd_calib:Image readout mode (1MHzHighSensitivity16-bit) does not match dark readout mode (1MHz High Sensitivity 16-bit)\n",
      "WARNING:pyscope.reduction.ccd_calib:Image readout mode (1MHzHighSensitivity16-bit) does not match flat readout mode (1MHz High Sensitivity 16-bit)\n",
      "INFO:pyscope.reduction.ccd_calib:Applying bias frame (CCD selected)...\n",
      "INFO:pyscope.reduction.ccd_calib:Applying the dark frame. CCD selected so a bias-subtracted\n",
      "                            dark frame is scaled by the ratio of the image exposure time over\n",
      "                            the dark exposure time then subtracted from the image.\n",
      "INFO:pyscope.reduction.ccd_calib:Checking if flat frame has a pedestal...\n"
     ]
    },
    {
     "name": "stdout",
     "output_type": "stream",
     "text": [
      "Calibrating D:\\RLMT\\images\\mjc_mjcMay02_TIC 48217457_r_90s_2024-05-03T09-37-00_wcs.fts\n"
     ]
    },
    {
     "name": "stderr",
     "output_type": "stream",
     "text": [
      "INFO:pyscope.reduction.ccd_calib:Normalizing the flat frame by the mean of the entire image.\n",
      "INFO:pyscope.reduction.ccd_calib:flat_mean: 0.9999478043049569\n",
      "INFO:pyscope.reduction.ccd_calib:Applying the flat frame...\n",
      "INFO:pyscope.reduction.ccd_calib:Flooring the calibrated image...\n",
      "INFO:pyscope.reduction.ccd_calib:Adding pedestal of 1000\n",
      "INFO:pyscope.reduction.ccd_calib:Removing hot pixels...\n",
      "INFO:pyscope.reduction.ccd_calib:Clipping to uint16 range...\n",
      "INFO:pyscope.reduction.ccd_calib:Writing calibrated status to header...\n",
      "INFO:pyscope.reduction.ccd_calib:Writing calibrated image to D:\\RLMT\\images\\mjc_mjcMay02_TIC 48217457_r_90s_2024-05-03T09-37-00_wcs.fts\n",
      "INFO:pyscope.reduction.ccd_calib:Done!\n",
      "INFO:pyscope.reduction.ccd_calib:Loading calibration frames...\n",
      "INFO:pyscope.reduction.ccd_calib:Loading bias frame: ./images/calibrations/2024-05-03T17-56-00/master_bias_read2_gain4x_1x1.fts\n",
      "INFO:pyscope.reduction.ccd_calib:Loading dark frame: ./images/calibrations/2024-05-03T17-56-00/master_dark_read2_gain4x_1x1.fts\n",
      "INFO:pyscope.reduction.ccd_calib:Loading flat frame: ./images/calibrations/2024-05-03T17-56-00/master_flat_r_read2_gain4x_1x1.fts\n",
      "INFO:pyscope.reduction.ccd_calib:Looping through images...\n",
      "INFO:pyscope.reduction.ccd_calib:Found 1 images\n",
      "INFO:pyscope.reduction.ccd_calib:Calibrating D:\\RLMT\\images\\mjc_mjcMay02_TIC 48217457_r_90s_2024-05-03T09-38-30_wcs.fts...\n",
      "WARNING:pyscope.reduction.ccd_calib:Image readout mode (1MHzHighSensitivity16-bit) does not match dark readout mode (1MHz High Sensitivity 16-bit)\n",
      "WARNING:pyscope.reduction.ccd_calib:Image readout mode (1MHzHighSensitivity16-bit) does not match flat readout mode (1MHz High Sensitivity 16-bit)\n",
      "INFO:pyscope.reduction.ccd_calib:Applying bias frame (CCD selected)...\n",
      "INFO:pyscope.reduction.ccd_calib:Applying the dark frame. CCD selected so a bias-subtracted\n",
      "                            dark frame is scaled by the ratio of the image exposure time over\n",
      "                            the dark exposure time then subtracted from the image.\n",
      "INFO:pyscope.reduction.ccd_calib:Checking if flat frame has a pedestal...\n",
      "INFO:pyscope.reduction.ccd_calib:Normalizing the flat frame by the mean of the entire image.\n",
      "INFO:pyscope.reduction.ccd_calib:flat_mean: 0.9999478043049569\n",
      "INFO:pyscope.reduction.ccd_calib:Applying the flat frame...\n"
     ]
    },
    {
     "name": "stdout",
     "output_type": "stream",
     "text": [
      "Calibrating D:\\RLMT\\images\\mjc_mjcMay02_TIC 48217457_r_90s_2024-05-03T09-38-30_wcs.fts\n"
     ]
    },
    {
     "name": "stderr",
     "output_type": "stream",
     "text": [
      "INFO:pyscope.reduction.ccd_calib:Flooring the calibrated image...\n",
      "INFO:pyscope.reduction.ccd_calib:Adding pedestal of 1000\n",
      "INFO:pyscope.reduction.ccd_calib:Removing hot pixels...\n",
      "INFO:pyscope.reduction.ccd_calib:Clipping to uint16 range...\n",
      "INFO:pyscope.reduction.ccd_calib:Writing calibrated status to header...\n",
      "INFO:pyscope.reduction.ccd_calib:Writing calibrated image to D:\\RLMT\\images\\mjc_mjcMay02_TIC 48217457_r_90s_2024-05-03T09-38-30_wcs.fts\n",
      "INFO:pyscope.reduction.ccd_calib:Done!\n",
      "INFO:pyscope.reduction.ccd_calib:Loading calibration frames...\n",
      "INFO:pyscope.reduction.ccd_calib:Loading bias frame: ./images/calibrations/2024-05-03T17-56-00/master_bias_read2_gain4x_1x1.fts\n",
      "INFO:pyscope.reduction.ccd_calib:Loading dark frame: ./images/calibrations/2024-05-03T17-56-00/master_dark_read2_gain4x_1x1.fts\n",
      "INFO:pyscope.reduction.ccd_calib:Loading flat frame: ./images/calibrations/2024-05-03T17-56-00/master_flat_r_read2_gain4x_1x1.fts\n",
      "INFO:pyscope.reduction.ccd_calib:Looping through images...\n",
      "INFO:pyscope.reduction.ccd_calib:Found 1 images\n",
      "INFO:pyscope.reduction.ccd_calib:Calibrating D:\\RLMT\\images\\mjc_mjcMay02_TIC 48217457_r_90s_2024-05-03T09-40-00_wcs.fts...\n",
      "WARNING:pyscope.reduction.ccd_calib:Image readout mode (1MHzHighSensitivity16-bit) does not match dark readout mode (1MHz High Sensitivity 16-bit)\n",
      "WARNING:pyscope.reduction.ccd_calib:Image readout mode (1MHzHighSensitivity16-bit) does not match flat readout mode (1MHz High Sensitivity 16-bit)\n",
      "INFO:pyscope.reduction.ccd_calib:Applying bias frame (CCD selected)...\n",
      "INFO:pyscope.reduction.ccd_calib:Applying the dark frame. CCD selected so a bias-subtracted\n",
      "                            dark frame is scaled by the ratio of the image exposure time over\n",
      "                            the dark exposure time then subtracted from the image.\n",
      "INFO:pyscope.reduction.ccd_calib:Checking if flat frame has a pedestal...\n"
     ]
    },
    {
     "name": "stdout",
     "output_type": "stream",
     "text": [
      "Calibrating D:\\RLMT\\images\\mjc_mjcMay02_TIC 48217457_r_90s_2024-05-03T09-40-00_wcs.fts\n"
     ]
    },
    {
     "name": "stderr",
     "output_type": "stream",
     "text": [
      "INFO:pyscope.reduction.ccd_calib:Normalizing the flat frame by the mean of the entire image.\n",
      "INFO:pyscope.reduction.ccd_calib:flat_mean: 0.9999478043049569\n",
      "INFO:pyscope.reduction.ccd_calib:Applying the flat frame...\n",
      "INFO:pyscope.reduction.ccd_calib:Flooring the calibrated image...\n",
      "INFO:pyscope.reduction.ccd_calib:Adding pedestal of 1000\n",
      "INFO:pyscope.reduction.ccd_calib:Removing hot pixels...\n",
      "INFO:pyscope.reduction.ccd_calib:Clipping to uint16 range...\n",
      "INFO:pyscope.reduction.ccd_calib:Writing calibrated status to header...\n",
      "INFO:pyscope.reduction.ccd_calib:Writing calibrated image to D:\\RLMT\\images\\mjc_mjcMay02_TIC 48217457_r_90s_2024-05-03T09-40-00_wcs.fts\n",
      "INFO:pyscope.reduction.ccd_calib:Done!\n",
      "INFO:pyscope.reduction.ccd_calib:Loading calibration frames...\n",
      "INFO:pyscope.reduction.ccd_calib:Loading bias frame: ./images/calibrations/2024-05-03T17-56-00/master_bias_read2_gain4x_1x1.fts\n",
      "INFO:pyscope.reduction.ccd_calib:Loading dark frame: ./images/calibrations/2024-05-03T17-56-00/master_dark_read2_gain4x_1x1.fts\n",
      "INFO:pyscope.reduction.ccd_calib:Loading flat frame: ./images/calibrations/2024-05-03T17-56-00/master_flat_r_read2_gain4x_1x1.fts\n",
      "INFO:pyscope.reduction.ccd_calib:Looping through images...\n",
      "INFO:pyscope.reduction.ccd_calib:Found 1 images\n",
      "INFO:pyscope.reduction.ccd_calib:Calibrating D:\\RLMT\\images\\mjc_mjcMay02_TIC 48217457_r_90s_2024-05-03T09-41-30_wcs.fts...\n",
      "WARNING:pyscope.reduction.ccd_calib:Image readout mode (1MHzHighSensitivity16-bit) does not match dark readout mode (1MHz High Sensitivity 16-bit)\n",
      "WARNING:pyscope.reduction.ccd_calib:Image readout mode (1MHzHighSensitivity16-bit) does not match flat readout mode (1MHz High Sensitivity 16-bit)\n",
      "INFO:pyscope.reduction.ccd_calib:Applying bias frame (CCD selected)...\n",
      "INFO:pyscope.reduction.ccd_calib:Applying the dark frame. CCD selected so a bias-subtracted\n",
      "                            dark frame is scaled by the ratio of the image exposure time over\n",
      "                            the dark exposure time then subtracted from the image.\n",
      "INFO:pyscope.reduction.ccd_calib:Checking if flat frame has a pedestal...\n"
     ]
    },
    {
     "name": "stdout",
     "output_type": "stream",
     "text": [
      "Calibrating D:\\RLMT\\images\\mjc_mjcMay02_TIC 48217457_r_90s_2024-05-03T09-41-30_wcs.fts\n"
     ]
    },
    {
     "name": "stderr",
     "output_type": "stream",
     "text": [
      "INFO:pyscope.reduction.ccd_calib:Normalizing the flat frame by the mean of the entire image.\n",
      "INFO:pyscope.reduction.ccd_calib:flat_mean: 0.9999478043049569\n",
      "INFO:pyscope.reduction.ccd_calib:Applying the flat frame...\n",
      "INFO:pyscope.reduction.ccd_calib:Flooring the calibrated image...\n",
      "INFO:pyscope.reduction.ccd_calib:Adding pedestal of 1000\n",
      "INFO:pyscope.reduction.ccd_calib:Removing hot pixels...\n",
      "INFO:pyscope.reduction.ccd_calib:Clipping to uint16 range...\n",
      "INFO:pyscope.reduction.ccd_calib:Writing calibrated status to header...\n",
      "INFO:pyscope.reduction.ccd_calib:Writing calibrated image to D:\\RLMT\\images\\mjc_mjcMay02_TIC 48217457_r_90s_2024-05-03T09-41-30_wcs.fts\n",
      "INFO:pyscope.reduction.ccd_calib:Done!\n",
      "INFO:pyscope.reduction.ccd_calib:Loading calibration frames...\n",
      "INFO:pyscope.reduction.ccd_calib:Loading bias frame: ./images/calibrations/2024-05-03T17-56-00/master_bias_read2_gain4x_1x1.fts\n",
      "INFO:pyscope.reduction.ccd_calib:Loading dark frame: ./images/calibrations/2024-05-03T17-56-00/master_dark_read2_gain4x_1x1.fts\n",
      "INFO:pyscope.reduction.ccd_calib:Loading flat frame: ./images/calibrations/2024-05-03T17-56-00/master_flat_r_read2_gain4x_1x1.fts\n",
      "INFO:pyscope.reduction.ccd_calib:Looping through images...\n",
      "INFO:pyscope.reduction.ccd_calib:Found 1 images\n",
      "INFO:pyscope.reduction.ccd_calib:Calibrating D:\\RLMT\\images\\mjc_mjcMay02_TIC 48217457_r_90s_2024-05-03T09-43-00_wcs.fts...\n",
      "WARNING:pyscope.reduction.ccd_calib:Image readout mode (1MHzHighSensitivity16-bit) does not match dark readout mode (1MHz High Sensitivity 16-bit)\n",
      "WARNING:pyscope.reduction.ccd_calib:Image readout mode (1MHzHighSensitivity16-bit) does not match flat readout mode (1MHz High Sensitivity 16-bit)\n",
      "INFO:pyscope.reduction.ccd_calib:Applying bias frame (CCD selected)...\n",
      "INFO:pyscope.reduction.ccd_calib:Applying the dark frame. CCD selected so a bias-subtracted\n",
      "                            dark frame is scaled by the ratio of the image exposure time over\n",
      "                            the dark exposure time then subtracted from the image.\n",
      "INFO:pyscope.reduction.ccd_calib:Checking if flat frame has a pedestal...\n",
      "INFO:pyscope.reduction.ccd_calib:Normalizing the flat frame by the mean of the entire image.\n",
      "INFO:pyscope.reduction.ccd_calib:flat_mean: 0.9999478043049569\n",
      "INFO:pyscope.reduction.ccd_calib:Applying the flat frame...\n"
     ]
    },
    {
     "name": "stdout",
     "output_type": "stream",
     "text": [
      "Calibrating D:\\RLMT\\images\\mjc_mjcMay02_TIC 48217457_r_90s_2024-05-03T09-43-00_wcs.fts\n"
     ]
    },
    {
     "name": "stderr",
     "output_type": "stream",
     "text": [
      "INFO:pyscope.reduction.ccd_calib:Flooring the calibrated image...\n",
      "INFO:pyscope.reduction.ccd_calib:Adding pedestal of 1000\n",
      "INFO:pyscope.reduction.ccd_calib:Removing hot pixels...\n",
      "INFO:pyscope.reduction.ccd_calib:Clipping to uint16 range...\n",
      "INFO:pyscope.reduction.ccd_calib:Writing calibrated status to header...\n",
      "INFO:pyscope.reduction.ccd_calib:Writing calibrated image to D:\\RLMT\\images\\mjc_mjcMay02_TIC 48217457_r_90s_2024-05-03T09-43-00_wcs.fts\n",
      "INFO:pyscope.reduction.ccd_calib:Done!\n",
      "INFO:pyscope.reduction.ccd_calib:Loading calibration frames...\n",
      "INFO:pyscope.reduction.ccd_calib:Loading bias frame: ./images/calibrations/2024-05-03T17-56-00/master_bias_read2_gain4x_1x1.fts\n",
      "INFO:pyscope.reduction.ccd_calib:Loading dark frame: ./images/calibrations/2024-05-03T17-56-00/master_dark_read2_gain4x_1x1.fts\n",
      "INFO:pyscope.reduction.ccd_calib:Loading flat frame: ./images/calibrations/2024-05-03T17-56-00/master_flat_r_read2_gain4x_1x1.fts\n",
      "INFO:pyscope.reduction.ccd_calib:Looping through images...\n",
      "INFO:pyscope.reduction.ccd_calib:Found 1 images\n",
      "INFO:pyscope.reduction.ccd_calib:Calibrating D:\\RLMT\\images\\mjc_mjcMay02_TIC 48217457_r_90s_2024-05-03T09-44-30_wcs.fts...\n",
      "WARNING:pyscope.reduction.ccd_calib:Image readout mode (1MHzHighSensitivity16-bit) does not match dark readout mode (1MHz High Sensitivity 16-bit)\n",
      "WARNING:pyscope.reduction.ccd_calib:Image readout mode (1MHzHighSensitivity16-bit) does not match flat readout mode (1MHz High Sensitivity 16-bit)\n",
      "INFO:pyscope.reduction.ccd_calib:Applying bias frame (CCD selected)...\n",
      "INFO:pyscope.reduction.ccd_calib:Applying the dark frame. CCD selected so a bias-subtracted\n",
      "                            dark frame is scaled by the ratio of the image exposure time over\n",
      "                            the dark exposure time then subtracted from the image.\n",
      "INFO:pyscope.reduction.ccd_calib:Checking if flat frame has a pedestal...\n",
      "INFO:pyscope.reduction.ccd_calib:Normalizing the flat frame by the mean of the entire image.\n",
      "INFO:pyscope.reduction.ccd_calib:flat_mean: 0.9999478043049569\n",
      "INFO:pyscope.reduction.ccd_calib:Applying the flat frame...\n",
      "INFO:pyscope.reduction.ccd_calib:Flooring the calibrated image...\n"
     ]
    },
    {
     "name": "stdout",
     "output_type": "stream",
     "text": [
      "Calibrating D:\\RLMT\\images\\mjc_mjcMay02_TIC 48217457_r_90s_2024-05-03T09-44-30_wcs.fts\n"
     ]
    },
    {
     "name": "stderr",
     "output_type": "stream",
     "text": [
      "INFO:pyscope.reduction.ccd_calib:Adding pedestal of 1000\n",
      "INFO:pyscope.reduction.ccd_calib:Removing hot pixels...\n",
      "INFO:pyscope.reduction.ccd_calib:Clipping to uint16 range...\n",
      "INFO:pyscope.reduction.ccd_calib:Writing calibrated status to header...\n",
      "INFO:pyscope.reduction.ccd_calib:Writing calibrated image to D:\\RLMT\\images\\mjc_mjcMay02_TIC 48217457_r_90s_2024-05-03T09-44-30_wcs.fts\n",
      "INFO:pyscope.reduction.ccd_calib:Done!\n",
      "INFO:pyscope.reduction.ccd_calib:Loading calibration frames...\n",
      "INFO:pyscope.reduction.ccd_calib:Loading bias frame: ./images/calibrations/2024-05-03T17-56-00/master_bias_read2_gain4x_1x1.fts\n",
      "INFO:pyscope.reduction.ccd_calib:Loading dark frame: ./images/calibrations/2024-05-03T17-56-00/master_dark_read2_gain4x_1x1.fts\n",
      "INFO:pyscope.reduction.ccd_calib:Loading flat frame: ./images/calibrations/2024-05-03T17-56-00/master_flat_r_read2_gain4x_1x1.fts\n",
      "INFO:pyscope.reduction.ccd_calib:Looping through images...\n",
      "INFO:pyscope.reduction.ccd_calib:Found 1 images\n",
      "INFO:pyscope.reduction.ccd_calib:Calibrating D:\\RLMT\\images\\mjc_mjcMay02_TIC 48217457_r_90s_2024-05-03T09-46-00_wcs.fts...\n",
      "WARNING:pyscope.reduction.ccd_calib:Image readout mode (1MHzHighSensitivity16-bit) does not match dark readout mode (1MHz High Sensitivity 16-bit)\n",
      "WARNING:pyscope.reduction.ccd_calib:Image readout mode (1MHzHighSensitivity16-bit) does not match flat readout mode (1MHz High Sensitivity 16-bit)\n",
      "INFO:pyscope.reduction.ccd_calib:Applying bias frame (CCD selected)...\n",
      "INFO:pyscope.reduction.ccd_calib:Applying the dark frame. CCD selected so a bias-subtracted\n",
      "                            dark frame is scaled by the ratio of the image exposure time over\n",
      "                            the dark exposure time then subtracted from the image.\n",
      "INFO:pyscope.reduction.ccd_calib:Checking if flat frame has a pedestal...\n",
      "INFO:pyscope.reduction.ccd_calib:Normalizing the flat frame by the mean of the entire image.\n",
      "INFO:pyscope.reduction.ccd_calib:flat_mean: 0.9999478043049569\n"
     ]
    },
    {
     "name": "stdout",
     "output_type": "stream",
     "text": [
      "Calibrating D:\\RLMT\\images\\mjc_mjcMay02_TIC 48217457_r_90s_2024-05-03T09-46-00_wcs.fts\n"
     ]
    },
    {
     "name": "stderr",
     "output_type": "stream",
     "text": [
      "INFO:pyscope.reduction.ccd_calib:Applying the flat frame...\n",
      "INFO:pyscope.reduction.ccd_calib:Flooring the calibrated image...\n",
      "INFO:pyscope.reduction.ccd_calib:Adding pedestal of 1000\n",
      "INFO:pyscope.reduction.ccd_calib:Removing hot pixels...\n",
      "INFO:pyscope.reduction.ccd_calib:Clipping to uint16 range...\n",
      "INFO:pyscope.reduction.ccd_calib:Writing calibrated status to header...\n",
      "INFO:pyscope.reduction.ccd_calib:Writing calibrated image to D:\\RLMT\\images\\mjc_mjcMay02_TIC 48217457_r_90s_2024-05-03T09-46-00_wcs.fts\n",
      "INFO:pyscope.reduction.ccd_calib:Done!\n",
      "INFO:pyscope.reduction.ccd_calib:Loading calibration frames...\n",
      "INFO:pyscope.reduction.ccd_calib:Loading bias frame: ./images/calibrations/2024-05-03T17-56-00/master_bias_read2_gain4x_1x1.fts\n",
      "INFO:pyscope.reduction.ccd_calib:Loading dark frame: ./images/calibrations/2024-05-03T17-56-00/master_dark_read2_gain4x_1x1.fts\n",
      "INFO:pyscope.reduction.ccd_calib:Loading flat frame: ./images/calibrations/2024-05-03T17-56-00/master_flat_r_read2_gain4x_1x1.fts\n",
      "INFO:pyscope.reduction.ccd_calib:Looping through images...\n",
      "INFO:pyscope.reduction.ccd_calib:Found 1 images\n",
      "INFO:pyscope.reduction.ccd_calib:Calibrating D:\\RLMT\\images\\mjc_mjcMay02_TIC 48217457_r_90s_2024-05-03T09-47-30_wcs.fts...\n",
      "WARNING:pyscope.reduction.ccd_calib:Image readout mode (1MHzHighSensitivity16-bit) does not match dark readout mode (1MHz High Sensitivity 16-bit)\n"
     ]
    },
    {
     "name": "stdout",
     "output_type": "stream",
     "text": [
      "Calibrating D:\\RLMT\\images\\mjc_mjcMay02_TIC 48217457_r_90s_2024-05-03T09-47-30_wcs.fts\n"
     ]
    },
    {
     "name": "stderr",
     "output_type": "stream",
     "text": [
      "WARNING:pyscope.reduction.ccd_calib:Image readout mode (1MHzHighSensitivity16-bit) does not match flat readout mode (1MHz High Sensitivity 16-bit)\n",
      "INFO:pyscope.reduction.ccd_calib:Applying bias frame (CCD selected)...\n",
      "INFO:pyscope.reduction.ccd_calib:Applying the dark frame. CCD selected so a bias-subtracted\n",
      "                            dark frame is scaled by the ratio of the image exposure time over\n",
      "                            the dark exposure time then subtracted from the image.\n",
      "INFO:pyscope.reduction.ccd_calib:Checking if flat frame has a pedestal...\n",
      "INFO:pyscope.reduction.ccd_calib:Normalizing the flat frame by the mean of the entire image.\n",
      "INFO:pyscope.reduction.ccd_calib:flat_mean: 0.9999478043049569\n",
      "INFO:pyscope.reduction.ccd_calib:Applying the flat frame...\n",
      "INFO:pyscope.reduction.ccd_calib:Flooring the calibrated image...\n",
      "INFO:pyscope.reduction.ccd_calib:Adding pedestal of 1000\n",
      "INFO:pyscope.reduction.ccd_calib:Removing hot pixels...\n",
      "INFO:pyscope.reduction.ccd_calib:Clipping to uint16 range...\n",
      "INFO:pyscope.reduction.ccd_calib:Writing calibrated status to header...\n",
      "INFO:pyscope.reduction.ccd_calib:Writing calibrated image to D:\\RLMT\\images\\mjc_mjcMay02_TIC 48217457_r_90s_2024-05-03T09-47-30_wcs.fts\n",
      "INFO:pyscope.reduction.ccd_calib:Done!\n",
      "INFO:pyscope.reduction.ccd_calib:Loading calibration frames...\n",
      "INFO:pyscope.reduction.ccd_calib:Loading bias frame: ./images/calibrations/2024-05-03T17-56-00/master_bias_read2_gain4x_1x1.fts\n",
      "INFO:pyscope.reduction.ccd_calib:Loading dark frame: ./images/calibrations/2024-05-03T17-56-00/master_dark_read2_gain4x_1x1.fts\n",
      "INFO:pyscope.reduction.ccd_calib:Loading flat frame: ./images/calibrations/2024-05-03T17-56-00/master_flat_r_read2_gain4x_1x1.fts\n",
      "INFO:pyscope.reduction.ccd_calib:Looping through images...\n",
      "INFO:pyscope.reduction.ccd_calib:Found 1 images\n",
      "INFO:pyscope.reduction.ccd_calib:Calibrating D:\\RLMT\\images\\mjc_mjcMay02_TIC 48217457_r_90s_2024-05-03T09-49-00_wcs.fts...\n",
      "WARNING:pyscope.reduction.ccd_calib:Image readout mode (1MHzHighSensitivity16-bit) does not match dark readout mode (1MHz High Sensitivity 16-bit)\n",
      "WARNING:pyscope.reduction.ccd_calib:Image readout mode (1MHzHighSensitivity16-bit) does not match flat readout mode (1MHz High Sensitivity 16-bit)\n",
      "INFO:pyscope.reduction.ccd_calib:Applying bias frame (CCD selected)...\n",
      "INFO:pyscope.reduction.ccd_calib:Applying the dark frame. CCD selected so a bias-subtracted\n",
      "                            dark frame is scaled by the ratio of the image exposure time over\n",
      "                            the dark exposure time then subtracted from the image.\n",
      "INFO:pyscope.reduction.ccd_calib:Checking if flat frame has a pedestal...\n",
      "INFO:pyscope.reduction.ccd_calib:Normalizing the flat frame by the mean of the entire image.\n"
     ]
    },
    {
     "name": "stdout",
     "output_type": "stream",
     "text": [
      "Calibrating D:\\RLMT\\images\\mjc_mjcMay02_TIC 48217457_r_90s_2024-05-03T09-49-00_wcs.fts\n"
     ]
    },
    {
     "name": "stderr",
     "output_type": "stream",
     "text": [
      "INFO:pyscope.reduction.ccd_calib:flat_mean: 0.9999478043049569\n",
      "INFO:pyscope.reduction.ccd_calib:Applying the flat frame...\n",
      "INFO:pyscope.reduction.ccd_calib:Flooring the calibrated image...\n",
      "INFO:pyscope.reduction.ccd_calib:Adding pedestal of 1000\n",
      "INFO:pyscope.reduction.ccd_calib:Removing hot pixels...\n",
      "INFO:pyscope.reduction.ccd_calib:Clipping to uint16 range...\n",
      "INFO:pyscope.reduction.ccd_calib:Writing calibrated status to header...\n",
      "INFO:pyscope.reduction.ccd_calib:Writing calibrated image to D:\\RLMT\\images\\mjc_mjcMay02_TIC 48217457_r_90s_2024-05-03T09-49-00_wcs.fts\n",
      "INFO:pyscope.reduction.ccd_calib:Done!\n",
      "INFO:pyscope.reduction.ccd_calib:Loading calibration frames...\n",
      "INFO:pyscope.reduction.ccd_calib:Loading bias frame: ./images/calibrations/2024-05-03T17-56-00/master_bias_read2_gain4x_1x1.fts\n",
      "INFO:pyscope.reduction.ccd_calib:Loading dark frame: ./images/calibrations/2024-05-03T17-56-00/master_dark_read2_gain4x_1x1.fts\n",
      "INFO:pyscope.reduction.ccd_calib:Loading flat frame: ./images/calibrations/2024-05-03T17-56-00/master_flat_r_read2_gain4x_1x1.fts\n",
      "INFO:pyscope.reduction.ccd_calib:Looping through images...\n",
      "INFO:pyscope.reduction.ccd_calib:Found 1 images\n",
      "INFO:pyscope.reduction.ccd_calib:Calibrating D:\\RLMT\\images\\mjc_mjcMay02_TIC 48217457_r_90s_2024-05-03T09-50-30_wcs.fts...\n",
      "WARNING:pyscope.reduction.ccd_calib:Image readout mode (1MHzHighSensitivity16-bit) does not match dark readout mode (1MHz High Sensitivity 16-bit)\n",
      "WARNING:pyscope.reduction.ccd_calib:Image readout mode (1MHzHighSensitivity16-bit) does not match flat readout mode (1MHz High Sensitivity 16-bit)\n",
      "INFO:pyscope.reduction.ccd_calib:Applying bias frame (CCD selected)...\n",
      "INFO:pyscope.reduction.ccd_calib:Applying the dark frame. CCD selected so a bias-subtracted\n",
      "                            dark frame is scaled by the ratio of the image exposure time over\n",
      "                            the dark exposure time then subtracted from the image.\n",
      "INFO:pyscope.reduction.ccd_calib:Checking if flat frame has a pedestal...\n",
      "INFO:pyscope.reduction.ccd_calib:Normalizing the flat frame by the mean of the entire image.\n",
      "INFO:pyscope.reduction.ccd_calib:flat_mean: 0.9999478043049569\n",
      "INFO:pyscope.reduction.ccd_calib:Applying the flat frame...\n"
     ]
    },
    {
     "name": "stdout",
     "output_type": "stream",
     "text": [
      "Calibrating D:\\RLMT\\images\\mjc_mjcMay02_TIC 48217457_r_90s_2024-05-03T09-50-30_wcs.fts\n"
     ]
    },
    {
     "name": "stderr",
     "output_type": "stream",
     "text": [
      "INFO:pyscope.reduction.ccd_calib:Flooring the calibrated image...\n",
      "INFO:pyscope.reduction.ccd_calib:Adding pedestal of 1000\n",
      "INFO:pyscope.reduction.ccd_calib:Removing hot pixels...\n",
      "INFO:pyscope.reduction.ccd_calib:Clipping to uint16 range...\n",
      "INFO:pyscope.reduction.ccd_calib:Writing calibrated status to header...\n",
      "INFO:pyscope.reduction.ccd_calib:Writing calibrated image to D:\\RLMT\\images\\mjc_mjcMay02_TIC 48217457_r_90s_2024-05-03T09-50-30_wcs.fts\n",
      "INFO:pyscope.reduction.ccd_calib:Done!\n",
      "INFO:pyscope.reduction.ccd_calib:Loading calibration frames...\n",
      "INFO:pyscope.reduction.ccd_calib:Loading bias frame: ./images/calibrations/2024-05-03T17-56-00/master_bias_read2_gain4x_1x1.fts\n",
      "INFO:pyscope.reduction.ccd_calib:Loading dark frame: ./images/calibrations/2024-05-03T17-56-00/master_dark_read2_gain4x_1x1.fts\n",
      "INFO:pyscope.reduction.ccd_calib:Loading flat frame: ./images/calibrations/2024-05-03T17-56-00/master_flat_r_read2_gain4x_1x1.fts\n",
      "INFO:pyscope.reduction.ccd_calib:Looping through images...\n",
      "INFO:pyscope.reduction.ccd_calib:Found 1 images\n",
      "INFO:pyscope.reduction.ccd_calib:Calibrating D:\\RLMT\\images\\mjc_mjcMay02_TIC 48217457_r_90s_2024-05-03T09-52-00_wcs.fts...\n",
      "WARNING:pyscope.reduction.ccd_calib:Image readout mode (1MHzHighSensitivity16-bit) does not match dark readout mode (1MHz High Sensitivity 16-bit)\n",
      "WARNING:pyscope.reduction.ccd_calib:Image readout mode (1MHzHighSensitivity16-bit) does not match flat readout mode (1MHz High Sensitivity 16-bit)\n",
      "INFO:pyscope.reduction.ccd_calib:Applying bias frame (CCD selected)...\n",
      "INFO:pyscope.reduction.ccd_calib:Applying the dark frame. CCD selected so a bias-subtracted\n",
      "                            dark frame is scaled by the ratio of the image exposure time over\n",
      "                            the dark exposure time then subtracted from the image.\n",
      "INFO:pyscope.reduction.ccd_calib:Checking if flat frame has a pedestal...\n",
      "INFO:pyscope.reduction.ccd_calib:Normalizing the flat frame by the mean of the entire image.\n",
      "INFO:pyscope.reduction.ccd_calib:flat_mean: 0.9999478043049569\n",
      "INFO:pyscope.reduction.ccd_calib:Applying the flat frame...\n"
     ]
    },
    {
     "name": "stdout",
     "output_type": "stream",
     "text": [
      "Calibrating D:\\RLMT\\images\\mjc_mjcMay02_TIC 48217457_r_90s_2024-05-03T09-52-00_wcs.fts\n"
     ]
    },
    {
     "name": "stderr",
     "output_type": "stream",
     "text": [
      "INFO:pyscope.reduction.ccd_calib:Flooring the calibrated image...\n",
      "INFO:pyscope.reduction.ccd_calib:Adding pedestal of 1000\n",
      "INFO:pyscope.reduction.ccd_calib:Removing hot pixels...\n",
      "INFO:pyscope.reduction.ccd_calib:Clipping to uint16 range...\n",
      "INFO:pyscope.reduction.ccd_calib:Writing calibrated status to header...\n",
      "INFO:pyscope.reduction.ccd_calib:Writing calibrated image to D:\\RLMT\\images\\mjc_mjcMay02_TIC 48217457_r_90s_2024-05-03T09-52-00_wcs.fts\n",
      "INFO:pyscope.reduction.ccd_calib:Done!\n",
      "INFO:pyscope.reduction.ccd_calib:Loading calibration frames...\n",
      "INFO:pyscope.reduction.ccd_calib:Loading bias frame: ./images/calibrations/2024-05-03T17-56-00/master_bias_read2_gain4x_1x1.fts\n",
      "INFO:pyscope.reduction.ccd_calib:Loading dark frame: ./images/calibrations/2024-05-03T17-56-00/master_dark_read2_gain4x_1x1.fts\n",
      "INFO:pyscope.reduction.ccd_calib:Loading flat frame: ./images/calibrations/2024-05-03T17-56-00/master_flat_r_read2_gain4x_1x1.fts\n",
      "INFO:pyscope.reduction.ccd_calib:Looping through images...\n",
      "INFO:pyscope.reduction.ccd_calib:Found 1 images\n",
      "INFO:pyscope.reduction.ccd_calib:Calibrating D:\\RLMT\\images\\mjc_mjcMay02_TIC 48217457_r_90s_2024-05-03T09-53-30_wcs.fts...\n",
      "WARNING:pyscope.reduction.ccd_calib:Image readout mode (1MHzHighSensitivity16-bit) does not match dark readout mode (1MHz High Sensitivity 16-bit)\n",
      "WARNING:pyscope.reduction.ccd_calib:Image readout mode (1MHzHighSensitivity16-bit) does not match flat readout mode (1MHz High Sensitivity 16-bit)\n",
      "INFO:pyscope.reduction.ccd_calib:Applying bias frame (CCD selected)...\n",
      "INFO:pyscope.reduction.ccd_calib:Applying the dark frame. CCD selected so a bias-subtracted\n",
      "                            dark frame is scaled by the ratio of the image exposure time over\n",
      "                            the dark exposure time then subtracted from the image.\n",
      "INFO:pyscope.reduction.ccd_calib:Checking if flat frame has a pedestal...\n"
     ]
    },
    {
     "name": "stdout",
     "output_type": "stream",
     "text": [
      "Calibrating D:\\RLMT\\images\\mjc_mjcMay02_TIC 48217457_r_90s_2024-05-03T09-53-30_wcs.fts\n"
     ]
    },
    {
     "name": "stderr",
     "output_type": "stream",
     "text": [
      "INFO:pyscope.reduction.ccd_calib:Normalizing the flat frame by the mean of the entire image.\n",
      "INFO:pyscope.reduction.ccd_calib:flat_mean: 0.9999478043049569\n",
      "INFO:pyscope.reduction.ccd_calib:Applying the flat frame...\n",
      "INFO:pyscope.reduction.ccd_calib:Flooring the calibrated image...\n",
      "INFO:pyscope.reduction.ccd_calib:Adding pedestal of 1000\n",
      "INFO:pyscope.reduction.ccd_calib:Removing hot pixels...\n",
      "INFO:pyscope.reduction.ccd_calib:Clipping to uint16 range...\n",
      "INFO:pyscope.reduction.ccd_calib:Writing calibrated status to header...\n",
      "INFO:pyscope.reduction.ccd_calib:Writing calibrated image to D:\\RLMT\\images\\mjc_mjcMay02_TIC 48217457_r_90s_2024-05-03T09-53-30_wcs.fts\n",
      "INFO:pyscope.reduction.ccd_calib:Done!\n",
      "INFO:pyscope.reduction.ccd_calib:Loading calibration frames...\n",
      "INFO:pyscope.reduction.ccd_calib:Loading bias frame: ./images/calibrations/2024-05-03T17-56-00/master_bias_read2_gain4x_1x1.fts\n",
      "INFO:pyscope.reduction.ccd_calib:Loading dark frame: ./images/calibrations/2024-05-03T17-56-00/master_dark_read2_gain4x_1x1.fts\n",
      "INFO:pyscope.reduction.ccd_calib:Loading flat frame: ./images/calibrations/2024-05-03T17-56-00/master_flat_r_read2_gain4x_1x1.fts\n",
      "INFO:pyscope.reduction.ccd_calib:Looping through images...\n",
      "INFO:pyscope.reduction.ccd_calib:Found 1 images\n",
      "INFO:pyscope.reduction.ccd_calib:Calibrating D:\\RLMT\\images\\mjc_mjcMay02_TIC 48217457_r_90s_2024-05-03T09-55-00_wcs.fts...\n",
      "WARNING:pyscope.reduction.ccd_calib:Image readout mode (1MHzHighSensitivity16-bit) does not match dark readout mode (1MHz High Sensitivity 16-bit)\n",
      "WARNING:pyscope.reduction.ccd_calib:Image readout mode (1MHzHighSensitivity16-bit) does not match flat readout mode (1MHz High Sensitivity 16-bit)\n",
      "INFO:pyscope.reduction.ccd_calib:Applying bias frame (CCD selected)...\n",
      "INFO:pyscope.reduction.ccd_calib:Applying the dark frame. CCD selected so a bias-subtracted\n",
      "                            dark frame is scaled by the ratio of the image exposure time over\n",
      "                            the dark exposure time then subtracted from the image.\n",
      "INFO:pyscope.reduction.ccd_calib:Checking if flat frame has a pedestal...\n",
      "INFO:pyscope.reduction.ccd_calib:Normalizing the flat frame by the mean of the entire image.\n",
      "INFO:pyscope.reduction.ccd_calib:flat_mean: 0.9999478043049569\n"
     ]
    },
    {
     "name": "stdout",
     "output_type": "stream",
     "text": [
      "Calibrating D:\\RLMT\\images\\mjc_mjcMay02_TIC 48217457_r_90s_2024-05-03T09-55-00_wcs.fts\n"
     ]
    },
    {
     "name": "stderr",
     "output_type": "stream",
     "text": [
      "INFO:pyscope.reduction.ccd_calib:Applying the flat frame...\n",
      "INFO:pyscope.reduction.ccd_calib:Flooring the calibrated image...\n",
      "INFO:pyscope.reduction.ccd_calib:Adding pedestal of 1000\n",
      "INFO:pyscope.reduction.ccd_calib:Removing hot pixels...\n",
      "INFO:pyscope.reduction.ccd_calib:Clipping to uint16 range...\n",
      "INFO:pyscope.reduction.ccd_calib:Writing calibrated status to header...\n",
      "INFO:pyscope.reduction.ccd_calib:Writing calibrated image to D:\\RLMT\\images\\mjc_mjcMay02_TIC 48217457_r_90s_2024-05-03T09-55-00_wcs.fts\n",
      "INFO:pyscope.reduction.ccd_calib:Done!\n",
      "INFO:pyscope.reduction.ccd_calib:Loading calibration frames...\n",
      "INFO:pyscope.reduction.ccd_calib:Loading bias frame: ./images/calibrations/2024-05-03T17-56-00/master_bias_read2_gain4x_1x1.fts\n",
      "INFO:pyscope.reduction.ccd_calib:Loading dark frame: ./images/calibrations/2024-05-03T17-56-00/master_dark_read2_gain4x_1x1.fts\n",
      "INFO:pyscope.reduction.ccd_calib:Loading flat frame: ./images/calibrations/2024-05-03T17-56-00/master_flat_r_read2_gain4x_1x1.fts\n",
      "INFO:pyscope.reduction.ccd_calib:Looping through images...\n",
      "INFO:pyscope.reduction.ccd_calib:Found 1 images\n",
      "INFO:pyscope.reduction.ccd_calib:Calibrating D:\\RLMT\\images\\mjc_mjcMay02_TIC 48217457_r_90s_2024-05-03T09-56-30_wcs.fts...\n",
      "WARNING:pyscope.reduction.ccd_calib:Image readout mode (1MHzHighSensitivity16-bit) does not match dark readout mode (1MHz High Sensitivity 16-bit)\n"
     ]
    },
    {
     "name": "stdout",
     "output_type": "stream",
     "text": [
      "Calibrating D:\\RLMT\\images\\mjc_mjcMay02_TIC 48217457_r_90s_2024-05-03T09-56-30_wcs.fts\n"
     ]
    },
    {
     "name": "stderr",
     "output_type": "stream",
     "text": [
      "WARNING:pyscope.reduction.ccd_calib:Image readout mode (1MHzHighSensitivity16-bit) does not match flat readout mode (1MHz High Sensitivity 16-bit)\n",
      "INFO:pyscope.reduction.ccd_calib:Applying bias frame (CCD selected)...\n",
      "INFO:pyscope.reduction.ccd_calib:Applying the dark frame. CCD selected so a bias-subtracted\n",
      "                            dark frame is scaled by the ratio of the image exposure time over\n",
      "                            the dark exposure time then subtracted from the image.\n",
      "INFO:pyscope.reduction.ccd_calib:Checking if flat frame has a pedestal...\n",
      "INFO:pyscope.reduction.ccd_calib:Normalizing the flat frame by the mean of the entire image.\n",
      "INFO:pyscope.reduction.ccd_calib:flat_mean: 0.9999478043049569\n",
      "INFO:pyscope.reduction.ccd_calib:Applying the flat frame...\n",
      "INFO:pyscope.reduction.ccd_calib:Flooring the calibrated image...\n",
      "INFO:pyscope.reduction.ccd_calib:Adding pedestal of 1000\n",
      "INFO:pyscope.reduction.ccd_calib:Removing hot pixels...\n",
      "INFO:pyscope.reduction.ccd_calib:Clipping to uint16 range...\n",
      "INFO:pyscope.reduction.ccd_calib:Writing calibrated status to header...\n",
      "INFO:pyscope.reduction.ccd_calib:Writing calibrated image to D:\\RLMT\\images\\mjc_mjcMay02_TIC 48217457_r_90s_2024-05-03T09-56-30_wcs.fts\n",
      "INFO:pyscope.reduction.ccd_calib:Done!\n",
      "INFO:pyscope.reduction.ccd_calib:Loading calibration frames...\n",
      "INFO:pyscope.reduction.ccd_calib:Loading bias frame: ./images/calibrations/2024-05-03T17-56-00/master_bias_read2_gain4x_1x1.fts\n",
      "INFO:pyscope.reduction.ccd_calib:Loading dark frame: ./images/calibrations/2024-05-03T17-56-00/master_dark_read2_gain4x_1x1.fts\n",
      "INFO:pyscope.reduction.ccd_calib:Loading flat frame: ./images/calibrations/2024-05-03T17-56-00/master_flat_r_read2_gain4x_1x1.fts\n",
      "INFO:pyscope.reduction.ccd_calib:Looping through images...\n",
      "INFO:pyscope.reduction.ccd_calib:Found 1 images\n",
      "INFO:pyscope.reduction.ccd_calib:Calibrating D:\\RLMT\\images\\mjc_mjcMay02_TIC 48217457_r_90s_2024-05-03T09-58-00_wcs.fts...\n",
      "WARNING:pyscope.reduction.ccd_calib:Image readout mode (1MHzHighSensitivity16-bit) does not match dark readout mode (1MHz High Sensitivity 16-bit)\n",
      "WARNING:pyscope.reduction.ccd_calib:Image readout mode (1MHzHighSensitivity16-bit) does not match flat readout mode (1MHz High Sensitivity 16-bit)\n",
      "INFO:pyscope.reduction.ccd_calib:Applying bias frame (CCD selected)...\n",
      "INFO:pyscope.reduction.ccd_calib:Applying the dark frame. CCD selected so a bias-subtracted\n",
      "                            dark frame is scaled by the ratio of the image exposure time over\n",
      "                            the dark exposure time then subtracted from the image.\n",
      "INFO:pyscope.reduction.ccd_calib:Checking if flat frame has a pedestal...\n",
      "INFO:pyscope.reduction.ccd_calib:Normalizing the flat frame by the mean of the entire image.\n",
      "INFO:pyscope.reduction.ccd_calib:flat_mean: 0.9999478043049569\n",
      "INFO:pyscope.reduction.ccd_calib:Applying the flat frame...\n"
     ]
    },
    {
     "name": "stdout",
     "output_type": "stream",
     "text": [
      "Calibrating D:\\RLMT\\images\\mjc_mjcMay02_TIC 48217457_r_90s_2024-05-03T09-58-00_wcs.fts\n"
     ]
    },
    {
     "name": "stderr",
     "output_type": "stream",
     "text": [
      "INFO:pyscope.reduction.ccd_calib:Flooring the calibrated image...\n",
      "INFO:pyscope.reduction.ccd_calib:Adding pedestal of 1000\n",
      "INFO:pyscope.reduction.ccd_calib:Removing hot pixels...\n",
      "INFO:pyscope.reduction.ccd_calib:Clipping to uint16 range...\n",
      "INFO:pyscope.reduction.ccd_calib:Writing calibrated status to header...\n",
      "INFO:pyscope.reduction.ccd_calib:Writing calibrated image to D:\\RLMT\\images\\mjc_mjcMay02_TIC 48217457_r_90s_2024-05-03T09-58-00_wcs.fts\n",
      "INFO:pyscope.reduction.ccd_calib:Done!\n",
      "INFO:pyscope.reduction.ccd_calib:Loading calibration frames...\n",
      "INFO:pyscope.reduction.ccd_calib:Loading bias frame: ./images/calibrations/2024-05-03T17-56-00/master_bias_read2_gain4x_1x1.fts\n",
      "INFO:pyscope.reduction.ccd_calib:Loading dark frame: ./images/calibrations/2024-05-03T17-56-00/master_dark_read2_gain4x_1x1.fts\n",
      "INFO:pyscope.reduction.ccd_calib:Loading flat frame: ./images/calibrations/2024-05-03T17-56-00/master_flat_r_read2_gain4x_1x1.fts\n",
      "INFO:pyscope.reduction.ccd_calib:Looping through images...\n",
      "INFO:pyscope.reduction.ccd_calib:Found 1 images\n",
      "INFO:pyscope.reduction.ccd_calib:Calibrating D:\\RLMT\\images\\mjc_mjcMay02_TIC 48217457_r_90s_2024-05-03T09-59-30_wcs.fts...\n",
      "WARNING:pyscope.reduction.ccd_calib:Image readout mode (1MHzHighSensitivity16-bit) does not match dark readout mode (1MHz High Sensitivity 16-bit)\n",
      "WARNING:pyscope.reduction.ccd_calib:Image readout mode (1MHzHighSensitivity16-bit) does not match flat readout mode (1MHz High Sensitivity 16-bit)\n",
      "INFO:pyscope.reduction.ccd_calib:Applying bias frame (CCD selected)...\n",
      "INFO:pyscope.reduction.ccd_calib:Applying the dark frame. CCD selected so a bias-subtracted\n",
      "                            dark frame is scaled by the ratio of the image exposure time over\n",
      "                            the dark exposure time then subtracted from the image.\n",
      "INFO:pyscope.reduction.ccd_calib:Checking if flat frame has a pedestal...\n",
      "INFO:pyscope.reduction.ccd_calib:Normalizing the flat frame by the mean of the entire image.\n",
      "INFO:pyscope.reduction.ccd_calib:flat_mean: 0.9999478043049569\n",
      "INFO:pyscope.reduction.ccd_calib:Applying the flat frame...\n",
      "INFO:pyscope.reduction.ccd_calib:Flooring the calibrated image...\n",
      "INFO:pyscope.reduction.ccd_calib:Adding pedestal of 1000\n"
     ]
    },
    {
     "name": "stdout",
     "output_type": "stream",
     "text": [
      "Calibrating D:\\RLMT\\images\\mjc_mjcMay02_TIC 48217457_r_90s_2024-05-03T09-59-30_wcs.fts\n"
     ]
    },
    {
     "name": "stderr",
     "output_type": "stream",
     "text": [
      "INFO:pyscope.reduction.ccd_calib:Removing hot pixels...\n",
      "INFO:pyscope.reduction.ccd_calib:Clipping to uint16 range...\n",
      "INFO:pyscope.reduction.ccd_calib:Writing calibrated status to header...\n",
      "INFO:pyscope.reduction.ccd_calib:Writing calibrated image to D:\\RLMT\\images\\mjc_mjcMay02_TIC 48217457_r_90s_2024-05-03T09-59-30_wcs.fts\n",
      "INFO:pyscope.reduction.ccd_calib:Done!\n",
      "INFO:pyscope.reduction.ccd_calib:Loading calibration frames...\n",
      "INFO:pyscope.reduction.ccd_calib:Loading bias frame: ./images/calibrations/2024-05-03T17-56-00/master_bias_read2_gain4x_1x1.fts\n",
      "INFO:pyscope.reduction.ccd_calib:Loading dark frame: ./images/calibrations/2024-05-03T17-56-00/master_dark_read2_gain4x_1x1.fts\n",
      "INFO:pyscope.reduction.ccd_calib:Loading flat frame: ./images/calibrations/2024-05-03T17-56-00/master_flat_r_read2_gain4x_1x1.fts\n",
      "INFO:pyscope.reduction.ccd_calib:Looping through images...\n",
      "INFO:pyscope.reduction.ccd_calib:Found 1 images\n",
      "INFO:pyscope.reduction.ccd_calib:Calibrating D:\\RLMT\\images\\mjc_mjcMay02_TIC 48217457_r_90s_2024-05-03T10-01-00_wcs.fts...\n",
      "WARNING:pyscope.reduction.ccd_calib:Image readout mode (1MHzHighSensitivity16-bit) does not match dark readout mode (1MHz High Sensitivity 16-bit)\n",
      "WARNING:pyscope.reduction.ccd_calib:Image readout mode (1MHzHighSensitivity16-bit) does not match flat readout mode (1MHz High Sensitivity 16-bit)\n",
      "INFO:pyscope.reduction.ccd_calib:Applying bias frame (CCD selected)...\n",
      "INFO:pyscope.reduction.ccd_calib:Applying the dark frame. CCD selected so a bias-subtracted\n",
      "                            dark frame is scaled by the ratio of the image exposure time over\n",
      "                            the dark exposure time then subtracted from the image.\n",
      "INFO:pyscope.reduction.ccd_calib:Checking if flat frame has a pedestal...\n",
      "INFO:pyscope.reduction.ccd_calib:Normalizing the flat frame by the mean of the entire image.\n",
      "INFO:pyscope.reduction.ccd_calib:flat_mean: 0.9999478043049569\n",
      "INFO:pyscope.reduction.ccd_calib:Applying the flat frame...\n"
     ]
    },
    {
     "name": "stdout",
     "output_type": "stream",
     "text": [
      "Calibrating D:\\RLMT\\images\\mjc_mjcMay02_TIC 48217457_r_90s_2024-05-03T10-01-00_wcs.fts\n"
     ]
    },
    {
     "name": "stderr",
     "output_type": "stream",
     "text": [
      "INFO:pyscope.reduction.ccd_calib:Flooring the calibrated image...\n",
      "INFO:pyscope.reduction.ccd_calib:Adding pedestal of 1000\n",
      "INFO:pyscope.reduction.ccd_calib:Removing hot pixels...\n",
      "INFO:pyscope.reduction.ccd_calib:Clipping to uint16 range...\n",
      "INFO:pyscope.reduction.ccd_calib:Writing calibrated status to header...\n",
      "INFO:pyscope.reduction.ccd_calib:Writing calibrated image to D:\\RLMT\\images\\mjc_mjcMay02_TIC 48217457_r_90s_2024-05-03T10-01-00_wcs.fts\n",
      "INFO:pyscope.reduction.ccd_calib:Done!\n",
      "INFO:pyscope.reduction.ccd_calib:Loading calibration frames...\n",
      "INFO:pyscope.reduction.ccd_calib:Loading bias frame: ./images/calibrations/2024-05-03T17-56-00/master_bias_read2_gain4x_1x1.fts\n",
      "INFO:pyscope.reduction.ccd_calib:Loading dark frame: ./images/calibrations/2024-05-03T17-56-00/master_dark_read2_gain4x_1x1.fts\n",
      "INFO:pyscope.reduction.ccd_calib:Loading flat frame: ./images/calibrations/2024-05-03T17-56-00/master_flat_r_read2_gain4x_1x1.fts\n",
      "INFO:pyscope.reduction.ccd_calib:Looping through images...\n",
      "INFO:pyscope.reduction.ccd_calib:Found 1 images\n",
      "INFO:pyscope.reduction.ccd_calib:Calibrating D:\\RLMT\\images\\mjc_mjcMay02_TIC 48217457_r_90s_2024-05-03T10-02-30_wcs.fts...\n",
      "WARNING:pyscope.reduction.ccd_calib:Image readout mode (1MHzHighSensitivity16-bit) does not match dark readout mode (1MHz High Sensitivity 16-bit)\n",
      "WARNING:pyscope.reduction.ccd_calib:Image readout mode (1MHzHighSensitivity16-bit) does not match flat readout mode (1MHz High Sensitivity 16-bit)\n",
      "INFO:pyscope.reduction.ccd_calib:Applying bias frame (CCD selected)...\n",
      "INFO:pyscope.reduction.ccd_calib:Applying the dark frame. CCD selected so a bias-subtracted\n",
      "                            dark frame is scaled by the ratio of the image exposure time over\n",
      "                            the dark exposure time then subtracted from the image.\n",
      "INFO:pyscope.reduction.ccd_calib:Checking if flat frame has a pedestal...\n",
      "INFO:pyscope.reduction.ccd_calib:Normalizing the flat frame by the mean of the entire image.\n",
      "INFO:pyscope.reduction.ccd_calib:flat_mean: 0.9999478043049569\n",
      "INFO:pyscope.reduction.ccd_calib:Applying the flat frame...\n"
     ]
    },
    {
     "name": "stdout",
     "output_type": "stream",
     "text": [
      "Calibrating D:\\RLMT\\images\\mjc_mjcMay02_TIC 48217457_r_90s_2024-05-03T10-02-30_wcs.fts\n"
     ]
    },
    {
     "name": "stderr",
     "output_type": "stream",
     "text": [
      "INFO:pyscope.reduction.ccd_calib:Flooring the calibrated image...\n",
      "INFO:pyscope.reduction.ccd_calib:Adding pedestal of 1000\n",
      "INFO:pyscope.reduction.ccd_calib:Removing hot pixels...\n",
      "INFO:pyscope.reduction.ccd_calib:Clipping to uint16 range...\n",
      "INFO:pyscope.reduction.ccd_calib:Writing calibrated status to header...\n",
      "INFO:pyscope.reduction.ccd_calib:Writing calibrated image to D:\\RLMT\\images\\mjc_mjcMay02_TIC 48217457_r_90s_2024-05-03T10-02-30_wcs.fts\n",
      "INFO:pyscope.reduction.ccd_calib:Done!\n",
      "INFO:pyscope.reduction.ccd_calib:Loading calibration frames...\n",
      "INFO:pyscope.reduction.ccd_calib:Loading bias frame: ./images/calibrations/2024-05-03T17-56-00/master_bias_read2_gain4x_1x1.fts\n",
      "INFO:pyscope.reduction.ccd_calib:Loading dark frame: ./images/calibrations/2024-05-03T17-56-00/master_dark_read2_gain4x_1x1.fts\n",
      "INFO:pyscope.reduction.ccd_calib:Loading flat frame: ./images/calibrations/2024-05-03T17-56-00/master_flat_r_read2_gain4x_1x1.fts\n",
      "INFO:pyscope.reduction.ccd_calib:Looping through images...\n",
      "INFO:pyscope.reduction.ccd_calib:Found 1 images\n",
      "INFO:pyscope.reduction.ccd_calib:Calibrating D:\\RLMT\\images\\mjc_mjcMay02_TIC 48217457_r_90s_2024-05-03T10-04-00_wcs.fts...\n",
      "WARNING:pyscope.reduction.ccd_calib:Image readout mode (1MHzHighSensitivity16-bit) does not match dark readout mode (1MHz High Sensitivity 16-bit)\n",
      "WARNING:pyscope.reduction.ccd_calib:Image readout mode (1MHzHighSensitivity16-bit) does not match flat readout mode (1MHz High Sensitivity 16-bit)\n",
      "INFO:pyscope.reduction.ccd_calib:Applying bias frame (CCD selected)...\n",
      "INFO:pyscope.reduction.ccd_calib:Applying the dark frame. CCD selected so a bias-subtracted\n",
      "                            dark frame is scaled by the ratio of the image exposure time over\n",
      "                            the dark exposure time then subtracted from the image.\n",
      "INFO:pyscope.reduction.ccd_calib:Checking if flat frame has a pedestal...\n",
      "INFO:pyscope.reduction.ccd_calib:Normalizing the flat frame by the mean of the entire image.\n",
      "INFO:pyscope.reduction.ccd_calib:flat_mean: 0.9999478043049569\n",
      "INFO:pyscope.reduction.ccd_calib:Applying the flat frame...\n",
      "INFO:pyscope.reduction.ccd_calib:Flooring the calibrated image...\n"
     ]
    },
    {
     "name": "stdout",
     "output_type": "stream",
     "text": [
      "Calibrating D:\\RLMT\\images\\mjc_mjcMay02_TIC 48217457_r_90s_2024-05-03T10-04-00_wcs.fts\n"
     ]
    },
    {
     "name": "stderr",
     "output_type": "stream",
     "text": [
      "INFO:pyscope.reduction.ccd_calib:Adding pedestal of 1000\n",
      "INFO:pyscope.reduction.ccd_calib:Removing hot pixels...\n",
      "INFO:pyscope.reduction.ccd_calib:Clipping to uint16 range...\n",
      "INFO:pyscope.reduction.ccd_calib:Writing calibrated status to header...\n",
      "INFO:pyscope.reduction.ccd_calib:Writing calibrated image to D:\\RLMT\\images\\mjc_mjcMay02_TIC 48217457_r_90s_2024-05-03T10-04-00_wcs.fts\n",
      "INFO:pyscope.reduction.ccd_calib:Done!\n",
      "INFO:pyscope.reduction.ccd_calib:Loading calibration frames...\n",
      "INFO:pyscope.reduction.ccd_calib:Loading bias frame: ./images/calibrations/2024-05-03T17-56-00/master_bias_read2_gain4x_1x1.fts\n",
      "INFO:pyscope.reduction.ccd_calib:Loading dark frame: ./images/calibrations/2024-05-03T17-56-00/master_dark_read2_gain4x_1x1.fts\n",
      "INFO:pyscope.reduction.ccd_calib:Loading flat frame: ./images/calibrations/2024-05-03T17-56-00/master_flat_r_read2_gain4x_1x1.fts\n",
      "INFO:pyscope.reduction.ccd_calib:Looping through images...\n",
      "INFO:pyscope.reduction.ccd_calib:Found 1 images\n",
      "INFO:pyscope.reduction.ccd_calib:Calibrating D:\\RLMT\\images\\mjc_mjcMay02_TIC 48217457_r_90s_2024-05-03T10-05-30_wcs.fts...\n",
      "WARNING:pyscope.reduction.ccd_calib:Image readout mode (1MHzHighSensitivity16-bit) does not match dark readout mode (1MHz High Sensitivity 16-bit)\n",
      "WARNING:pyscope.reduction.ccd_calib:Image readout mode (1MHzHighSensitivity16-bit) does not match flat readout mode (1MHz High Sensitivity 16-bit)\n",
      "INFO:pyscope.reduction.ccd_calib:Applying bias frame (CCD selected)...\n",
      "INFO:pyscope.reduction.ccd_calib:Applying the dark frame. CCD selected so a bias-subtracted\n",
      "                            dark frame is scaled by the ratio of the image exposure time over\n",
      "                            the dark exposure time then subtracted from the image.\n",
      "INFO:pyscope.reduction.ccd_calib:Checking if flat frame has a pedestal...\n"
     ]
    },
    {
     "name": "stdout",
     "output_type": "stream",
     "text": [
      "Calibrating D:\\RLMT\\images\\mjc_mjcMay02_TIC 48217457_r_90s_2024-05-03T10-05-30_wcs.fts\n"
     ]
    },
    {
     "name": "stderr",
     "output_type": "stream",
     "text": [
      "INFO:pyscope.reduction.ccd_calib:Normalizing the flat frame by the mean of the entire image.\n",
      "INFO:pyscope.reduction.ccd_calib:flat_mean: 0.9999478043049569\n",
      "INFO:pyscope.reduction.ccd_calib:Applying the flat frame...\n",
      "INFO:pyscope.reduction.ccd_calib:Flooring the calibrated image...\n",
      "INFO:pyscope.reduction.ccd_calib:Adding pedestal of 1000\n",
      "INFO:pyscope.reduction.ccd_calib:Removing hot pixels...\n",
      "INFO:pyscope.reduction.ccd_calib:Clipping to uint16 range...\n",
      "INFO:pyscope.reduction.ccd_calib:Writing calibrated status to header...\n",
      "INFO:pyscope.reduction.ccd_calib:Writing calibrated image to D:\\RLMT\\images\\mjc_mjcMay02_TIC 48217457_r_90s_2024-05-03T10-05-30_wcs.fts\n",
      "INFO:pyscope.reduction.ccd_calib:Done!\n",
      "INFO:pyscope.reduction.ccd_calib:Loading calibration frames...\n",
      "INFO:pyscope.reduction.ccd_calib:Loading bias frame: ./images/calibrations/2024-05-03T17-56-00/master_bias_read2_gain4x_1x1.fts\n",
      "INFO:pyscope.reduction.ccd_calib:Loading dark frame: ./images/calibrations/2024-05-03T17-56-00/master_dark_read2_gain4x_1x1.fts\n",
      "INFO:pyscope.reduction.ccd_calib:Loading flat frame: ./images/calibrations/2024-05-03T17-56-00/master_flat_r_read2_gain4x_1x1.fts\n",
      "INFO:pyscope.reduction.ccd_calib:Looping through images...\n",
      "INFO:pyscope.reduction.ccd_calib:Found 1 images\n",
      "INFO:pyscope.reduction.ccd_calib:Calibrating D:\\RLMT\\images\\mjc_mjcMay02_TIC 48217457_r_90s_2024-05-03T10-07-00_wcs.fts...\n",
      "WARNING:pyscope.reduction.ccd_calib:Image readout mode (1MHzHighSensitivity16-bit) does not match dark readout mode (1MHz High Sensitivity 16-bit)\n",
      "WARNING:pyscope.reduction.ccd_calib:Image readout mode (1MHzHighSensitivity16-bit) does not match flat readout mode (1MHz High Sensitivity 16-bit)\n",
      "INFO:pyscope.reduction.ccd_calib:Applying bias frame (CCD selected)...\n",
      "INFO:pyscope.reduction.ccd_calib:Applying the dark frame. CCD selected so a bias-subtracted\n",
      "                            dark frame is scaled by the ratio of the image exposure time over\n",
      "                            the dark exposure time then subtracted from the image.\n",
      "INFO:pyscope.reduction.ccd_calib:Checking if flat frame has a pedestal...\n",
      "INFO:pyscope.reduction.ccd_calib:Normalizing the flat frame by the mean of the entire image.\n",
      "INFO:pyscope.reduction.ccd_calib:flat_mean: 0.9999478043049569\n"
     ]
    },
    {
     "name": "stdout",
     "output_type": "stream",
     "text": [
      "Calibrating D:\\RLMT\\images\\mjc_mjcMay02_TIC 48217457_r_90s_2024-05-03T10-07-00_wcs.fts\n"
     ]
    },
    {
     "name": "stderr",
     "output_type": "stream",
     "text": [
      "INFO:pyscope.reduction.ccd_calib:Applying the flat frame...\n",
      "INFO:pyscope.reduction.ccd_calib:Flooring the calibrated image...\n",
      "INFO:pyscope.reduction.ccd_calib:Adding pedestal of 1000\n",
      "INFO:pyscope.reduction.ccd_calib:Removing hot pixels...\n",
      "INFO:pyscope.reduction.ccd_calib:Clipping to uint16 range...\n",
      "INFO:pyscope.reduction.ccd_calib:Writing calibrated status to header...\n",
      "INFO:pyscope.reduction.ccd_calib:Writing calibrated image to D:\\RLMT\\images\\mjc_mjcMay02_TIC 48217457_r_90s_2024-05-03T10-07-00_wcs.fts\n",
      "INFO:pyscope.reduction.ccd_calib:Done!\n",
      "INFO:pyscope.reduction.ccd_calib:Loading calibration frames...\n",
      "INFO:pyscope.reduction.ccd_calib:Loading bias frame: ./images/calibrations/2024-05-03T17-56-00/master_bias_read2_gain4x_1x1.fts\n",
      "INFO:pyscope.reduction.ccd_calib:Loading dark frame: ./images/calibrations/2024-05-03T17-56-00/master_dark_read2_gain4x_1x1.fts\n",
      "INFO:pyscope.reduction.ccd_calib:Loading flat frame: ./images/calibrations/2024-05-03T17-56-00/master_flat_r_read2_gain4x_1x1.fts\n",
      "INFO:pyscope.reduction.ccd_calib:Looping through images...\n",
      "INFO:pyscope.reduction.ccd_calib:Found 1 images\n",
      "INFO:pyscope.reduction.ccd_calib:Calibrating D:\\RLMT\\images\\mjc_mjcMay02_TIC 48217457_r_90s_2024-05-03T10-08-30_wcs.fts...\n",
      "WARNING:pyscope.reduction.ccd_calib:Image readout mode (1MHzHighSensitivity16-bit) does not match dark readout mode (1MHz High Sensitivity 16-bit)\n",
      "WARNING:pyscope.reduction.ccd_calib:Image readout mode (1MHzHighSensitivity16-bit) does not match flat readout mode (1MHz High Sensitivity 16-bit)\n",
      "INFO:pyscope.reduction.ccd_calib:Applying bias frame (CCD selected)...\n",
      "INFO:pyscope.reduction.ccd_calib:Applying the dark frame. CCD selected so a bias-subtracted\n",
      "                            dark frame is scaled by the ratio of the image exposure time over\n",
      "                            the dark exposure time then subtracted from the image.\n",
      "INFO:pyscope.reduction.ccd_calib:Checking if flat frame has a pedestal...\n",
      "INFO:pyscope.reduction.ccd_calib:Normalizing the flat frame by the mean of the entire image.\n",
      "INFO:pyscope.reduction.ccd_calib:flat_mean: 0.9999478043049569\n"
     ]
    },
    {
     "name": "stdout",
     "output_type": "stream",
     "text": [
      "Calibrating D:\\RLMT\\images\\mjc_mjcMay02_TIC 48217457_r_90s_2024-05-03T10-08-30_wcs.fts\n"
     ]
    },
    {
     "name": "stderr",
     "output_type": "stream",
     "text": [
      "INFO:pyscope.reduction.ccd_calib:Applying the flat frame...\n",
      "INFO:pyscope.reduction.ccd_calib:Flooring the calibrated image...\n",
      "INFO:pyscope.reduction.ccd_calib:Adding pedestal of 1000\n",
      "INFO:pyscope.reduction.ccd_calib:Removing hot pixels...\n",
      "INFO:pyscope.reduction.ccd_calib:Clipping to uint16 range...\n",
      "INFO:pyscope.reduction.ccd_calib:Writing calibrated status to header...\n",
      "INFO:pyscope.reduction.ccd_calib:Writing calibrated image to D:\\RLMT\\images\\mjc_mjcMay02_TIC 48217457_r_90s_2024-05-03T10-08-30_wcs.fts\n",
      "INFO:pyscope.reduction.ccd_calib:Done!\n",
      "INFO:pyscope.reduction.ccd_calib:Loading calibration frames...\n",
      "INFO:pyscope.reduction.ccd_calib:Loading bias frame: ./images/calibrations/2024-05-03T17-56-00/master_bias_read2_gain4x_1x1.fts\n",
      "INFO:pyscope.reduction.ccd_calib:Loading dark frame: ./images/calibrations/2024-05-03T17-56-00/master_dark_read2_gain4x_1x1.fts\n",
      "INFO:pyscope.reduction.ccd_calib:Loading flat frame: ./images/calibrations/2024-05-03T17-56-00/master_flat_r_read2_gain4x_1x1.fts\n",
      "INFO:pyscope.reduction.ccd_calib:Looping through images...\n",
      "INFO:pyscope.reduction.ccd_calib:Found 1 images\n",
      "INFO:pyscope.reduction.ccd_calib:Calibrating D:\\RLMT\\images\\mjc_mjcMay02_TIC 48217457_r_90s_2024-05-03T10-10-00_wcs.fts...\n",
      "WARNING:pyscope.reduction.ccd_calib:Image readout mode (1MHzHighSensitivity16-bit) does not match dark readout mode (1MHz High Sensitivity 16-bit)\n",
      "WARNING:pyscope.reduction.ccd_calib:Image readout mode (1MHzHighSensitivity16-bit) does not match flat readout mode (1MHz High Sensitivity 16-bit)\n",
      "INFO:pyscope.reduction.ccd_calib:Applying bias frame (CCD selected)...\n",
      "INFO:pyscope.reduction.ccd_calib:Applying the dark frame. CCD selected so a bias-subtracted\n",
      "                            dark frame is scaled by the ratio of the image exposure time over\n",
      "                            the dark exposure time then subtracted from the image.\n",
      "INFO:pyscope.reduction.ccd_calib:Checking if flat frame has a pedestal...\n",
      "INFO:pyscope.reduction.ccd_calib:Normalizing the flat frame by the mean of the entire image.\n",
      "INFO:pyscope.reduction.ccd_calib:flat_mean: 0.9999478043049569\n",
      "INFO:pyscope.reduction.ccd_calib:Applying the flat frame...\n"
     ]
    },
    {
     "name": "stdout",
     "output_type": "stream",
     "text": [
      "Calibrating D:\\RLMT\\images\\mjc_mjcMay02_TIC 48217457_r_90s_2024-05-03T10-10-00_wcs.fts\n"
     ]
    },
    {
     "name": "stderr",
     "output_type": "stream",
     "text": [
      "INFO:pyscope.reduction.ccd_calib:Flooring the calibrated image...\n",
      "INFO:pyscope.reduction.ccd_calib:Adding pedestal of 1000\n",
      "INFO:pyscope.reduction.ccd_calib:Removing hot pixels...\n",
      "INFO:pyscope.reduction.ccd_calib:Clipping to uint16 range...\n",
      "INFO:pyscope.reduction.ccd_calib:Writing calibrated status to header...\n",
      "INFO:pyscope.reduction.ccd_calib:Writing calibrated image to D:\\RLMT\\images\\mjc_mjcMay02_TIC 48217457_r_90s_2024-05-03T10-10-00_wcs.fts\n",
      "INFO:pyscope.reduction.ccd_calib:Done!\n",
      "INFO:pyscope.reduction.ccd_calib:Loading calibration frames...\n",
      "INFO:pyscope.reduction.ccd_calib:Loading bias frame: ./images/calibrations/2024-05-03T17-56-00/master_bias_read2_gain4x_1x1.fts\n",
      "INFO:pyscope.reduction.ccd_calib:Loading dark frame: ./images/calibrations/2024-05-03T17-56-00/master_dark_read2_gain4x_1x1.fts\n",
      "INFO:pyscope.reduction.ccd_calib:Loading flat frame: ./images/calibrations/2024-05-03T17-56-00/master_flat_r_read2_gain4x_1x1.fts\n",
      "INFO:pyscope.reduction.ccd_calib:Looping through images...\n",
      "INFO:pyscope.reduction.ccd_calib:Found 1 images\n",
      "INFO:pyscope.reduction.ccd_calib:Calibrating D:\\RLMT\\images\\mjc_mjcMay02_TIC 48217457_r_90s_2024-05-03T10-11-30_wcs.fts...\n",
      "WARNING:pyscope.reduction.ccd_calib:Image readout mode (1MHzHighSensitivity16-bit) does not match dark readout mode (1MHz High Sensitivity 16-bit)\n",
      "WARNING:pyscope.reduction.ccd_calib:Image readout mode (1MHzHighSensitivity16-bit) does not match flat readout mode (1MHz High Sensitivity 16-bit)\n",
      "INFO:pyscope.reduction.ccd_calib:Applying bias frame (CCD selected)...\n",
      "INFO:pyscope.reduction.ccd_calib:Applying the dark frame. CCD selected so a bias-subtracted\n",
      "                            dark frame is scaled by the ratio of the image exposure time over\n",
      "                            the dark exposure time then subtracted from the image.\n",
      "INFO:pyscope.reduction.ccd_calib:Checking if flat frame has a pedestal...\n",
      "INFO:pyscope.reduction.ccd_calib:Normalizing the flat frame by the mean of the entire image.\n",
      "INFO:pyscope.reduction.ccd_calib:flat_mean: 0.9999478043049569\n",
      "INFO:pyscope.reduction.ccd_calib:Applying the flat frame...\n"
     ]
    },
    {
     "name": "stdout",
     "output_type": "stream",
     "text": [
      "Calibrating D:\\RLMT\\images\\mjc_mjcMay02_TIC 48217457_r_90s_2024-05-03T10-11-30_wcs.fts\n"
     ]
    },
    {
     "name": "stderr",
     "output_type": "stream",
     "text": [
      "INFO:pyscope.reduction.ccd_calib:Flooring the calibrated image...\n",
      "INFO:pyscope.reduction.ccd_calib:Adding pedestal of 1000\n",
      "INFO:pyscope.reduction.ccd_calib:Removing hot pixels...\n",
      "INFO:pyscope.reduction.ccd_calib:Clipping to uint16 range...\n",
      "INFO:pyscope.reduction.ccd_calib:Writing calibrated status to header...\n",
      "INFO:pyscope.reduction.ccd_calib:Writing calibrated image to D:\\RLMT\\images\\mjc_mjcMay02_TIC 48217457_r_90s_2024-05-03T10-11-30_wcs.fts\n",
      "INFO:pyscope.reduction.ccd_calib:Done!\n",
      "INFO:pyscope.reduction.ccd_calib:Loading calibration frames...\n",
      "INFO:pyscope.reduction.ccd_calib:Loading bias frame: ./images/calibrations/2024-05-03T17-56-00/master_bias_read2_gain4x_1x1.fts\n",
      "INFO:pyscope.reduction.ccd_calib:Loading dark frame: ./images/calibrations/2024-05-03T17-56-00/master_dark_read2_gain4x_1x1.fts\n",
      "INFO:pyscope.reduction.ccd_calib:Loading flat frame: ./images/calibrations/2024-05-03T17-56-00/master_flat_r_read2_gain4x_1x1.fts\n",
      "INFO:pyscope.reduction.ccd_calib:Looping through images...\n",
      "INFO:pyscope.reduction.ccd_calib:Found 1 images\n",
      "INFO:pyscope.reduction.ccd_calib:Calibrating D:\\RLMT\\images\\mjc_mjcMay02_TIC 48217457_r_90s_2024-05-03T10-13-00_wcs.fts...\n",
      "WARNING:pyscope.reduction.ccd_calib:Image readout mode (1MHzHighSensitivity16-bit) does not match dark readout mode (1MHz High Sensitivity 16-bit)\n",
      "WARNING:pyscope.reduction.ccd_calib:Image readout mode (1MHzHighSensitivity16-bit) does not match flat readout mode (1MHz High Sensitivity 16-bit)\n",
      "INFO:pyscope.reduction.ccd_calib:Applying bias frame (CCD selected)...\n",
      "INFO:pyscope.reduction.ccd_calib:Applying the dark frame. CCD selected so a bias-subtracted\n",
      "                            dark frame is scaled by the ratio of the image exposure time over\n",
      "                            the dark exposure time then subtracted from the image.\n",
      "INFO:pyscope.reduction.ccd_calib:Checking if flat frame has a pedestal...\n",
      "INFO:pyscope.reduction.ccd_calib:Normalizing the flat frame by the mean of the entire image.\n",
      "INFO:pyscope.reduction.ccd_calib:flat_mean: 0.9999478043049569\n",
      "INFO:pyscope.reduction.ccd_calib:Applying the flat frame...\n"
     ]
    },
    {
     "name": "stdout",
     "output_type": "stream",
     "text": [
      "Calibrating D:\\RLMT\\images\\mjc_mjcMay02_TIC 48217457_r_90s_2024-05-03T10-13-00_wcs.fts\n"
     ]
    },
    {
     "name": "stderr",
     "output_type": "stream",
     "text": [
      "INFO:pyscope.reduction.ccd_calib:Flooring the calibrated image...\n",
      "INFO:pyscope.reduction.ccd_calib:Adding pedestal of 1000\n",
      "INFO:pyscope.reduction.ccd_calib:Removing hot pixels...\n",
      "INFO:pyscope.reduction.ccd_calib:Clipping to uint16 range...\n",
      "INFO:pyscope.reduction.ccd_calib:Writing calibrated status to header...\n",
      "INFO:pyscope.reduction.ccd_calib:Writing calibrated image to D:\\RLMT\\images\\mjc_mjcMay02_TIC 48217457_r_90s_2024-05-03T10-13-00_wcs.fts\n",
      "INFO:pyscope.reduction.ccd_calib:Done!\n",
      "INFO:pyscope.reduction.ccd_calib:Loading calibration frames...\n",
      "INFO:pyscope.reduction.ccd_calib:Loading bias frame: ./images/calibrations/2024-05-03T17-56-00/master_bias_read2_gain4x_1x1.fts\n",
      "INFO:pyscope.reduction.ccd_calib:Loading dark frame: ./images/calibrations/2024-05-03T17-56-00/master_dark_read2_gain4x_1x1.fts\n",
      "INFO:pyscope.reduction.ccd_calib:Loading flat frame: ./images/calibrations/2024-05-03T17-56-00/master_flat_r_read2_gain4x_1x1.fts\n",
      "INFO:pyscope.reduction.ccd_calib:Looping through images...\n",
      "INFO:pyscope.reduction.ccd_calib:Found 1 images\n",
      "INFO:pyscope.reduction.ccd_calib:Calibrating D:\\RLMT\\images\\mjc_mjcMay02_TIC 48217457_r_90s_2024-05-03T10-14-30_wcs.fts...\n",
      "WARNING:pyscope.reduction.ccd_calib:Image readout mode (1MHzHighSensitivity16-bit) does not match dark readout mode (1MHz High Sensitivity 16-bit)\n",
      "WARNING:pyscope.reduction.ccd_calib:Image readout mode (1MHzHighSensitivity16-bit) does not match flat readout mode (1MHz High Sensitivity 16-bit)\n",
      "INFO:pyscope.reduction.ccd_calib:Applying bias frame (CCD selected)...\n",
      "INFO:pyscope.reduction.ccd_calib:Applying the dark frame. CCD selected so a bias-subtracted\n",
      "                            dark frame is scaled by the ratio of the image exposure time over\n",
      "                            the dark exposure time then subtracted from the image.\n",
      "INFO:pyscope.reduction.ccd_calib:Checking if flat frame has a pedestal...\n",
      "INFO:pyscope.reduction.ccd_calib:Normalizing the flat frame by the mean of the entire image.\n",
      "INFO:pyscope.reduction.ccd_calib:flat_mean: 0.9999478043049569\n",
      "INFO:pyscope.reduction.ccd_calib:Applying the flat frame...\n"
     ]
    },
    {
     "name": "stdout",
     "output_type": "stream",
     "text": [
      "Calibrating D:\\RLMT\\images\\mjc_mjcMay02_TIC 48217457_r_90s_2024-05-03T10-14-30_wcs.fts\n"
     ]
    },
    {
     "name": "stderr",
     "output_type": "stream",
     "text": [
      "INFO:pyscope.reduction.ccd_calib:Flooring the calibrated image...\n",
      "INFO:pyscope.reduction.ccd_calib:Adding pedestal of 1000\n",
      "INFO:pyscope.reduction.ccd_calib:Removing hot pixels...\n",
      "INFO:pyscope.reduction.ccd_calib:Clipping to uint16 range...\n",
      "INFO:pyscope.reduction.ccd_calib:Writing calibrated status to header...\n",
      "INFO:pyscope.reduction.ccd_calib:Writing calibrated image to D:\\RLMT\\images\\mjc_mjcMay02_TIC 48217457_r_90s_2024-05-03T10-14-30_wcs.fts\n",
      "INFO:pyscope.reduction.ccd_calib:Done!\n",
      "INFO:pyscope.reduction.ccd_calib:Loading calibration frames...\n",
      "INFO:pyscope.reduction.ccd_calib:Loading bias frame: ./images/calibrations/2024-05-03T17-56-00/master_bias_read2_gain4x_1x1.fts\n",
      "INFO:pyscope.reduction.ccd_calib:Loading dark frame: ./images/calibrations/2024-05-03T17-56-00/master_dark_read2_gain4x_1x1.fts\n",
      "INFO:pyscope.reduction.ccd_calib:Loading flat frame: ./images/calibrations/2024-05-03T17-56-00/master_flat_r_read2_gain4x_1x1.fts\n",
      "INFO:pyscope.reduction.ccd_calib:Looping through images...\n",
      "INFO:pyscope.reduction.ccd_calib:Found 1 images\n",
      "INFO:pyscope.reduction.ccd_calib:Calibrating D:\\RLMT\\images\\mjc_mjcMay02_TIC 48217457_r_90s_2024-05-03T10-16-00_wcs.fts...\n",
      "WARNING:pyscope.reduction.ccd_calib:Image readout mode (1MHzHighSensitivity16-bit) does not match dark readout mode (1MHz High Sensitivity 16-bit)\n",
      "WARNING:pyscope.reduction.ccd_calib:Image readout mode (1MHzHighSensitivity16-bit) does not match flat readout mode (1MHz High Sensitivity 16-bit)\n",
      "INFO:pyscope.reduction.ccd_calib:Applying bias frame (CCD selected)...\n",
      "INFO:pyscope.reduction.ccd_calib:Applying the dark frame. CCD selected so a bias-subtracted\n",
      "                            dark frame is scaled by the ratio of the image exposure time over\n",
      "                            the dark exposure time then subtracted from the image.\n",
      "INFO:pyscope.reduction.ccd_calib:Checking if flat frame has a pedestal...\n"
     ]
    },
    {
     "name": "stdout",
     "output_type": "stream",
     "text": [
      "Calibrating D:\\RLMT\\images\\mjc_mjcMay02_TIC 48217457_r_90s_2024-05-03T10-16-00_wcs.fts\n"
     ]
    },
    {
     "name": "stderr",
     "output_type": "stream",
     "text": [
      "INFO:pyscope.reduction.ccd_calib:Normalizing the flat frame by the mean of the entire image.\n",
      "INFO:pyscope.reduction.ccd_calib:flat_mean: 0.9999478043049569\n",
      "INFO:pyscope.reduction.ccd_calib:Applying the flat frame...\n",
      "INFO:pyscope.reduction.ccd_calib:Flooring the calibrated image...\n",
      "INFO:pyscope.reduction.ccd_calib:Adding pedestal of 1000\n",
      "INFO:pyscope.reduction.ccd_calib:Removing hot pixels...\n",
      "INFO:pyscope.reduction.ccd_calib:Clipping to uint16 range...\n",
      "INFO:pyscope.reduction.ccd_calib:Writing calibrated status to header...\n",
      "INFO:pyscope.reduction.ccd_calib:Writing calibrated image to D:\\RLMT\\images\\mjc_mjcMay02_TIC 48217457_r_90s_2024-05-03T10-16-00_wcs.fts\n",
      "INFO:pyscope.reduction.ccd_calib:Done!\n",
      "INFO:pyscope.reduction.ccd_calib:Loading calibration frames...\n",
      "INFO:pyscope.reduction.ccd_calib:Loading bias frame: ./images/calibrations/2024-05-03T17-56-00/master_bias_read2_gain4x_1x1.fts\n",
      "INFO:pyscope.reduction.ccd_calib:Loading dark frame: ./images/calibrations/2024-05-03T17-56-00/master_dark_read2_gain4x_1x1.fts\n",
      "INFO:pyscope.reduction.ccd_calib:Loading flat frame: ./images/calibrations/2024-05-03T17-56-00/master_flat_r_read2_gain4x_1x1.fts\n",
      "INFO:pyscope.reduction.ccd_calib:Looping through images...\n",
      "INFO:pyscope.reduction.ccd_calib:Found 1 images\n",
      "INFO:pyscope.reduction.ccd_calib:Calibrating D:\\RLMT\\images\\mjc_mjcMay02_TIC 48217457_r_90s_2024-05-03T10-17-30_wcs.fts...\n",
      "WARNING:pyscope.reduction.ccd_calib:Image readout mode (1MHzHighSensitivity16-bit) does not match dark readout mode (1MHz High Sensitivity 16-bit)\n",
      "WARNING:pyscope.reduction.ccd_calib:Image readout mode (1MHzHighSensitivity16-bit) does not match flat readout mode (1MHz High Sensitivity 16-bit)\n",
      "INFO:pyscope.reduction.ccd_calib:Applying bias frame (CCD selected)...\n",
      "INFO:pyscope.reduction.ccd_calib:Applying the dark frame. CCD selected so a bias-subtracted\n",
      "                            dark frame is scaled by the ratio of the image exposure time over\n",
      "                            the dark exposure time then subtracted from the image.\n",
      "INFO:pyscope.reduction.ccd_calib:Checking if flat frame has a pedestal...\n",
      "INFO:pyscope.reduction.ccd_calib:Normalizing the flat frame by the mean of the entire image.\n",
      "INFO:pyscope.reduction.ccd_calib:flat_mean: 0.9999478043049569\n",
      "INFO:pyscope.reduction.ccd_calib:Applying the flat frame...\n"
     ]
    },
    {
     "name": "stdout",
     "output_type": "stream",
     "text": [
      "Calibrating D:\\RLMT\\images\\mjc_mjcMay02_TIC 48217457_r_90s_2024-05-03T10-17-30_wcs.fts\n"
     ]
    },
    {
     "name": "stderr",
     "output_type": "stream",
     "text": [
      "INFO:pyscope.reduction.ccd_calib:Flooring the calibrated image...\n",
      "INFO:pyscope.reduction.ccd_calib:Adding pedestal of 1000\n",
      "INFO:pyscope.reduction.ccd_calib:Removing hot pixels...\n",
      "INFO:pyscope.reduction.ccd_calib:Clipping to uint16 range...\n",
      "INFO:pyscope.reduction.ccd_calib:Writing calibrated status to header...\n",
      "INFO:pyscope.reduction.ccd_calib:Writing calibrated image to D:\\RLMT\\images\\mjc_mjcMay02_TIC 48217457_r_90s_2024-05-03T10-17-30_wcs.fts\n",
      "INFO:pyscope.reduction.ccd_calib:Done!\n",
      "INFO:pyscope.reduction.ccd_calib:Loading calibration frames...\n",
      "INFO:pyscope.reduction.ccd_calib:Loading bias frame: ./images/calibrations/2024-05-03T17-56-00/master_bias_read2_gain4x_1x1.fts\n",
      "INFO:pyscope.reduction.ccd_calib:Loading dark frame: ./images/calibrations/2024-05-03T17-56-00/master_dark_read2_gain4x_1x1.fts\n",
      "INFO:pyscope.reduction.ccd_calib:Loading flat frame: ./images/calibrations/2024-05-03T17-56-00/master_flat_r_read2_gain4x_1x1.fts\n",
      "INFO:pyscope.reduction.ccd_calib:Looping through images...\n",
      "INFO:pyscope.reduction.ccd_calib:Found 1 images\n",
      "INFO:pyscope.reduction.ccd_calib:Calibrating D:\\RLMT\\images\\mjc_mjcMay02_TIC 48217457_r_90s_2024-05-03T10-19-00_wcs.fts...\n",
      "WARNING:pyscope.reduction.ccd_calib:Image readout mode (1MHzHighSensitivity16-bit) does not match dark readout mode (1MHz High Sensitivity 16-bit)\n",
      "WARNING:pyscope.reduction.ccd_calib:Image readout mode (1MHzHighSensitivity16-bit) does not match flat readout mode (1MHz High Sensitivity 16-bit)\n",
      "INFO:pyscope.reduction.ccd_calib:Applying bias frame (CCD selected)...\n",
      "INFO:pyscope.reduction.ccd_calib:Applying the dark frame. CCD selected so a bias-subtracted\n",
      "                            dark frame is scaled by the ratio of the image exposure time over\n",
      "                            the dark exposure time then subtracted from the image.\n",
      "INFO:pyscope.reduction.ccd_calib:Checking if flat frame has a pedestal...\n",
      "INFO:pyscope.reduction.ccd_calib:Normalizing the flat frame by the mean of the entire image.\n",
      "INFO:pyscope.reduction.ccd_calib:flat_mean: 0.9999478043049569\n"
     ]
    },
    {
     "name": "stdout",
     "output_type": "stream",
     "text": [
      "Calibrating D:\\RLMT\\images\\mjc_mjcMay02_TIC 48217457_r_90s_2024-05-03T10-19-00_wcs.fts\n"
     ]
    },
    {
     "name": "stderr",
     "output_type": "stream",
     "text": [
      "INFO:pyscope.reduction.ccd_calib:Applying the flat frame...\n",
      "INFO:pyscope.reduction.ccd_calib:Flooring the calibrated image...\n",
      "INFO:pyscope.reduction.ccd_calib:Adding pedestal of 1000\n",
      "INFO:pyscope.reduction.ccd_calib:Removing hot pixels...\n",
      "INFO:pyscope.reduction.ccd_calib:Clipping to uint16 range...\n",
      "INFO:pyscope.reduction.ccd_calib:Writing calibrated status to header...\n",
      "INFO:pyscope.reduction.ccd_calib:Writing calibrated image to D:\\RLMT\\images\\mjc_mjcMay02_TIC 48217457_r_90s_2024-05-03T10-19-00_wcs.fts\n",
      "INFO:pyscope.reduction.ccd_calib:Done!\n",
      "INFO:pyscope.reduction.ccd_calib:Loading calibration frames...\n",
      "INFO:pyscope.reduction.ccd_calib:Loading bias frame: ./images/calibrations/2024-05-03T17-56-00/master_bias_read2_gain4x_1x1.fts\n",
      "INFO:pyscope.reduction.ccd_calib:Loading dark frame: ./images/calibrations/2024-05-03T17-56-00/master_dark_read2_gain4x_1x1.fts\n",
      "INFO:pyscope.reduction.ccd_calib:Loading flat frame: ./images/calibrations/2024-05-03T17-56-00/master_flat_r_read2_gain4x_1x1.fts\n",
      "INFO:pyscope.reduction.ccd_calib:Looping through images...\n",
      "INFO:pyscope.reduction.ccd_calib:Found 1 images\n",
      "INFO:pyscope.reduction.ccd_calib:Calibrating D:\\RLMT\\images\\mjc_mjcMay02_TIC 48217457_r_90s_2024-05-03T10-20-30_wcs.fts...\n",
      "WARNING:pyscope.reduction.ccd_calib:Image readout mode (1MHzHighSensitivity16-bit) does not match dark readout mode (1MHz High Sensitivity 16-bit)\n",
      "WARNING:pyscope.reduction.ccd_calib:Image readout mode (1MHzHighSensitivity16-bit) does not match flat readout mode (1MHz High Sensitivity 16-bit)\n",
      "INFO:pyscope.reduction.ccd_calib:Applying bias frame (CCD selected)...\n",
      "INFO:pyscope.reduction.ccd_calib:Applying the dark frame. CCD selected so a bias-subtracted\n",
      "                            dark frame is scaled by the ratio of the image exposure time over\n",
      "                            the dark exposure time then subtracted from the image.\n",
      "INFO:pyscope.reduction.ccd_calib:Checking if flat frame has a pedestal...\n",
      "INFO:pyscope.reduction.ccd_calib:Normalizing the flat frame by the mean of the entire image.\n",
      "INFO:pyscope.reduction.ccd_calib:flat_mean: 0.9999478043049569\n",
      "INFO:pyscope.reduction.ccd_calib:Applying the flat frame...\n"
     ]
    },
    {
     "name": "stdout",
     "output_type": "stream",
     "text": [
      "Calibrating D:\\RLMT\\images\\mjc_mjcMay02_TIC 48217457_r_90s_2024-05-03T10-20-30_wcs.fts\n"
     ]
    },
    {
     "name": "stderr",
     "output_type": "stream",
     "text": [
      "INFO:pyscope.reduction.ccd_calib:Flooring the calibrated image...\n",
      "INFO:pyscope.reduction.ccd_calib:Adding pedestal of 1000\n",
      "INFO:pyscope.reduction.ccd_calib:Removing hot pixels...\n",
      "INFO:pyscope.reduction.ccd_calib:Clipping to uint16 range...\n",
      "INFO:pyscope.reduction.ccd_calib:Writing calibrated status to header...\n",
      "INFO:pyscope.reduction.ccd_calib:Writing calibrated image to D:\\RLMT\\images\\mjc_mjcMay02_TIC 48217457_r_90s_2024-05-03T10-20-30_wcs.fts\n",
      "INFO:pyscope.reduction.ccd_calib:Done!\n",
      "INFO:pyscope.reduction.ccd_calib:Loading calibration frames...\n",
      "INFO:pyscope.reduction.ccd_calib:Loading bias frame: ./images/calibrations/2024-05-03T17-56-00/master_bias_read2_gain4x_1x1.fts\n",
      "INFO:pyscope.reduction.ccd_calib:Loading dark frame: ./images/calibrations/2024-05-03T17-56-00/master_dark_read2_gain4x_1x1.fts\n",
      "INFO:pyscope.reduction.ccd_calib:Loading flat frame: ./images/calibrations/2024-05-03T17-56-00/master_flat_r_read2_gain4x_1x1.fts\n",
      "INFO:pyscope.reduction.ccd_calib:Looping through images...\n",
      "INFO:pyscope.reduction.ccd_calib:Found 1 images\n",
      "INFO:pyscope.reduction.ccd_calib:Calibrating D:\\RLMT\\images\\mjc_mjcMay02_TIC 48217457_r_90s_2024-05-03T10-22-00_wcs.fts...\n",
      "WARNING:pyscope.reduction.ccd_calib:Image readout mode (1MHzHighSensitivity16-bit) does not match dark readout mode (1MHz High Sensitivity 16-bit)\n",
      "WARNING:pyscope.reduction.ccd_calib:Image readout mode (1MHzHighSensitivity16-bit) does not match flat readout mode (1MHz High Sensitivity 16-bit)\n",
      "INFO:pyscope.reduction.ccd_calib:Applying bias frame (CCD selected)...\n",
      "INFO:pyscope.reduction.ccd_calib:Applying the dark frame. CCD selected so a bias-subtracted\n",
      "                            dark frame is scaled by the ratio of the image exposure time over\n",
      "                            the dark exposure time then subtracted from the image.\n",
      "INFO:pyscope.reduction.ccd_calib:Checking if flat frame has a pedestal...\n"
     ]
    },
    {
     "name": "stdout",
     "output_type": "stream",
     "text": [
      "Calibrating D:\\RLMT\\images\\mjc_mjcMay02_TIC 48217457_r_90s_2024-05-03T10-22-00_wcs.fts\n"
     ]
    },
    {
     "name": "stderr",
     "output_type": "stream",
     "text": [
      "INFO:pyscope.reduction.ccd_calib:Normalizing the flat frame by the mean of the entire image.\n",
      "INFO:pyscope.reduction.ccd_calib:flat_mean: 0.9999478043049569\n",
      "INFO:pyscope.reduction.ccd_calib:Applying the flat frame...\n",
      "INFO:pyscope.reduction.ccd_calib:Flooring the calibrated image...\n",
      "INFO:pyscope.reduction.ccd_calib:Adding pedestal of 1000\n",
      "INFO:pyscope.reduction.ccd_calib:Removing hot pixels...\n",
      "INFO:pyscope.reduction.ccd_calib:Clipping to uint16 range...\n",
      "INFO:pyscope.reduction.ccd_calib:Writing calibrated status to header...\n",
      "INFO:pyscope.reduction.ccd_calib:Writing calibrated image to D:\\RLMT\\images\\mjc_mjcMay02_TIC 48217457_r_90s_2024-05-03T10-22-00_wcs.fts\n",
      "INFO:pyscope.reduction.ccd_calib:Done!\n",
      "INFO:pyscope.reduction.ccd_calib:Loading calibration frames...\n",
      "INFO:pyscope.reduction.ccd_calib:Loading bias frame: ./images/calibrations/2024-05-03T17-56-00/master_bias_read2_gain4x_1x1.fts\n",
      "INFO:pyscope.reduction.ccd_calib:Loading dark frame: ./images/calibrations/2024-05-03T17-56-00/master_dark_read2_gain4x_1x1.fts\n",
      "INFO:pyscope.reduction.ccd_calib:Loading flat frame: ./images/calibrations/2024-05-03T17-56-00/master_flat_r_read2_gain4x_1x1.fts\n",
      "INFO:pyscope.reduction.ccd_calib:Looping through images...\n",
      "INFO:pyscope.reduction.ccd_calib:Found 1 images\n",
      "INFO:pyscope.reduction.ccd_calib:Calibrating D:\\RLMT\\images\\mjc_mjcMay02_TIC 48217457_r_90s_2024-05-03T10-23-30_wcs.fts...\n"
     ]
    },
    {
     "name": "stdout",
     "output_type": "stream",
     "text": [
      "Calibrating D:\\RLMT\\images\\mjc_mjcMay02_TIC 48217457_r_90s_2024-05-03T10-23-30_wcs.fts\n"
     ]
    },
    {
     "name": "stderr",
     "output_type": "stream",
     "text": [
      "WARNING:pyscope.reduction.ccd_calib:Image readout mode (1MHzHighSensitivity16-bit) does not match dark readout mode (1MHz High Sensitivity 16-bit)\n",
      "WARNING:pyscope.reduction.ccd_calib:Image readout mode (1MHzHighSensitivity16-bit) does not match flat readout mode (1MHz High Sensitivity 16-bit)\n",
      "INFO:pyscope.reduction.ccd_calib:Applying bias frame (CCD selected)...\n",
      "INFO:pyscope.reduction.ccd_calib:Applying the dark frame. CCD selected so a bias-subtracted\n",
      "                            dark frame is scaled by the ratio of the image exposure time over\n",
      "                            the dark exposure time then subtracted from the image.\n",
      "INFO:pyscope.reduction.ccd_calib:Checking if flat frame has a pedestal...\n",
      "INFO:pyscope.reduction.ccd_calib:Normalizing the flat frame by the mean of the entire image.\n",
      "INFO:pyscope.reduction.ccd_calib:flat_mean: 0.9999478043049569\n",
      "INFO:pyscope.reduction.ccd_calib:Applying the flat frame...\n",
      "INFO:pyscope.reduction.ccd_calib:Flooring the calibrated image...\n",
      "INFO:pyscope.reduction.ccd_calib:Adding pedestal of 1000\n",
      "INFO:pyscope.reduction.ccd_calib:Removing hot pixels...\n",
      "INFO:pyscope.reduction.ccd_calib:Clipping to uint16 range...\n",
      "INFO:pyscope.reduction.ccd_calib:Writing calibrated status to header...\n",
      "INFO:pyscope.reduction.ccd_calib:Writing calibrated image to D:\\RLMT\\images\\mjc_mjcMay02_TIC 48217457_r_90s_2024-05-03T10-23-30_wcs.fts\n",
      "INFO:pyscope.reduction.ccd_calib:Done!\n",
      "INFO:pyscope.reduction.ccd_calib:Loading calibration frames...\n",
      "INFO:pyscope.reduction.ccd_calib:Loading bias frame: ./images/calibrations/2024-05-03T17-56-00/master_bias_read2_gain4x_1x1.fts\n",
      "INFO:pyscope.reduction.ccd_calib:Loading dark frame: ./images/calibrations/2024-05-03T17-56-00/master_dark_read2_gain4x_1x1.fts\n",
      "INFO:pyscope.reduction.ccd_calib:Loading flat frame: ./images/calibrations/2024-05-03T17-56-00/master_flat_r_read2_gain4x_1x1.fts\n",
      "INFO:pyscope.reduction.ccd_calib:Looping through images...\n",
      "INFO:pyscope.reduction.ccd_calib:Found 1 images\n",
      "INFO:pyscope.reduction.ccd_calib:Calibrating D:\\RLMT\\images\\mjc_mjcMay02_TIC 48217457_r_90s_2024-05-03T10-25-00_wcs.fts...\n",
      "WARNING:pyscope.reduction.ccd_calib:Image readout mode (1MHzHighSensitivity16-bit) does not match dark readout mode (1MHz High Sensitivity 16-bit)\n",
      "WARNING:pyscope.reduction.ccd_calib:Image readout mode (1MHzHighSensitivity16-bit) does not match flat readout mode (1MHz High Sensitivity 16-bit)\n",
      "INFO:pyscope.reduction.ccd_calib:Applying bias frame (CCD selected)...\n",
      "INFO:pyscope.reduction.ccd_calib:Applying the dark frame. CCD selected so a bias-subtracted\n",
      "                            dark frame is scaled by the ratio of the image exposure time over\n",
      "                            the dark exposure time then subtracted from the image.\n",
      "INFO:pyscope.reduction.ccd_calib:Checking if flat frame has a pedestal...\n"
     ]
    },
    {
     "name": "stdout",
     "output_type": "stream",
     "text": [
      "Calibrating D:\\RLMT\\images\\mjc_mjcMay02_TIC 48217457_r_90s_2024-05-03T10-25-00_wcs.fts\n"
     ]
    },
    {
     "name": "stderr",
     "output_type": "stream",
     "text": [
      "INFO:pyscope.reduction.ccd_calib:Normalizing the flat frame by the mean of the entire image.\n",
      "INFO:pyscope.reduction.ccd_calib:flat_mean: 0.9999478043049569\n",
      "INFO:pyscope.reduction.ccd_calib:Applying the flat frame...\n",
      "INFO:pyscope.reduction.ccd_calib:Flooring the calibrated image...\n",
      "INFO:pyscope.reduction.ccd_calib:Adding pedestal of 1000\n",
      "INFO:pyscope.reduction.ccd_calib:Removing hot pixels...\n",
      "INFO:pyscope.reduction.ccd_calib:Clipping to uint16 range...\n",
      "INFO:pyscope.reduction.ccd_calib:Writing calibrated status to header...\n",
      "INFO:pyscope.reduction.ccd_calib:Writing calibrated image to D:\\RLMT\\images\\mjc_mjcMay02_TIC 48217457_r_90s_2024-05-03T10-25-00_wcs.fts\n",
      "INFO:pyscope.reduction.ccd_calib:Done!\n",
      "INFO:pyscope.reduction.ccd_calib:Loading calibration frames...\n",
      "INFO:pyscope.reduction.ccd_calib:Loading bias frame: ./images/calibrations/2024-05-03T17-56-00/master_bias_read2_gain4x_1x1.fts\n",
      "INFO:pyscope.reduction.ccd_calib:Loading dark frame: ./images/calibrations/2024-05-03T17-56-00/master_dark_read2_gain4x_1x1.fts\n",
      "INFO:pyscope.reduction.ccd_calib:Loading flat frame: ./images/calibrations/2024-05-03T17-56-00/master_flat_r_read2_gain4x_1x1.fts\n",
      "INFO:pyscope.reduction.ccd_calib:Looping through images...\n",
      "INFO:pyscope.reduction.ccd_calib:Found 1 images\n",
      "INFO:pyscope.reduction.ccd_calib:Calibrating D:\\RLMT\\images\\mjc_mjcMay02_TIC 48217457_r_90s_2024-05-03T10-26-30_wcs.fts...\n",
      "WARNING:pyscope.reduction.ccd_calib:Image readout mode (1MHzHighSensitivity16-bit) does not match dark readout mode (1MHz High Sensitivity 16-bit)\n",
      "WARNING:pyscope.reduction.ccd_calib:Image readout mode (1MHzHighSensitivity16-bit) does not match flat readout mode (1MHz High Sensitivity 16-bit)\n",
      "INFO:pyscope.reduction.ccd_calib:Applying bias frame (CCD selected)...\n",
      "INFO:pyscope.reduction.ccd_calib:Applying the dark frame. CCD selected so a bias-subtracted\n",
      "                            dark frame is scaled by the ratio of the image exposure time over\n",
      "                            the dark exposure time then subtracted from the image.\n",
      "INFO:pyscope.reduction.ccd_calib:Checking if flat frame has a pedestal...\n",
      "INFO:pyscope.reduction.ccd_calib:Normalizing the flat frame by the mean of the entire image.\n",
      "INFO:pyscope.reduction.ccd_calib:flat_mean: 0.9999478043049569\n",
      "INFO:pyscope.reduction.ccd_calib:Applying the flat frame...\n"
     ]
    },
    {
     "name": "stdout",
     "output_type": "stream",
     "text": [
      "Calibrating D:\\RLMT\\images\\mjc_mjcMay02_TIC 48217457_r_90s_2024-05-03T10-26-30_wcs.fts\n"
     ]
    },
    {
     "name": "stderr",
     "output_type": "stream",
     "text": [
      "INFO:pyscope.reduction.ccd_calib:Flooring the calibrated image...\n",
      "INFO:pyscope.reduction.ccd_calib:Adding pedestal of 1000\n",
      "INFO:pyscope.reduction.ccd_calib:Removing hot pixels...\n",
      "INFO:pyscope.reduction.ccd_calib:Clipping to uint16 range...\n",
      "INFO:pyscope.reduction.ccd_calib:Writing calibrated status to header...\n",
      "INFO:pyscope.reduction.ccd_calib:Writing calibrated image to D:\\RLMT\\images\\mjc_mjcMay02_TIC 48217457_r_90s_2024-05-03T10-26-30_wcs.fts\n",
      "INFO:pyscope.reduction.ccd_calib:Done!\n",
      "INFO:pyscope.reduction.ccd_calib:Loading calibration frames...\n",
      "INFO:pyscope.reduction.ccd_calib:Loading bias frame: ./images/calibrations/2024-05-03T17-56-00/master_bias_read2_gain4x_1x1.fts\n",
      "INFO:pyscope.reduction.ccd_calib:Loading dark frame: ./images/calibrations/2024-05-03T17-56-00/master_dark_read2_gain4x_1x1.fts\n",
      "INFO:pyscope.reduction.ccd_calib:Loading flat frame: ./images/calibrations/2024-05-03T17-56-00/master_flat_r_read2_gain4x_1x1.fts\n",
      "INFO:pyscope.reduction.ccd_calib:Looping through images...\n",
      "INFO:pyscope.reduction.ccd_calib:Found 1 images\n",
      "INFO:pyscope.reduction.ccd_calib:Calibrating D:\\RLMT\\images\\mjc_mjcMay02_TIC 48217457_r_90s_2024-05-03T10-28-00_wcs.fts...\n",
      "WARNING:pyscope.reduction.ccd_calib:Image readout mode (1MHzHighSensitivity16-bit) does not match dark readout mode (1MHz High Sensitivity 16-bit)\n",
      "WARNING:pyscope.reduction.ccd_calib:Image readout mode (1MHzHighSensitivity16-bit) does not match flat readout mode (1MHz High Sensitivity 16-bit)\n",
      "INFO:pyscope.reduction.ccd_calib:Applying bias frame (CCD selected)...\n",
      "INFO:pyscope.reduction.ccd_calib:Applying the dark frame. CCD selected so a bias-subtracted\n",
      "                            dark frame is scaled by the ratio of the image exposure time over\n",
      "                            the dark exposure time then subtracted from the image.\n",
      "INFO:pyscope.reduction.ccd_calib:Checking if flat frame has a pedestal...\n",
      "INFO:pyscope.reduction.ccd_calib:Normalizing the flat frame by the mean of the entire image.\n",
      "INFO:pyscope.reduction.ccd_calib:flat_mean: 0.9999478043049569\n",
      "INFO:pyscope.reduction.ccd_calib:Applying the flat frame...\n",
      "INFO:pyscope.reduction.ccd_calib:Flooring the calibrated image...\n",
      "INFO:pyscope.reduction.ccd_calib:Adding pedestal of 1000\n"
     ]
    },
    {
     "name": "stdout",
     "output_type": "stream",
     "text": [
      "Calibrating D:\\RLMT\\images\\mjc_mjcMay02_TIC 48217457_r_90s_2024-05-03T10-28-00_wcs.fts\n"
     ]
    },
    {
     "name": "stderr",
     "output_type": "stream",
     "text": [
      "INFO:pyscope.reduction.ccd_calib:Removing hot pixels...\n",
      "INFO:pyscope.reduction.ccd_calib:Clipping to uint16 range...\n",
      "INFO:pyscope.reduction.ccd_calib:Writing calibrated status to header...\n",
      "INFO:pyscope.reduction.ccd_calib:Writing calibrated image to D:\\RLMT\\images\\mjc_mjcMay02_TIC 48217457_r_90s_2024-05-03T10-28-00_wcs.fts\n",
      "INFO:pyscope.reduction.ccd_calib:Done!\n",
      "INFO:pyscope.reduction.ccd_calib:Loading calibration frames...\n",
      "INFO:pyscope.reduction.ccd_calib:Loading bias frame: ./images/calibrations/2024-05-03T17-56-00/master_bias_read2_gain4x_1x1.fts\n",
      "INFO:pyscope.reduction.ccd_calib:Loading dark frame: ./images/calibrations/2024-05-03T17-56-00/master_dark_read2_gain4x_1x1.fts\n",
      "INFO:pyscope.reduction.ccd_calib:Loading flat frame: ./images/calibrations/2024-05-03T17-56-00/master_flat_r_read2_gain4x_1x1.fts\n",
      "INFO:pyscope.reduction.ccd_calib:Looping through images...\n",
      "INFO:pyscope.reduction.ccd_calib:Found 1 images\n",
      "INFO:pyscope.reduction.ccd_calib:Calibrating D:\\RLMT\\images\\mjc_mjcMay02_TIC 48217457_r_90s_2024-05-03T10-29-30_wcs.fts...\n",
      "WARNING:pyscope.reduction.ccd_calib:Image readout mode (1MHzHighSensitivity16-bit) does not match dark readout mode (1MHz High Sensitivity 16-bit)\n",
      "WARNING:pyscope.reduction.ccd_calib:Image readout mode (1MHzHighSensitivity16-bit) does not match flat readout mode (1MHz High Sensitivity 16-bit)\n",
      "INFO:pyscope.reduction.ccd_calib:Applying bias frame (CCD selected)...\n",
      "INFO:pyscope.reduction.ccd_calib:Applying the dark frame. CCD selected so a bias-subtracted\n",
      "                            dark frame is scaled by the ratio of the image exposure time over\n",
      "                            the dark exposure time then subtracted from the image.\n",
      "INFO:pyscope.reduction.ccd_calib:Checking if flat frame has a pedestal...\n"
     ]
    },
    {
     "name": "stdout",
     "output_type": "stream",
     "text": [
      "Calibrating D:\\RLMT\\images\\mjc_mjcMay02_TIC 48217457_r_90s_2024-05-03T10-29-30_wcs.fts\n"
     ]
    },
    {
     "name": "stderr",
     "output_type": "stream",
     "text": [
      "INFO:pyscope.reduction.ccd_calib:Normalizing the flat frame by the mean of the entire image.\n",
      "INFO:pyscope.reduction.ccd_calib:flat_mean: 0.9999478043049569\n",
      "INFO:pyscope.reduction.ccd_calib:Applying the flat frame...\n",
      "INFO:pyscope.reduction.ccd_calib:Flooring the calibrated image...\n",
      "INFO:pyscope.reduction.ccd_calib:Adding pedestal of 1000\n",
      "INFO:pyscope.reduction.ccd_calib:Removing hot pixels...\n",
      "INFO:pyscope.reduction.ccd_calib:Clipping to uint16 range...\n",
      "INFO:pyscope.reduction.ccd_calib:Writing calibrated status to header...\n",
      "INFO:pyscope.reduction.ccd_calib:Writing calibrated image to D:\\RLMT\\images\\mjc_mjcMay02_TIC 48217457_r_90s_2024-05-03T10-29-30_wcs.fts\n",
      "INFO:pyscope.reduction.ccd_calib:Done!\n",
      "INFO:pyscope.reduction.ccd_calib:Loading calibration frames...\n",
      "INFO:pyscope.reduction.ccd_calib:Loading bias frame: ./images/calibrations/2024-05-03T17-56-00/master_bias_read2_gain4x_1x1.fts\n",
      "INFO:pyscope.reduction.ccd_calib:Loading dark frame: ./images/calibrations/2024-05-03T17-56-00/master_dark_read2_gain4x_1x1.fts\n",
      "INFO:pyscope.reduction.ccd_calib:Loading flat frame: ./images/calibrations/2024-05-03T17-56-00/master_flat_r_read2_gain4x_1x1.fts\n",
      "INFO:pyscope.reduction.ccd_calib:Looping through images...\n",
      "INFO:pyscope.reduction.ccd_calib:Found 1 images\n",
      "INFO:pyscope.reduction.ccd_calib:Calibrating D:\\RLMT\\images\\mjc_mjcMay02_TIC 48217457_r_90s_2024-05-03T10-31-00_wcs.fts...\n",
      "WARNING:pyscope.reduction.ccd_calib:Image readout mode (1MHzHighSensitivity16-bit) does not match dark readout mode (1MHz High Sensitivity 16-bit)\n",
      "WARNING:pyscope.reduction.ccd_calib:Image readout mode (1MHzHighSensitivity16-bit) does not match flat readout mode (1MHz High Sensitivity 16-bit)\n",
      "INFO:pyscope.reduction.ccd_calib:Applying bias frame (CCD selected)...\n",
      "INFO:pyscope.reduction.ccd_calib:Applying the dark frame. CCD selected so a bias-subtracted\n",
      "                            dark frame is scaled by the ratio of the image exposure time over\n",
      "                            the dark exposure time then subtracted from the image.\n",
      "INFO:pyscope.reduction.ccd_calib:Checking if flat frame has a pedestal...\n"
     ]
    },
    {
     "name": "stdout",
     "output_type": "stream",
     "text": [
      "Calibrating D:\\RLMT\\images\\mjc_mjcMay02_TIC 48217457_r_90s_2024-05-03T10-31-00_wcs.fts\n"
     ]
    },
    {
     "name": "stderr",
     "output_type": "stream",
     "text": [
      "INFO:pyscope.reduction.ccd_calib:Normalizing the flat frame by the mean of the entire image.\n",
      "INFO:pyscope.reduction.ccd_calib:flat_mean: 0.9999478043049569\n",
      "INFO:pyscope.reduction.ccd_calib:Applying the flat frame...\n",
      "INFO:pyscope.reduction.ccd_calib:Flooring the calibrated image...\n",
      "INFO:pyscope.reduction.ccd_calib:Adding pedestal of 1000\n",
      "INFO:pyscope.reduction.ccd_calib:Removing hot pixels...\n",
      "INFO:pyscope.reduction.ccd_calib:Clipping to uint16 range...\n",
      "INFO:pyscope.reduction.ccd_calib:Writing calibrated status to header...\n",
      "INFO:pyscope.reduction.ccd_calib:Writing calibrated image to D:\\RLMT\\images\\mjc_mjcMay02_TIC 48217457_r_90s_2024-05-03T10-31-00_wcs.fts\n",
      "INFO:pyscope.reduction.ccd_calib:Done!\n",
      "INFO:pyscope.reduction.ccd_calib:Loading calibration frames...\n",
      "INFO:pyscope.reduction.ccd_calib:Loading bias frame: ./images/calibrations/2024-05-03T17-56-00/master_bias_read2_gain4x_1x1.fts\n",
      "INFO:pyscope.reduction.ccd_calib:Loading dark frame: ./images/calibrations/2024-05-03T17-56-00/master_dark_read2_gain4x_1x1.fts\n",
      "INFO:pyscope.reduction.ccd_calib:Loading flat frame: ./images/calibrations/2024-05-03T17-56-00/master_flat_r_read2_gain4x_1x1.fts\n",
      "INFO:pyscope.reduction.ccd_calib:Looping through images...\n",
      "INFO:pyscope.reduction.ccd_calib:Found 1 images\n",
      "INFO:pyscope.reduction.ccd_calib:Calibrating D:\\RLMT\\images\\mjc_mjcMay02_TIC 48217457_r_90s_2024-05-03T10-32-30_wcs.fts...\n",
      "WARNING:pyscope.reduction.ccd_calib:Image readout mode (1MHzHighSensitivity16-bit) does not match dark readout mode (1MHz High Sensitivity 16-bit)\n",
      "WARNING:pyscope.reduction.ccd_calib:Image readout mode (1MHzHighSensitivity16-bit) does not match flat readout mode (1MHz High Sensitivity 16-bit)\n",
      "INFO:pyscope.reduction.ccd_calib:Applying bias frame (CCD selected)...\n",
      "INFO:pyscope.reduction.ccd_calib:Applying the dark frame. CCD selected so a bias-subtracted\n",
      "                            dark frame is scaled by the ratio of the image exposure time over\n",
      "                            the dark exposure time then subtracted from the image.\n",
      "INFO:pyscope.reduction.ccd_calib:Checking if flat frame has a pedestal...\n",
      "INFO:pyscope.reduction.ccd_calib:Normalizing the flat frame by the mean of the entire image.\n",
      "INFO:pyscope.reduction.ccd_calib:flat_mean: 0.9999478043049569\n",
      "INFO:pyscope.reduction.ccd_calib:Applying the flat frame...\n"
     ]
    },
    {
     "name": "stdout",
     "output_type": "stream",
     "text": [
      "Calibrating D:\\RLMT\\images\\mjc_mjcMay02_TIC 48217457_r_90s_2024-05-03T10-32-30_wcs.fts\n"
     ]
    },
    {
     "name": "stderr",
     "output_type": "stream",
     "text": [
      "INFO:pyscope.reduction.ccd_calib:Flooring the calibrated image...\n",
      "INFO:pyscope.reduction.ccd_calib:Adding pedestal of 1000\n",
      "INFO:pyscope.reduction.ccd_calib:Removing hot pixels...\n",
      "INFO:pyscope.reduction.ccd_calib:Clipping to uint16 range...\n",
      "INFO:pyscope.reduction.ccd_calib:Writing calibrated status to header...\n",
      "INFO:pyscope.reduction.ccd_calib:Writing calibrated image to D:\\RLMT\\images\\mjc_mjcMay02_TIC 48217457_r_90s_2024-05-03T10-32-30_wcs.fts\n",
      "INFO:pyscope.reduction.ccd_calib:Done!\n",
      "INFO:pyscope.reduction.ccd_calib:Loading calibration frames...\n",
      "INFO:pyscope.reduction.ccd_calib:Loading bias frame: ./images/calibrations/2024-05-03T17-56-00/master_bias_read2_gain4x_1x1.fts\n",
      "INFO:pyscope.reduction.ccd_calib:Loading dark frame: ./images/calibrations/2024-05-03T17-56-00/master_dark_read2_gain4x_1x1.fts\n",
      "INFO:pyscope.reduction.ccd_calib:Loading flat frame: ./images/calibrations/2024-05-03T17-56-00/master_flat_r_read2_gain4x_1x1.fts\n",
      "INFO:pyscope.reduction.ccd_calib:Looping through images...\n",
      "INFO:pyscope.reduction.ccd_calib:Found 1 images\n",
      "INFO:pyscope.reduction.ccd_calib:Calibrating D:\\RLMT\\images\\mjc_mjcMay02_TIC 48217457_r_90s_2024-05-03T10-34-00_wcs.fts...\n",
      "WARNING:pyscope.reduction.ccd_calib:Image readout mode (1MHzHighSensitivity16-bit) does not match dark readout mode (1MHz High Sensitivity 16-bit)\n",
      "WARNING:pyscope.reduction.ccd_calib:Image readout mode (1MHzHighSensitivity16-bit) does not match flat readout mode (1MHz High Sensitivity 16-bit)\n",
      "INFO:pyscope.reduction.ccd_calib:Applying bias frame (CCD selected)...\n",
      "INFO:pyscope.reduction.ccd_calib:Applying the dark frame. CCD selected so a bias-subtracted\n",
      "                            dark frame is scaled by the ratio of the image exposure time over\n",
      "                            the dark exposure time then subtracted from the image.\n",
      "INFO:pyscope.reduction.ccd_calib:Checking if flat frame has a pedestal...\n"
     ]
    },
    {
     "name": "stdout",
     "output_type": "stream",
     "text": [
      "Calibrating D:\\RLMT\\images\\mjc_mjcMay02_TIC 48217457_r_90s_2024-05-03T10-34-00_wcs.fts\n"
     ]
    },
    {
     "name": "stderr",
     "output_type": "stream",
     "text": [
      "INFO:pyscope.reduction.ccd_calib:Normalizing the flat frame by the mean of the entire image.\n",
      "INFO:pyscope.reduction.ccd_calib:flat_mean: 0.9999478043049569\n",
      "INFO:pyscope.reduction.ccd_calib:Applying the flat frame...\n",
      "INFO:pyscope.reduction.ccd_calib:Flooring the calibrated image...\n",
      "INFO:pyscope.reduction.ccd_calib:Adding pedestal of 1000\n",
      "INFO:pyscope.reduction.ccd_calib:Removing hot pixels...\n",
      "INFO:pyscope.reduction.ccd_calib:Clipping to uint16 range...\n",
      "INFO:pyscope.reduction.ccd_calib:Writing calibrated status to header...\n",
      "INFO:pyscope.reduction.ccd_calib:Writing calibrated image to D:\\RLMT\\images\\mjc_mjcMay02_TIC 48217457_r_90s_2024-05-03T10-34-00_wcs.fts\n",
      "INFO:pyscope.reduction.ccd_calib:Done!\n",
      "INFO:pyscope.reduction.ccd_calib:Loading calibration frames...\n",
      "INFO:pyscope.reduction.ccd_calib:Loading bias frame: ./images/calibrations/2024-05-03T17-56-00/master_bias_read2_gain4x_1x1.fts\n",
      "INFO:pyscope.reduction.ccd_calib:Loading dark frame: ./images/calibrations/2024-05-03T17-56-00/master_dark_read2_gain4x_1x1.fts\n",
      "INFO:pyscope.reduction.ccd_calib:Loading flat frame: ./images/calibrations/2024-05-03T17-56-00/master_flat_r_read2_gain4x_1x1.fts\n",
      "INFO:pyscope.reduction.ccd_calib:Looping through images...\n",
      "INFO:pyscope.reduction.ccd_calib:Found 1 images\n",
      "INFO:pyscope.reduction.ccd_calib:Calibrating D:\\RLMT\\images\\mjc_mjcMay02_TIC 48217457_r_90s_2024-05-03T10-35-30_wcs.fts...\n",
      "WARNING:pyscope.reduction.ccd_calib:Image readout mode (1MHzHighSensitivity16-bit) does not match dark readout mode (1MHz High Sensitivity 16-bit)\n",
      "WARNING:pyscope.reduction.ccd_calib:Image readout mode (1MHzHighSensitivity16-bit) does not match flat readout mode (1MHz High Sensitivity 16-bit)\n",
      "INFO:pyscope.reduction.ccd_calib:Applying bias frame (CCD selected)...\n",
      "INFO:pyscope.reduction.ccd_calib:Applying the dark frame. CCD selected so a bias-subtracted\n",
      "                            dark frame is scaled by the ratio of the image exposure time over\n",
      "                            the dark exposure time then subtracted from the image.\n",
      "INFO:pyscope.reduction.ccd_calib:Checking if flat frame has a pedestal...\n",
      "INFO:pyscope.reduction.ccd_calib:Normalizing the flat frame by the mean of the entire image.\n",
      "INFO:pyscope.reduction.ccd_calib:flat_mean: 0.9999478043049569\n",
      "INFO:pyscope.reduction.ccd_calib:Applying the flat frame...\n"
     ]
    },
    {
     "name": "stdout",
     "output_type": "stream",
     "text": [
      "Calibrating D:\\RLMT\\images\\mjc_mjcMay02_TIC 48217457_r_90s_2024-05-03T10-35-30_wcs.fts\n"
     ]
    },
    {
     "name": "stderr",
     "output_type": "stream",
     "text": [
      "INFO:pyscope.reduction.ccd_calib:Flooring the calibrated image...\n",
      "INFO:pyscope.reduction.ccd_calib:Adding pedestal of 1000\n",
      "INFO:pyscope.reduction.ccd_calib:Removing hot pixels...\n",
      "INFO:pyscope.reduction.ccd_calib:Clipping to uint16 range...\n",
      "INFO:pyscope.reduction.ccd_calib:Writing calibrated status to header...\n",
      "INFO:pyscope.reduction.ccd_calib:Writing calibrated image to D:\\RLMT\\images\\mjc_mjcMay02_TIC 48217457_r_90s_2024-05-03T10-35-30_wcs.fts\n",
      "INFO:pyscope.reduction.ccd_calib:Done!\n",
      "INFO:pyscope.reduction.ccd_calib:Loading calibration frames...\n",
      "INFO:pyscope.reduction.ccd_calib:Loading bias frame: ./images/calibrations/2024-05-03T17-56-00/master_bias_read2_gain4x_1x1.fts\n",
      "INFO:pyscope.reduction.ccd_calib:Loading dark frame: ./images/calibrations/2024-05-03T17-56-00/master_dark_read2_gain4x_1x1.fts\n",
      "INFO:pyscope.reduction.ccd_calib:Loading flat frame: ./images/calibrations/2024-05-03T17-56-00/master_flat_r_read2_gain4x_1x1.fts\n",
      "INFO:pyscope.reduction.ccd_calib:Looping through images...\n",
      "INFO:pyscope.reduction.ccd_calib:Found 1 images\n",
      "INFO:pyscope.reduction.ccd_calib:Calibrating D:\\RLMT\\images\\mjc_mjcMay02_TIC 48217457_r_90s_2024-05-03T10-37-00_wcs.fts...\n",
      "WARNING:pyscope.reduction.ccd_calib:Image readout mode (1MHzHighSensitivity16-bit) does not match dark readout mode (1MHz High Sensitivity 16-bit)\n",
      "WARNING:pyscope.reduction.ccd_calib:Image readout mode (1MHzHighSensitivity16-bit) does not match flat readout mode (1MHz High Sensitivity 16-bit)\n",
      "INFO:pyscope.reduction.ccd_calib:Applying bias frame (CCD selected)...\n",
      "INFO:pyscope.reduction.ccd_calib:Applying the dark frame. CCD selected so a bias-subtracted\n",
      "                            dark frame is scaled by the ratio of the image exposure time over\n",
      "                            the dark exposure time then subtracted from the image.\n",
      "INFO:pyscope.reduction.ccd_calib:Checking if flat frame has a pedestal...\n",
      "INFO:pyscope.reduction.ccd_calib:Normalizing the flat frame by the mean of the entire image.\n",
      "INFO:pyscope.reduction.ccd_calib:flat_mean: 0.9999478043049569\n"
     ]
    },
    {
     "name": "stdout",
     "output_type": "stream",
     "text": [
      "Calibrating D:\\RLMT\\images\\mjc_mjcMay02_TIC 48217457_r_90s_2024-05-03T10-37-00_wcs.fts\n"
     ]
    },
    {
     "name": "stderr",
     "output_type": "stream",
     "text": [
      "INFO:pyscope.reduction.ccd_calib:Applying the flat frame...\n",
      "INFO:pyscope.reduction.ccd_calib:Flooring the calibrated image...\n",
      "INFO:pyscope.reduction.ccd_calib:Adding pedestal of 1000\n",
      "INFO:pyscope.reduction.ccd_calib:Removing hot pixels...\n",
      "INFO:pyscope.reduction.ccd_calib:Clipping to uint16 range...\n",
      "INFO:pyscope.reduction.ccd_calib:Writing calibrated status to header...\n",
      "INFO:pyscope.reduction.ccd_calib:Writing calibrated image to D:\\RLMT\\images\\mjc_mjcMay02_TIC 48217457_r_90s_2024-05-03T10-37-00_wcs.fts\n",
      "INFO:pyscope.reduction.ccd_calib:Done!\n",
      "INFO:pyscope.reduction.ccd_calib:Loading calibration frames...\n",
      "INFO:pyscope.reduction.ccd_calib:Loading bias frame: ./images/calibrations/2024-05-03T17-56-00/master_bias_read2_gain4x_1x1.fts\n",
      "INFO:pyscope.reduction.ccd_calib:Loading dark frame: ./images/calibrations/2024-05-03T17-56-00/master_dark_read2_gain4x_1x1.fts\n",
      "INFO:pyscope.reduction.ccd_calib:Loading flat frame: ./images/calibrations/2024-05-03T17-56-00/master_flat_r_read2_gain4x_1x1.fts\n",
      "INFO:pyscope.reduction.ccd_calib:Looping through images...\n",
      "INFO:pyscope.reduction.ccd_calib:Found 1 images\n",
      "INFO:pyscope.reduction.ccd_calib:Calibrating D:\\RLMT\\images\\mjc_mjcMay02_TIC 48217457_r_90s_2024-05-03T10-38-30_wcs.fts...\n",
      "WARNING:pyscope.reduction.ccd_calib:Image readout mode (1MHzHighSensitivity16-bit) does not match dark readout mode (1MHz High Sensitivity 16-bit)\n",
      "WARNING:pyscope.reduction.ccd_calib:Image readout mode (1MHzHighSensitivity16-bit) does not match flat readout mode (1MHz High Sensitivity 16-bit)\n",
      "INFO:pyscope.reduction.ccd_calib:Applying bias frame (CCD selected)...\n",
      "INFO:pyscope.reduction.ccd_calib:Applying the dark frame. CCD selected so a bias-subtracted\n",
      "                            dark frame is scaled by the ratio of the image exposure time over\n",
      "                            the dark exposure time then subtracted from the image.\n",
      "INFO:pyscope.reduction.ccd_calib:Checking if flat frame has a pedestal...\n",
      "INFO:pyscope.reduction.ccd_calib:Normalizing the flat frame by the mean of the entire image.\n",
      "INFO:pyscope.reduction.ccd_calib:flat_mean: 0.9999478043049569\n"
     ]
    },
    {
     "name": "stdout",
     "output_type": "stream",
     "text": [
      "Calibrating D:\\RLMT\\images\\mjc_mjcMay02_TIC 48217457_r_90s_2024-05-03T10-38-30_wcs.fts\n"
     ]
    },
    {
     "name": "stderr",
     "output_type": "stream",
     "text": [
      "INFO:pyscope.reduction.ccd_calib:Applying the flat frame...\n",
      "INFO:pyscope.reduction.ccd_calib:Flooring the calibrated image...\n",
      "INFO:pyscope.reduction.ccd_calib:Adding pedestal of 1000\n",
      "INFO:pyscope.reduction.ccd_calib:Removing hot pixels...\n",
      "INFO:pyscope.reduction.ccd_calib:Clipping to uint16 range...\n",
      "INFO:pyscope.reduction.ccd_calib:Writing calibrated status to header...\n",
      "INFO:pyscope.reduction.ccd_calib:Writing calibrated image to D:\\RLMT\\images\\mjc_mjcMay02_TIC 48217457_r_90s_2024-05-03T10-38-30_wcs.fts\n",
      "INFO:pyscope.reduction.ccd_calib:Done!\n",
      "INFO:pyscope.reduction.ccd_calib:Loading calibration frames...\n",
      "INFO:pyscope.reduction.ccd_calib:Loading bias frame: ./images/calibrations/2024-05-03T17-56-00/master_bias_read2_gain4x_1x1.fts\n",
      "INFO:pyscope.reduction.ccd_calib:Loading dark frame: ./images/calibrations/2024-05-03T17-56-00/master_dark_read2_gain4x_1x1.fts\n",
      "INFO:pyscope.reduction.ccd_calib:Loading flat frame: ./images/calibrations/2024-05-03T17-56-00/master_flat_r_read2_gain4x_1x1.fts\n",
      "INFO:pyscope.reduction.ccd_calib:Looping through images...\n",
      "INFO:pyscope.reduction.ccd_calib:Found 1 images\n",
      "INFO:pyscope.reduction.ccd_calib:Calibrating D:\\RLMT\\images\\mjc_mjcMay02_TIC 48217457_r_90s_2024-05-03T10-40-00_wcs.fts...\n",
      "WARNING:pyscope.reduction.ccd_calib:Image readout mode (1MHzHighSensitivity16-bit) does not match dark readout mode (1MHz High Sensitivity 16-bit)\n",
      "WARNING:pyscope.reduction.ccd_calib:Image readout mode (1MHzHighSensitivity16-bit) does not match flat readout mode (1MHz High Sensitivity 16-bit)\n",
      "INFO:pyscope.reduction.ccd_calib:Applying bias frame (CCD selected)...\n",
      "INFO:pyscope.reduction.ccd_calib:Applying the dark frame. CCD selected so a bias-subtracted\n",
      "                            dark frame is scaled by the ratio of the image exposure time over\n",
      "                            the dark exposure time then subtracted from the image.\n",
      "INFO:pyscope.reduction.ccd_calib:Checking if flat frame has a pedestal...\n"
     ]
    },
    {
     "name": "stdout",
     "output_type": "stream",
     "text": [
      "Calibrating D:\\RLMT\\images\\mjc_mjcMay02_TIC 48217457_r_90s_2024-05-03T10-40-00_wcs.fts\n"
     ]
    },
    {
     "name": "stderr",
     "output_type": "stream",
     "text": [
      "INFO:pyscope.reduction.ccd_calib:Normalizing the flat frame by the mean of the entire image.\n",
      "INFO:pyscope.reduction.ccd_calib:flat_mean: 0.9999478043049569\n",
      "INFO:pyscope.reduction.ccd_calib:Applying the flat frame...\n",
      "INFO:pyscope.reduction.ccd_calib:Flooring the calibrated image...\n",
      "INFO:pyscope.reduction.ccd_calib:Adding pedestal of 1000\n",
      "INFO:pyscope.reduction.ccd_calib:Removing hot pixels...\n",
      "INFO:pyscope.reduction.ccd_calib:Clipping to uint16 range...\n",
      "INFO:pyscope.reduction.ccd_calib:Writing calibrated status to header...\n",
      "INFO:pyscope.reduction.ccd_calib:Writing calibrated image to D:\\RLMT\\images\\mjc_mjcMay02_TIC 48217457_r_90s_2024-05-03T10-40-00_wcs.fts\n",
      "INFO:pyscope.reduction.ccd_calib:Done!\n",
      "INFO:pyscope.reduction.ccd_calib:Loading calibration frames...\n",
      "INFO:pyscope.reduction.ccd_calib:Loading bias frame: ./images/calibrations/2024-05-03T17-56-00/master_bias_read2_gain4x_1x1.fts\n",
      "INFO:pyscope.reduction.ccd_calib:Loading dark frame: ./images/calibrations/2024-05-03T17-56-00/master_dark_read2_gain4x_1x1.fts\n",
      "INFO:pyscope.reduction.ccd_calib:Loading flat frame: ./images/calibrations/2024-05-03T17-56-00/master_flat_r_read2_gain4x_1x1.fts\n",
      "INFO:pyscope.reduction.ccd_calib:Looping through images...\n",
      "INFO:pyscope.reduction.ccd_calib:Found 1 images\n",
      "INFO:pyscope.reduction.ccd_calib:Calibrating D:\\RLMT\\images\\mjc_mjcMay02_TIC 48217457_r_90s_2024-05-03T10-41-30_wcs.fts...\n",
      "WARNING:pyscope.reduction.ccd_calib:Image readout mode (1MHzHighSensitivity16-bit) does not match dark readout mode (1MHz High Sensitivity 16-bit)\n",
      "WARNING:pyscope.reduction.ccd_calib:Image readout mode (1MHzHighSensitivity16-bit) does not match flat readout mode (1MHz High Sensitivity 16-bit)\n",
      "INFO:pyscope.reduction.ccd_calib:Applying bias frame (CCD selected)...\n",
      "INFO:pyscope.reduction.ccd_calib:Applying the dark frame. CCD selected so a bias-subtracted\n",
      "                            dark frame is scaled by the ratio of the image exposure time over\n",
      "                            the dark exposure time then subtracted from the image.\n"
     ]
    },
    {
     "name": "stdout",
     "output_type": "stream",
     "text": [
      "Calibrating D:\\RLMT\\images\\mjc_mjcMay02_TIC 48217457_r_90s_2024-05-03T10-41-30_wcs.fts\n"
     ]
    },
    {
     "name": "stderr",
     "output_type": "stream",
     "text": [
      "INFO:pyscope.reduction.ccd_calib:Checking if flat frame has a pedestal...\n",
      "INFO:pyscope.reduction.ccd_calib:Normalizing the flat frame by the mean of the entire image.\n",
      "INFO:pyscope.reduction.ccd_calib:flat_mean: 0.9999478043049569\n",
      "INFO:pyscope.reduction.ccd_calib:Applying the flat frame...\n",
      "INFO:pyscope.reduction.ccd_calib:Flooring the calibrated image...\n",
      "INFO:pyscope.reduction.ccd_calib:Adding pedestal of 1000\n",
      "INFO:pyscope.reduction.ccd_calib:Removing hot pixels...\n",
      "INFO:pyscope.reduction.ccd_calib:Clipping to uint16 range...\n",
      "INFO:pyscope.reduction.ccd_calib:Writing calibrated status to header...\n",
      "INFO:pyscope.reduction.ccd_calib:Writing calibrated image to D:\\RLMT\\images\\mjc_mjcMay02_TIC 48217457_r_90s_2024-05-03T10-41-30_wcs.fts\n",
      "INFO:pyscope.reduction.ccd_calib:Done!\n",
      "INFO:pyscope.reduction.ccd_calib:Loading calibration frames...\n",
      "INFO:pyscope.reduction.ccd_calib:Loading bias frame: ./images/calibrations/2024-05-03T17-56-00/master_bias_read2_gain4x_1x1.fts\n",
      "INFO:pyscope.reduction.ccd_calib:Loading dark frame: ./images/calibrations/2024-05-03T17-56-00/master_dark_read2_gain4x_1x1.fts\n",
      "INFO:pyscope.reduction.ccd_calib:Loading flat frame: ./images/calibrations/2024-05-03T17-56-00/master_flat_r_read2_gain4x_1x1.fts\n",
      "INFO:pyscope.reduction.ccd_calib:Looping through images...\n",
      "INFO:pyscope.reduction.ccd_calib:Found 1 images\n",
      "INFO:pyscope.reduction.ccd_calib:Calibrating D:\\RLMT\\images\\mjc_mjcMay02_TIC 48217457_r_90s_2024-05-03T10-43-00_wcs.fts...\n",
      "WARNING:pyscope.reduction.ccd_calib:Image readout mode (1MHzHighSensitivity16-bit) does not match dark readout mode (1MHz High Sensitivity 16-bit)\n",
      "WARNING:pyscope.reduction.ccd_calib:Image readout mode (1MHzHighSensitivity16-bit) does not match flat readout mode (1MHz High Sensitivity 16-bit)\n",
      "INFO:pyscope.reduction.ccd_calib:Applying bias frame (CCD selected)...\n",
      "INFO:pyscope.reduction.ccd_calib:Applying the dark frame. CCD selected so a bias-subtracted\n",
      "                            dark frame is scaled by the ratio of the image exposure time over\n",
      "                            the dark exposure time then subtracted from the image.\n",
      "INFO:pyscope.reduction.ccd_calib:Checking if flat frame has a pedestal...\n",
      "INFO:pyscope.reduction.ccd_calib:Normalizing the flat frame by the mean of the entire image.\n",
      "INFO:pyscope.reduction.ccd_calib:flat_mean: 0.9999478043049569\n",
      "INFO:pyscope.reduction.ccd_calib:Applying the flat frame...\n"
     ]
    },
    {
     "name": "stdout",
     "output_type": "stream",
     "text": [
      "Calibrating D:\\RLMT\\images\\mjc_mjcMay02_TIC 48217457_r_90s_2024-05-03T10-43-00_wcs.fts\n"
     ]
    },
    {
     "name": "stderr",
     "output_type": "stream",
     "text": [
      "INFO:pyscope.reduction.ccd_calib:Flooring the calibrated image...\n",
      "INFO:pyscope.reduction.ccd_calib:Adding pedestal of 1000\n",
      "INFO:pyscope.reduction.ccd_calib:Removing hot pixels...\n",
      "INFO:pyscope.reduction.ccd_calib:Clipping to uint16 range...\n",
      "INFO:pyscope.reduction.ccd_calib:Writing calibrated status to header...\n",
      "INFO:pyscope.reduction.ccd_calib:Writing calibrated image to D:\\RLMT\\images\\mjc_mjcMay02_TIC 48217457_r_90s_2024-05-03T10-43-00_wcs.fts\n",
      "INFO:pyscope.reduction.ccd_calib:Done!\n",
      "INFO:pyscope.reduction.ccd_calib:Loading calibration frames...\n",
      "INFO:pyscope.reduction.ccd_calib:Loading bias frame: ./images/calibrations/2024-05-03T17-56-00/master_bias_read2_gain4x_1x1.fts\n",
      "INFO:pyscope.reduction.ccd_calib:Loading dark frame: ./images/calibrations/2024-05-03T17-56-00/master_dark_read2_gain4x_1x1.fts\n",
      "INFO:pyscope.reduction.ccd_calib:Loading flat frame: ./images/calibrations/2024-05-03T17-56-00/master_flat_r_read2_gain4x_1x1.fts\n",
      "INFO:pyscope.reduction.ccd_calib:Looping through images...\n",
      "INFO:pyscope.reduction.ccd_calib:Found 1 images\n",
      "INFO:pyscope.reduction.ccd_calib:Calibrating D:\\RLMT\\images\\mjc_mjcMay02_TIC 48217457_r_90s_2024-05-03T10-44-30_wcs.fts...\n",
      "WARNING:pyscope.reduction.ccd_calib:Image readout mode (1MHzHighSensitivity16-bit) does not match dark readout mode (1MHz High Sensitivity 16-bit)\n",
      "WARNING:pyscope.reduction.ccd_calib:Image readout mode (1MHzHighSensitivity16-bit) does not match flat readout mode (1MHz High Sensitivity 16-bit)\n",
      "INFO:pyscope.reduction.ccd_calib:Applying bias frame (CCD selected)...\n",
      "INFO:pyscope.reduction.ccd_calib:Applying the dark frame. CCD selected so a bias-subtracted\n",
      "                            dark frame is scaled by the ratio of the image exposure time over\n",
      "                            the dark exposure time then subtracted from the image.\n",
      "INFO:pyscope.reduction.ccd_calib:Checking if flat frame has a pedestal...\n",
      "INFO:pyscope.reduction.ccd_calib:Normalizing the flat frame by the mean of the entire image.\n",
      "INFO:pyscope.reduction.ccd_calib:flat_mean: 0.9999478043049569\n",
      "INFO:pyscope.reduction.ccd_calib:Applying the flat frame...\n"
     ]
    },
    {
     "name": "stdout",
     "output_type": "stream",
     "text": [
      "Calibrating D:\\RLMT\\images\\mjc_mjcMay02_TIC 48217457_r_90s_2024-05-03T10-44-30_wcs.fts\n"
     ]
    },
    {
     "name": "stderr",
     "output_type": "stream",
     "text": [
      "INFO:pyscope.reduction.ccd_calib:Flooring the calibrated image...\n",
      "INFO:pyscope.reduction.ccd_calib:Adding pedestal of 1000\n",
      "INFO:pyscope.reduction.ccd_calib:Removing hot pixels...\n",
      "INFO:pyscope.reduction.ccd_calib:Clipping to uint16 range...\n",
      "INFO:pyscope.reduction.ccd_calib:Writing calibrated status to header...\n",
      "INFO:pyscope.reduction.ccd_calib:Writing calibrated image to D:\\RLMT\\images\\mjc_mjcMay02_TIC 48217457_r_90s_2024-05-03T10-44-30_wcs.fts\n",
      "INFO:pyscope.reduction.ccd_calib:Done!\n",
      "INFO:pyscope.reduction.ccd_calib:Loading calibration frames...\n",
      "INFO:pyscope.reduction.ccd_calib:Loading bias frame: ./images/calibrations/2024-05-03T17-56-00/master_bias_read2_gain4x_1x1.fts\n",
      "INFO:pyscope.reduction.ccd_calib:Loading dark frame: ./images/calibrations/2024-05-03T17-56-00/master_dark_read2_gain4x_1x1.fts\n",
      "INFO:pyscope.reduction.ccd_calib:Loading flat frame: ./images/calibrations/2024-05-03T17-56-00/master_flat_r_read2_gain4x_1x1.fts\n",
      "INFO:pyscope.reduction.ccd_calib:Looping through images...\n",
      "INFO:pyscope.reduction.ccd_calib:Found 1 images\n",
      "INFO:pyscope.reduction.ccd_calib:Calibrating D:\\RLMT\\images\\mjc_mjcMay02_TIC 48217457_r_90s_2024-05-03T10-46-00_wcs.fts...\n",
      "WARNING:pyscope.reduction.ccd_calib:Image readout mode (1MHzHighSensitivity16-bit) does not match dark readout mode (1MHz High Sensitivity 16-bit)\n",
      "WARNING:pyscope.reduction.ccd_calib:Image readout mode (1MHzHighSensitivity16-bit) does not match flat readout mode (1MHz High Sensitivity 16-bit)\n",
      "INFO:pyscope.reduction.ccd_calib:Applying bias frame (CCD selected)...\n",
      "INFO:pyscope.reduction.ccd_calib:Applying the dark frame. CCD selected so a bias-subtracted\n",
      "                            dark frame is scaled by the ratio of the image exposure time over\n",
      "                            the dark exposure time then subtracted from the image.\n",
      "INFO:pyscope.reduction.ccd_calib:Checking if flat frame has a pedestal...\n",
      "INFO:pyscope.reduction.ccd_calib:Normalizing the flat frame by the mean of the entire image.\n",
      "INFO:pyscope.reduction.ccd_calib:flat_mean: 0.9999478043049569\n",
      "INFO:pyscope.reduction.ccd_calib:Applying the flat frame...\n"
     ]
    },
    {
     "name": "stdout",
     "output_type": "stream",
     "text": [
      "Calibrating D:\\RLMT\\images\\mjc_mjcMay02_TIC 48217457_r_90s_2024-05-03T10-46-00_wcs.fts\n"
     ]
    },
    {
     "name": "stderr",
     "output_type": "stream",
     "text": [
      "INFO:pyscope.reduction.ccd_calib:Flooring the calibrated image...\n",
      "INFO:pyscope.reduction.ccd_calib:Adding pedestal of 1000\n",
      "INFO:pyscope.reduction.ccd_calib:Removing hot pixels...\n",
      "INFO:pyscope.reduction.ccd_calib:Clipping to uint16 range...\n",
      "INFO:pyscope.reduction.ccd_calib:Writing calibrated status to header...\n",
      "INFO:pyscope.reduction.ccd_calib:Writing calibrated image to D:\\RLMT\\images\\mjc_mjcMay02_TIC 48217457_r_90s_2024-05-03T10-46-00_wcs.fts\n",
      "INFO:pyscope.reduction.ccd_calib:Done!\n",
      "INFO:pyscope.reduction.ccd_calib:Loading calibration frames...\n",
      "INFO:pyscope.reduction.ccd_calib:Loading bias frame: ./images/calibrations/2024-05-03T17-56-00/master_bias_read2_gain4x_1x1.fts\n",
      "INFO:pyscope.reduction.ccd_calib:Loading dark frame: ./images/calibrations/2024-05-03T17-56-00/master_dark_read2_gain4x_1x1.fts\n",
      "INFO:pyscope.reduction.ccd_calib:Loading flat frame: ./images/calibrations/2024-05-03T17-56-00/master_flat_r_read2_gain4x_1x1.fts\n",
      "INFO:pyscope.reduction.ccd_calib:Looping through images...\n",
      "INFO:pyscope.reduction.ccd_calib:Found 1 images\n",
      "INFO:pyscope.reduction.ccd_calib:Calibrating D:\\RLMT\\images\\mjc_mjcMay02_TIC 48217457_r_90s_2024-05-03T10-47-30_wcs.fts...\n",
      "WARNING:pyscope.reduction.ccd_calib:Image readout mode (1MHzHighSensitivity16-bit) does not match dark readout mode (1MHz High Sensitivity 16-bit)\n",
      "WARNING:pyscope.reduction.ccd_calib:Image readout mode (1MHzHighSensitivity16-bit) does not match flat readout mode (1MHz High Sensitivity 16-bit)\n",
      "INFO:pyscope.reduction.ccd_calib:Applying bias frame (CCD selected)...\n",
      "INFO:pyscope.reduction.ccd_calib:Applying the dark frame. CCD selected so a bias-subtracted\n",
      "                            dark frame is scaled by the ratio of the image exposure time over\n",
      "                            the dark exposure time then subtracted from the image.\n",
      "INFO:pyscope.reduction.ccd_calib:Checking if flat frame has a pedestal...\n"
     ]
    },
    {
     "name": "stdout",
     "output_type": "stream",
     "text": [
      "Calibrating D:\\RLMT\\images\\mjc_mjcMay02_TIC 48217457_r_90s_2024-05-03T10-47-30_wcs.fts\n"
     ]
    },
    {
     "name": "stderr",
     "output_type": "stream",
     "text": [
      "INFO:pyscope.reduction.ccd_calib:Normalizing the flat frame by the mean of the entire image.\n",
      "INFO:pyscope.reduction.ccd_calib:flat_mean: 0.9999478043049569\n",
      "INFO:pyscope.reduction.ccd_calib:Applying the flat frame...\n",
      "INFO:pyscope.reduction.ccd_calib:Flooring the calibrated image...\n",
      "INFO:pyscope.reduction.ccd_calib:Adding pedestal of 1000\n",
      "INFO:pyscope.reduction.ccd_calib:Removing hot pixels...\n",
      "INFO:pyscope.reduction.ccd_calib:Clipping to uint16 range...\n",
      "INFO:pyscope.reduction.ccd_calib:Writing calibrated status to header...\n",
      "INFO:pyscope.reduction.ccd_calib:Writing calibrated image to D:\\RLMT\\images\\mjc_mjcMay02_TIC 48217457_r_90s_2024-05-03T10-47-30_wcs.fts\n",
      "INFO:pyscope.reduction.ccd_calib:Done!\n",
      "INFO:pyscope.reduction.ccd_calib:Loading calibration frames...\n",
      "INFO:pyscope.reduction.ccd_calib:Loading bias frame: ./images/calibrations/2024-05-03T17-56-00/master_bias_read2_gain4x_1x1.fts\n",
      "INFO:pyscope.reduction.ccd_calib:Loading dark frame: ./images/calibrations/2024-05-03T17-56-00/master_dark_read2_gain4x_1x1.fts\n",
      "INFO:pyscope.reduction.ccd_calib:Loading flat frame: ./images/calibrations/2024-05-03T17-56-00/master_flat_r_read2_gain4x_1x1.fts\n",
      "INFO:pyscope.reduction.ccd_calib:Looping through images...\n",
      "INFO:pyscope.reduction.ccd_calib:Found 1 images\n",
      "INFO:pyscope.reduction.ccd_calib:Calibrating D:\\RLMT\\images\\mjc_mjcMay02_TIC 48217457_r_90s_2024-05-03T10-49-00_wcs.fts...\n"
     ]
    },
    {
     "name": "stdout",
     "output_type": "stream",
     "text": [
      "Calibrating D:\\RLMT\\images\\mjc_mjcMay02_TIC 48217457_r_90s_2024-05-03T10-49-00_wcs.fts\n"
     ]
    },
    {
     "name": "stderr",
     "output_type": "stream",
     "text": [
      "WARNING:pyscope.reduction.ccd_calib:Image readout mode (1MHzHighSensitivity16-bit) does not match dark readout mode (1MHz High Sensitivity 16-bit)\n",
      "WARNING:pyscope.reduction.ccd_calib:Image readout mode (1MHzHighSensitivity16-bit) does not match flat readout mode (1MHz High Sensitivity 16-bit)\n",
      "INFO:pyscope.reduction.ccd_calib:Applying bias frame (CCD selected)...\n",
      "INFO:pyscope.reduction.ccd_calib:Applying the dark frame. CCD selected so a bias-subtracted\n",
      "                            dark frame is scaled by the ratio of the image exposure time over\n",
      "                            the dark exposure time then subtracted from the image.\n",
      "INFO:pyscope.reduction.ccd_calib:Checking if flat frame has a pedestal...\n",
      "INFO:pyscope.reduction.ccd_calib:Normalizing the flat frame by the mean of the entire image.\n",
      "INFO:pyscope.reduction.ccd_calib:flat_mean: 0.9999478043049569\n",
      "INFO:pyscope.reduction.ccd_calib:Applying the flat frame...\n",
      "INFO:pyscope.reduction.ccd_calib:Flooring the calibrated image...\n",
      "INFO:pyscope.reduction.ccd_calib:Adding pedestal of 1000\n",
      "INFO:pyscope.reduction.ccd_calib:Removing hot pixels...\n",
      "INFO:pyscope.reduction.ccd_calib:Clipping to uint16 range...\n",
      "INFO:pyscope.reduction.ccd_calib:Writing calibrated status to header...\n",
      "INFO:pyscope.reduction.ccd_calib:Writing calibrated image to D:\\RLMT\\images\\mjc_mjcMay02_TIC 48217457_r_90s_2024-05-03T10-49-00_wcs.fts\n",
      "INFO:pyscope.reduction.ccd_calib:Done!\n",
      "INFO:pyscope.reduction.ccd_calib:Loading calibration frames...\n",
      "INFO:pyscope.reduction.ccd_calib:Loading bias frame: ./images/calibrations/2024-05-03T17-56-00/master_bias_read2_gain4x_1x1.fts\n",
      "INFO:pyscope.reduction.ccd_calib:Loading dark frame: ./images/calibrations/2024-05-03T17-56-00/master_dark_read2_gain4x_1x1.fts\n",
      "INFO:pyscope.reduction.ccd_calib:Loading flat frame: ./images/calibrations/2024-05-03T17-56-00/master_flat_r_read2_gain4x_1x1.fts\n",
      "INFO:pyscope.reduction.ccd_calib:Looping through images...\n",
      "INFO:pyscope.reduction.ccd_calib:Found 1 images\n",
      "INFO:pyscope.reduction.ccd_calib:Calibrating D:\\RLMT\\images\\mjc_mjcMay02_TIC 48217457_r_90s_2024-05-03T10-50-30_wcs.fts...\n",
      "WARNING:pyscope.reduction.ccd_calib:Image readout mode (1MHzHighSensitivity16-bit) does not match dark readout mode (1MHz High Sensitivity 16-bit)\n",
      "WARNING:pyscope.reduction.ccd_calib:Image readout mode (1MHzHighSensitivity16-bit) does not match flat readout mode (1MHz High Sensitivity 16-bit)\n",
      "INFO:pyscope.reduction.ccd_calib:Applying bias frame (CCD selected)...\n",
      "INFO:pyscope.reduction.ccd_calib:Applying the dark frame. CCD selected so a bias-subtracted\n",
      "                            dark frame is scaled by the ratio of the image exposure time over\n",
      "                            the dark exposure time then subtracted from the image.\n",
      "INFO:pyscope.reduction.ccd_calib:Checking if flat frame has a pedestal...\n",
      "INFO:pyscope.reduction.ccd_calib:Normalizing the flat frame by the mean of the entire image.\n",
      "INFO:pyscope.reduction.ccd_calib:flat_mean: 0.9999478043049569\n",
      "INFO:pyscope.reduction.ccd_calib:Applying the flat frame...\n"
     ]
    },
    {
     "name": "stdout",
     "output_type": "stream",
     "text": [
      "Calibrating D:\\RLMT\\images\\mjc_mjcMay02_TIC 48217457_r_90s_2024-05-03T10-50-30_wcs.fts\n"
     ]
    },
    {
     "name": "stderr",
     "output_type": "stream",
     "text": [
      "INFO:pyscope.reduction.ccd_calib:Flooring the calibrated image...\n",
      "INFO:pyscope.reduction.ccd_calib:Adding pedestal of 1000\n",
      "INFO:pyscope.reduction.ccd_calib:Removing hot pixels...\n",
      "INFO:pyscope.reduction.ccd_calib:Clipping to uint16 range...\n",
      "INFO:pyscope.reduction.ccd_calib:Writing calibrated status to header...\n",
      "INFO:pyscope.reduction.ccd_calib:Writing calibrated image to D:\\RLMT\\images\\mjc_mjcMay02_TIC 48217457_r_90s_2024-05-03T10-50-30_wcs.fts\n",
      "INFO:pyscope.reduction.ccd_calib:Done!\n",
      "INFO:pyscope.reduction.ccd_calib:Loading calibration frames...\n",
      "INFO:pyscope.reduction.ccd_calib:Loading bias frame: ./images/calibrations/2024-05-03T17-56-00/master_bias_read2_gain4x_1x1.fts\n",
      "INFO:pyscope.reduction.ccd_calib:Loading dark frame: ./images/calibrations/2024-05-03T17-56-00/master_dark_read2_gain4x_1x1.fts\n",
      "INFO:pyscope.reduction.ccd_calib:Loading flat frame: ./images/calibrations/2024-05-03T17-56-00/master_flat_r_read2_gain4x_1x1.fts\n",
      "INFO:pyscope.reduction.ccd_calib:Looping through images...\n",
      "INFO:pyscope.reduction.ccd_calib:Found 1 images\n",
      "INFO:pyscope.reduction.ccd_calib:Calibrating D:\\RLMT\\images\\mjc_mjcMay02_TIC 48217457_r_90s_2024-05-03T10-52-00_wcs.fts...\n",
      "WARNING:pyscope.reduction.ccd_calib:Image readout mode (1MHzHighSensitivity16-bit) does not match dark readout mode (1MHz High Sensitivity 16-bit)\n",
      "WARNING:pyscope.reduction.ccd_calib:Image readout mode (1MHzHighSensitivity16-bit) does not match flat readout mode (1MHz High Sensitivity 16-bit)\n",
      "INFO:pyscope.reduction.ccd_calib:Applying bias frame (CCD selected)...\n",
      "INFO:pyscope.reduction.ccd_calib:Applying the dark frame. CCD selected so a bias-subtracted\n",
      "                            dark frame is scaled by the ratio of the image exposure time over\n",
      "                            the dark exposure time then subtracted from the image.\n",
      "INFO:pyscope.reduction.ccd_calib:Checking if flat frame has a pedestal...\n"
     ]
    },
    {
     "name": "stdout",
     "output_type": "stream",
     "text": [
      "Calibrating D:\\RLMT\\images\\mjc_mjcMay02_TIC 48217457_r_90s_2024-05-03T10-52-00_wcs.fts\n"
     ]
    },
    {
     "name": "stderr",
     "output_type": "stream",
     "text": [
      "INFO:pyscope.reduction.ccd_calib:Normalizing the flat frame by the mean of the entire image.\n",
      "INFO:pyscope.reduction.ccd_calib:flat_mean: 0.9999478043049569\n",
      "INFO:pyscope.reduction.ccd_calib:Applying the flat frame...\n",
      "INFO:pyscope.reduction.ccd_calib:Flooring the calibrated image...\n",
      "INFO:pyscope.reduction.ccd_calib:Adding pedestal of 1000\n",
      "INFO:pyscope.reduction.ccd_calib:Removing hot pixels...\n",
      "INFO:pyscope.reduction.ccd_calib:Clipping to uint16 range...\n",
      "INFO:pyscope.reduction.ccd_calib:Writing calibrated status to header...\n",
      "INFO:pyscope.reduction.ccd_calib:Writing calibrated image to D:\\RLMT\\images\\mjc_mjcMay02_TIC 48217457_r_90s_2024-05-03T10-52-00_wcs.fts\n",
      "INFO:pyscope.reduction.ccd_calib:Done!\n",
      "INFO:pyscope.reduction.ccd_calib:Loading calibration frames...\n",
      "INFO:pyscope.reduction.ccd_calib:Loading bias frame: ./images/calibrations/2024-05-03T17-56-00/master_bias_read2_gain4x_1x1.fts\n",
      "INFO:pyscope.reduction.ccd_calib:Loading dark frame: ./images/calibrations/2024-05-03T17-56-00/master_dark_read2_gain4x_1x1.fts\n",
      "INFO:pyscope.reduction.ccd_calib:Loading flat frame: ./images/calibrations/2024-05-03T17-56-00/master_flat_r_read2_gain4x_1x1.fts\n",
      "INFO:pyscope.reduction.ccd_calib:Looping through images...\n",
      "INFO:pyscope.reduction.ccd_calib:Found 1 images\n",
      "INFO:pyscope.reduction.ccd_calib:Calibrating D:\\RLMT\\images\\mjc_mjcMay02_TIC 48217457_r_90s_2024-05-03T10-53-30_wcs.fts...\n"
     ]
    },
    {
     "name": "stdout",
     "output_type": "stream",
     "text": [
      "Calibrating D:\\RLMT\\images\\mjc_mjcMay02_TIC 48217457_r_90s_2024-05-03T10-53-30_wcs.fts\n"
     ]
    },
    {
     "name": "stderr",
     "output_type": "stream",
     "text": [
      "WARNING:pyscope.reduction.ccd_calib:Image readout mode (1MHzHighSensitivity16-bit) does not match dark readout mode (1MHz High Sensitivity 16-bit)\n",
      "WARNING:pyscope.reduction.ccd_calib:Image readout mode (1MHzHighSensitivity16-bit) does not match flat readout mode (1MHz High Sensitivity 16-bit)\n",
      "INFO:pyscope.reduction.ccd_calib:Applying bias frame (CCD selected)...\n",
      "INFO:pyscope.reduction.ccd_calib:Applying the dark frame. CCD selected so a bias-subtracted\n",
      "                            dark frame is scaled by the ratio of the image exposure time over\n",
      "                            the dark exposure time then subtracted from the image.\n",
      "INFO:pyscope.reduction.ccd_calib:Checking if flat frame has a pedestal...\n",
      "INFO:pyscope.reduction.ccd_calib:Normalizing the flat frame by the mean of the entire image.\n",
      "INFO:pyscope.reduction.ccd_calib:flat_mean: 0.9999478043049569\n",
      "INFO:pyscope.reduction.ccd_calib:Applying the flat frame...\n",
      "INFO:pyscope.reduction.ccd_calib:Flooring the calibrated image...\n",
      "INFO:pyscope.reduction.ccd_calib:Adding pedestal of 1000\n",
      "INFO:pyscope.reduction.ccd_calib:Removing hot pixels...\n",
      "INFO:pyscope.reduction.ccd_calib:Clipping to uint16 range...\n",
      "INFO:pyscope.reduction.ccd_calib:Writing calibrated status to header...\n",
      "INFO:pyscope.reduction.ccd_calib:Writing calibrated image to D:\\RLMT\\images\\mjc_mjcMay02_TIC 48217457_r_90s_2024-05-03T10-53-30_wcs.fts\n",
      "INFO:pyscope.reduction.ccd_calib:Done!\n"
     ]
    }
   ],
   "source": [
    "# Execute ccd_calib on all images in the list:\n",
    "\n",
    "dark_frame=\"./images/calibrations/2024-05-03T17-56-00/master_dark_read2_gain4x_1x1.fts\"\n",
    "bias_frame=\"./images/calibrations/2024-05-03T17-56-00/master_bias_read2_gain4x_1x1.fts\"\n",
    "flat_frame=\"./images/calibrations/2024-05-03T17-56-00/master_flat_r_read2_gain4x_1x1.fts\"\n",
    "\n",
    "print('The dark frame is '+str(dark_frame))\n",
    "print('The bias frame is '+str(bias_frame))\n",
    "print('The flat frame is '+str(flat_frame))\n",
    "\n",
    "for i in range(len(files)):\n",
    "    print('Calibrating ' + files[i])\n",
    "    ccd_calib(\n",
    "    files[i],\n",
    "    dark_frame=\"./images/calibrations/2024-05-03T17-56-00/master_dark_read2_gain4x_1x1.fts\",\n",
    "    bias_frame=\"./images/calibrations/2024-05-03T17-56-00/master_bias_read2_gain4x_1x1.fts\",\n",
    "    flat_frame=\"./images/calibrations/2024-05-03T17-56-00/master_flat_r_read2_gain4x_1x1.fts\",\n",
    ")\n"
   ]
  },
  {
   "cell_type": "code",
   "execution_count": 8,
   "metadata": {},
   "outputs": [
    {
     "name": "stdout",
     "output_type": "stream",
     "text": [
      "158 sent to ccd-calib\n",
      "158 calibrated files written\n"
     ]
    }
   ],
   "source": [
    "# Use glob to create list of calibrated files:\n",
    "calfiles = sorted(glob.glob('D:\\RLMT\\images\\*48217457*cal.fts'))\n",
    "print(str(len(files)) + ' sent to ccd-calib')\n",
    "print(str(len(calfiles)) + ' calibrated files written')\n"
   ]
  }
 ],
 "metadata": {
  "kernelspec": {
   "display_name": "pyscope-dev",
   "language": "python",
   "name": "python3"
  },
  "language_info": {
   "codemirror_mode": {
    "name": "ipython",
    "version": 3
   },
   "file_extension": ".py",
   "mimetype": "text/x-python",
   "name": "python",
   "nbconvert_exporter": "python",
   "pygments_lexer": "ipython3",
   "version": "3.12.2"
  }
 },
 "nbformat": 4,
 "nbformat_minor": 2
}
